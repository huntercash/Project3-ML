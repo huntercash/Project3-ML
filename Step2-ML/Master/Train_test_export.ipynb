{
 "cells": [
  {
   "cell_type": "code",
   "execution_count": 1,
   "metadata": {},
   "outputs": [],
   "source": [
    "import pickle\n",
    "import joblib\n",
    "import os\n",
    "import pandas as pd\n",
    "import numpy as np\n",
    "from sklearn.linear_model import LinearRegression\n",
    "from sklearn.model_selection import train_test_split"
   ]
  },
  {
   "cell_type": "code",
   "execution_count": 2,
   "metadata": {},
   "outputs": [],
   "source": [
    "filename = 'model1.sav'"
   ]
  },
  {
   "cell_type": "code",
   "execution_count": 3,
   "metadata": {},
   "outputs": [
    {
     "data": {
      "text/plain": [
       "(994, 14)"
      ]
     },
     "execution_count": 3,
     "metadata": {},
     "output_type": "execute_result"
    }
   ],
   "source": [
    "df = pd.read_csv(os.path.join('data.csv'))\n",
    "\n",
    "df.dropna()\n",
    "\n",
    "df.shape"
   ]
  },
  {
   "cell_type": "code",
   "execution_count": 19,
   "metadata": {},
   "outputs": [
    {
     "data": {
      "text/html": [
       "<div>\n",
       "<style scoped>\n",
       "    .dataframe tbody tr th:only-of-type {\n",
       "        vertical-align: middle;\n",
       "    }\n",
       "\n",
       "    .dataframe tbody tr th {\n",
       "        vertical-align: top;\n",
       "    }\n",
       "\n",
       "    .dataframe thead th {\n",
       "        text-align: right;\n",
       "    }\n",
       "</style>\n",
       "<table border=\"1\" class=\"dataframe\">\n",
       "  <thead>\n",
       "    <tr style=\"text-align: right;\">\n",
       "      <th></th>\n",
       "      <th>UNITID</th>\n",
       "      <th>MN_EARN_WNE_P10</th>\n",
       "      <th>ADM_RATE_ALL</th>\n",
       "      <th>AVGFACSAL</th>\n",
       "      <th>RET_FT4</th>\n",
       "      <th>CDR3</th>\n",
       "      <th>AGE_ENTRY</th>\n",
       "      <th>UGDS_MEN</th>\n",
       "      <th>Leverage</th>\n",
       "      <th>Cooks Distance</th>\n",
       "      <th>Standardized Residuals</th>\n",
       "      <th>Studentized Residuals</th>\n",
       "      <th>Predicted Final Data LN</th>\n",
       "      <th>dependant_variable y</th>\n",
       "    </tr>\n",
       "  </thead>\n",
       "  <tbody>\n",
       "    <tr>\n",
       "      <th>0</th>\n",
       "      <td>100654</td>\n",
       "      <td>35500.0</td>\n",
       "      <td>0.5256</td>\n",
       "      <td>6892.0</td>\n",
       "      <td>0.6595</td>\n",
       "      <td>0.172</td>\n",
       "      <td>20.525773</td>\n",
       "      <td>0.4831</td>\n",
       "      <td>0.010142</td>\n",
       "      <td>0.000261</td>\n",
       "      <td>-0.422036</td>\n",
       "      <td>-0.421866</td>\n",
       "      <td>10.531600</td>\n",
       "      <td>10.477288</td>\n",
       "    </tr>\n",
       "    <tr>\n",
       "      <th>1</th>\n",
       "      <td>100663</td>\n",
       "      <td>48400.0</td>\n",
       "      <td>0.8569</td>\n",
       "      <td>9957.0</td>\n",
       "      <td>0.8288</td>\n",
       "      <td>0.062</td>\n",
       "      <td>23.492140</td>\n",
       "      <td>0.4169</td>\n",
       "      <td>0.005544</td>\n",
       "      <td>0.000985</td>\n",
       "      <td>-1.111903</td>\n",
       "      <td>-1.112032</td>\n",
       "      <td>10.920098</td>\n",
       "      <td>10.787255</td>\n",
       "    </tr>\n",
       "    <tr>\n",
       "      <th>2</th>\n",
       "      <td>100706</td>\n",
       "      <td>52000.0</td>\n",
       "      <td>0.8203</td>\n",
       "      <td>9302.0</td>\n",
       "      <td>0.7696</td>\n",
       "      <td>0.061</td>\n",
       "      <td>23.718723</td>\n",
       "      <td>0.5733</td>\n",
       "      <td>0.005370</td>\n",
       "      <td>0.000394</td>\n",
       "      <td>-0.714270</td>\n",
       "      <td>-0.714098</td>\n",
       "      <td>10.928990</td>\n",
       "      <td>10.858999</td>\n",
       "    </tr>\n",
       "    <tr>\n",
       "      <th>3</th>\n",
       "      <td>100724</td>\n",
       "      <td>30600.0</td>\n",
       "      <td>0.5326</td>\n",
       "      <td>6609.0</td>\n",
       "      <td>0.5725</td>\n",
       "      <td>0.156</td>\n",
       "      <td>20.528185</td>\n",
       "      <td>0.3877</td>\n",
       "      <td>0.010012</td>\n",
       "      <td>0.000851</td>\n",
       "      <td>-0.767443</td>\n",
       "      <td>-0.767288</td>\n",
       "      <td>10.497408</td>\n",
       "      <td>10.328755</td>\n",
       "    </tr>\n",
       "    <tr>\n",
       "      <th>4</th>\n",
       "      <td>100751</td>\n",
       "      <td>51600.0</td>\n",
       "      <td>0.5105</td>\n",
       "      <td>9667.0</td>\n",
       "      <td>0.8670</td>\n",
       "      <td>0.063</td>\n",
       "      <td>21.356529</td>\n",
       "      <td>0.4580</td>\n",
       "      <td>0.002588</td>\n",
       "      <td>0.000498</td>\n",
       "      <td>-1.158667</td>\n",
       "      <td>-1.158862</td>\n",
       "      <td>10.938324</td>\n",
       "      <td>10.851277</td>\n",
       "    </tr>\n",
       "  </tbody>\n",
       "</table>\n",
       "</div>"
      ],
      "text/plain": [
       "   UNITID  MN_EARN_WNE_P10  ADM_RATE_ALL  AVGFACSAL  RET_FT4   CDR3  \\\n",
       "0  100654          35500.0        0.5256     6892.0   0.6595  0.172   \n",
       "1  100663          48400.0        0.8569     9957.0   0.8288  0.062   \n",
       "2  100706          52000.0        0.8203     9302.0   0.7696  0.061   \n",
       "3  100724          30600.0        0.5326     6609.0   0.5725  0.156   \n",
       "4  100751          51600.0        0.5105     9667.0   0.8670  0.063   \n",
       "\n",
       "   AGE_ENTRY  UGDS_MEN  Leverage  Cooks Distance  Standardized Residuals  \\\n",
       "0  20.525773    0.4831  0.010142        0.000261               -0.422036   \n",
       "1  23.492140    0.4169  0.005544        0.000985               -1.111903   \n",
       "2  23.718723    0.5733  0.005370        0.000394               -0.714270   \n",
       "3  20.528185    0.3877  0.010012        0.000851               -0.767443   \n",
       "4  21.356529    0.4580  0.002588        0.000498               -1.158667   \n",
       "\n",
       "   Studentized Residuals  Predicted Final Data LN  dependant_variable y  \n",
       "0              -0.421866                10.531600             10.477288  \n",
       "1              -1.112032                10.920098             10.787255  \n",
       "2              -0.714098                10.928990             10.858999  \n",
       "3              -0.767288                10.497408             10.328755  \n",
       "4              -1.158862                10.938324             10.851277  "
      ]
     },
     "execution_count": 19,
     "metadata": {},
     "output_type": "execute_result"
    }
   ],
   "source": [
    "df.head()"
   ]
  },
  {
   "cell_type": "code",
   "execution_count": 4,
   "metadata": {},
   "outputs": [],
   "source": [
    "X = df[['ADM_RATE_ALL', 'AVGFACSAL','RET_FT4', 'CDR3',\n",
    "       'AGE_ENTRY', 'UGDS_MEN']]\n",
    "y = np.log(df['MN_EARN_WNE_P10'])"
   ]
  },
  {
   "cell_type": "code",
   "execution_count": 5,
   "metadata": {},
   "outputs": [
    {
     "data": {
      "text/html": [
       "<div>\n",
       "<style scoped>\n",
       "    .dataframe tbody tr th:only-of-type {\n",
       "        vertical-align: middle;\n",
       "    }\n",
       "\n",
       "    .dataframe tbody tr th {\n",
       "        vertical-align: top;\n",
       "    }\n",
       "\n",
       "    .dataframe thead th {\n",
       "        text-align: right;\n",
       "    }\n",
       "</style>\n",
       "<table border=\"1\" class=\"dataframe\">\n",
       "  <thead>\n",
       "    <tr style=\"text-align: right;\">\n",
       "      <th></th>\n",
       "      <th>ADM_RATE_ALL</th>\n",
       "      <th>AVGFACSAL</th>\n",
       "      <th>RET_FT4</th>\n",
       "      <th>CDR3</th>\n",
       "      <th>AGE_ENTRY</th>\n",
       "      <th>UGDS_MEN</th>\n",
       "    </tr>\n",
       "  </thead>\n",
       "  <tbody>\n",
       "    <tr>\n",
       "      <th>0</th>\n",
       "      <td>0.5256</td>\n",
       "      <td>6892.0</td>\n",
       "      <td>0.6595</td>\n",
       "      <td>0.172</td>\n",
       "      <td>20.525773</td>\n",
       "      <td>0.4831</td>\n",
       "    </tr>\n",
       "    <tr>\n",
       "      <th>1</th>\n",
       "      <td>0.8569</td>\n",
       "      <td>9957.0</td>\n",
       "      <td>0.8288</td>\n",
       "      <td>0.062</td>\n",
       "      <td>23.492140</td>\n",
       "      <td>0.4169</td>\n",
       "    </tr>\n",
       "    <tr>\n",
       "      <th>2</th>\n",
       "      <td>0.8203</td>\n",
       "      <td>9302.0</td>\n",
       "      <td>0.7696</td>\n",
       "      <td>0.061</td>\n",
       "      <td>23.718723</td>\n",
       "      <td>0.5733</td>\n",
       "    </tr>\n",
       "    <tr>\n",
       "      <th>3</th>\n",
       "      <td>0.5326</td>\n",
       "      <td>6609.0</td>\n",
       "      <td>0.5725</td>\n",
       "      <td>0.156</td>\n",
       "      <td>20.528185</td>\n",
       "      <td>0.3877</td>\n",
       "    </tr>\n",
       "    <tr>\n",
       "      <th>4</th>\n",
       "      <td>0.5105</td>\n",
       "      <td>9667.0</td>\n",
       "      <td>0.8670</td>\n",
       "      <td>0.063</td>\n",
       "      <td>21.356529</td>\n",
       "      <td>0.4580</td>\n",
       "    </tr>\n",
       "  </tbody>\n",
       "</table>\n",
       "</div>"
      ],
      "text/plain": [
       "   ADM_RATE_ALL  AVGFACSAL  RET_FT4   CDR3  AGE_ENTRY  UGDS_MEN\n",
       "0        0.5256     6892.0   0.6595  0.172  20.525773    0.4831\n",
       "1        0.8569     9957.0   0.8288  0.062  23.492140    0.4169\n",
       "2        0.8203     9302.0   0.7696  0.061  23.718723    0.5733\n",
       "3        0.5326     6609.0   0.5725  0.156  20.528185    0.3877\n",
       "4        0.5105     9667.0   0.8670  0.063  21.356529    0.4580"
      ]
     },
     "execution_count": 5,
     "metadata": {},
     "output_type": "execute_result"
    }
   ],
   "source": [
    "X.head()"
   ]
  },
  {
   "cell_type": "code",
   "execution_count": 6,
   "metadata": {},
   "outputs": [
    {
     "data": {
      "text/plain": [
       "0    10.477288\n",
       "1    10.787255\n",
       "2    10.858999\n",
       "3    10.328755\n",
       "4    10.851277\n",
       "Name: MN_EARN_WNE_P10, dtype: float64"
      ]
     },
     "execution_count": 6,
     "metadata": {},
     "output_type": "execute_result"
    }
   ],
   "source": [
    "y.head()"
   ]
  },
  {
   "cell_type": "code",
   "execution_count": 7,
   "metadata": {},
   "outputs": [],
   "source": [
    "X_train, X_test, y_train, y_test = train_test_split(X, y, random_state=42)"
   ]
  },
  {
   "cell_type": "code",
   "execution_count": 8,
   "metadata": {},
   "outputs": [
    {
     "name": "stdout",
     "output_type": "stream",
     "text": [
      "(249, 6)\n",
      "(745, 6)\n",
      "(249,)\n",
      "(745,)\n"
     ]
    }
   ],
   "source": [
    "print(X_test.shape)\n",
    "print(X_train.shape)\n",
    "print(y_test.shape)\n",
    "print(y_train.shape)"
   ]
  },
  {
   "cell_type": "code",
   "execution_count": 9,
   "metadata": {},
   "outputs": [],
   "source": [
    "ADM_RATE_ALL = 0.5256\n",
    "AVGFACSAL = 6892.0\n",
    "RET_FT4 = 0.6595\n",
    "CDR3 = 0.172\n",
    "AGE_ENTRY = 20.52\n",
    "UGDS_MEN = 0.4831"
   ]
  },
  {
   "cell_type": "code",
   "execution_count": 10,
   "metadata": {},
   "outputs": [],
   "source": [
    "loaded_model = joblib.load(filename)"
   ]
  },
  {
   "cell_type": "code",
   "execution_count": 11,
   "metadata": {},
   "outputs": [],
   "source": [
    "result = loaded_model.score(X_test, y_test )"
   ]
  },
  {
   "cell_type": "code",
   "execution_count": 12,
   "metadata": {},
   "outputs": [
    {
     "name": "stdout",
     "output_type": "stream",
     "text": [
      "0.6978564029602756\n"
     ]
    }
   ],
   "source": [
    "print(result)"
   ]
  },
  {
   "cell_type": "code",
   "execution_count": 13,
   "metadata": {},
   "outputs": [],
   "source": [
    "### This shows that the saved exported model recieves exactly the same score as the one in the multiple regression jupyter notebook. "
   ]
  },
  {
   "cell_type": "code",
   "execution_count": 16,
   "metadata": {},
   "outputs": [],
   "source": [
    "prediction = loaded_model.predict(X_test)"
   ]
  },
  {
   "cell_type": "code",
   "execution_count": 18,
   "metadata": {},
   "outputs": [
    {
     "name": "stdout",
     "output_type": "stream",
     "text": [
      "[42987.60729717 54763.2347797  50129.35268484 44059.89915211\n",
      " 49506.10517497 42071.21417772 65804.45361752 50184.24418315\n",
      " 46148.14371665 40604.9185876  40715.35738785 55963.26103542\n",
      " 64014.89199608 59056.95245991 54745.78580829 53265.88047134\n",
      " 51239.56142271 48331.58306754 45059.13480425 36455.26814836\n",
      " 50717.53664718 46593.73925197 54824.36181559 61115.5153384\n",
      " 57452.25150416 57611.31340962 64297.0519647  56960.77864987\n",
      " 53339.37026186 39211.82671844 46426.63339715 47141.66320411\n",
      " 53749.60318857 36149.38436855 37442.2772924  40426.46388262\n",
      " 48134.42863038 40007.16181929 35843.69390177 41241.72609986\n",
      " 48613.56905739 39204.82554817 36441.17545195 47096.71155107\n",
      " 53650.8320653  54072.42415229 38098.3126048  47770.03722212\n",
      " 42200.61477864 49389.94633222 51385.4982075  51746.15693546\n",
      " 49666.99564164 54850.56754022 58139.60521482 79207.59392459\n",
      " 49454.34252273 50537.8489276  49490.81501373 45521.81395778\n",
      " 52323.21473956 49460.23059468 46289.78049009 42219.15061177\n",
      " 37932.69164732 36941.89454624 44282.43719636 43857.01880189\n",
      " 49140.35817463 62579.23479724 34867.81241403 53259.76302978\n",
      " 51970.27563867 58894.224753   57409.00064452 63355.33637249\n",
      " 40067.76577102 42644.67215851 55059.54153938 52951.05944902\n",
      " 49285.77133848 68459.2590867  42011.15185136 46071.88168605\n",
      " 45690.0288399  47325.10366936 47329.21069851 42270.10521611\n",
      " 62514.53326867 48447.44891819 46520.8800311  42267.80901509\n",
      " 37207.14194814 43020.46271534 48824.84289079 52570.67976783\n",
      " 44593.16043551 37242.53117915 45277.70946225 43942.49411238\n",
      " 47332.28313105 36834.09867991 64593.37526969 57563.92358493\n",
      " 42449.07079671 47613.44182745 59048.6173382  58713.47281602\n",
      " 49759.2908481  43255.90953437 56587.85450025 44817.8927529\n",
      " 62183.75684137 48246.74809395 55495.22132487 41607.08261487\n",
      " 42873.92869716 43007.99753398 47371.237143   39502.66423902\n",
      " 41988.89693543 48356.77098822 51478.55135824 51010.44893205\n",
      " 51163.67341835 43078.18476068 53322.84979466 45058.84682804\n",
      " 36426.91022733 43373.22323215 57723.52686318 53087.9593312\n",
      " 58815.85360822 50179.97077614 35209.72200673 41353.63717932\n",
      " 45405.88399757 49564.15457439 40003.52794898 59602.3074085\n",
      " 57383.39442294 50932.83986572 53953.25322092 43601.06762954\n",
      " 57567.1911576  34665.19498234 65317.9381608  53047.81249373\n",
      " 57748.31834915 40357.53754635 48987.36187184 42175.78463109\n",
      " 44386.74275991 44884.6150947  36819.93714905 47800.26063753\n",
      " 47626.72009647 46307.29379749 46149.3018438  86621.61465774\n",
      " 48551.79695188 56591.14910194 53899.97853315 44575.38451496\n",
      " 47399.4013576  41501.78578223 50146.63113646 53241.84524905\n",
      " 66916.79558777 52900.40569353 37636.20280775 48528.62575261\n",
      " 37310.50051128 38069.88674986 57838.3398639  45297.82699159\n",
      " 41079.75408885 51767.60087787 59850.25716754 40311.95137025\n",
      " 54218.50444425 43634.20681406 35681.11014499 45194.15257933\n",
      " 59787.04901402 59747.22855066 35781.18625237 39497.56232783\n",
      " 45599.53656456 52390.70245127 47767.53370668 36367.56710855\n",
      " 34133.15063778 58560.39270021 57155.09453926 36908.54701187\n",
      " 51827.30146983 50901.53391689 62768.34596765 48673.05186457\n",
      " 30011.45052991 36458.49225532 48121.52827583 50584.84274921\n",
      " 49455.15030455 48476.20366833 44422.4289491  49818.78544931\n",
      " 65398.56084725 76370.84960588 59793.67826879 55490.86824931\n",
      " 49244.37579895 67728.41795548 44365.39222407 55054.35118583\n",
      " 36528.17744779 32728.39510704 68680.89852069 55994.33584753\n",
      " 34651.48216985 57730.29350986 46756.73896934 50827.09441673\n",
      " 51765.22515829 46733.63135857 54069.06854259 64074.67967732\n",
      " 51123.0277234  74023.54114729 31459.2299918  67553.66477753\n",
      " 78983.09659404 55927.71851479 53309.90238521 41670.5422703\n",
      " 73651.92420066 55841.60479496 47006.56767575 45454.52325254\n",
      " 53600.01409831 52629.47860459 55671.8090387  58137.89146321\n",
      " 60226.26917042 52242.05729023 54475.68584036 54230.17920275\n",
      " 41875.44126039]\n"
     ]
    }
   ],
   "source": [
    "print(np.exp(prediction))"
   ]
  },
  {
   "cell_type": "code",
   "execution_count": 20,
   "metadata": {},
   "outputs": [
    {
     "data": {
      "text/html": [
       "<div>\n",
       "<style scoped>\n",
       "    .dataframe tbody tr th:only-of-type {\n",
       "        vertical-align: middle;\n",
       "    }\n",
       "\n",
       "    .dataframe tbody tr th {\n",
       "        vertical-align: top;\n",
       "    }\n",
       "\n",
       "    .dataframe thead th {\n",
       "        text-align: right;\n",
       "    }\n",
       "</style>\n",
       "<table border=\"1\" class=\"dataframe\">\n",
       "  <thead>\n",
       "    <tr style=\"text-align: right;\">\n",
       "      <th></th>\n",
       "      <th>UNITID</th>\n",
       "      <th>ADM_RATE_ALL</th>\n",
       "      <th>AVGFACSAL</th>\n",
       "      <th>RET_FT4</th>\n",
       "      <th>CDR3</th>\n",
       "      <th>AGE_ENTRY</th>\n",
       "      <th>UGDS_MEN</th>\n",
       "    </tr>\n",
       "  </thead>\n",
       "  <tbody>\n",
       "    <tr>\n",
       "      <th>0</th>\n",
       "      <td>100654</td>\n",
       "      <td>0.5256</td>\n",
       "      <td>6892.0</td>\n",
       "      <td>0.6595</td>\n",
       "      <td>0.172</td>\n",
       "      <td>20.525773</td>\n",
       "      <td>0.4831</td>\n",
       "    </tr>\n",
       "    <tr>\n",
       "      <th>1</th>\n",
       "      <td>100663</td>\n",
       "      <td>0.8569</td>\n",
       "      <td>9957.0</td>\n",
       "      <td>0.8288</td>\n",
       "      <td>0.062</td>\n",
       "      <td>23.492140</td>\n",
       "      <td>0.4169</td>\n",
       "    </tr>\n",
       "    <tr>\n",
       "      <th>2</th>\n",
       "      <td>100706</td>\n",
       "      <td>0.8203</td>\n",
       "      <td>9302.0</td>\n",
       "      <td>0.7696</td>\n",
       "      <td>0.061</td>\n",
       "      <td>23.718723</td>\n",
       "      <td>0.5733</td>\n",
       "    </tr>\n",
       "    <tr>\n",
       "      <th>3</th>\n",
       "      <td>100724</td>\n",
       "      <td>0.5326</td>\n",
       "      <td>6609.0</td>\n",
       "      <td>0.5725</td>\n",
       "      <td>0.156</td>\n",
       "      <td>20.528185</td>\n",
       "      <td>0.3877</td>\n",
       "    </tr>\n",
       "    <tr>\n",
       "      <th>4</th>\n",
       "      <td>100751</td>\n",
       "      <td>0.5105</td>\n",
       "      <td>9667.0</td>\n",
       "      <td>0.8670</td>\n",
       "      <td>0.063</td>\n",
       "      <td>21.356529</td>\n",
       "      <td>0.4580</td>\n",
       "    </tr>\n",
       "  </tbody>\n",
       "</table>\n",
       "</div>"
      ],
      "text/plain": [
       "   UNITID  ADM_RATE_ALL  AVGFACSAL  RET_FT4   CDR3  AGE_ENTRY  UGDS_MEN\n",
       "0  100654        0.5256     6892.0   0.6595  0.172  20.525773    0.4831\n",
       "1  100663        0.8569     9957.0   0.8288  0.062  23.492140    0.4169\n",
       "2  100706        0.8203     9302.0   0.7696  0.061  23.718723    0.5733\n",
       "3  100724        0.5326     6609.0   0.5725  0.156  20.528185    0.3877\n",
       "4  100751        0.5105     9667.0   0.8670  0.063  21.356529    0.4580"
      ]
     },
     "execution_count": 20,
     "metadata": {},
     "output_type": "execute_result"
    }
   ],
   "source": [
    "ml_data = df[['UNITID','ADM_RATE_ALL', 'AVGFACSAL','RET_FT4', 'CDR3',\n",
    "       'AGE_ENTRY', 'UGDS_MEN']]\n",
    "ml_data.head()\n"
   ]
  },
  {
   "cell_type": "code",
   "execution_count": 21,
   "metadata": {},
   "outputs": [],
   "source": [
    "ml_data.to_csv(os.path.join('ml_data.csv'))"
   ]
  },
  {
   "cell_type": "code",
   "execution_count": null,
   "metadata": {},
   "outputs": [],
   "source": []
  }
 ],
 "metadata": {
  "kernelspec": {
   "display_name": "Python 3",
   "language": "python",
   "name": "python3"
  },
  "language_info": {
   "codemirror_mode": {
    "name": "ipython",
    "version": 3
   },
   "file_extension": ".py",
   "mimetype": "text/x-python",
   "name": "python",
   "nbconvert_exporter": "python",
   "pygments_lexer": "ipython3",
   "version": "3.6.8"
  },
  "toc": {
   "base_numbering": 1,
   "nav_menu": {},
   "number_sections": false,
   "sideBar": false,
   "skip_h1_title": false,
   "title_cell": "Table of Contents",
   "title_sidebar": "Contents",
   "toc_cell": false,
   "toc_position": {},
   "toc_section_display": false,
   "toc_window_display": false
  }
 },
 "nbformat": 4,
 "nbformat_minor": 2
}
