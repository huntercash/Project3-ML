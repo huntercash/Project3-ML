{
 "cells": [
  {
   "cell_type": "code",
   "execution_count": 1,
   "metadata": {
    "scrolled": true
   },
   "outputs": [],
   "source": [
    "%matplotlib inline\n",
    "import matplotlib.pyplot as plt\n",
    "import pandas as pd\n",
    "import numpy as np"
   ]
  },
  {
   "cell_type": "code",
   "execution_count": 2,
   "metadata": {
    "scrolled": true
   },
   "outputs": [],
   "source": [
    "data = pd.read_excel(\"US Dept Education data/Output/FourYearUniversitiesChris.xlsx\")"
   ]
  },
  {
   "cell_type": "code",
   "execution_count": 3,
   "metadata": {
    "scrolled": true
   },
   "outputs": [
    {
     "data": {
      "text/html": [
       "<div>\n",
       "<style scoped>\n",
       "    .dataframe tbody tr th:only-of-type {\n",
       "        vertical-align: middle;\n",
       "    }\n",
       "\n",
       "    .dataframe tbody tr th {\n",
       "        vertical-align: top;\n",
       "    }\n",
       "\n",
       "    .dataframe thead th {\n",
       "        text-align: right;\n",
       "    }\n",
       "</style>\n",
       "<table border=\"1\" class=\"dataframe\">\n",
       "  <thead>\n",
       "    <tr style=\"text-align: right;\">\n",
       "      <th></th>\n",
       "      <th>UNITID</th>\n",
       "      <th>OPEID6</th>\n",
       "      <th>13-14 Predicted Final Data LN</th>\n",
       "      <th>13-14 Final_Predicted 10 year earnings</th>\n",
       "      <th>CONTROL</th>\n",
       "      <th>CONTROL.1</th>\n",
       "      <th>TUITIONFEE_IN</th>\n",
       "      <th>TUITIONFEE_OUT</th>\n",
       "      <th>ICLEVEL</th>\n",
       "      <th>PREDDEG</th>\n",
       "      <th>...</th>\n",
       "      <th>SD_EARN_WNE_P8</th>\n",
       "      <th>SD_EARN_WNE_P10</th>\n",
       "      <th>COUNT_NWNE_P6</th>\n",
       "      <th>COUNT_NWNE_P8</th>\n",
       "      <th>COUNT_NWNE_P10</th>\n",
       "      <th>COUNT_WNE_P6</th>\n",
       "      <th>COUNT_WNE_P8</th>\n",
       "      <th>COUNT_WNE_P10</th>\n",
       "      <th>UGDS_MEN</th>\n",
       "      <th>UGDS_WOMEN</th>\n",
       "    </tr>\n",
       "  </thead>\n",
       "  <tbody>\n",
       "    <tr>\n",
       "      <th>0</th>\n",
       "      <td>100654</td>\n",
       "      <td>1002</td>\n",
       "      <td>10.538013</td>\n",
       "      <td>37722.522920</td>\n",
       "      <td>1</td>\n",
       "      <td>Public</td>\n",
       "      <td>9096.0</td>\n",
       "      <td>16596.0</td>\n",
       "      <td>1</td>\n",
       "      <td>3</td>\n",
       "      <td>...</td>\n",
       "      <td>20100.0</td>\n",
       "      <td>25400.0</td>\n",
       "      <td>94.0</td>\n",
       "      <td>142.0</td>\n",
       "      <td>212.0</td>\n",
       "      <td>1304.0</td>\n",
       "      <td>1485.0</td>\n",
       "      <td>1784.0</td>\n",
       "      <td>0.4831</td>\n",
       "      <td>0.5169</td>\n",
       "    </tr>\n",
       "    <tr>\n",
       "      <th>1</th>\n",
       "      <td>100663</td>\n",
       "      <td>1052</td>\n",
       "      <td>10.794632</td>\n",
       "      <td>48758.384286</td>\n",
       "      <td>1</td>\n",
       "      <td>Public</td>\n",
       "      <td>7510.0</td>\n",
       "      <td>17062.0</td>\n",
       "      <td>1</td>\n",
       "      <td>3</td>\n",
       "      <td>...</td>\n",
       "      <td>36500.0</td>\n",
       "      <td>39200.0</td>\n",
       "      <td>241.0</td>\n",
       "      <td>309.0</td>\n",
       "      <td>464.0</td>\n",
       "      <td>2727.0</td>\n",
       "      <td>3048.0</td>\n",
       "      <td>3643.0</td>\n",
       "      <td>0.4169</td>\n",
       "      <td>0.5831</td>\n",
       "    </tr>\n",
       "  </tbody>\n",
       "</table>\n",
       "<p>2 rows × 78 columns</p>\n",
       "</div>"
      ],
      "text/plain": [
       "   UNITID  OPEID6  13-14 Predicted Final Data LN  \\\n",
       "0  100654    1002                      10.538013   \n",
       "1  100663    1052                      10.794632   \n",
       "\n",
       "   13-14 Final_Predicted 10 year earnings  CONTROL CONTROL.1  TUITIONFEE_IN  \\\n",
       "0                            37722.522920        1    Public         9096.0   \n",
       "1                            48758.384286        1    Public         7510.0   \n",
       "\n",
       "   TUITIONFEE_OUT  ICLEVEL  PREDDEG  ...  SD_EARN_WNE_P8  SD_EARN_WNE_P10  \\\n",
       "0         16596.0        1        3  ...         20100.0          25400.0   \n",
       "1         17062.0        1        3  ...         36500.0          39200.0   \n",
       "\n",
       "   COUNT_NWNE_P6  COUNT_NWNE_P8  COUNT_NWNE_P10  COUNT_WNE_P6  COUNT_WNE_P8  \\\n",
       "0           94.0          142.0           212.0        1304.0        1485.0   \n",
       "1          241.0          309.0           464.0        2727.0        3048.0   \n",
       "\n",
       "   COUNT_WNE_P10  UGDS_MEN  UGDS_WOMEN  \n",
       "0         1784.0    0.4831      0.5169  \n",
       "1         3643.0    0.4169      0.5831  \n",
       "\n",
       "[2 rows x 78 columns]"
      ]
     },
     "execution_count": 3,
     "metadata": {},
     "output_type": "execute_result"
    }
   ],
   "source": [
    "data.head(2)"
   ]
  },
  {
   "cell_type": "code",
   "execution_count": 4,
   "metadata": {
    "scrolled": true
   },
   "outputs": [
    {
     "data": {
      "text/plain": [
       "Index(['UNITID', 'OPEID6', '13-14 Predicted Final Data LN',\n",
       "       '13-14 Final_Predicted 10 year earnings', 'CONTROL', 'CONTROL.1',\n",
       "       'TUITIONFEE_IN', 'TUITIONFEE_OUT', 'ICLEVEL', 'PREDDEG', 'ADM_RATE_ALL',\n",
       "       'SAT_AVG_ALL', 'PCIP01', 'PCIP03', 'PCIP04', 'PCIP05', 'PCIP09',\n",
       "       'PCIP10', 'PCIP11', 'PCIP12', 'PCIP13', 'PCIP14', 'PCIP15', 'PCIP16',\n",
       "       'PCIP19', 'PCIP22', 'PCIP23', 'PCIP24', 'PCIP25', 'PCIP26', 'PCIP27',\n",
       "       'PCIP29', 'PCIP30', 'PCIP31', 'PCIP38', 'PCIP39', 'PCIP40', 'PCIP41',\n",
       "       'PCIP42', 'PCIP43', 'PCIP44', 'PCIP45', 'PCIP46', 'PCIP47', 'PCIP48',\n",
       "       'PCIP49', 'PCIP50', 'PCIP51', 'PCIP52', 'PCIP54', 'TUITFTE',\n",
       "       'AVGFACSAL', 'PFTFAC', 'PCTPELL', 'COSTT4_A', 'C150_4', 'RET_FT4',\n",
       "       'CDR3', 'GRAD_DEBT_MDN', 'AGE_ENTRY', 'FAMINC', 'MN_EARN_WNE_P6',\n",
       "       'MN_EARN_WNE_P8', 'MN_EARN_WNE_P10', 'MD_EARN_WNE_P6', 'MD_EARN_WNE_P8',\n",
       "       'MD_EARN_WNE_P10', 'SD_EARN_WNE_P6', 'SD_EARN_WNE_P8',\n",
       "       'SD_EARN_WNE_P10', 'COUNT_NWNE_P6', 'COUNT_NWNE_P8', 'COUNT_NWNE_P10',\n",
       "       'COUNT_WNE_P6', 'COUNT_WNE_P8', 'COUNT_WNE_P10', 'UGDS_MEN',\n",
       "       'UGDS_WOMEN'],\n",
       "      dtype='object')"
      ]
     },
     "execution_count": 4,
     "metadata": {},
     "output_type": "execute_result"
    }
   ],
   "source": [
    "data.columns"
   ]
  },
  {
   "cell_type": "markdown",
   "metadata": {},
   "source": [
    "#### Drop rows with blank entries"
   ]
  },
  {
   "cell_type": "code",
   "execution_count": 5,
   "metadata": {},
   "outputs": [
    {
     "data": {
      "text/plain": [
       "(1841, 78)"
      ]
     },
     "execution_count": 5,
     "metadata": {},
     "output_type": "execute_result"
    }
   ],
   "source": [
    "data.shape"
   ]
  },
  {
   "cell_type": "code",
   "execution_count": 6,
   "metadata": {
    "scrolled": true
   },
   "outputs": [],
   "source": [
    "data = data.dropna(how='any')"
   ]
  },
  {
   "cell_type": "code",
   "execution_count": 7,
   "metadata": {},
   "outputs": [
    {
     "data": {
      "text/plain": [
       "(1026, 78)"
      ]
     },
     "execution_count": 7,
     "metadata": {},
     "output_type": "execute_result"
    }
   ],
   "source": [
    "data.shape"
   ]
  },
  {
   "cell_type": "code",
   "execution_count": 8,
   "metadata": {
    "scrolled": true
   },
   "outputs": [],
   "source": [
    "from sklearn.linear_model import LinearRegression, Lasso\n",
    "model = LinearRegression()"
   ]
  },
  {
   "cell_type": "markdown",
   "metadata": {},
   "source": [
    "### 1st Regression With (y) = 10yr Mean earnings"
   ]
  },
  {
   "cell_type": "code",
   "execution_count": 9,
   "metadata": {
    "scrolled": true
   },
   "outputs": [],
   "source": [
    "X = data[['CONTROL',\n",
    "        'ICLEVEL', 'PREDDEG', 'ADM_RATE_ALL',\n",
    "       'SAT_AVG_ALL', 'PCIP01', 'PCIP03', 'PCIP04', 'PCIP05', 'PCIP09',\n",
    "       'PCIP10', 'PCIP11', 'PCIP12', 'PCIP13', 'PCIP14', 'PCIP15', 'PCIP16',\n",
    "       'PCIP19', 'PCIP22', 'PCIP23', 'PCIP24', 'PCIP25', 'PCIP26', 'PCIP27',\n",
    "       'PCIP29', 'PCIP30', 'PCIP31', 'PCIP38', 'PCIP39', 'PCIP40', 'PCIP41',\n",
    "       'PCIP42', 'PCIP43', 'PCIP44', 'PCIP45', 'PCIP46', 'PCIP47', 'PCIP48',\n",
    "       'PCIP49', 'PCIP50', 'PCIP51', 'PCIP52', 'PCIP54', 'TUITFTE',\n",
    "       'AVGFACSAL', 'PFTFAC', 'PCTPELL', 'COSTT4_A', 'C150_4', 'RET_FT4',\n",
    "       'CDR3', 'GRAD_DEBT_MDN', 'AGE_ENTRY', 'FAMINC', 'UGDS_MEN',\n",
    "       'UGDS_WOMEN']]\n",
    "\n",
    "y = data['MN_EARN_WNE_P10']\n"
   ]
  },
  {
   "cell_type": "code",
   "execution_count": 10,
   "metadata": {
    "scrolled": true
   },
   "outputs": [
    {
     "name": "stdout",
     "output_type": "stream",
     "text": [
      "(1026, 56) (1026,)\n"
     ]
    }
   ],
   "source": [
    "print(X.shape, y.shape)"
   ]
  },
  {
   "cell_type": "code",
   "execution_count": 11,
   "metadata": {
    "scrolled": true
   },
   "outputs": [
    {
     "data": {
      "text/plain": [
       "CONTROL            int64\n",
       "ICLEVEL            int64\n",
       "PREDDEG            int64\n",
       "ADM_RATE_ALL     float64\n",
       "SAT_AVG_ALL      float64\n",
       "PCIP01           float64\n",
       "PCIP03           float64\n",
       "PCIP04           float64\n",
       "PCIP05           float64\n",
       "PCIP09           float64\n",
       "PCIP10           float64\n",
       "PCIP11           float64\n",
       "PCIP12           float64\n",
       "PCIP13           float64\n",
       "PCIP14           float64\n",
       "PCIP15           float64\n",
       "PCIP16           float64\n",
       "PCIP19           float64\n",
       "PCIP22           float64\n",
       "PCIP23           float64\n",
       "PCIP24           float64\n",
       "PCIP25           float64\n",
       "PCIP26           float64\n",
       "PCIP27           float64\n",
       "PCIP29           float64\n",
       "PCIP30           float64\n",
       "PCIP31           float64\n",
       "PCIP38           float64\n",
       "PCIP39           float64\n",
       "PCIP40           float64\n",
       "PCIP41           float64\n",
       "PCIP42           float64\n",
       "PCIP43           float64\n",
       "PCIP44           float64\n",
       "PCIP45           float64\n",
       "PCIP46           float64\n",
       "PCIP47           float64\n",
       "PCIP48           float64\n",
       "PCIP49           float64\n",
       "PCIP50           float64\n",
       "PCIP51           float64\n",
       "PCIP52           float64\n",
       "PCIP54           float64\n",
       "TUITFTE          float64\n",
       "AVGFACSAL        float64\n",
       "PFTFAC           float64\n",
       "PCTPELL          float64\n",
       "COSTT4_A         float64\n",
       "C150_4           float64\n",
       "RET_FT4          float64\n",
       "CDR3             float64\n",
       "GRAD_DEBT_MDN    float64\n",
       "AGE_ENTRY        float64\n",
       "FAMINC           float64\n",
       "UGDS_MEN         float64\n",
       "UGDS_WOMEN       float64\n",
       "dtype: object"
      ]
     },
     "execution_count": 11,
     "metadata": {},
     "output_type": "execute_result"
    }
   ],
   "source": [
    "X.dtypes"
   ]
  },
  {
   "cell_type": "code",
   "execution_count": 12,
   "metadata": {},
   "outputs": [
    {
     "data": {
      "text/plain": [
       "dtype('float64')"
      ]
     },
     "execution_count": 12,
     "metadata": {},
     "output_type": "execute_result"
    }
   ],
   "source": [
    "y.dtypes"
   ]
  },
  {
   "cell_type": "markdown",
   "metadata": {},
   "source": [
    "### Use lasso to help reduce initial number of independant variables"
   ]
  },
  {
   "cell_type": "code",
   "execution_count": 13,
   "metadata": {},
   "outputs": [
    {
     "data": {
      "text/plain": [
       "LinearRegression(copy_X=True, fit_intercept=True, n_jobs=None,\n",
       "         normalize=False)"
      ]
     },
     "execution_count": 13,
     "metadata": {},
     "output_type": "execute_result"
    }
   ],
   "source": [
    "model.fit(X, y)"
   ]
  },
  {
   "cell_type": "code",
   "execution_count": 14,
   "metadata": {},
   "outputs": [
    {
     "name": "stdout",
     "output_type": "stream",
     "text": [
      "[-1.45119087e+03 -4.77066823e-02 -1.91938077e-02 -5.36010952e+03\n",
      "  2.07481359e+01  8.90989741e+05  8.43515210e+05  8.86203871e+05\n",
      "  8.33702054e+05  8.63901879e+05  8.93582395e+05  9.33147061e+05\n",
      "  8.48020868e+05  8.81124740e+05  9.04439362e+05  8.83332896e+05\n",
      "  8.51616905e+05  8.92086063e+05  8.84495065e+05  8.58462498e+05\n",
      "  8.88725620e+05  7.57854014e+05  8.91168841e+05  8.85309657e+05\n",
      "  8.86156101e+05  9.04388092e+05  8.82531140e+05  8.80872464e+05\n",
      "  8.81875511e+05  9.07366455e+05  9.05106524e+05  8.82545374e+05\n",
      "  8.91730640e+05  8.86320230e+05  9.03013125e+05  9.93191580e+05\n",
      "  9.08044832e+05  8.30259695e+05  8.97571036e+05  8.74061555e+05\n",
      "  9.01451943e+05  9.00601695e+05  9.23205615e+05  3.76471628e-01\n",
      "  2.24105507e+00 -1.27927653e+03  2.27340144e+03  1.69153798e-01\n",
      "  1.50853221e+03  1.59819879e+02 -2.78311556e+04 -3.84435450e-01\n",
      " -1.61036865e+01  4.41800799e-02  3.67703440e+03 -3.67703440e+03]\n",
      "-876195.708103281\n"
     ]
    }
   ],
   "source": [
    "print(model.coef_)\n",
    "print(model.intercept_)"
   ]
  },
  {
   "cell_type": "code",
   "execution_count": 15,
   "metadata": {},
   "outputs": [
    {
     "data": {
      "text/plain": [
       "Lasso(alpha=1, copy_X=True, fit_intercept=True, max_iter=1000,\n",
       "   normalize=False, positive=False, precompute=False, random_state=None,\n",
       "   selection='cyclic', tol=0.0001, warm_start=False)"
      ]
     },
     "execution_count": 15,
     "metadata": {},
     "output_type": "execute_result"
    }
   ],
   "source": [
    "lasso = Lasso(alpha=1).fit(X,y)\n",
    "lasso"
   ]
  },
  {
   "cell_type": "code",
   "execution_count": 16,
   "metadata": {},
   "outputs": [
    {
     "data": {
      "text/plain": [
       "array([-1.41273209e+03,  0.00000000e+00,  0.00000000e+00, -5.41154987e+03,\n",
       "        2.08863992e+01,  1.30288792e+03, -4.17342778e+04, -0.00000000e+00,\n",
       "       -3.82956613e+04, -2.32808429e+04,  0.00000000e+00,  4.24607418e+04,\n",
       "       -0.00000000e+00, -6.99785343e+03,  1.62458382e+04, -1.15468956e+03,\n",
       "       -3.20037120e+04,  1.06760746e+03, -2.22243888e+03, -2.57105659e+04,\n",
       "        1.37578081e+02, -0.00000000e+00,  2.51033989e+03,  0.00000000e+00,\n",
       "        0.00000000e+00,  1.46973967e+04, -4.42220086e+03, -5.23488825e+03,\n",
       "       -6.55993795e+03,  1.29008502e+04,  0.00000000e+00, -4.81931149e+03,\n",
       "        2.89931339e+03, -3.07855827e+02,  1.34764025e+04,  0.00000000e+00,\n",
       "        0.00000000e+00, -0.00000000e+00,  0.00000000e+00, -1.43622095e+04,\n",
       "        1.31351653e+04,  1.21502737e+04,  2.44221446e+04,  3.74376627e-01,\n",
       "        2.24830621e+00, -1.16084541e+03,  1.85907769e+03,  1.67894689e-01,\n",
       "        1.25787797e+03,  1.46940002e+02, -2.55238295e+04, -3.85532206e-01,\n",
       "       -9.18552819e+00,  4.55270176e-02,  7.75176612e+03, -0.00000000e+00])"
      ]
     },
     "execution_count": 16,
     "metadata": {},
     "output_type": "execute_result"
    }
   ],
   "source": [
    "lasso.coef_"
   ]
  },
  {
   "cell_type": "code",
   "execution_count": 17,
   "metadata": {
    "scrolled": true
   },
   "outputs": [
    {
     "data": {
      "text/html": [
       "<div>\n",
       "<style scoped>\n",
       "    .dataframe tbody tr th:only-of-type {\n",
       "        vertical-align: middle;\n",
       "    }\n",
       "\n",
       "    .dataframe tbody tr th {\n",
       "        vertical-align: top;\n",
       "    }\n",
       "\n",
       "    .dataframe thead th {\n",
       "        text-align: right;\n",
       "    }\n",
       "</style>\n",
       "<table border=\"1\" class=\"dataframe\">\n",
       "  <thead>\n",
       "    <tr style=\"text-align: right;\">\n",
       "      <th></th>\n",
       "      <th>feature</th>\n",
       "      <th>coef</th>\n",
       "    </tr>\n",
       "  </thead>\n",
       "  <tbody>\n",
       "    <tr>\n",
       "      <th>0</th>\n",
       "      <td>CONTROL</td>\n",
       "      <td>-1412.732092</td>\n",
       "    </tr>\n",
       "    <tr>\n",
       "      <th>1</th>\n",
       "      <td>ICLEVEL</td>\n",
       "      <td>0.000000</td>\n",
       "    </tr>\n",
       "    <tr>\n",
       "      <th>2</th>\n",
       "      <td>PREDDEG</td>\n",
       "      <td>0.000000</td>\n",
       "    </tr>\n",
       "    <tr>\n",
       "      <th>3</th>\n",
       "      <td>ADM_RATE_ALL</td>\n",
       "      <td>-5411.549874</td>\n",
       "    </tr>\n",
       "    <tr>\n",
       "      <th>4</th>\n",
       "      <td>SAT_AVG_ALL</td>\n",
       "      <td>20.886399</td>\n",
       "    </tr>\n",
       "    <tr>\n",
       "      <th>5</th>\n",
       "      <td>PCIP01</td>\n",
       "      <td>1302.887917</td>\n",
       "    </tr>\n",
       "    <tr>\n",
       "      <th>6</th>\n",
       "      <td>PCIP03</td>\n",
       "      <td>-41734.277797</td>\n",
       "    </tr>\n",
       "    <tr>\n",
       "      <th>7</th>\n",
       "      <td>PCIP04</td>\n",
       "      <td>-0.000000</td>\n",
       "    </tr>\n",
       "    <tr>\n",
       "      <th>8</th>\n",
       "      <td>PCIP05</td>\n",
       "      <td>-38295.661271</td>\n",
       "    </tr>\n",
       "    <tr>\n",
       "      <th>9</th>\n",
       "      <td>PCIP09</td>\n",
       "      <td>-23280.842882</td>\n",
       "    </tr>\n",
       "    <tr>\n",
       "      <th>10</th>\n",
       "      <td>PCIP10</td>\n",
       "      <td>0.000000</td>\n",
       "    </tr>\n",
       "    <tr>\n",
       "      <th>11</th>\n",
       "      <td>PCIP11</td>\n",
       "      <td>42460.741823</td>\n",
       "    </tr>\n",
       "    <tr>\n",
       "      <th>12</th>\n",
       "      <td>PCIP12</td>\n",
       "      <td>-0.000000</td>\n",
       "    </tr>\n",
       "    <tr>\n",
       "      <th>13</th>\n",
       "      <td>PCIP13</td>\n",
       "      <td>-6997.853425</td>\n",
       "    </tr>\n",
       "    <tr>\n",
       "      <th>14</th>\n",
       "      <td>PCIP14</td>\n",
       "      <td>16245.838177</td>\n",
       "    </tr>\n",
       "    <tr>\n",
       "      <th>15</th>\n",
       "      <td>PCIP15</td>\n",
       "      <td>-1154.689560</td>\n",
       "    </tr>\n",
       "    <tr>\n",
       "      <th>16</th>\n",
       "      <td>PCIP16</td>\n",
       "      <td>-32003.711994</td>\n",
       "    </tr>\n",
       "    <tr>\n",
       "      <th>17</th>\n",
       "      <td>PCIP19</td>\n",
       "      <td>1067.607462</td>\n",
       "    </tr>\n",
       "    <tr>\n",
       "      <th>18</th>\n",
       "      <td>PCIP22</td>\n",
       "      <td>-2222.438884</td>\n",
       "    </tr>\n",
       "    <tr>\n",
       "      <th>19</th>\n",
       "      <td>PCIP23</td>\n",
       "      <td>-25710.565858</td>\n",
       "    </tr>\n",
       "    <tr>\n",
       "      <th>20</th>\n",
       "      <td>PCIP24</td>\n",
       "      <td>137.578081</td>\n",
       "    </tr>\n",
       "    <tr>\n",
       "      <th>21</th>\n",
       "      <td>PCIP25</td>\n",
       "      <td>-0.000000</td>\n",
       "    </tr>\n",
       "    <tr>\n",
       "      <th>22</th>\n",
       "      <td>PCIP26</td>\n",
       "      <td>2510.339893</td>\n",
       "    </tr>\n",
       "    <tr>\n",
       "      <th>23</th>\n",
       "      <td>PCIP27</td>\n",
       "      <td>0.000000</td>\n",
       "    </tr>\n",
       "    <tr>\n",
       "      <th>24</th>\n",
       "      <td>PCIP29</td>\n",
       "      <td>0.000000</td>\n",
       "    </tr>\n",
       "    <tr>\n",
       "      <th>25</th>\n",
       "      <td>PCIP30</td>\n",
       "      <td>14697.396744</td>\n",
       "    </tr>\n",
       "    <tr>\n",
       "      <th>26</th>\n",
       "      <td>PCIP31</td>\n",
       "      <td>-4422.200862</td>\n",
       "    </tr>\n",
       "    <tr>\n",
       "      <th>27</th>\n",
       "      <td>PCIP38</td>\n",
       "      <td>-5234.888252</td>\n",
       "    </tr>\n",
       "    <tr>\n",
       "      <th>28</th>\n",
       "      <td>PCIP39</td>\n",
       "      <td>-6559.937950</td>\n",
       "    </tr>\n",
       "    <tr>\n",
       "      <th>29</th>\n",
       "      <td>PCIP40</td>\n",
       "      <td>12900.850219</td>\n",
       "    </tr>\n",
       "    <tr>\n",
       "      <th>30</th>\n",
       "      <td>PCIP41</td>\n",
       "      <td>0.000000</td>\n",
       "    </tr>\n",
       "    <tr>\n",
       "      <th>31</th>\n",
       "      <td>PCIP42</td>\n",
       "      <td>-4819.311489</td>\n",
       "    </tr>\n",
       "    <tr>\n",
       "      <th>32</th>\n",
       "      <td>PCIP43</td>\n",
       "      <td>2899.313390</td>\n",
       "    </tr>\n",
       "    <tr>\n",
       "      <th>33</th>\n",
       "      <td>PCIP44</td>\n",
       "      <td>-307.855827</td>\n",
       "    </tr>\n",
       "    <tr>\n",
       "      <th>34</th>\n",
       "      <td>PCIP45</td>\n",
       "      <td>13476.402474</td>\n",
       "    </tr>\n",
       "    <tr>\n",
       "      <th>35</th>\n",
       "      <td>PCIP46</td>\n",
       "      <td>0.000000</td>\n",
       "    </tr>\n",
       "    <tr>\n",
       "      <th>36</th>\n",
       "      <td>PCIP47</td>\n",
       "      <td>0.000000</td>\n",
       "    </tr>\n",
       "    <tr>\n",
       "      <th>37</th>\n",
       "      <td>PCIP48</td>\n",
       "      <td>-0.000000</td>\n",
       "    </tr>\n",
       "    <tr>\n",
       "      <th>38</th>\n",
       "      <td>PCIP49</td>\n",
       "      <td>0.000000</td>\n",
       "    </tr>\n",
       "    <tr>\n",
       "      <th>39</th>\n",
       "      <td>PCIP50</td>\n",
       "      <td>-14362.209479</td>\n",
       "    </tr>\n",
       "    <tr>\n",
       "      <th>40</th>\n",
       "      <td>PCIP51</td>\n",
       "      <td>13135.165329</td>\n",
       "    </tr>\n",
       "    <tr>\n",
       "      <th>41</th>\n",
       "      <td>PCIP52</td>\n",
       "      <td>12150.273673</td>\n",
       "    </tr>\n",
       "    <tr>\n",
       "      <th>42</th>\n",
       "      <td>PCIP54</td>\n",
       "      <td>24422.144624</td>\n",
       "    </tr>\n",
       "    <tr>\n",
       "      <th>43</th>\n",
       "      <td>TUITFTE</td>\n",
       "      <td>0.374377</td>\n",
       "    </tr>\n",
       "    <tr>\n",
       "      <th>44</th>\n",
       "      <td>AVGFACSAL</td>\n",
       "      <td>2.248306</td>\n",
       "    </tr>\n",
       "    <tr>\n",
       "      <th>45</th>\n",
       "      <td>PFTFAC</td>\n",
       "      <td>-1160.845406</td>\n",
       "    </tr>\n",
       "    <tr>\n",
       "      <th>46</th>\n",
       "      <td>PCTPELL</td>\n",
       "      <td>1859.077691</td>\n",
       "    </tr>\n",
       "    <tr>\n",
       "      <th>47</th>\n",
       "      <td>COSTT4_A</td>\n",
       "      <td>0.167895</td>\n",
       "    </tr>\n",
       "    <tr>\n",
       "      <th>48</th>\n",
       "      <td>C150_4</td>\n",
       "      <td>1257.877971</td>\n",
       "    </tr>\n",
       "    <tr>\n",
       "      <th>49</th>\n",
       "      <td>RET_FT4</td>\n",
       "      <td>146.940002</td>\n",
       "    </tr>\n",
       "    <tr>\n",
       "      <th>50</th>\n",
       "      <td>CDR3</td>\n",
       "      <td>-25523.829493</td>\n",
       "    </tr>\n",
       "    <tr>\n",
       "      <th>51</th>\n",
       "      <td>GRAD_DEBT_MDN</td>\n",
       "      <td>-0.385532</td>\n",
       "    </tr>\n",
       "    <tr>\n",
       "      <th>52</th>\n",
       "      <td>AGE_ENTRY</td>\n",
       "      <td>-9.185528</td>\n",
       "    </tr>\n",
       "    <tr>\n",
       "      <th>53</th>\n",
       "      <td>FAMINC</td>\n",
       "      <td>0.045527</td>\n",
       "    </tr>\n",
       "    <tr>\n",
       "      <th>54</th>\n",
       "      <td>UGDS_MEN</td>\n",
       "      <td>7751.766119</td>\n",
       "    </tr>\n",
       "    <tr>\n",
       "      <th>55</th>\n",
       "      <td>UGDS_WOMEN</td>\n",
       "      <td>-0.000000</td>\n",
       "    </tr>\n",
       "  </tbody>\n",
       "</table>\n",
       "</div>"
      ],
      "text/plain": [
       "          feature          coef\n",
       "0         CONTROL  -1412.732092\n",
       "1         ICLEVEL      0.000000\n",
       "2         PREDDEG      0.000000\n",
       "3    ADM_RATE_ALL  -5411.549874\n",
       "4     SAT_AVG_ALL     20.886399\n",
       "5          PCIP01   1302.887917\n",
       "6          PCIP03 -41734.277797\n",
       "7          PCIP04     -0.000000\n",
       "8          PCIP05 -38295.661271\n",
       "9          PCIP09 -23280.842882\n",
       "10         PCIP10      0.000000\n",
       "11         PCIP11  42460.741823\n",
       "12         PCIP12     -0.000000\n",
       "13         PCIP13  -6997.853425\n",
       "14         PCIP14  16245.838177\n",
       "15         PCIP15  -1154.689560\n",
       "16         PCIP16 -32003.711994\n",
       "17         PCIP19   1067.607462\n",
       "18         PCIP22  -2222.438884\n",
       "19         PCIP23 -25710.565858\n",
       "20         PCIP24    137.578081\n",
       "21         PCIP25     -0.000000\n",
       "22         PCIP26   2510.339893\n",
       "23         PCIP27      0.000000\n",
       "24         PCIP29      0.000000\n",
       "25         PCIP30  14697.396744\n",
       "26         PCIP31  -4422.200862\n",
       "27         PCIP38  -5234.888252\n",
       "28         PCIP39  -6559.937950\n",
       "29         PCIP40  12900.850219\n",
       "30         PCIP41      0.000000\n",
       "31         PCIP42  -4819.311489\n",
       "32         PCIP43   2899.313390\n",
       "33         PCIP44   -307.855827\n",
       "34         PCIP45  13476.402474\n",
       "35         PCIP46      0.000000\n",
       "36         PCIP47      0.000000\n",
       "37         PCIP48     -0.000000\n",
       "38         PCIP49      0.000000\n",
       "39         PCIP50 -14362.209479\n",
       "40         PCIP51  13135.165329\n",
       "41         PCIP52  12150.273673\n",
       "42         PCIP54  24422.144624\n",
       "43        TUITFTE      0.374377\n",
       "44      AVGFACSAL      2.248306\n",
       "45         PFTFAC  -1160.845406\n",
       "46        PCTPELL   1859.077691\n",
       "47       COSTT4_A      0.167895\n",
       "48         C150_4   1257.877971\n",
       "49        RET_FT4    146.940002\n",
       "50           CDR3 -25523.829493\n",
       "51  GRAD_DEBT_MDN     -0.385532\n",
       "52      AGE_ENTRY     -9.185528\n",
       "53         FAMINC      0.045527\n",
       "54       UGDS_MEN   7751.766119\n",
       "55     UGDS_WOMEN     -0.000000"
      ]
     },
     "execution_count": 17,
     "metadata": {},
     "output_type": "execute_result"
    }
   ],
   "source": [
    "lasso_results = pd.DataFrame()\n",
    "lasso_results['feature']=X.columns\n",
    "lasso_results['coef']=lasso.coef_\n",
    "lasso_results"
   ]
  },
  {
   "cell_type": "markdown",
   "metadata": {},
   "source": [
    "#### Drop independant variables with lasso = 0"
   ]
  },
  {
   "cell_type": "code",
   "execution_count": 18,
   "metadata": {},
   "outputs": [],
   "source": [
    "X = data[['CONTROL', 'ADM_RATE_ALL',\n",
    "       'SAT_AVG_ALL', 'PCIP01', 'PCIP03', 'PCIP05', 'PCIP09', 'PCIP11', 'PCIP13', 'PCIP14', 'PCIP15', 'PCIP16',\n",
    "       'PCIP19', 'PCIP22', 'PCIP23', 'PCIP24', 'PCIP26', 'PCIP30', 'PCIP31', 'PCIP38', 'PCIP39', 'PCIP40',\n",
    "       'PCIP42', 'PCIP43', 'PCIP44', 'PCIP45', 'PCIP50', 'PCIP51', 'PCIP52', 'PCIP54', 'TUITFTE',\n",
    "       'AVGFACSAL', 'PFTFAC', 'PCTPELL', 'COSTT4_A', 'C150_4', 'RET_FT4',\n",
    "       'CDR3', 'GRAD_DEBT_MDN', 'AGE_ENTRY', 'FAMINC', 'UGDS_MEN']]"
   ]
  },
  {
   "cell_type": "code",
   "execution_count": 19,
   "metadata": {},
   "outputs": [
    {
     "data": {
      "text/html": [
       "<div>\n",
       "<style scoped>\n",
       "    .dataframe tbody tr th:only-of-type {\n",
       "        vertical-align: middle;\n",
       "    }\n",
       "\n",
       "    .dataframe tbody tr th {\n",
       "        vertical-align: top;\n",
       "    }\n",
       "\n",
       "    .dataframe thead th {\n",
       "        text-align: right;\n",
       "    }\n",
       "</style>\n",
       "<table border=\"1\" class=\"dataframe\">\n",
       "  <thead>\n",
       "    <tr style=\"text-align: right;\">\n",
       "      <th></th>\n",
       "      <th>CONTROL</th>\n",
       "      <th>ADM_RATE_ALL</th>\n",
       "      <th>SAT_AVG_ALL</th>\n",
       "      <th>PCIP01</th>\n",
       "      <th>PCIP03</th>\n",
       "      <th>PCIP05</th>\n",
       "      <th>PCIP09</th>\n",
       "      <th>PCIP11</th>\n",
       "      <th>PCIP13</th>\n",
       "      <th>PCIP14</th>\n",
       "      <th>...</th>\n",
       "      <th>PFTFAC</th>\n",
       "      <th>PCTPELL</th>\n",
       "      <th>COSTT4_A</th>\n",
       "      <th>C150_4</th>\n",
       "      <th>RET_FT4</th>\n",
       "      <th>CDR3</th>\n",
       "      <th>GRAD_DEBT_MDN</th>\n",
       "      <th>AGE_ENTRY</th>\n",
       "      <th>FAMINC</th>\n",
       "      <th>UGDS_MEN</th>\n",
       "    </tr>\n",
       "  </thead>\n",
       "  <tbody>\n",
       "    <tr>\n",
       "      <th>0</th>\n",
       "      <td>1</td>\n",
       "      <td>0.5256</td>\n",
       "      <td>827.0</td>\n",
       "      <td>0.0424</td>\n",
       "      <td>0.0191</td>\n",
       "      <td>0.0000</td>\n",
       "      <td>0.0000</td>\n",
       "      <td>0.0275</td>\n",
       "      <td>0.1123</td>\n",
       "      <td>0.1081</td>\n",
       "      <td>...</td>\n",
       "      <td>0.8967</td>\n",
       "      <td>0.7356</td>\n",
       "      <td>21475.0</td>\n",
       "      <td>0.3525</td>\n",
       "      <td>0.6595</td>\n",
       "      <td>0.172</td>\n",
       "      <td>32750.0</td>\n",
       "      <td>20.525773</td>\n",
       "      <td>30721.91065</td>\n",
       "      <td>0.4831</td>\n",
       "    </tr>\n",
       "    <tr>\n",
       "      <th>1</th>\n",
       "      <td>1</td>\n",
       "      <td>0.8569</td>\n",
       "      <td>1107.0</td>\n",
       "      <td>0.0000</td>\n",
       "      <td>0.0000</td>\n",
       "      <td>0.0024</td>\n",
       "      <td>0.0485</td>\n",
       "      <td>0.0150</td>\n",
       "      <td>0.0882</td>\n",
       "      <td>0.0577</td>\n",
       "      <td>...</td>\n",
       "      <td>0.9072</td>\n",
       "      <td>0.3460</td>\n",
       "      <td>20621.0</td>\n",
       "      <td>0.5554</td>\n",
       "      <td>0.8288</td>\n",
       "      <td>0.062</td>\n",
       "      <td>20750.0</td>\n",
       "      <td>23.492140</td>\n",
       "      <td>51156.58905</td>\n",
       "      <td>0.4169</td>\n",
       "    </tr>\n",
       "  </tbody>\n",
       "</table>\n",
       "<p>2 rows × 42 columns</p>\n",
       "</div>"
      ],
      "text/plain": [
       "   CONTROL  ADM_RATE_ALL  SAT_AVG_ALL  PCIP01  PCIP03  PCIP05  PCIP09  PCIP11  \\\n",
       "0        1        0.5256        827.0  0.0424  0.0191  0.0000  0.0000  0.0275   \n",
       "1        1        0.8569       1107.0  0.0000  0.0000  0.0024  0.0485  0.0150   \n",
       "\n",
       "   PCIP13  PCIP14  ...  PFTFAC  PCTPELL  COSTT4_A  C150_4  RET_FT4   CDR3  \\\n",
       "0  0.1123  0.1081  ...  0.8967   0.7356   21475.0  0.3525   0.6595  0.172   \n",
       "1  0.0882  0.0577  ...  0.9072   0.3460   20621.0  0.5554   0.8288  0.062   \n",
       "\n",
       "   GRAD_DEBT_MDN  AGE_ENTRY       FAMINC  UGDS_MEN  \n",
       "0        32750.0  20.525773  30721.91065    0.4831  \n",
       "1        20750.0  23.492140  51156.58905    0.4169  \n",
       "\n",
       "[2 rows x 42 columns]"
      ]
     },
     "execution_count": 19,
     "metadata": {},
     "output_type": "execute_result"
    }
   ],
   "source": [
    "X.head(2)"
   ]
  },
  {
   "cell_type": "code",
   "execution_count": 20,
   "metadata": {},
   "outputs": [
    {
     "name": "stdout",
     "output_type": "stream",
     "text": [
      "(1026, 42) (1026,)\n"
     ]
    }
   ],
   "source": [
    "print(X.shape, y.shape)"
   ]
  },
  {
   "cell_type": "code",
   "execution_count": 21,
   "metadata": {
    "scrolled": true
   },
   "outputs": [
    {
     "data": {
      "text/plain": [
       "LinearRegression(copy_X=True, fit_intercept=True, n_jobs=None,\n",
       "         normalize=False)"
      ]
     },
     "execution_count": 21,
     "metadata": {},
     "output_type": "execute_result"
    }
   ],
   "source": [
    "# Fit Model\n",
    "model.fit(X, y)"
   ]
  },
  {
   "cell_type": "code",
   "execution_count": 22,
   "metadata": {
    "scrolled": true
   },
   "outputs": [
    {
     "name": "stdout",
     "output_type": "stream",
     "text": [
      "[-1.46349315e+03 -5.36152878e+03  2.07208454e+01  1.52319036e+03\n",
      " -4.66308934e+04 -5.60637005e+04 -2.57611380e+04  4.28493804e+04\n",
      " -8.77175982e+03  1.42850269e+04 -5.52100872e+03 -3.84923648e+04\n",
      "  1.68454536e+03 -5.10124938e+03 -3.13485581e+04 -1.15837529e+03\n",
      "  1.19534720e+03  1.43029309e+04 -7.36841781e+03 -9.00879207e+03\n",
      " -8.17667799e+03  1.69912321e+04 -7.20509884e+03  1.81977434e+03\n",
      " -3.45025485e+03  1.30977051e+04 -1.59688542e+04  1.15094232e+04\n",
      "  1.06203520e+04  3.23623825e+04  3.78208179e-01  2.22973368e+00\n",
      " -1.17160569e+03  2.42107100e+03  1.69000472e-01  1.44974848e+03\n",
      "  1.26947772e+02 -2.78661460e+04 -3.87108862e-01 -1.34381526e+00\n",
      "  4.64235525e-02  7.63124191e+03]\n",
      "9535.117376361304\n"
     ]
    }
   ],
   "source": [
    "print(model.coef_)\n",
    "print(model.intercept_)"
   ]
  },
  {
   "cell_type": "markdown",
   "metadata": {},
   "source": [
    "#### Check p-values for each coefficient"
   ]
  },
  {
   "cell_type": "code",
   "execution_count": 23,
   "metadata": {
    "scrolled": true
   },
   "outputs": [],
   "source": [
    "import statsmodels.api as sm\n",
    "from scipy import stats"
   ]
  },
  {
   "cell_type": "code",
   "execution_count": 24,
   "metadata": {
    "scrolled": true
   },
   "outputs": [
    {
     "name": "stderr",
     "output_type": "stream",
     "text": [
      "C:\\Users\\Chart\\AppData\\Local\\Continuum\\anaconda3\\lib\\site-packages\\numpy\\core\\fromnumeric.py:2389: FutureWarning: Method .ptp is deprecated and will be removed in a future version. Use numpy.ptp instead.\n",
      "  return ptp(axis=axis, out=out, **kwargs)\n"
     ]
    },
    {
     "data": {
      "text/html": [
       "<table class=\"simpletable\">\n",
       "<caption>OLS Regression Results</caption>\n",
       "<tr>\n",
       "  <th>Dep. Variable:</th>     <td>MN_EARN_WNE_P10</td> <th>  R-squared:         </th> <td>   0.842</td> \n",
       "</tr>\n",
       "<tr>\n",
       "  <th>Model:</th>                   <td>OLS</td>       <th>  Adj. R-squared:    </th> <td>   0.836</td> \n",
       "</tr>\n",
       "<tr>\n",
       "  <th>Method:</th>             <td>Least Squares</td>  <th>  F-statistic:       </th> <td>   125.1</td> \n",
       "</tr>\n",
       "<tr>\n",
       "  <th>Date:</th>             <td>Sun, 28 Jul 2019</td> <th>  Prob (F-statistic):</th>  <td>  0.00</td>  \n",
       "</tr>\n",
       "<tr>\n",
       "  <th>Time:</th>                 <td>14:44:56</td>     <th>  Log-Likelihood:    </th> <td> -10320.</td> \n",
       "</tr>\n",
       "<tr>\n",
       "  <th>No. Observations:</th>      <td>  1026</td>      <th>  AIC:               </th> <td>2.073e+04</td>\n",
       "</tr>\n",
       "<tr>\n",
       "  <th>Df Residuals:</th>          <td>   983</td>      <th>  BIC:               </th> <td>2.094e+04</td>\n",
       "</tr>\n",
       "<tr>\n",
       "  <th>Df Model:</th>              <td>    42</td>      <th>                     </th>     <td> </td>    \n",
       "</tr>\n",
       "<tr>\n",
       "  <th>Covariance Type:</th>      <td>nonrobust</td>    <th>                     </th>     <td> </td>    \n",
       "</tr>\n",
       "</table>\n",
       "<table class=\"simpletable\">\n",
       "<tr>\n",
       "        <td></td>           <th>coef</th>     <th>std err</th>      <th>t</th>      <th>P>|t|</th>  <th>[0.025</th>    <th>0.975]</th>  \n",
       "</tr>\n",
       "<tr>\n",
       "  <th>const</th>         <td> 9535.1174</td> <td> 9744.181</td> <td>    0.979</td> <td> 0.328</td> <td>-9586.671</td> <td> 2.87e+04</td>\n",
       "</tr>\n",
       "<tr>\n",
       "  <th>CONTROL</th>       <td>-1463.4931</td> <td>  972.740</td> <td>   -1.505</td> <td> 0.133</td> <td>-3372.378</td> <td>  445.392</td>\n",
       "</tr>\n",
       "<tr>\n",
       "  <th>ADM_RATE_ALL</th>  <td>-5361.5288</td> <td> 1224.957</td> <td>   -4.377</td> <td> 0.000</td> <td>-7765.360</td> <td>-2957.698</td>\n",
       "</tr>\n",
       "<tr>\n",
       "  <th>SAT_AVG_ALL</th>   <td>   20.7208</td> <td>    3.379</td> <td>    6.132</td> <td> 0.000</td> <td>   14.090</td> <td>   27.352</td>\n",
       "</tr>\n",
       "<tr>\n",
       "  <th>PCIP01</th>        <td> 1523.1904</td> <td> 1.05e+04</td> <td>    0.144</td> <td> 0.885</td> <td>-1.92e+04</td> <td> 2.22e+04</td>\n",
       "</tr>\n",
       "<tr>\n",
       "  <th>PCIP03</th>        <td>-4.663e+04</td> <td> 1.21e+04</td> <td>   -3.850</td> <td> 0.000</td> <td>-7.04e+04</td> <td>-2.29e+04</td>\n",
       "</tr>\n",
       "<tr>\n",
       "  <th>PCIP05</th>        <td>-5.606e+04</td> <td> 2.35e+04</td> <td>   -2.390</td> <td> 0.017</td> <td>-1.02e+05</td> <td>   -1e+04</td>\n",
       "</tr>\n",
       "<tr>\n",
       "  <th>PCIP09</th>        <td>-2.576e+04</td> <td> 8444.575</td> <td>   -3.051</td> <td> 0.002</td> <td>-4.23e+04</td> <td>-9189.671</td>\n",
       "</tr>\n",
       "<tr>\n",
       "  <th>PCIP11</th>        <td> 4.285e+04</td> <td> 1.06e+04</td> <td>    4.032</td> <td> 0.000</td> <td>  2.2e+04</td> <td> 6.37e+04</td>\n",
       "</tr>\n",
       "<tr>\n",
       "  <th>PCIP13</th>        <td>-8771.7598</td> <td> 8000.659</td> <td>   -1.096</td> <td> 0.273</td> <td>-2.45e+04</td> <td> 6928.575</td>\n",
       "</tr>\n",
       "<tr>\n",
       "  <th>PCIP14</th>        <td> 1.429e+04</td> <td> 7874.828</td> <td>    1.814</td> <td> 0.070</td> <td>-1168.380</td> <td> 2.97e+04</td>\n",
       "</tr>\n",
       "<tr>\n",
       "  <th>PCIP15</th>        <td>-5521.0087</td> <td> 1.26e+04</td> <td>   -0.437</td> <td> 0.662</td> <td>-3.03e+04</td> <td> 1.93e+04</td>\n",
       "</tr>\n",
       "<tr>\n",
       "  <th>PCIP16</th>        <td>-3.849e+04</td> <td> 1.41e+04</td> <td>   -2.722</td> <td> 0.007</td> <td>-6.62e+04</td> <td>-1.07e+04</td>\n",
       "</tr>\n",
       "<tr>\n",
       "  <th>PCIP19</th>        <td> 1684.5454</td> <td> 1.06e+04</td> <td>    0.160</td> <td> 0.873</td> <td> -1.9e+04</td> <td> 2.24e+04</td>\n",
       "</tr>\n",
       "<tr>\n",
       "  <th>PCIP22</th>        <td>-5101.2494</td> <td> 9666.547</td> <td>   -0.528</td> <td> 0.598</td> <td>-2.41e+04</td> <td> 1.39e+04</td>\n",
       "</tr>\n",
       "<tr>\n",
       "  <th>PCIP23</th>        <td>-3.135e+04</td> <td> 1.26e+04</td> <td>   -2.490</td> <td> 0.013</td> <td>-5.61e+04</td> <td>-6646.478</td>\n",
       "</tr>\n",
       "<tr>\n",
       "  <th>PCIP24</th>        <td>-1158.3753</td> <td> 7580.421</td> <td>   -0.153</td> <td> 0.879</td> <td> -1.6e+04</td> <td> 1.37e+04</td>\n",
       "</tr>\n",
       "<tr>\n",
       "  <th>PCIP26</th>        <td> 1195.3472</td> <td> 9168.231</td> <td>    0.130</td> <td> 0.896</td> <td>-1.68e+04</td> <td> 1.92e+04</td>\n",
       "</tr>\n",
       "<tr>\n",
       "  <th>PCIP30</th>        <td>  1.43e+04</td> <td> 8857.478</td> <td>    1.615</td> <td> 0.107</td> <td>-3078.809</td> <td> 3.17e+04</td>\n",
       "</tr>\n",
       "<tr>\n",
       "  <th>PCIP31</th>        <td>-7368.4178</td> <td> 9118.201</td> <td>   -0.808</td> <td> 0.419</td> <td>-2.53e+04</td> <td> 1.05e+04</td>\n",
       "</tr>\n",
       "<tr>\n",
       "  <th>PCIP38</th>        <td>-9008.7921</td> <td>  1.1e+04</td> <td>   -0.820</td> <td> 0.412</td> <td>-3.06e+04</td> <td> 1.26e+04</td>\n",
       "</tr>\n",
       "<tr>\n",
       "  <th>PCIP39</th>        <td>-8176.6780</td> <td> 7564.582</td> <td>   -1.081</td> <td> 0.280</td> <td> -2.3e+04</td> <td> 6667.908</td>\n",
       "</tr>\n",
       "<tr>\n",
       "  <th>PCIP40</th>        <td> 1.699e+04</td> <td> 1.53e+04</td> <td>    1.110</td> <td> 0.267</td> <td>-1.31e+04</td> <td>  4.7e+04</td>\n",
       "</tr>\n",
       "<tr>\n",
       "  <th>PCIP42</th>        <td>-7205.0988</td> <td> 8731.886</td> <td>   -0.825</td> <td> 0.409</td> <td>-2.43e+04</td> <td> 9930.182</td>\n",
       "</tr>\n",
       "<tr>\n",
       "  <th>PCIP43</th>        <td> 1819.7743</td> <td> 8182.121</td> <td>    0.222</td> <td> 0.824</td> <td>-1.42e+04</td> <td> 1.79e+04</td>\n",
       "</tr>\n",
       "<tr>\n",
       "  <th>PCIP44</th>        <td>-3450.2548</td> <td> 9764.676</td> <td>   -0.353</td> <td> 0.724</td> <td>-2.26e+04</td> <td> 1.57e+04</td>\n",
       "</tr>\n",
       "<tr>\n",
       "  <th>PCIP45</th>        <td>  1.31e+04</td> <td> 8609.758</td> <td>    1.521</td> <td> 0.129</td> <td>-3797.913</td> <td>    3e+04</td>\n",
       "</tr>\n",
       "<tr>\n",
       "  <th>PCIP50</th>        <td>-1.597e+04</td> <td> 7859.581</td> <td>   -2.032</td> <td> 0.042</td> <td>-3.14e+04</td> <td> -545.369</td>\n",
       "</tr>\n",
       "<tr>\n",
       "  <th>PCIP51</th>        <td> 1.151e+04</td> <td> 7325.617</td> <td>    1.571</td> <td> 0.116</td> <td>-2866.222</td> <td> 2.59e+04</td>\n",
       "</tr>\n",
       "<tr>\n",
       "  <th>PCIP52</th>        <td> 1.062e+04</td> <td> 7243.471</td> <td>    1.466</td> <td> 0.143</td> <td>-3594.092</td> <td> 2.48e+04</td>\n",
       "</tr>\n",
       "<tr>\n",
       "  <th>PCIP54</th>        <td> 3.236e+04</td> <td> 1.71e+04</td> <td>    1.889</td> <td> 0.059</td> <td>-1265.256</td> <td>  6.6e+04</td>\n",
       "</tr>\n",
       "<tr>\n",
       "  <th>TUITFTE</th>       <td>    0.3782</td> <td>    0.068</td> <td>    5.576</td> <td> 0.000</td> <td>    0.245</td> <td>    0.511</td>\n",
       "</tr>\n",
       "<tr>\n",
       "  <th>AVGFACSAL</th>     <td>    2.2297</td> <td>    0.159</td> <td>   14.027</td> <td> 0.000</td> <td>    1.918</td> <td>    2.542</td>\n",
       "</tr>\n",
       "<tr>\n",
       "  <th>PFTFAC</th>        <td>-1171.6057</td> <td>  852.931</td> <td>   -1.374</td> <td> 0.170</td> <td>-2845.380</td> <td>  502.169</td>\n",
       "</tr>\n",
       "<tr>\n",
       "  <th>PCTPELL</th>       <td> 2421.0710</td> <td> 2966.929</td> <td>    0.816</td> <td> 0.415</td> <td>-3401.171</td> <td> 8243.313</td>\n",
       "</tr>\n",
       "<tr>\n",
       "  <th>COSTT4_A</th>      <td>    0.1690</td> <td>    0.044</td> <td>    3.800</td> <td> 0.000</td> <td>    0.082</td> <td>    0.256</td>\n",
       "</tr>\n",
       "<tr>\n",
       "  <th>C150_4</th>        <td> 1449.7485</td> <td> 2667.098</td> <td>    0.544</td> <td> 0.587</td> <td>-3784.111</td> <td> 6683.608</td>\n",
       "</tr>\n",
       "<tr>\n",
       "  <th>RET_FT4</th>       <td>  126.9478</td> <td> 3313.986</td> <td>    0.038</td> <td> 0.969</td> <td>-6376.353</td> <td> 6630.249</td>\n",
       "</tr>\n",
       "<tr>\n",
       "  <th>CDR3</th>          <td>-2.787e+04</td> <td> 7622.383</td> <td>   -3.656</td> <td> 0.000</td> <td>-4.28e+04</td> <td>-1.29e+04</td>\n",
       "</tr>\n",
       "<tr>\n",
       "  <th>GRAD_DEBT_MDN</th> <td>   -0.3871</td> <td>    0.062</td> <td>   -6.282</td> <td> 0.000</td> <td>   -0.508</td> <td>   -0.266</td>\n",
       "</tr>\n",
       "<tr>\n",
       "  <th>AGE_ENTRY</th>     <td>   -1.3438</td> <td>  126.542</td> <td>   -0.011</td> <td> 0.992</td> <td> -249.668</td> <td>  246.980</td>\n",
       "</tr>\n",
       "<tr>\n",
       "  <th>FAMINC</th>        <td>    0.0464</td> <td>    0.023</td> <td>    2.014</td> <td> 0.044</td> <td>    0.001</td> <td>    0.092</td>\n",
       "</tr>\n",
       "<tr>\n",
       "  <th>UGDS_MEN</th>      <td> 7631.2419</td> <td> 2614.611</td> <td>    2.919</td> <td> 0.004</td> <td> 2500.381</td> <td> 1.28e+04</td>\n",
       "</tr>\n",
       "</table>\n",
       "<table class=\"simpletable\">\n",
       "<tr>\n",
       "  <th>Omnibus:</th>       <td>319.632</td> <th>  Durbin-Watson:     </th> <td>   1.948</td>\n",
       "</tr>\n",
       "<tr>\n",
       "  <th>Prob(Omnibus):</th> <td> 0.000</td>  <th>  Jarque-Bera (JB):  </th> <td>2450.229</td>\n",
       "</tr>\n",
       "<tr>\n",
       "  <th>Skew:</th>          <td> 1.213</td>  <th>  Prob(JB):          </th> <td>    0.00</td>\n",
       "</tr>\n",
       "<tr>\n",
       "  <th>Kurtosis:</th>      <td>10.171</td>  <th>  Cond. No.          </th> <td>1.79e+07</td>\n",
       "</tr>\n",
       "</table><br/><br/>Warnings:<br/>[1] Standard Errors assume that the covariance matrix of the errors is correctly specified.<br/>[2] The condition number is large, 1.79e+07. This might indicate that there are<br/>strong multicollinearity or other numerical problems."
      ],
      "text/plain": [
       "<class 'statsmodels.iolib.summary.Summary'>\n",
       "\"\"\"\n",
       "                            OLS Regression Results                            \n",
       "==============================================================================\n",
       "Dep. Variable:        MN_EARN_WNE_P10   R-squared:                       0.842\n",
       "Model:                            OLS   Adj. R-squared:                  0.836\n",
       "Method:                 Least Squares   F-statistic:                     125.1\n",
       "Date:                Sun, 28 Jul 2019   Prob (F-statistic):               0.00\n",
       "Time:                        14:44:56   Log-Likelihood:                -10320.\n",
       "No. Observations:                1026   AIC:                         2.073e+04\n",
       "Df Residuals:                     983   BIC:                         2.094e+04\n",
       "Df Model:                          42                                         \n",
       "Covariance Type:            nonrobust                                         \n",
       "=================================================================================\n",
       "                    coef    std err          t      P>|t|      [0.025      0.975]\n",
       "---------------------------------------------------------------------------------\n",
       "const          9535.1174   9744.181      0.979      0.328   -9586.671    2.87e+04\n",
       "CONTROL       -1463.4931    972.740     -1.505      0.133   -3372.378     445.392\n",
       "ADM_RATE_ALL  -5361.5288   1224.957     -4.377      0.000   -7765.360   -2957.698\n",
       "SAT_AVG_ALL      20.7208      3.379      6.132      0.000      14.090      27.352\n",
       "PCIP01         1523.1904   1.05e+04      0.144      0.885   -1.92e+04    2.22e+04\n",
       "PCIP03        -4.663e+04   1.21e+04     -3.850      0.000   -7.04e+04   -2.29e+04\n",
       "PCIP05        -5.606e+04   2.35e+04     -2.390      0.017   -1.02e+05      -1e+04\n",
       "PCIP09        -2.576e+04   8444.575     -3.051      0.002   -4.23e+04   -9189.671\n",
       "PCIP11         4.285e+04   1.06e+04      4.032      0.000     2.2e+04    6.37e+04\n",
       "PCIP13        -8771.7598   8000.659     -1.096      0.273   -2.45e+04    6928.575\n",
       "PCIP14         1.429e+04   7874.828      1.814      0.070   -1168.380    2.97e+04\n",
       "PCIP15        -5521.0087   1.26e+04     -0.437      0.662   -3.03e+04    1.93e+04\n",
       "PCIP16        -3.849e+04   1.41e+04     -2.722      0.007   -6.62e+04   -1.07e+04\n",
       "PCIP19         1684.5454   1.06e+04      0.160      0.873    -1.9e+04    2.24e+04\n",
       "PCIP22        -5101.2494   9666.547     -0.528      0.598   -2.41e+04    1.39e+04\n",
       "PCIP23        -3.135e+04   1.26e+04     -2.490      0.013   -5.61e+04   -6646.478\n",
       "PCIP24        -1158.3753   7580.421     -0.153      0.879    -1.6e+04    1.37e+04\n",
       "PCIP26         1195.3472   9168.231      0.130      0.896   -1.68e+04    1.92e+04\n",
       "PCIP30          1.43e+04   8857.478      1.615      0.107   -3078.809    3.17e+04\n",
       "PCIP31        -7368.4178   9118.201     -0.808      0.419   -2.53e+04    1.05e+04\n",
       "PCIP38        -9008.7921    1.1e+04     -0.820      0.412   -3.06e+04    1.26e+04\n",
       "PCIP39        -8176.6780   7564.582     -1.081      0.280    -2.3e+04    6667.908\n",
       "PCIP40         1.699e+04   1.53e+04      1.110      0.267   -1.31e+04     4.7e+04\n",
       "PCIP42        -7205.0988   8731.886     -0.825      0.409   -2.43e+04    9930.182\n",
       "PCIP43         1819.7743   8182.121      0.222      0.824   -1.42e+04    1.79e+04\n",
       "PCIP44        -3450.2548   9764.676     -0.353      0.724   -2.26e+04    1.57e+04\n",
       "PCIP45          1.31e+04   8609.758      1.521      0.129   -3797.913       3e+04\n",
       "PCIP50        -1.597e+04   7859.581     -2.032      0.042   -3.14e+04    -545.369\n",
       "PCIP51         1.151e+04   7325.617      1.571      0.116   -2866.222    2.59e+04\n",
       "PCIP52         1.062e+04   7243.471      1.466      0.143   -3594.092    2.48e+04\n",
       "PCIP54         3.236e+04   1.71e+04      1.889      0.059   -1265.256     6.6e+04\n",
       "TUITFTE           0.3782      0.068      5.576      0.000       0.245       0.511\n",
       "AVGFACSAL         2.2297      0.159     14.027      0.000       1.918       2.542\n",
       "PFTFAC        -1171.6057    852.931     -1.374      0.170   -2845.380     502.169\n",
       "PCTPELL        2421.0710   2966.929      0.816      0.415   -3401.171    8243.313\n",
       "COSTT4_A          0.1690      0.044      3.800      0.000       0.082       0.256\n",
       "C150_4         1449.7485   2667.098      0.544      0.587   -3784.111    6683.608\n",
       "RET_FT4         126.9478   3313.986      0.038      0.969   -6376.353    6630.249\n",
       "CDR3          -2.787e+04   7622.383     -3.656      0.000   -4.28e+04   -1.29e+04\n",
       "GRAD_DEBT_MDN    -0.3871      0.062     -6.282      0.000      -0.508      -0.266\n",
       "AGE_ENTRY        -1.3438    126.542     -0.011      0.992    -249.668     246.980\n",
       "FAMINC            0.0464      0.023      2.014      0.044       0.001       0.092\n",
       "UGDS_MEN       7631.2419   2614.611      2.919      0.004    2500.381    1.28e+04\n",
       "==============================================================================\n",
       "Omnibus:                      319.632   Durbin-Watson:                   1.948\n",
       "Prob(Omnibus):                  0.000   Jarque-Bera (JB):             2450.229\n",
       "Skew:                           1.213   Prob(JB):                         0.00\n",
       "Kurtosis:                      10.171   Cond. No.                     1.79e+07\n",
       "==============================================================================\n",
       "\n",
       "Warnings:\n",
       "[1] Standard Errors assume that the covariance matrix of the errors is correctly specified.\n",
       "[2] The condition number is large, 1.79e+07. This might indicate that there are\n",
       "strong multicollinearity or other numerical problems.\n",
       "\"\"\""
      ]
     },
     "execution_count": 24,
     "metadata": {},
     "output_type": "execute_result"
    }
   ],
   "source": [
    "X2 = sm.add_constant(X)\n",
    "est = sm.OLS(y, X2)\n",
    "est2 = est.fit()\n",
    "est2.summary()"
   ]
  },
  {
   "cell_type": "code",
   "execution_count": 25,
   "metadata": {
    "scrolled": true
   },
   "outputs": [
    {
     "data": {
      "text/plain": [
       "const            3.280457e-01\n",
       "CONTROL          1.327722e-01\n",
       "ADM_RATE_ALL     1.332468e-05\n",
       "SAT_AVG_ALL      1.252613e-09\n",
       "PCIP01           8.851760e-01\n",
       "PCIP03           1.257040e-04\n",
       "PCIP05           1.702242e-02\n",
       "PCIP09           2.344993e-03\n",
       "PCIP11           5.959544e-05\n",
       "PCIP13           2.731812e-01\n",
       "PCIP14           6.998078e-02\n",
       "PCIP15           6.622412e-01\n",
       "PCIP16           6.601499e-03\n",
       "PCIP19           8.732160e-01\n",
       "PCIP22           5.978114e-01\n",
       "PCIP23           1.292452e-02\n",
       "PCIP24           8.785783e-01\n",
       "PCIP26           8.962930e-01\n",
       "PCIP30           1.066780e-01\n",
       "PCIP31           4.192285e-01\n",
       "PCIP38           4.124770e-01\n",
       "PCIP39           2.799996e-01\n",
       "PCIP40           2.674519e-01\n",
       "PCIP42           4.094878e-01\n",
       "PCIP43           8.240420e-01\n",
       "PCIP44           7.239090e-01\n",
       "PCIP45           1.285155e-01\n",
       "PCIP50           4.244556e-02\n",
       "PCIP51           1.164766e-01\n",
       "PCIP52           1.429146e-01\n",
       "PCIP54           5.924708e-02\n",
       "TUITFTE          3.184428e-08\n",
       "AVGFACSAL        7.042862e-41\n",
       "PFTFAC           1.698718e-01\n",
       "PCTPELL          4.146868e-01\n",
       "COSTT4_A         1.534007e-04\n",
       "C150_4           5.868622e-01\n",
       "RET_FT4          9.694510e-01\n",
       "CDR3             2.699293e-04\n",
       "GRAD_DEBT_MDN    5.005556e-10\n",
       "AGE_ENTRY        9.915292e-01\n",
       "FAMINC           4.423284e-02\n",
       "UGDS_MEN         3.595173e-03\n",
       "dtype: float64"
      ]
     },
     "execution_count": 25,
     "metadata": {},
     "output_type": "execute_result"
    }
   ],
   "source": [
    "est2.pvalues"
   ]
  },
  {
   "cell_type": "markdown",
   "metadata": {},
   "source": [
    "#### Remove independant variables with high p-values"
   ]
  },
  {
   "cell_type": "code",
   "execution_count": 26,
   "metadata": {
    "scrolled": true
   },
   "outputs": [],
   "source": [
    "X = data[['ADM_RATE_ALL',\n",
    "       'SAT_AVG_ALL', 'TUITFTE',\n",
    "       'AVGFACSAL', 'PFTFAC', 'PCTPELL', 'COSTT4_A', 'C150_4', 'RET_FT4',\n",
    "       'CDR3', 'GRAD_DEBT_MDN', 'AGE_ENTRY', 'FAMINC', 'UGDS_MEN']]"
   ]
  },
  {
   "cell_type": "code",
   "execution_count": 27,
   "metadata": {
    "scrolled": true
   },
   "outputs": [
    {
     "data": {
      "text/html": [
       "<div>\n",
       "<style scoped>\n",
       "    .dataframe tbody tr th:only-of-type {\n",
       "        vertical-align: middle;\n",
       "    }\n",
       "\n",
       "    .dataframe tbody tr th {\n",
       "        vertical-align: top;\n",
       "    }\n",
       "\n",
       "    .dataframe thead th {\n",
       "        text-align: right;\n",
       "    }\n",
       "</style>\n",
       "<table border=\"1\" class=\"dataframe\">\n",
       "  <thead>\n",
       "    <tr style=\"text-align: right;\">\n",
       "      <th></th>\n",
       "      <th>ADM_RATE_ALL</th>\n",
       "      <th>SAT_AVG_ALL</th>\n",
       "      <th>TUITFTE</th>\n",
       "      <th>AVGFACSAL</th>\n",
       "      <th>PFTFAC</th>\n",
       "      <th>PCTPELL</th>\n",
       "      <th>COSTT4_A</th>\n",
       "      <th>C150_4</th>\n",
       "      <th>RET_FT4</th>\n",
       "      <th>CDR3</th>\n",
       "      <th>GRAD_DEBT_MDN</th>\n",
       "      <th>AGE_ENTRY</th>\n",
       "      <th>FAMINC</th>\n",
       "      <th>UGDS_MEN</th>\n",
       "    </tr>\n",
       "  </thead>\n",
       "  <tbody>\n",
       "    <tr>\n",
       "      <th>0</th>\n",
       "      <td>0.5256</td>\n",
       "      <td>827.0</td>\n",
       "      <td>9427.0</td>\n",
       "      <td>6892.0</td>\n",
       "      <td>0.8967</td>\n",
       "      <td>0.7356</td>\n",
       "      <td>21475.0</td>\n",
       "      <td>0.3525</td>\n",
       "      <td>0.6595</td>\n",
       "      <td>0.172</td>\n",
       "      <td>32750.0</td>\n",
       "      <td>20.525773</td>\n",
       "      <td>30721.91065</td>\n",
       "      <td>0.4831</td>\n",
       "    </tr>\n",
       "    <tr>\n",
       "      <th>1</th>\n",
       "      <td>0.8569</td>\n",
       "      <td>1107.0</td>\n",
       "      <td>9899.0</td>\n",
       "      <td>9957.0</td>\n",
       "      <td>0.9072</td>\n",
       "      <td>0.3460</td>\n",
       "      <td>20621.0</td>\n",
       "      <td>0.5554</td>\n",
       "      <td>0.8288</td>\n",
       "      <td>0.062</td>\n",
       "      <td>20750.0</td>\n",
       "      <td>23.492140</td>\n",
       "      <td>51156.58905</td>\n",
       "      <td>0.4169</td>\n",
       "    </tr>\n",
       "  </tbody>\n",
       "</table>\n",
       "</div>"
      ],
      "text/plain": [
       "   ADM_RATE_ALL  SAT_AVG_ALL  TUITFTE  AVGFACSAL  PFTFAC  PCTPELL  COSTT4_A  \\\n",
       "0        0.5256        827.0   9427.0     6892.0  0.8967   0.7356   21475.0   \n",
       "1        0.8569       1107.0   9899.0     9957.0  0.9072   0.3460   20621.0   \n",
       "\n",
       "   C150_4  RET_FT4   CDR3  GRAD_DEBT_MDN  AGE_ENTRY       FAMINC  UGDS_MEN  \n",
       "0  0.3525   0.6595  0.172        32750.0  20.525773  30721.91065    0.4831  \n",
       "1  0.5554   0.8288  0.062        20750.0  23.492140  51156.58905    0.4169  "
      ]
     },
     "execution_count": 27,
     "metadata": {},
     "output_type": "execute_result"
    }
   ],
   "source": [
    "X.head(2)"
   ]
  },
  {
   "cell_type": "code",
   "execution_count": 28,
   "metadata": {
    "scrolled": true
   },
   "outputs": [
    {
     "name": "stdout",
     "output_type": "stream",
     "text": [
      "(1026, 14) (1026,)\n"
     ]
    }
   ],
   "source": [
    "print(X.shape, y.shape)"
   ]
  },
  {
   "cell_type": "code",
   "execution_count": 29,
   "metadata": {},
   "outputs": [
    {
     "data": {
      "text/plain": [
       "LinearRegression(copy_X=True, fit_intercept=True, n_jobs=None,\n",
       "         normalize=False)"
      ]
     },
     "execution_count": 29,
     "metadata": {},
     "output_type": "execute_result"
    }
   ],
   "source": [
    "# Fit Model\n",
    "model.fit(X, y)"
   ]
  },
  {
   "cell_type": "code",
   "execution_count": 30,
   "metadata": {},
   "outputs": [
    {
     "name": "stdout",
     "output_type": "stream",
     "text": [
      "[-7.23300982e+03  2.37644966e+01  2.88657331e-01  2.93307984e+00\n",
      " -1.04370852e+03 -4.60137517e+02  1.19324674e-01 -7.71223638e+03\n",
      "  3.75790291e+03 -3.24883240e+04 -2.19678173e-01  5.86673890e+02\n",
      "  5.65975306e-02  1.70277942e+04]\n",
      "-14667.012018373032\n"
     ]
    }
   ],
   "source": [
    "print(model.coef_)\n",
    "print(model.intercept_)"
   ]
  },
  {
   "cell_type": "code",
   "execution_count": 31,
   "metadata": {},
   "outputs": [
    {
     "name": "stderr",
     "output_type": "stream",
     "text": [
      "C:\\Users\\Chart\\AppData\\Local\\Continuum\\anaconda3\\lib\\site-packages\\numpy\\core\\fromnumeric.py:2389: FutureWarning: Method .ptp is deprecated and will be removed in a future version. Use numpy.ptp instead.\n",
      "  return ptp(axis=axis, out=out, **kwargs)\n"
     ]
    },
    {
     "data": {
      "text/html": [
       "<table class=\"simpletable\">\n",
       "<caption>OLS Regression Results</caption>\n",
       "<tr>\n",
       "  <th>Dep. Variable:</th>     <td>MN_EARN_WNE_P10</td> <th>  R-squared:         </th> <td>   0.773</td> \n",
       "</tr>\n",
       "<tr>\n",
       "  <th>Model:</th>                   <td>OLS</td>       <th>  Adj. R-squared:    </th> <td>   0.770</td> \n",
       "</tr>\n",
       "<tr>\n",
       "  <th>Method:</th>             <td>Least Squares</td>  <th>  F-statistic:       </th> <td>   246.1</td> \n",
       "</tr>\n",
       "<tr>\n",
       "  <th>Date:</th>             <td>Sun, 28 Jul 2019</td> <th>  Prob (F-statistic):</th> <td>1.21e-313</td>\n",
       "</tr>\n",
       "<tr>\n",
       "  <th>Time:</th>                 <td>14:44:56</td>     <th>  Log-Likelihood:    </th> <td> -10507.</td> \n",
       "</tr>\n",
       "<tr>\n",
       "  <th>No. Observations:</th>      <td>  1026</td>      <th>  AIC:               </th> <td>2.104e+04</td>\n",
       "</tr>\n",
       "<tr>\n",
       "  <th>Df Residuals:</th>          <td>  1011</td>      <th>  BIC:               </th> <td>2.112e+04</td>\n",
       "</tr>\n",
       "<tr>\n",
       "  <th>Df Model:</th>              <td>    14</td>      <th>                     </th>     <td> </td>    \n",
       "</tr>\n",
       "<tr>\n",
       "  <th>Covariance Type:</th>      <td>nonrobust</td>    <th>                     </th>     <td> </td>    \n",
       "</tr>\n",
       "</table>\n",
       "<table class=\"simpletable\">\n",
       "<tr>\n",
       "        <td></td>           <th>coef</th>     <th>std err</th>      <th>t</th>      <th>P>|t|</th>  <th>[0.025</th>    <th>0.975]</th>  \n",
       "</tr>\n",
       "<tr>\n",
       "  <th>const</th>         <td>-1.467e+04</td> <td> 6616.396</td> <td>   -2.217</td> <td> 0.027</td> <td>-2.77e+04</td> <td>-1683.572</td>\n",
       "</tr>\n",
       "<tr>\n",
       "  <th>ADM_RATE_ALL</th>  <td>-7233.0098</td> <td> 1414.908</td> <td>   -5.112</td> <td> 0.000</td> <td>   -1e+04</td> <td>-4456.518</td>\n",
       "</tr>\n",
       "<tr>\n",
       "  <th>SAT_AVG_ALL</th>   <td>   23.7645</td> <td>    3.627</td> <td>    6.552</td> <td> 0.000</td> <td>   16.647</td> <td>   30.882</td>\n",
       "</tr>\n",
       "<tr>\n",
       "  <th>TUITFTE</th>       <td>    0.2887</td> <td>    0.074</td> <td>    3.898</td> <td> 0.000</td> <td>    0.143</td> <td>    0.434</td>\n",
       "</tr>\n",
       "<tr>\n",
       "  <th>AVGFACSAL</th>     <td>    2.9331</td> <td>    0.154</td> <td>   19.045</td> <td> 0.000</td> <td>    2.631</td> <td>    3.235</td>\n",
       "</tr>\n",
       "<tr>\n",
       "  <th>PFTFAC</th>        <td>-1043.7085</td> <td>  985.246</td> <td>   -1.059</td> <td> 0.290</td> <td>-2977.070</td> <td>  889.653</td>\n",
       "</tr>\n",
       "<tr>\n",
       "  <th>PCTPELL</th>       <td> -460.1375</td> <td> 3260.258</td> <td>   -0.141</td> <td> 0.888</td> <td>-6857.785</td> <td> 5937.509</td>\n",
       "</tr>\n",
       "<tr>\n",
       "  <th>COSTT4_A</th>      <td>    0.1193</td> <td>    0.036</td> <td>    3.288</td> <td> 0.001</td> <td>    0.048</td> <td>    0.191</td>\n",
       "</tr>\n",
       "<tr>\n",
       "  <th>C150_4</th>        <td>-7712.2364</td> <td> 2994.942</td> <td>   -2.575</td> <td> 0.010</td> <td>-1.36e+04</td> <td>-1835.221</td>\n",
       "</tr>\n",
       "<tr>\n",
       "  <th>RET_FT4</th>       <td> 3757.9029</td> <td> 3728.069</td> <td>    1.008</td> <td> 0.314</td> <td>-3557.736</td> <td> 1.11e+04</td>\n",
       "</tr>\n",
       "<tr>\n",
       "  <th>CDR3</th>          <td>-3.249e+04</td> <td> 8541.962</td> <td>   -3.803</td> <td> 0.000</td> <td>-4.93e+04</td> <td>-1.57e+04</td>\n",
       "</tr>\n",
       "<tr>\n",
       "  <th>GRAD_DEBT_MDN</th> <td>   -0.2197</td> <td>    0.067</td> <td>   -3.255</td> <td> 0.001</td> <td>   -0.352</td> <td>   -0.087</td>\n",
       "</tr>\n",
       "<tr>\n",
       "  <th>AGE_ENTRY</th>     <td>  586.6739</td> <td>  123.849</td> <td>    4.737</td> <td> 0.000</td> <td>  343.643</td> <td>  829.705</td>\n",
       "</tr>\n",
       "<tr>\n",
       "  <th>FAMINC</th>        <td>    0.0566</td> <td>    0.026</td> <td>    2.208</td> <td> 0.027</td> <td>    0.006</td> <td>    0.107</td>\n",
       "</tr>\n",
       "<tr>\n",
       "  <th>UGDS_MEN</th>      <td> 1.703e+04</td> <td> 2219.353</td> <td>    7.672</td> <td> 0.000</td> <td> 1.27e+04</td> <td> 2.14e+04</td>\n",
       "</tr>\n",
       "</table>\n",
       "<table class=\"simpletable\">\n",
       "<tr>\n",
       "  <th>Omnibus:</th>       <td>360.428</td> <th>  Durbin-Watson:     </th> <td>   1.899</td>\n",
       "</tr>\n",
       "<tr>\n",
       "  <th>Prob(Omnibus):</th> <td> 0.000</td>  <th>  Jarque-Bera (JB):  </th> <td>3632.242</td>\n",
       "</tr>\n",
       "<tr>\n",
       "  <th>Skew:</th>          <td> 1.313</td>  <th>  Prob(JB):          </th> <td>    0.00</td>\n",
       "</tr>\n",
       "<tr>\n",
       "  <th>Kurtosis:</th>      <td>11.836</td>  <th>  Cond. No.          </th> <td>3.43e+06</td>\n",
       "</tr>\n",
       "</table><br/><br/>Warnings:<br/>[1] Standard Errors assume that the covariance matrix of the errors is correctly specified.<br/>[2] The condition number is large, 3.43e+06. This might indicate that there are<br/>strong multicollinearity or other numerical problems."
      ],
      "text/plain": [
       "<class 'statsmodels.iolib.summary.Summary'>\n",
       "\"\"\"\n",
       "                            OLS Regression Results                            \n",
       "==============================================================================\n",
       "Dep. Variable:        MN_EARN_WNE_P10   R-squared:                       0.773\n",
       "Model:                            OLS   Adj. R-squared:                  0.770\n",
       "Method:                 Least Squares   F-statistic:                     246.1\n",
       "Date:                Sun, 28 Jul 2019   Prob (F-statistic):          1.21e-313\n",
       "Time:                        14:44:56   Log-Likelihood:                -10507.\n",
       "No. Observations:                1026   AIC:                         2.104e+04\n",
       "Df Residuals:                    1011   BIC:                         2.112e+04\n",
       "Df Model:                          14                                         \n",
       "Covariance Type:            nonrobust                                         \n",
       "=================================================================================\n",
       "                    coef    std err          t      P>|t|      [0.025      0.975]\n",
       "---------------------------------------------------------------------------------\n",
       "const         -1.467e+04   6616.396     -2.217      0.027   -2.77e+04   -1683.572\n",
       "ADM_RATE_ALL  -7233.0098   1414.908     -5.112      0.000      -1e+04   -4456.518\n",
       "SAT_AVG_ALL      23.7645      3.627      6.552      0.000      16.647      30.882\n",
       "TUITFTE           0.2887      0.074      3.898      0.000       0.143       0.434\n",
       "AVGFACSAL         2.9331      0.154     19.045      0.000       2.631       3.235\n",
       "PFTFAC        -1043.7085    985.246     -1.059      0.290   -2977.070     889.653\n",
       "PCTPELL        -460.1375   3260.258     -0.141      0.888   -6857.785    5937.509\n",
       "COSTT4_A          0.1193      0.036      3.288      0.001       0.048       0.191\n",
       "C150_4        -7712.2364   2994.942     -2.575      0.010   -1.36e+04   -1835.221\n",
       "RET_FT4        3757.9029   3728.069      1.008      0.314   -3557.736    1.11e+04\n",
       "CDR3          -3.249e+04   8541.962     -3.803      0.000   -4.93e+04   -1.57e+04\n",
       "GRAD_DEBT_MDN    -0.2197      0.067     -3.255      0.001      -0.352      -0.087\n",
       "AGE_ENTRY       586.6739    123.849      4.737      0.000     343.643     829.705\n",
       "FAMINC            0.0566      0.026      2.208      0.027       0.006       0.107\n",
       "UGDS_MEN       1.703e+04   2219.353      7.672      0.000    1.27e+04    2.14e+04\n",
       "==============================================================================\n",
       "Omnibus:                      360.428   Durbin-Watson:                   1.899\n",
       "Prob(Omnibus):                  0.000   Jarque-Bera (JB):             3632.242\n",
       "Skew:                           1.313   Prob(JB):                         0.00\n",
       "Kurtosis:                      11.836   Cond. No.                     3.43e+06\n",
       "==============================================================================\n",
       "\n",
       "Warnings:\n",
       "[1] Standard Errors assume that the covariance matrix of the errors is correctly specified.\n",
       "[2] The condition number is large, 3.43e+06. This might indicate that there are\n",
       "strong multicollinearity or other numerical problems.\n",
       "\"\"\""
      ]
     },
     "execution_count": 31,
     "metadata": {},
     "output_type": "execute_result"
    }
   ],
   "source": [
    "X2 = sm.add_constant(X)\n",
    "est = sm.OLS(y, X2)\n",
    "est2 = est.fit()\n",
    "est2.summary()"
   ]
  },
  {
   "cell_type": "code",
   "execution_count": 32,
   "metadata": {},
   "outputs": [
    {
     "data": {
      "text/plain": [
       "const            2.686086e-02\n",
       "ADM_RATE_ALL     3.810906e-07\n",
       "SAT_AVG_ALL      9.053229e-11\n",
       "TUITFTE          1.033594e-04\n",
       "AVGFACSAL        2.414156e-69\n",
       "PFTFAC           2.896989e-01\n",
       "PCTPELL          8.877912e-01\n",
       "COSTT4_A         1.043613e-03\n",
       "C150_4           1.016270e-02\n",
       "RET_FT4          3.136944e-01\n",
       "CDR3             1.512896e-04\n",
       "GRAD_DEBT_MDN    1.171687e-03\n",
       "AGE_ENTRY        2.478829e-06\n",
       "FAMINC           2.749891e-02\n",
       "UGDS_MEN         3.961241e-14\n",
       "dtype: float64"
      ]
     },
     "execution_count": 32,
     "metadata": {},
     "output_type": "execute_result"
    }
   ],
   "source": [
    "est2.pvalues"
   ]
  },
  {
   "cell_type": "markdown",
   "metadata": {},
   "source": [
    "### Check Linearity for whole model"
   ]
  },
  {
   "cell_type": "code",
   "execution_count": 33,
   "metadata": {},
   "outputs": [
    {
     "data": {
      "text/plain": [
       "<matplotlib.collections.PathCollection at 0x227ee399b38>"
      ]
     },
     "execution_count": 33,
     "metadata": {},
     "output_type": "execute_result"
    },
    {
     "data": {
      "image/png": "[encoded data removed]",
      "text/plain": [
       "<Figure size 432x288 with 1 Axes>"
      ]
     },
     "metadata": {
      "needs_background": "light"
     },
     "output_type": "display_data"
    }
   ],
   "source": [
    "plt.scatter(model.predict(X),y)"
   ]
  },
  {
   "cell_type": "markdown",
   "metadata": {},
   "source": [
    "#### linearity is evident"
   ]
  },
  {
   "cell_type": "markdown",
   "metadata": {},
   "source": [
    "### Check for normality (residuals are normally distributed)"
   ]
  },
  {
   "cell_type": "code",
   "execution_count": 34,
   "metadata": {},
   "outputs": [
    {
     "data": {
      "text/plain": [
       "0.9099473872210989"
      ]
     },
     "execution_count": 34,
     "metadata": {},
     "output_type": "execute_result"
    },
    {
     "data": {
      "image/png": "[encoded data removed]",
      "text/plain": [
       "<Figure size 432x180 with 1 Axes>"
      ]
     },
     "metadata": {
      "needs_background": "light"
     },
     "output_type": "display_data"
    }
   ],
   "source": [
    "# stats.probplot(est2.resid, plot= plt)\n",
    "# plt.title(\"Model1 Residuals Probability Plot\")\n",
    "fig, ax = plt.subplots(figsize=(6,2.5))\n",
    "_, (__, ___, r) = stats.probplot(est2.resid, plot=ax, fit=True)\n",
    "r**2"
   ]
  },
  {
   "cell_type": "markdown",
   "metadata": {},
   "source": [
    "#### Model's residuals largely follow a normal distribrution but only for 75% of the plot so lets make some checks;"
   ]
  },
  {
   "cell_type": "markdown",
   "metadata": {},
   "source": [
    "#### The Kolmogorov-Smirnov test is close to significant (not what we want);"
   ]
  },
  {
   "cell_type": "code",
   "execution_count": 35,
   "metadata": {},
   "outputs": [
    {
     "data": {
      "text/plain": [
       "KstestResult(statistic=0.5224171539961013, pvalue=3.575135485758363e-261)"
      ]
     },
     "execution_count": 35,
     "metadata": {},
     "output_type": "execute_result"
    }
   ],
   "source": [
    "stats.kstest(est2.resid, 'norm')"
   ]
  },
  {
   "cell_type": "markdown",
   "metadata": {},
   "source": [
    "#### But the good R2 fit indicates that normality is a reasonable approximation - lets repeat the normality test after checking for multicollinearity, autocorrelation, homoscedasticity and variable tarnsformation (if required)"
   ]
  },
  {
   "cell_type": "markdown",
   "metadata": {},
   "source": [
    "### Check multicolinearity;"
   ]
  },
  {
   "cell_type": "code",
   "execution_count": 36,
   "metadata": {
    "scrolled": true
   },
   "outputs": [],
   "source": [
    "from statsmodels.stats.outliers_influence import variance_inflation_factor"
   ]
  },
  {
   "cell_type": "code",
   "execution_count": 37,
   "metadata": {
    "scrolled": true
   },
   "outputs": [
    {
     "data": {
      "text/plain": [
       "array([35500., 48400., 52000., ..., 49000., 57200., 46200.])"
      ]
     },
     "execution_count": 37,
     "metadata": {},
     "output_type": "execute_result"
    }
   ],
   "source": [
    "# check the dependant variable y\n",
    "variables_endogenous = est2.model.endog\n",
    "variables_endogenous"
   ]
  },
  {
   "cell_type": "code",
   "execution_count": 38,
   "metadata": {
    "scrolled": true
   },
   "outputs": [
    {
     "data": {
      "text/plain": [
       "array([[1.00000000e+00, 5.25600000e-01, 8.27000000e+02, ...,\n",
       "        2.05257732e+01, 3.07219107e+04, 4.83100000e-01],\n",
       "       [1.00000000e+00, 8.56900000e-01, 1.10700000e+03, ...,\n",
       "        2.34921398e+01, 5.11565891e+04, 4.16900000e-01],\n",
       "       [1.00000000e+00, 8.20300000e-01, 1.21900000e+03, ...,\n",
       "        2.37187230e+01, 5.48539021e+04, 5.73300000e-01],\n",
       "       ...,\n",
       "       [1.00000000e+00, 5.96379127e-01, 9.23000000e+02, ...,\n",
       "        2.73518518e+01, 5.26912485e+04, 4.01700000e-01],\n",
       "       [1.00000000e+00, 6.26517667e-01, 1.08900000e+03, ...,\n",
       "        2.17662941e+01, 8.04627232e+04, 4.66900000e-01],\n",
       "       [1.00000000e+00, 6.94800000e-01, 1.01600000e+03, ...,\n",
       "        2.27544179e+01, 5.66485426e+04, 4.50200000e-01]])"
      ]
     },
     "execution_count": 38,
     "metadata": {},
     "output_type": "execute_result"
    }
   ],
   "source": [
    "variables_exogenous = est2.model.exog\n",
    "variables_exogenous"
   ]
  },
  {
   "cell_type": "code",
   "execution_count": 39,
   "metadata": {
    "scrolled": true
   },
   "outputs": [
    {
     "data": {
      "text/plain": [
       "[963.1809043291555,\n",
       " 1.5219305764398305,\n",
       " 4.802696875241754,\n",
       " 5.342892026502119,\n",
       " 2.474247618790815,\n",
       " 1.126487203806874,\n",
       " 4.465629342070656,\n",
       " 5.103761835363032,\n",
       " 5.765179756485603,\n",
       " 3.7148514510833106,\n",
       " 2.8809359860726875,\n",
       " 1.91184763920021,\n",
       " 1.856363245661731,\n",
       " 6.353126851386051,\n",
       " 1.2435368148039163]"
      ]
     },
     "execution_count": 39,
     "metadata": {},
     "output_type": "execute_result"
    }
   ],
   "source": [
    "vif = [variance_inflation_factor(variables_exogenous, i) for i in range(variables_exogenous.shape[1])]\n",
    "vif "
   ]
  },
  {
   "cell_type": "markdown",
   "metadata": {},
   "source": [
    "#### the vif results are corroborated by a cross correlation matrix;"
   ]
  },
  {
   "cell_type": "code",
   "execution_count": 40,
   "metadata": {
    "scrolled": true
   },
   "outputs": [],
   "source": [
    "# X.corr()"
   ]
  },
  {
   "cell_type": "code",
   "execution_count": 41,
   "metadata": {
    "scrolled": true
   },
   "outputs": [
    {
     "data": {
      "text/plain": [
       "Index(['ADM_RATE_ALL', 'SAT_AVG_ALL', 'TUITFTE', 'AVGFACSAL', 'PFTFAC',\n",
       "       'PCTPELL', 'COSTT4_A', 'C150_4', 'RET_FT4', 'CDR3', 'GRAD_DEBT_MDN',\n",
       "       'AGE_ENTRY', 'FAMINC', 'UGDS_MEN'],\n",
       "      dtype='object')"
      ]
     },
     "execution_count": 41,
     "metadata": {},
     "output_type": "execute_result"
    }
   ],
   "source": [
    "X.columns"
   ]
  },
  {
   "cell_type": "markdown",
   "metadata": {},
   "source": [
    "#### Ignoring the 1st VIF term (intercept), initially remove independant variables with VIF > 4"
   ]
  },
  {
   "cell_type": "code",
   "execution_count": 42,
   "metadata": {
    "scrolled": true
   },
   "outputs": [],
   "source": [
    "X = data[['ADM_RATE_ALL', 'AVGFACSAL', 'PFTFAC','RET_FT4', 'CDR3', 'GRAD_DEBT_MDN',\n",
    "       'AGE_ENTRY', 'UGDS_MEN']]"
   ]
  },
  {
   "cell_type": "code",
   "execution_count": 43,
   "metadata": {
    "scrolled": true
   },
   "outputs": [
    {
     "data": {
      "text/html": [
       "<div>\n",
       "<style scoped>\n",
       "    .dataframe tbody tr th:only-of-type {\n",
       "        vertical-align: middle;\n",
       "    }\n",
       "\n",
       "    .dataframe tbody tr th {\n",
       "        vertical-align: top;\n",
       "    }\n",
       "\n",
       "    .dataframe thead th {\n",
       "        text-align: right;\n",
       "    }\n",
       "</style>\n",
       "<table border=\"1\" class=\"dataframe\">\n",
       "  <thead>\n",
       "    <tr style=\"text-align: right;\">\n",
       "      <th></th>\n",
       "      <th>ADM_RATE_ALL</th>\n",
       "      <th>AVGFACSAL</th>\n",
       "      <th>PFTFAC</th>\n",
       "      <th>RET_FT4</th>\n",
       "      <th>CDR3</th>\n",
       "      <th>GRAD_DEBT_MDN</th>\n",
       "      <th>AGE_ENTRY</th>\n",
       "      <th>UGDS_MEN</th>\n",
       "    </tr>\n",
       "  </thead>\n",
       "  <tbody>\n",
       "    <tr>\n",
       "      <th>0</th>\n",
       "      <td>0.5256</td>\n",
       "      <td>6892.0</td>\n",
       "      <td>0.8967</td>\n",
       "      <td>0.6595</td>\n",
       "      <td>0.172</td>\n",
       "      <td>32750.0</td>\n",
       "      <td>20.525773</td>\n",
       "      <td>0.4831</td>\n",
       "    </tr>\n",
       "    <tr>\n",
       "      <th>1</th>\n",
       "      <td>0.8569</td>\n",
       "      <td>9957.0</td>\n",
       "      <td>0.9072</td>\n",
       "      <td>0.8288</td>\n",
       "      <td>0.062</td>\n",
       "      <td>20750.0</td>\n",
       "      <td>23.492140</td>\n",
       "      <td>0.4169</td>\n",
       "    </tr>\n",
       "  </tbody>\n",
       "</table>\n",
       "</div>"
      ],
      "text/plain": [
       "   ADM_RATE_ALL  AVGFACSAL  PFTFAC  RET_FT4   CDR3  GRAD_DEBT_MDN  AGE_ENTRY  \\\n",
       "0        0.5256     6892.0  0.8967   0.6595  0.172        32750.0  20.525773   \n",
       "1        0.8569     9957.0  0.9072   0.8288  0.062        20750.0  23.492140   \n",
       "\n",
       "   UGDS_MEN  \n",
       "0    0.4831  \n",
       "1    0.4169  "
      ]
     },
     "execution_count": 43,
     "metadata": {},
     "output_type": "execute_result"
    }
   ],
   "source": [
    "X.head(2)"
   ]
  },
  {
   "cell_type": "code",
   "execution_count": 44,
   "metadata": {},
   "outputs": [
    {
     "name": "stdout",
     "output_type": "stream",
     "text": [
      "(1026, 8) (1026,)\n"
     ]
    }
   ],
   "source": [
    "print(X.shape, y.shape)"
   ]
  },
  {
   "cell_type": "code",
   "execution_count": 45,
   "metadata": {},
   "outputs": [
    {
     "data": {
      "text/plain": [
       "LinearRegression(copy_X=True, fit_intercept=True, n_jobs=None,\n",
       "         normalize=False)"
      ]
     },
     "execution_count": 45,
     "metadata": {},
     "output_type": "execute_result"
    }
   ],
   "source": [
    "# Fit Model\n",
    "model.fit(X, y)"
   ]
  },
  {
   "cell_type": "code",
   "execution_count": 46,
   "metadata": {},
   "outputs": [
    {
     "name": "stdout",
     "output_type": "stream",
     "text": [
      "[-1.28581882e+04  3.54968220e+00 -4.11190825e+02  1.04850666e+04\n",
      " -9.03544134e+04  6.82460185e-02  4.30754737e+02  1.84023937e+04]\n",
      "10505.50325432494\n"
     ]
    }
   ],
   "source": [
    "print(model.coef_)\n",
    "print(model.intercept_)"
   ]
  },
  {
   "cell_type": "code",
   "execution_count": 47,
   "metadata": {
    "scrolled": false
   },
   "outputs": [
    {
     "name": "stderr",
     "output_type": "stream",
     "text": [
      "C:\\Users\\Chart\\AppData\\Local\\Continuum\\anaconda3\\lib\\site-packages\\numpy\\core\\fromnumeric.py:2389: FutureWarning: Method .ptp is deprecated and will be removed in a future version. Use numpy.ptp instead.\n",
      "  return ptp(axis=axis, out=out, **kwargs)\n"
     ]
    },
    {
     "data": {
      "text/html": [
       "<table class=\"simpletable\">\n",
       "<caption>OLS Regression Results</caption>\n",
       "<tr>\n",
       "  <th>Dep. Variable:</th>     <td>MN_EARN_WNE_P10</td> <th>  R-squared:         </th> <td>   0.710</td> \n",
       "</tr>\n",
       "<tr>\n",
       "  <th>Model:</th>                   <td>OLS</td>       <th>  Adj. R-squared:    </th> <td>   0.708</td> \n",
       "</tr>\n",
       "<tr>\n",
       "  <th>Method:</th>             <td>Least Squares</td>  <th>  F-statistic:       </th> <td>   311.1</td> \n",
       "</tr>\n",
       "<tr>\n",
       "  <th>Date:</th>             <td>Sun, 28 Jul 2019</td> <th>  Prob (F-statistic):</th> <td>3.99e-267</td>\n",
       "</tr>\n",
       "<tr>\n",
       "  <th>Time:</th>                 <td>14:44:57</td>     <th>  Log-Likelihood:    </th> <td> -10633.</td> \n",
       "</tr>\n",
       "<tr>\n",
       "  <th>No. Observations:</th>      <td>  1026</td>      <th>  AIC:               </th> <td>2.128e+04</td>\n",
       "</tr>\n",
       "<tr>\n",
       "  <th>Df Residuals:</th>          <td>  1017</td>      <th>  BIC:               </th> <td>2.133e+04</td>\n",
       "</tr>\n",
       "<tr>\n",
       "  <th>Df Model:</th>              <td>     8</td>      <th>                     </th>     <td> </td>    \n",
       "</tr>\n",
       "<tr>\n",
       "  <th>Covariance Type:</th>      <td>nonrobust</td>    <th>                     </th>     <td> </td>    \n",
       "</tr>\n",
       "</table>\n",
       "<table class=\"simpletable\">\n",
       "<tr>\n",
       "        <td></td>           <th>coef</th>     <th>std err</th>      <th>t</th>      <th>P>|t|</th>  <th>[0.025</th>    <th>0.975]</th>  \n",
       "</tr>\n",
       "<tr>\n",
       "  <th>const</th>         <td> 1.051e+04</td> <td> 5354.712</td> <td>    1.962</td> <td> 0.050</td> <td>   -2.044</td> <td>  2.1e+04</td>\n",
       "</tr>\n",
       "<tr>\n",
       "  <th>ADM_RATE_ALL</th>  <td>-1.286e+04</td> <td> 1410.607</td> <td>   -9.115</td> <td> 0.000</td> <td>-1.56e+04</td> <td>-1.01e+04</td>\n",
       "</tr>\n",
       "<tr>\n",
       "  <th>AVGFACSAL</th>     <td>    3.5497</td> <td>    0.160</td> <td>   22.159</td> <td> 0.000</td> <td>    3.235</td> <td>    3.864</td>\n",
       "</tr>\n",
       "<tr>\n",
       "  <th>PFTFAC</th>        <td> -411.1908</td> <td> 1081.818</td> <td>   -0.380</td> <td> 0.704</td> <td>-2534.041</td> <td> 1711.659</td>\n",
       "</tr>\n",
       "<tr>\n",
       "  <th>RET_FT4</th>       <td> 1.049e+04</td> <td> 3418.174</td> <td>    3.067</td> <td> 0.002</td> <td> 3777.587</td> <td> 1.72e+04</td>\n",
       "</tr>\n",
       "<tr>\n",
       "  <th>CDR3</th>          <td>-9.035e+04</td> <td> 7763.509</td> <td>  -11.638</td> <td> 0.000</td> <td>-1.06e+05</td> <td>-7.51e+04</td>\n",
       "</tr>\n",
       "<tr>\n",
       "  <th>GRAD_DEBT_MDN</th> <td>    0.0682</td> <td>    0.060</td> <td>    1.132</td> <td> 0.258</td> <td>   -0.050</td> <td>    0.187</td>\n",
       "</tr>\n",
       "<tr>\n",
       "  <th>AGE_ENTRY</th>     <td>  430.7547</td> <td>  120.450</td> <td>    3.576</td> <td> 0.000</td> <td>  194.396</td> <td>  667.114</td>\n",
       "</tr>\n",
       "<tr>\n",
       "  <th>UGDS_MEN</th>      <td>  1.84e+04</td> <td> 2396.736</td> <td>    7.678</td> <td> 0.000</td> <td> 1.37e+04</td> <td> 2.31e+04</td>\n",
       "</tr>\n",
       "</table>\n",
       "<table class=\"simpletable\">\n",
       "<tr>\n",
       "  <th>Omnibus:</th>       <td>387.082</td> <th>  Durbin-Watson:     </th> <td>   1.870</td>\n",
       "</tr>\n",
       "<tr>\n",
       "  <th>Prob(Omnibus):</th> <td> 0.000</td>  <th>  Jarque-Bera (JB):  </th> <td>2901.369</td>\n",
       "</tr>\n",
       "<tr>\n",
       "  <th>Skew:</th>          <td> 1.535</td>  <th>  Prob(JB):          </th> <td>    0.00</td>\n",
       "</tr>\n",
       "<tr>\n",
       "  <th>Kurtosis:</th>      <td>10.645</td>  <th>  Cond. No.          </th> <td>8.67e+05</td>\n",
       "</tr>\n",
       "</table><br/><br/>Warnings:<br/>[1] Standard Errors assume that the covariance matrix of the errors is correctly specified.<br/>[2] The condition number is large, 8.67e+05. This might indicate that there are<br/>strong multicollinearity or other numerical problems."
      ],
      "text/plain": [
       "<class 'statsmodels.iolib.summary.Summary'>\n",
       "\"\"\"\n",
       "                            OLS Regression Results                            \n",
       "==============================================================================\n",
       "Dep. Variable:        MN_EARN_WNE_P10   R-squared:                       0.710\n",
       "Model:                            OLS   Adj. R-squared:                  0.708\n",
       "Method:                 Least Squares   F-statistic:                     311.1\n",
       "Date:                Sun, 28 Jul 2019   Prob (F-statistic):          3.99e-267\n",
       "Time:                        14:44:57   Log-Likelihood:                -10633.\n",
       "No. Observations:                1026   AIC:                         2.128e+04\n",
       "Df Residuals:                    1017   BIC:                         2.133e+04\n",
       "Df Model:                           8                                         \n",
       "Covariance Type:            nonrobust                                         \n",
       "=================================================================================\n",
       "                    coef    std err          t      P>|t|      [0.025      0.975]\n",
       "---------------------------------------------------------------------------------\n",
       "const          1.051e+04   5354.712      1.962      0.050      -2.044     2.1e+04\n",
       "ADM_RATE_ALL  -1.286e+04   1410.607     -9.115      0.000   -1.56e+04   -1.01e+04\n",
       "AVGFACSAL         3.5497      0.160     22.159      0.000       3.235       3.864\n",
       "PFTFAC         -411.1908   1081.818     -0.380      0.704   -2534.041    1711.659\n",
       "RET_FT4        1.049e+04   3418.174      3.067      0.002    3777.587    1.72e+04\n",
       "CDR3          -9.035e+04   7763.509    -11.638      0.000   -1.06e+05   -7.51e+04\n",
       "GRAD_DEBT_MDN     0.0682      0.060      1.132      0.258      -0.050       0.187\n",
       "AGE_ENTRY       430.7547    120.450      3.576      0.000     194.396     667.114\n",
       "UGDS_MEN        1.84e+04   2396.736      7.678      0.000    1.37e+04    2.31e+04\n",
       "==============================================================================\n",
       "Omnibus:                      387.082   Durbin-Watson:                   1.870\n",
       "Prob(Omnibus):                  0.000   Jarque-Bera (JB):             2901.369\n",
       "Skew:                           1.535   Prob(JB):                         0.00\n",
       "Kurtosis:                      10.645   Cond. No.                     8.67e+05\n",
       "==============================================================================\n",
       "\n",
       "Warnings:\n",
       "[1] Standard Errors assume that the covariance matrix of the errors is correctly specified.\n",
       "[2] The condition number is large, 8.67e+05. This might indicate that there are\n",
       "strong multicollinearity or other numerical problems.\n",
       "\"\"\""
      ]
     },
     "execution_count": 47,
     "metadata": {},
     "output_type": "execute_result"
    }
   ],
   "source": [
    "X2 = sm.add_constant(X)\n",
    "est = sm.OLS(y, X2)\n",
    "est2 = est.fit()\n",
    "est2.summary()"
   ]
  },
  {
   "cell_type": "code",
   "execution_count": 48,
   "metadata": {},
   "outputs": [
    {
     "data": {
      "text/plain": [
       "const            5.004450e-02\n",
       "ADM_RATE_ALL     4.078902e-19\n",
       "AVGFACSAL        4.414957e-89\n",
       "PFTFAC           7.039561e-01\n",
       "RET_FT4          2.216062e-03\n",
       "CDR3             1.768491e-29\n",
       "GRAD_DEBT_MDN    2.579564e-01\n",
       "AGE_ENTRY        3.650133e-04\n",
       "UGDS_MEN         3.779998e-14\n",
       "dtype: float64"
      ]
     },
     "execution_count": 48,
     "metadata": {},
     "output_type": "execute_result"
    }
   ],
   "source": [
    "est2.pvalues"
   ]
  },
  {
   "cell_type": "code",
   "execution_count": 49,
   "metadata": {},
   "outputs": [
    {
     "data": {
      "text/plain": [
       "<matplotlib.collections.PathCollection at 0x227ee4d8518>"
      ]
     },
     "execution_count": 49,
     "metadata": {},
     "output_type": "execute_result"
    },
    {
     "data": {
      "image/png": "[encoded data removed]",
      "text/plain": [
       "<Figure size 432x288 with 1 Axes>"
      ]
     },
     "metadata": {
      "needs_background": "light"
     },
     "output_type": "display_data"
    }
   ],
   "source": [
    "plt.scatter(model.predict(X),y)"
   ]
  },
  {
   "cell_type": "code",
   "execution_count": 50,
   "metadata": {},
   "outputs": [
    {
     "data": {
      "text/plain": [
       "array([[1.00000000e+00, 5.25600000e-01, 6.89200000e+03, ...,\n",
       "        3.27500000e+04, 2.05257732e+01, 4.83100000e-01],\n",
       "       [1.00000000e+00, 8.56900000e-01, 9.95700000e+03, ...,\n",
       "        2.07500000e+04, 2.34921398e+01, 4.16900000e-01],\n",
       "       [1.00000000e+00, 8.20300000e-01, 9.30200000e+03, ...,\n",
       "        2.32500000e+04, 2.37187230e+01, 5.73300000e-01],\n",
       "       ...,\n",
       "       [1.00000000e+00, 5.96379127e-01, 5.37400000e+03, ...,\n",
       "        2.50000000e+04, 2.73518518e+01, 4.01700000e-01],\n",
       "       [1.00000000e+00, 6.26517667e-01, 4.41500000e+03, ...,\n",
       "        2.69330000e+04, 2.17662941e+01, 4.66900000e-01],\n",
       "       [1.00000000e+00, 6.94800000e-01, 5.56600000e+03, ...,\n",
       "        1.48750000e+04, 2.27544179e+01, 4.50200000e-01]])"
      ]
     },
     "execution_count": 50,
     "metadata": {},
     "output_type": "execute_result"
    }
   ],
   "source": [
    "variables_exogenous = est2.model.exog\n",
    "variables_exogenous"
   ]
  },
  {
   "cell_type": "code",
   "execution_count": 51,
   "metadata": {},
   "outputs": [
    {
     "data": {
      "text/plain": [
       "[496.35433761561717,\n",
       " 1.1901595707418284,\n",
       " 2.106203356421876,\n",
       " 1.068561636057157,\n",
       " 2.457063934430026,\n",
       " 1.872358787640253,\n",
       " 1.2005753299952973,\n",
       " 1.3814809150763891,\n",
       " 1.1410399290749427]"
      ]
     },
     "execution_count": 51,
     "metadata": {},
     "output_type": "execute_result"
    }
   ],
   "source": [
    "vif = [variance_inflation_factor(variables_exogenous, i) for i in range(variables_exogenous.shape[1])]\n",
    "vif "
   ]
  },
  {
   "cell_type": "markdown",
   "metadata": {},
   "source": [
    "#### multicolinearity seems fine as below but p-values for 'PFTFAC ' & 'GRAD_DEBT_MDN' are now too high;"
   ]
  },
  {
   "cell_type": "code",
   "execution_count": 52,
   "metadata": {
    "scrolled": true
   },
   "outputs": [],
   "source": [
    "X = data[['ADM_RATE_ALL', 'AVGFACSAL','RET_FT4', 'CDR3',\n",
    "       'AGE_ENTRY', 'UGDS_MEN']]"
   ]
  },
  {
   "cell_type": "code",
   "execution_count": 53,
   "metadata": {
    "scrolled": true
   },
   "outputs": [
    {
     "data": {
      "text/html": [
       "<div>\n",
       "<style scoped>\n",
       "    .dataframe tbody tr th:only-of-type {\n",
       "        vertical-align: middle;\n",
       "    }\n",
       "\n",
       "    .dataframe tbody tr th {\n",
       "        vertical-align: top;\n",
       "    }\n",
       "\n",
       "    .dataframe thead th {\n",
       "        text-align: right;\n",
       "    }\n",
       "</style>\n",
       "<table border=\"1\" class=\"dataframe\">\n",
       "  <thead>\n",
       "    <tr style=\"text-align: right;\">\n",
       "      <th></th>\n",
       "      <th>ADM_RATE_ALL</th>\n",
       "      <th>AVGFACSAL</th>\n",
       "      <th>RET_FT4</th>\n",
       "      <th>CDR3</th>\n",
       "      <th>AGE_ENTRY</th>\n",
       "      <th>UGDS_MEN</th>\n",
       "    </tr>\n",
       "  </thead>\n",
       "  <tbody>\n",
       "    <tr>\n",
       "      <th>0</th>\n",
       "      <td>0.5256</td>\n",
       "      <td>6892.0</td>\n",
       "      <td>0.6595</td>\n",
       "      <td>0.172</td>\n",
       "      <td>20.525773</td>\n",
       "      <td>0.4831</td>\n",
       "    </tr>\n",
       "    <tr>\n",
       "      <th>1</th>\n",
       "      <td>0.8569</td>\n",
       "      <td>9957.0</td>\n",
       "      <td>0.8288</td>\n",
       "      <td>0.062</td>\n",
       "      <td>23.492140</td>\n",
       "      <td>0.4169</td>\n",
       "    </tr>\n",
       "  </tbody>\n",
       "</table>\n",
       "</div>"
      ],
      "text/plain": [
       "   ADM_RATE_ALL  AVGFACSAL  RET_FT4   CDR3  AGE_ENTRY  UGDS_MEN\n",
       "0        0.5256     6892.0   0.6595  0.172  20.525773    0.4831\n",
       "1        0.8569     9957.0   0.8288  0.062  23.492140    0.4169"
      ]
     },
     "execution_count": 53,
     "metadata": {},
     "output_type": "execute_result"
    }
   ],
   "source": [
    "X.head(2)"
   ]
  },
  {
   "cell_type": "code",
   "execution_count": 54,
   "metadata": {},
   "outputs": [
    {
     "name": "stdout",
     "output_type": "stream",
     "text": [
      "(1026, 6) (1026,)\n"
     ]
    }
   ],
   "source": [
    "print(X.shape, y.shape)"
   ]
  },
  {
   "cell_type": "markdown",
   "metadata": {},
   "source": [
    "#### All now looks fine although the R2 value for the model has dropped as independant variables have been removed (expected);"
   ]
  },
  {
   "cell_type": "code",
   "execution_count": 55,
   "metadata": {},
   "outputs": [
    {
     "data": {
      "text/plain": [
       "LinearRegression(copy_X=True, fit_intercept=True, n_jobs=None,\n",
       "         normalize=False)"
      ]
     },
     "execution_count": 55,
     "metadata": {},
     "output_type": "execute_result"
    }
   ],
   "source": [
    "# Fit Model\n",
    "model.fit(X, y)"
   ]
  },
  {
   "cell_type": "code",
   "execution_count": 56,
   "metadata": {},
   "outputs": [
    {
     "name": "stdout",
     "output_type": "stream",
     "text": [
      "[-1.26920525e+04  3.51357636e+00  1.03017200e+04 -9.00623021e+04\n",
      "  3.97403280e+02  1.79996492e+04]\n",
      "13031.225047684173\n"
     ]
    }
   ],
   "source": [
    "print(model.coef_)\n",
    "print(model.intercept_)"
   ]
  },
  {
   "cell_type": "code",
   "execution_count": 57,
   "metadata": {
    "scrolled": false
   },
   "outputs": [
    {
     "name": "stderr",
     "output_type": "stream",
     "text": [
      "C:\\Users\\Chart\\AppData\\Local\\Continuum\\anaconda3\\lib\\site-packages\\numpy\\core\\fromnumeric.py:2389: FutureWarning: Method .ptp is deprecated and will be removed in a future version. Use numpy.ptp instead.\n",
      "  return ptp(axis=axis, out=out, **kwargs)\n"
     ]
    },
    {
     "data": {
      "text/html": [
       "<table class=\"simpletable\">\n",
       "<caption>OLS Regression Results</caption>\n",
       "<tr>\n",
       "  <th>Dep. Variable:</th>     <td>MN_EARN_WNE_P10</td> <th>  R-squared:         </th> <td>   0.709</td> \n",
       "</tr>\n",
       "<tr>\n",
       "  <th>Model:</th>                   <td>OLS</td>       <th>  Adj. R-squared:    </th> <td>   0.708</td> \n",
       "</tr>\n",
       "<tr>\n",
       "  <th>Method:</th>             <td>Least Squares</td>  <th>  F-statistic:       </th> <td>   414.8</td> \n",
       "</tr>\n",
       "<tr>\n",
       "  <th>Date:</th>             <td>Sun, 28 Jul 2019</td> <th>  Prob (F-statistic):</th> <td>2.01e-269</td>\n",
       "</tr>\n",
       "<tr>\n",
       "  <th>Time:</th>                 <td>14:44:57</td>     <th>  Log-Likelihood:    </th> <td> -10634.</td> \n",
       "</tr>\n",
       "<tr>\n",
       "  <th>No. Observations:</th>      <td>  1026</td>      <th>  AIC:               </th> <td>2.128e+04</td>\n",
       "</tr>\n",
       "<tr>\n",
       "  <th>Df Residuals:</th>          <td>  1019</td>      <th>  BIC:               </th> <td>2.132e+04</td>\n",
       "</tr>\n",
       "<tr>\n",
       "  <th>Df Model:</th>              <td>     6</td>      <th>                     </th>     <td> </td>    \n",
       "</tr>\n",
       "<tr>\n",
       "  <th>Covariance Type:</th>      <td>nonrobust</td>    <th>                     </th>     <td> </td>    \n",
       "</tr>\n",
       "</table>\n",
       "<table class=\"simpletable\">\n",
       "<tr>\n",
       "        <td></td>          <th>coef</th>     <th>std err</th>      <th>t</th>      <th>P>|t|</th>  <th>[0.025</th>    <th>0.975]</th>  \n",
       "</tr>\n",
       "<tr>\n",
       "  <th>const</th>        <td> 1.303e+04</td> <td> 4707.798</td> <td>    2.768</td> <td> 0.006</td> <td> 3793.137</td> <td> 2.23e+04</td>\n",
       "</tr>\n",
       "<tr>\n",
       "  <th>ADM_RATE_ALL</th> <td>-1.269e+04</td> <td> 1403.618</td> <td>   -9.042</td> <td> 0.000</td> <td>-1.54e+04</td> <td>-9937.741</td>\n",
       "</tr>\n",
       "<tr>\n",
       "  <th>AVGFACSAL</th>    <td>    3.5136</td> <td>    0.157</td> <td>   22.386</td> <td> 0.000</td> <td>    3.206</td> <td>    3.822</td>\n",
       "</tr>\n",
       "<tr>\n",
       "  <th>RET_FT4</th>      <td>  1.03e+04</td> <td> 3412.094</td> <td>    3.019</td> <td> 0.003</td> <td> 3606.187</td> <td>  1.7e+04</td>\n",
       "</tr>\n",
       "<tr>\n",
       "  <th>CDR3</th>         <td>-9.006e+04</td> <td> 7625.934</td> <td>  -11.810</td> <td> 0.000</td> <td>-1.05e+05</td> <td>-7.51e+04</td>\n",
       "</tr>\n",
       "<tr>\n",
       "  <th>AGE_ENTRY</th>    <td>  397.4033</td> <td>  115.720</td> <td>    3.434</td> <td> 0.001</td> <td>  170.326</td> <td>  624.480</td>\n",
       "</tr>\n",
       "<tr>\n",
       "  <th>UGDS_MEN</th>     <td>   1.8e+04</td> <td> 2362.377</td> <td>    7.619</td> <td> 0.000</td> <td> 1.34e+04</td> <td> 2.26e+04</td>\n",
       "</tr>\n",
       "</table>\n",
       "<table class=\"simpletable\">\n",
       "<tr>\n",
       "  <th>Omnibus:</th>       <td>381.150</td> <th>  Durbin-Watson:     </th> <td>   1.868</td>\n",
       "</tr>\n",
       "<tr>\n",
       "  <th>Prob(Omnibus):</th> <td> 0.000</td>  <th>  Jarque-Bera (JB):  </th> <td>2805.052</td>\n",
       "</tr>\n",
       "<tr>\n",
       "  <th>Skew:</th>          <td> 1.513</td>  <th>  Prob(JB):          </th> <td>    0.00</td>\n",
       "</tr>\n",
       "<tr>\n",
       "  <th>Kurtosis:</th>      <td>10.514</td>  <th>  Cond. No.          </th> <td>2.84e+05</td>\n",
       "</tr>\n",
       "</table><br/><br/>Warnings:<br/>[1] Standard Errors assume that the covariance matrix of the errors is correctly specified.<br/>[2] The condition number is large, 2.84e+05. This might indicate that there are<br/>strong multicollinearity or other numerical problems."
      ],
      "text/plain": [
       "<class 'statsmodels.iolib.summary.Summary'>\n",
       "\"\"\"\n",
       "                            OLS Regression Results                            \n",
       "==============================================================================\n",
       "Dep. Variable:        MN_EARN_WNE_P10   R-squared:                       0.709\n",
       "Model:                            OLS   Adj. R-squared:                  0.708\n",
       "Method:                 Least Squares   F-statistic:                     414.8\n",
       "Date:                Sun, 28 Jul 2019   Prob (F-statistic):          2.01e-269\n",
       "Time:                        14:44:57   Log-Likelihood:                -10634.\n",
       "No. Observations:                1026   AIC:                         2.128e+04\n",
       "Df Residuals:                    1019   BIC:                         2.132e+04\n",
       "Df Model:                           6                                         \n",
       "Covariance Type:            nonrobust                                         \n",
       "================================================================================\n",
       "                   coef    std err          t      P>|t|      [0.025      0.975]\n",
       "--------------------------------------------------------------------------------\n",
       "const         1.303e+04   4707.798      2.768      0.006    3793.137    2.23e+04\n",
       "ADM_RATE_ALL -1.269e+04   1403.618     -9.042      0.000   -1.54e+04   -9937.741\n",
       "AVGFACSAL        3.5136      0.157     22.386      0.000       3.206       3.822\n",
       "RET_FT4        1.03e+04   3412.094      3.019      0.003    3606.187     1.7e+04\n",
       "CDR3         -9.006e+04   7625.934    -11.810      0.000   -1.05e+05   -7.51e+04\n",
       "AGE_ENTRY      397.4033    115.720      3.434      0.001     170.326     624.480\n",
       "UGDS_MEN        1.8e+04   2362.377      7.619      0.000    1.34e+04    2.26e+04\n",
       "==============================================================================\n",
       "Omnibus:                      381.150   Durbin-Watson:                   1.868\n",
       "Prob(Omnibus):                  0.000   Jarque-Bera (JB):             2805.052\n",
       "Skew:                           1.513   Prob(JB):                         0.00\n",
       "Kurtosis:                      10.514   Cond. No.                     2.84e+05\n",
       "==============================================================================\n",
       "\n",
       "Warnings:\n",
       "[1] Standard Errors assume that the covariance matrix of the errors is correctly specified.\n",
       "[2] The condition number is large, 2.84e+05. This might indicate that there are\n",
       "strong multicollinearity or other numerical problems.\n",
       "\"\"\""
      ]
     },
     "execution_count": 57,
     "metadata": {},
     "output_type": "execute_result"
    }
   ],
   "source": [
    "X2 = sm.add_constant(X)\n",
    "est = sm.OLS(y, X2)\n",
    "est2 = est.fit()\n",
    "est2.summary()"
   ]
  },
  {
   "cell_type": "code",
   "execution_count": 58,
   "metadata": {
    "scrolled": true
   },
   "outputs": [
    {
     "data": {
      "text/plain": [
       "array([[1.00000000e+00, 5.25600000e-01, 6.89200000e+03, ...,\n",
       "        1.72000000e-01, 2.05257732e+01, 4.83100000e-01],\n",
       "       [1.00000000e+00, 8.56900000e-01, 9.95700000e+03, ...,\n",
       "        6.20000000e-02, 2.34921398e+01, 4.16900000e-01],\n",
       "       [1.00000000e+00, 8.20300000e-01, 9.30200000e+03, ...,\n",
       "        6.10000000e-02, 2.37187230e+01, 5.73300000e-01],\n",
       "       ...,\n",
       "       [1.00000000e+00, 5.96379127e-01, 5.37400000e+03, ...,\n",
       "        8.80000000e-02, 2.73518518e+01, 4.01700000e-01],\n",
       "       [1.00000000e+00, 6.26517667e-01, 4.41500000e+03, ...,\n",
       "        5.70000000e-02, 2.17662941e+01, 4.66900000e-01],\n",
       "       [1.00000000e+00, 6.94800000e-01, 5.56600000e+03, ...,\n",
       "        9.30000000e-02, 2.27544179e+01, 4.50200000e-01]])"
      ]
     },
     "execution_count": 58,
     "metadata": {},
     "output_type": "execute_result"
    }
   ],
   "source": [
    "variables_exogenous = est2.model.exog\n",
    "variables_exogenous"
   ]
  },
  {
   "cell_type": "markdown",
   "metadata": {},
   "source": [
    "#### verify multicollinearity one more time;"
   ]
  },
  {
   "cell_type": "code",
   "execution_count": 59,
   "metadata": {},
   "outputs": [
    {
     "data": {
      "text/plain": [
       "Index(['ADM_RATE_ALL', 'AVGFACSAL', 'RET_FT4', 'CDR3', 'AGE_ENTRY',\n",
       "       'UGDS_MEN'],\n",
       "      dtype='object')"
      ]
     },
     "execution_count": 59,
     "metadata": {},
     "output_type": "execute_result"
    }
   ],
   "source": [
    "X.columns"
   ]
  },
  {
   "cell_type": "code",
   "execution_count": 60,
   "metadata": {
    "scrolled": true
   },
   "outputs": [
    {
     "data": {
      "text/plain": [
       "[383.8636268927971,\n",
       " 1.178996781689968,\n",
       " 2.022856891934319,\n",
       " 2.4495807122205417,\n",
       " 1.807509946360338,\n",
       " 1.275764130574266,\n",
       " 1.1091253539369543]"
      ]
     },
     "execution_count": 60,
     "metadata": {},
     "output_type": "execute_result"
    }
   ],
   "source": [
    "vif = [variance_inflation_factor(variables_exogenous, i) for i in range(variables_exogenous.shape[1])]\n",
    "vif "
   ]
  },
  {
   "cell_type": "code",
   "execution_count": 61,
   "metadata": {},
   "outputs": [],
   "source": [
    "# X.corr()"
   ]
  },
  {
   "cell_type": "markdown",
   "metadata": {},
   "source": [
    "### Examine non linearity for independant variables with largest coefficients;"
   ]
  },
  {
   "cell_type": "code",
   "execution_count": 62,
   "metadata": {},
   "outputs": [
    {
     "name": "stdout",
     "output_type": "stream",
     "text": [
      "[-1.26920525e+04  3.51357636e+00  1.03017200e+04 -9.00623021e+04\n",
      "  3.97403280e+02  1.79996492e+04]\n",
      "13031.225047684173\n"
     ]
    }
   ],
   "source": [
    "print(model.coef_)\n",
    "print(model.intercept_)"
   ]
  },
  {
   "cell_type": "code",
   "execution_count": 63,
   "metadata": {},
   "outputs": [
    {
     "data": {
      "text/plain": [
       "<matplotlib.collections.PathCollection at 0x227ec278828>"
      ]
     },
     "execution_count": 63,
     "metadata": {},
     "output_type": "execute_result"
    },
    {
     "data": {
      "image/png": "[encoded data removed]",
      "text/plain": [
       "<Figure size 432x288 with 1 Axes>"
      ]
     },
     "metadata": {
      "needs_background": "light"
     },
     "output_type": "display_data"
    }
   ],
   "source": [
    "z = data['ADM_RATE_ALL']\n",
    "plt.scatter(z, y)"
   ]
  },
  {
   "cell_type": "code",
   "execution_count": 64,
   "metadata": {},
   "outputs": [
    {
     "data": {
      "text/plain": [
       "<matplotlib.collections.PathCollection at 0x227ee5bd128>"
      ]
     },
     "execution_count": 64,
     "metadata": {},
     "output_type": "execute_result"
    },
    {
     "data": {
      "image/png": "[encoded data removed]",
      "text/plain": [
       "<Figure size 432x288 with 1 Axes>"
      ]
     },
     "metadata": {
      "needs_background": "light"
     },
     "output_type": "display_data"
    }
   ],
   "source": [
    "p = data['CDR3']\n",
    "plt.scatter(p, y)"
   ]
  },
  {
   "cell_type": "code",
   "execution_count": 65,
   "metadata": {
    "scrolled": true
   },
   "outputs": [
    {
     "data": {
      "text/plain": [
       "<matplotlib.collections.PathCollection at 0x227ef5ecbe0>"
      ]
     },
     "execution_count": 65,
     "metadata": {},
     "output_type": "execute_result"
    },
    {
     "data": {
      "image/png": "[encoded data removed]",
      "text/plain": [
       "<Figure size 432x288 with 1 Axes>"
      ]
     },
     "metadata": {
      "needs_background": "light"
     },
     "output_type": "display_data"
    }
   ],
   "source": [
    "x = data['RET_FT4']\n",
    "plt.scatter(x, y)"
   ]
  },
  {
   "cell_type": "code",
   "execution_count": 66,
   "metadata": {},
   "outputs": [
    {
     "data": {
      "text/plain": [
       "<matplotlib.collections.PathCollection at 0x227ef650160>"
      ]
     },
     "execution_count": 66,
     "metadata": {},
     "output_type": "execute_result"
    },
    {
     "data": {
      "image/png": "[encoded data removed]",
      "text/plain": [
       "<Figure size 432x288 with 1 Axes>"
      ]
     },
     "metadata": {
      "needs_background": "light"
     },
     "output_type": "display_data"
    }
   ],
   "source": [
    "t = data['UGDS_MEN']\n",
    "plt.scatter(t, y)"
   ]
  },
  {
   "cell_type": "markdown",
   "metadata": {},
   "source": [
    "#### A logaritmic function may work better CDR3 and RET_FT4"
   ]
  },
  {
   "cell_type": "code",
   "execution_count": 67,
   "metadata": {
    "scrolled": true
   },
   "outputs": [
    {
     "data": {
      "image/png": "[encoded data removed]",
      "text/plain": [
       "<Figure size 432x288 with 1 Axes>"
      ]
     },
     "metadata": {
      "needs_background": "light"
     },
     "output_type": "display_data"
    },
    {
     "name": "stdout",
     "output_type": "stream",
     "text": [
      "r-squared: 0.40700047056682304\n",
      "p value: 2.4836968630129423e-118\n",
      "Standard Error: 3107.09423159764\n",
      "Slope: 82371.06560162708\n",
      "Intercept: -11800.14975291791\n"
     ]
    }
   ],
   "source": [
    "from scipy.stats import linregress\n",
    "\n",
    "(slope, intercept, _, _, _) = linregress(x, y)\n",
    "fit = slope * x + intercept\n",
    "fig, ax = plt.subplots()\n",
    "\n",
    "ax.plot(x, y, linewidth=0, marker='o')\n",
    "ax.plot(x, intercept + slope*x, 'm--')\n",
    "plt.show()\n",
    "\n",
    "slope, intercept, r_value, p_value, std_err = stats.linregress(x,y)\n",
    "print(\"r-squared:\", r_value**2)\n",
    "print(\"p value:\", p_value)\n",
    "print(\"Standard Error:\", std_err)\n",
    "print(\"Slope:\", slope)\n",
    "print(\"Intercept:\", intercept)"
   ]
  },
  {
   "cell_type": "code",
   "execution_count": 68,
   "metadata": {
    "scrolled": true
   },
   "outputs": [
    {
     "data": {
      "image/png": "[encoded data removed]",
      "text/plain": [
       "<Figure size 432x288 with 1 Axes>"
      ]
     },
     "metadata": {
      "needs_background": "light"
     },
     "output_type": "display_data"
    },
    {
     "name": "stdout",
     "output_type": "stream",
     "text": [
      "r-squared: 0.4545190188052797\n",
      "p value: 6.288736028147204e-137\n",
      "Standard Error: 0.049850481179351466\n",
      "Slope: 1.456148129643465\n",
      "Intercept: 9.699375553489773\n"
     ]
    }
   ],
   "source": [
    "y = np.log(data['MN_EARN_WNE_P10'])\n",
    "(slope, intercept, _, _, _) = linregress(x, y)\n",
    "fit = slope * x + intercept\n",
    "fig, ax = plt.subplots()\n",
    "\n",
    "ax.plot(x, y, linewidth=0, marker='o')\n",
    "ax.plot(x, intercept + slope*x, 'y--')\n",
    "\n",
    "# #plt.savefig(\"../Images/Injuries vs Weekly Avg Min Temp\")\n",
    "plt.show()\n",
    "\n",
    "slope, intercept, r_value, p_value, std_err = stats.linregress(x,y)\n",
    "print(\"r-squared:\", r_value**2)\n",
    "print(\"p value:\", p_value)\n",
    "print(\"Standard Error:\", std_err)\n",
    "print(\"Slope:\", slope)\n",
    "print(\"Intercept:\", intercept)"
   ]
  },
  {
   "cell_type": "markdown",
   "metadata": {
    "scrolled": true
   },
   "source": [
    "#### Natural Log Transformation certainly helps remove non linearity but lets check again after removing evident outliers"
   ]
  },
  {
   "cell_type": "code",
   "execution_count": 69,
   "metadata": {},
   "outputs": [],
   "source": [
    "y = data['MN_EARN_WNE_P10']"
   ]
  },
  {
   "cell_type": "code",
   "execution_count": 70,
   "metadata": {},
   "outputs": [
    {
     "data": {
      "text/plain": [
       "0    35500.0\n",
       "1    48400.0\n",
       "Name: MN_EARN_WNE_P10, dtype: float64"
      ]
     },
     "execution_count": 70,
     "metadata": {},
     "output_type": "execute_result"
    }
   ],
   "source": [
    "y.head(2)"
   ]
  },
  {
   "cell_type": "markdown",
   "metadata": {},
   "source": [
    "### Stats Check\n",
    "#### In Excel MSE is Residual Sum of Squares / (n - df) whereas in sklearn it's ResdidualSS / n\n",
    "#### R2 = RegressionSS / TotalSS\n",
    "#### where ResidualSS = sum{(y - y predicted)^2}, RegressionSS = sum{(y - average(y))^2}, TotalSS = ResidualSS + RegressionSS"
   ]
  },
  {
   "cell_type": "code",
   "execution_count": 71,
   "metadata": {
    "scrolled": true
   },
   "outputs": [
    {
     "name": "stdout",
     "output_type": "stream",
     "text": [
      "Mean Squared Error (MSE): 58834615.3719856\n",
      "R-squared (R2 ): 0.709484152910821\n"
     ]
    }
   ],
   "source": [
    "from sklearn.metrics import mean_squared_error, r2_score\n",
    "predicted = model.predict(X)\n",
    "mse = mean_squared_error(y, predicted)\n",
    "r2 = r2_score(y, predicted)\n",
    "print(f\"Mean Squared Error (MSE): {mse}\")\n",
    "print(f\"R-squared (R2 ): {r2}\")"
   ]
  },
  {
   "cell_type": "markdown",
   "metadata": {},
   "source": [
    "#### Root Mean Squared Error can be considered the standard deviation of of the residual or unexplained variance:"
   ]
  },
  {
   "cell_type": "code",
   "execution_count": 72,
   "metadata": {
    "scrolled": true
   },
   "outputs": [
    {
     "data": {
      "text/plain": [
       "7670.372570611261"
      ]
     },
     "execution_count": 72,
     "metadata": {},
     "output_type": "execute_result"
    }
   ],
   "source": [
    "RSME = np.sqrt(mse)\n",
    "RSME"
   ]
  },
  {
   "cell_type": "markdown",
   "metadata": {},
   "source": [
    "#### Calculate Durbin-Watson to check auto correlation"
   ]
  },
  {
   "cell_type": "code",
   "execution_count": 73,
   "metadata": {},
   "outputs": [],
   "source": [
    "from statsmodels.tools.sm_exceptions import ValueWarning\n",
    "resids = est2.resid\n",
    "def durbin_watson(resids, axis=0):\n",
    "    resids = np.asarray(resids)\n",
    "    diff_resids = np.diff(resids, 1, axis=axis)\n",
    "    dw = np.sum(diff_resids**2, axis=axis) / np.sum(resids**2, axis=axis)\n",
    "    return dw"
   ]
  },
  {
   "cell_type": "code",
   "execution_count": 74,
   "metadata": {},
   "outputs": [
    {
     "data": {
      "text/plain": [
       "1.8679580660349768"
      ]
     },
     "execution_count": 74,
     "metadata": {},
     "output_type": "execute_result"
    }
   ],
   "source": [
    "durbin_watson(resids)"
   ]
  },
  {
   "cell_type": "markdown",
   "metadata": {},
   "source": [
    "#### Durbin-Watson close to 2 implies limited auto correlation (particuarly as this is not time series data)"
   ]
  },
  {
   "cell_type": "markdown",
   "metadata": {},
   "source": [
    "### Residuals, Standardized and Studentized Residuals"
   ]
  },
  {
   "cell_type": "code",
   "execution_count": 75,
   "metadata": {
    "scrolled": true
   },
   "outputs": [
    {
     "data": {
      "text/plain": [
       "<matplotlib.collections.PathCollection at 0x227ef8c95c0>"
      ]
     },
     "execution_count": 75,
     "metadata": {},
     "output_type": "execute_result"
    },
    {
     "data": {
      "image/png": "[encoded data removed]",
      "text/plain": [
       "<Figure size 432x288 with 1 Axes>"
      ]
     },
     "metadata": {
      "needs_background": "light"
     },
     "output_type": "display_data"
    }
   ],
   "source": [
    "# repeat of plt.scatter(model.predict(X),y)\n",
    "predictions = model.predict(X)\n",
    "plt.scatter(predictions,y)"
   ]
  },
  {
   "cell_type": "markdown",
   "metadata": {},
   "source": [
    "##### Plot Residuals"
   ]
  },
  {
   "cell_type": "code",
   "execution_count": 76,
   "metadata": {
    "scrolled": true
   },
   "outputs": [
    {
     "data": {
      "image/png": "[encoded data removed]",
      "text/plain": [
       "<Figure size 432x288 with 1 Axes>"
      ]
     },
     "metadata": {
      "needs_background": "light"
     },
     "output_type": "display_data"
    }
   ],
   "source": [
    "plt.scatter(predictions, predictions - y)\n",
    "plt.hlines(y=0, xmin=predictions.min(), xmax=predictions.max())\n",
    "plt.show()"
   ]
  },
  {
   "cell_type": "markdown",
   "metadata": {},
   "source": [
    "#### Standardized Residual = Residual(i) / SQRT (MSE(1 - leverage)\n",
    "#### Leverage = distance of point from the mean value\n",
    "#### However Standardized Residual in Excel = Residual(i) / SQRT(MSE) where MSE is calculated as ResidualSS/(n-1)\n",
    "#### but the Excel MSE calculated via the Data Analysis Tool Pak = ResidualSS/(n-1 - degrees of freedom)"
   ]
  },
  {
   "cell_type": "code",
   "execution_count": 77,
   "metadata": {
    "scrolled": true
   },
   "outputs": [],
   "source": [
    "# from statsmodels fit linear model to cleaned and nat log adjusted etc dataset\n",
    "initial = sm.OLS(y, X2)\n",
    "results = initial.fit()"
   ]
  },
  {
   "cell_type": "code",
   "execution_count": 78,
   "metadata": {
    "scrolled": true
   },
   "outputs": [],
   "source": [
    "# create instance of influence\n",
    "influence = results.get_influence()"
   ]
  },
  {
   "cell_type": "markdown",
   "metadata": {},
   "source": [
    "##### Leverage = distance of point from the centre of the data or mean value"
   ]
  },
  {
   "cell_type": "code",
   "execution_count": 79,
   "metadata": {
    "scrolled": true
   },
   "outputs": [
    {
     "data": {
      "text/plain": [
       "array([0.01014189, 0.00554416, 0.0053703 , ..., 0.02793399, 0.0109803 ,\n",
       "       0.00618461])"
      ]
     },
     "execution_count": 79,
     "metadata": {},
     "output_type": "execute_result"
    }
   ],
   "source": [
    "# leverage (hat values)\n",
    "leverage = influence.hat_matrix_diag\n",
    "leverage"
   ]
  },
  {
   "cell_type": "code",
   "execution_count": 80,
   "metadata": {
    "scrolled": true
   },
   "outputs": [
    {
     "data": {
      "image/png": "[encoded data removed]",
      "text/plain": [
       "<Figure size 432x288 with 1 Axes>"
      ]
     },
     "metadata": {
      "needs_background": "light"
     },
     "output_type": "display_data"
    }
   ],
   "source": [
    "plt.scatter(predictions, leverage)\n",
    "plt.hlines(y=0, xmin=predictions.min(), xmax=predictions.max())\n",
    "plt.show()"
   ]
  },
  {
   "cell_type": "markdown",
   "metadata": {},
   "source": [
    "##### Cooks distance summarizes how much all the values in the regression model change when the ith observation is removed\n",
    "\n",
    "##### Typically better than Leverage in determining outliers"
   ]
  },
  {
   "cell_type": "code",
   "execution_count": 81,
   "metadata": {
    "scrolled": true
   },
   "outputs": [
    {
     "data": {
      "text/plain": [
       "(array([0.0002607 , 0.00098466, 0.00039352, ..., 0.00124544, 0.00960273,\n",
       "        0.00040036]),\n",
       " array([1.        , 1.        , 1.        , ..., 1.        , 0.99999941,\n",
       "        1.        ]))"
      ]
     },
     "execution_count": 81,
     "metadata": {},
     "output_type": "execute_result"
    }
   ],
   "source": [
    "# Cook's D values (and p-values) as tuple of arrays\n",
    "cooks_d = influence.cooks_distance\n",
    "cooks_d"
   ]
  },
  {
   "cell_type": "code",
   "execution_count": 82,
   "metadata": {
    "scrolled": true
   },
   "outputs": [
    {
     "data": {
      "image/png": "[encoded data removed]",
      "text/plain": [
       "<Figure size 432x288 with 1 Axes>"
      ]
     },
     "metadata": {
      "needs_background": "light"
     },
     "output_type": "display_data"
    }
   ],
   "source": [
    "plt.scatter(predictions, cooks_d[0])\n",
    "plt.hlines(y=0, xmin=predictions.min(), xmax=predictions.max())\n",
    "plt.show()"
   ]
  },
  {
   "cell_type": "markdown",
   "metadata": {},
   "source": [
    "#### Standardized Residual (see explanation above)"
   ]
  },
  {
   "cell_type": "code",
   "execution_count": 83,
   "metadata": {
    "scrolled": true
   },
   "outputs": [
    {
     "data": {
      "text/plain": [
       "array([-0.42203595, -1.11190264, -0.71427011, ...,  0.55079751,\n",
       "        2.46060512,  0.67107362])"
      ]
     },
     "execution_count": 83,
     "metadata": {},
     "output_type": "execute_result"
    }
   ],
   "source": [
    "standardized_residuals = influence.resid_studentized_internal\n",
    "standardized_residuals"
   ]
  },
  {
   "cell_type": "code",
   "execution_count": 84,
   "metadata": {
    "scrolled": true
   },
   "outputs": [
    {
     "data": {
      "image/png": "[encoded data removed]",
      "text/plain": [
       "<Figure size 432x288 with 1 Axes>"
      ]
     },
     "metadata": {
      "needs_background": "light"
     },
     "output_type": "display_data"
    }
   ],
   "source": [
    "plt.scatter(predictions, standardized_residuals)\n",
    "plt.hlines(y=0, xmin=predictions.min(), xmax=predictions.max())\n",
    "plt.show()"
   ]
  },
  {
   "cell_type": "markdown",
   "metadata": {},
   "source": [
    "#### Studentized Residual\n",
    "##### Standardized residuals use the mean square error for the model based on all observations, MSE, while studentized residuals use the mean square error based on the estimated model with the ith observation deleted, MSE(i)\n",
    "#### Studentized Residual along with Cook's D better for outlier identification\n",
    "#### If Studentized Residual > 3, data point can be considered an outlier"
   ]
  },
  {
   "cell_type": "code",
   "execution_count": 85,
   "metadata": {
    "scrolled": true
   },
   "outputs": [
    {
     "data": {
      "text/plain": [
       "array([-0.42186569, -1.11203173, -0.71409833, ...,  0.55060915,\n",
       "        2.46673667,  0.67089252])"
      ]
     },
     "execution_count": 85,
     "metadata": {},
     "output_type": "execute_result"
    }
   ],
   "source": [
    "studentized_residuals = influence.resid_studentized_external\n",
    "studentized_residuals"
   ]
  },
  {
   "cell_type": "code",
   "execution_count": 86,
   "metadata": {
    "scrolled": false
   },
   "outputs": [
    {
     "data": {
      "image/png": "[encoded data removed]",
      "text/plain": [
       "<Figure size 432x288 with 1 Axes>"
      ]
     },
     "metadata": {
      "needs_background": "light"
     },
     "output_type": "display_data"
    }
   ],
   "source": [
    "plt.scatter(predictions, studentized_residuals)\n",
    "plt.hlines(y=0, xmin=predictions.min(), xmax=predictions.max())\n",
    "plt.show()"
   ]
  },
  {
   "cell_type": "markdown",
   "metadata": {},
   "source": [
    "### Make Dataframe with outlier column identifiers included"
   ]
  },
  {
   "cell_type": "code",
   "execution_count": 87,
   "metadata": {
    "scrolled": true
   },
   "outputs": [
    {
     "data": {
      "text/html": [
       "<div>\n",
       "<style scoped>\n",
       "    .dataframe tbody tr th:only-of-type {\n",
       "        vertical-align: middle;\n",
       "    }\n",
       "\n",
       "    .dataframe tbody tr th {\n",
       "        vertical-align: top;\n",
       "    }\n",
       "\n",
       "    .dataframe thead th {\n",
       "        text-align: right;\n",
       "    }\n",
       "</style>\n",
       "<table border=\"1\" class=\"dataframe\">\n",
       "  <thead>\n",
       "    <tr style=\"text-align: right;\">\n",
       "      <th></th>\n",
       "      <th>ADM_RATE_ALL</th>\n",
       "      <th>AVGFACSAL</th>\n",
       "      <th>RET_FT4</th>\n",
       "      <th>CDR3</th>\n",
       "      <th>AGE_ENTRY</th>\n",
       "      <th>UGDS_MEN</th>\n",
       "    </tr>\n",
       "  </thead>\n",
       "  <tbody>\n",
       "    <tr>\n",
       "      <th>0</th>\n",
       "      <td>0.5256</td>\n",
       "      <td>6892.0</td>\n",
       "      <td>0.6595</td>\n",
       "      <td>0.172</td>\n",
       "      <td>20.525773</td>\n",
       "      <td>0.4831</td>\n",
       "    </tr>\n",
       "    <tr>\n",
       "      <th>1</th>\n",
       "      <td>0.8569</td>\n",
       "      <td>9957.0</td>\n",
       "      <td>0.8288</td>\n",
       "      <td>0.062</td>\n",
       "      <td>23.492140</td>\n",
       "      <td>0.4169</td>\n",
       "    </tr>\n",
       "  </tbody>\n",
       "</table>\n",
       "</div>"
      ],
      "text/plain": [
       "   ADM_RATE_ALL  AVGFACSAL  RET_FT4   CDR3  AGE_ENTRY  UGDS_MEN\n",
       "0        0.5256     6892.0   0.6595  0.172  20.525773    0.4831\n",
       "1        0.8569     9957.0   0.8288  0.062  23.492140    0.4169"
      ]
     },
     "execution_count": 87,
     "metadata": {},
     "output_type": "execute_result"
    }
   ],
   "source": [
    "X.head(2)"
   ]
  },
  {
   "cell_type": "code",
   "execution_count": 88,
   "metadata": {},
   "outputs": [],
   "source": [
    "residual_results = pd.DataFrame()"
   ]
  },
  {
   "cell_type": "code",
   "execution_count": 89,
   "metadata": {},
   "outputs": [
    {
     "data": {
      "text/html": [
       "<div>\n",
       "<style scoped>\n",
       "    .dataframe tbody tr th:only-of-type {\n",
       "        vertical-align: middle;\n",
       "    }\n",
       "\n",
       "    .dataframe tbody tr th {\n",
       "        vertical-align: top;\n",
       "    }\n",
       "\n",
       "    .dataframe thead th {\n",
       "        text-align: right;\n",
       "    }\n",
       "</style>\n",
       "<table border=\"1\" class=\"dataframe\">\n",
       "  <thead>\n",
       "    <tr style=\"text-align: right;\">\n",
       "      <th></th>\n",
       "      <th>UNITID</th>\n",
       "      <th>OPEID6</th>\n",
       "      <th>MN_EARN_WNE_P10</th>\n",
       "      <th>ADM_RATE_ALL</th>\n",
       "      <th>AVGFACSAL</th>\n",
       "      <th>RET_FT4</th>\n",
       "      <th>CDR3</th>\n",
       "      <th>AGE_ENTRY</th>\n",
       "      <th>UGDS_MEN</th>\n",
       "    </tr>\n",
       "  </thead>\n",
       "  <tbody>\n",
       "    <tr>\n",
       "      <th>0</th>\n",
       "      <td>100654</td>\n",
       "      <td>1002</td>\n",
       "      <td>35500.0</td>\n",
       "      <td>0.5256</td>\n",
       "      <td>6892.0</td>\n",
       "      <td>0.6595</td>\n",
       "      <td>0.172</td>\n",
       "      <td>20.525773</td>\n",
       "      <td>0.4831</td>\n",
       "    </tr>\n",
       "    <tr>\n",
       "      <th>1</th>\n",
       "      <td>100663</td>\n",
       "      <td>1052</td>\n",
       "      <td>48400.0</td>\n",
       "      <td>0.8569</td>\n",
       "      <td>9957.0</td>\n",
       "      <td>0.8288</td>\n",
       "      <td>0.062</td>\n",
       "      <td>23.492140</td>\n",
       "      <td>0.4169</td>\n",
       "    </tr>\n",
       "    <tr>\n",
       "      <th>3</th>\n",
       "      <td>100706</td>\n",
       "      <td>1055</td>\n",
       "      <td>52000.0</td>\n",
       "      <td>0.8203</td>\n",
       "      <td>9302.0</td>\n",
       "      <td>0.7696</td>\n",
       "      <td>0.061</td>\n",
       "      <td>23.718723</td>\n",
       "      <td>0.5733</td>\n",
       "    </tr>\n",
       "    <tr>\n",
       "      <th>4</th>\n",
       "      <td>100724</td>\n",
       "      <td>1005</td>\n",
       "      <td>30600.0</td>\n",
       "      <td>0.5326</td>\n",
       "      <td>6609.0</td>\n",
       "      <td>0.5725</td>\n",
       "      <td>0.156</td>\n",
       "      <td>20.528185</td>\n",
       "      <td>0.3877</td>\n",
       "    </tr>\n",
       "    <tr>\n",
       "      <th>5</th>\n",
       "      <td>100751</td>\n",
       "      <td>1051</td>\n",
       "      <td>51600.0</td>\n",
       "      <td>0.5105</td>\n",
       "      <td>9667.0</td>\n",
       "      <td>0.8670</td>\n",
       "      <td>0.063</td>\n",
       "      <td>21.356529</td>\n",
       "      <td>0.4580</td>\n",
       "    </tr>\n",
       "  </tbody>\n",
       "</table>\n",
       "</div>"
      ],
      "text/plain": [
       "   UNITID  OPEID6  MN_EARN_WNE_P10  ADM_RATE_ALL  AVGFACSAL  RET_FT4   CDR3  \\\n",
       "0  100654    1002          35500.0        0.5256     6892.0   0.6595  0.172   \n",
       "1  100663    1052          48400.0        0.8569     9957.0   0.8288  0.062   \n",
       "3  100706    1055          52000.0        0.8203     9302.0   0.7696  0.061   \n",
       "4  100724    1005          30600.0        0.5326     6609.0   0.5725  0.156   \n",
       "5  100751    1051          51600.0        0.5105     9667.0   0.8670  0.063   \n",
       "\n",
       "   AGE_ENTRY  UGDS_MEN  \n",
       "0  20.525773    0.4831  \n",
       "1  23.492140    0.4169  \n",
       "3  23.718723    0.5733  \n",
       "4  20.528185    0.3877  \n",
       "5  21.356529    0.4580  "
      ]
     },
     "execution_count": 89,
     "metadata": {},
     "output_type": "execute_result"
    }
   ],
   "source": [
    "residual_results['UNITID']=data['UNITID']\n",
    "residual_results['OPEID6']=data['OPEID6']\n",
    "residual_results['MN_EARN_WNE_P10']=data['MN_EARN_WNE_P10']\n",
    "residual_results['ADM_RATE_ALL']=X['ADM_RATE_ALL']\n",
    "residual_results['AVGFACSAL']=X['AVGFACSAL']\n",
    "residual_results['RET_FT4']=X['RET_FT4']\n",
    "residual_results['CDR3']=X['CDR3']\n",
    "residual_results['AGE_ENTRY']=X['AGE_ENTRY']\n",
    "residual_results['UGDS_MEN']=X['UGDS_MEN']\n",
    "residual_results.head()"
   ]
  },
  {
   "cell_type": "code",
   "execution_count": 90,
   "metadata": {
    "scrolled": true
   },
   "outputs": [],
   "source": [
    "residual_results['Leverage'] = leverage\n",
    "residual_results['Cooks Distance'] = cooks_d[0]\n",
    "residual_results['Standardized Residuals'] = standardized_residuals\n",
    "residual_results['Studentized Residuals'] = studentized_residuals"
   ]
  },
  {
   "cell_type": "code",
   "execution_count": 91,
   "metadata": {},
   "outputs": [
    {
     "data": {
      "text/html": [
       "<div>\n",
       "<style scoped>\n",
       "    .dataframe tbody tr th:only-of-type {\n",
       "        vertical-align: middle;\n",
       "    }\n",
       "\n",
       "    .dataframe tbody tr th {\n",
       "        vertical-align: top;\n",
       "    }\n",
       "\n",
       "    .dataframe thead th {\n",
       "        text-align: right;\n",
       "    }\n",
       "</style>\n",
       "<table border=\"1\" class=\"dataframe\">\n",
       "  <thead>\n",
       "    <tr style=\"text-align: right;\">\n",
       "      <th></th>\n",
       "      <th>UNITID</th>\n",
       "      <th>OPEID6</th>\n",
       "      <th>MN_EARN_WNE_P10</th>\n",
       "      <th>ADM_RATE_ALL</th>\n",
       "      <th>AVGFACSAL</th>\n",
       "      <th>RET_FT4</th>\n",
       "      <th>CDR3</th>\n",
       "      <th>AGE_ENTRY</th>\n",
       "      <th>UGDS_MEN</th>\n",
       "      <th>Leverage</th>\n",
       "      <th>Cooks Distance</th>\n",
       "      <th>Standardized Residuals</th>\n",
       "      <th>Studentized Residuals</th>\n",
       "    </tr>\n",
       "  </thead>\n",
       "  <tbody>\n",
       "    <tr>\n",
       "      <th>0</th>\n",
       "      <td>100654</td>\n",
       "      <td>1002</td>\n",
       "      <td>35500.0</td>\n",
       "      <td>0.5256</td>\n",
       "      <td>6892.0</td>\n",
       "      <td>0.6595</td>\n",
       "      <td>0.172</td>\n",
       "      <td>20.525773</td>\n",
       "      <td>0.4831</td>\n",
       "      <td>0.010142</td>\n",
       "      <td>0.000261</td>\n",
       "      <td>-0.422036</td>\n",
       "      <td>-0.421866</td>\n",
       "    </tr>\n",
       "    <tr>\n",
       "      <th>1</th>\n",
       "      <td>100663</td>\n",
       "      <td>1052</td>\n",
       "      <td>48400.0</td>\n",
       "      <td>0.8569</td>\n",
       "      <td>9957.0</td>\n",
       "      <td>0.8288</td>\n",
       "      <td>0.062</td>\n",
       "      <td>23.492140</td>\n",
       "      <td>0.4169</td>\n",
       "      <td>0.005544</td>\n",
       "      <td>0.000985</td>\n",
       "      <td>-1.111903</td>\n",
       "      <td>-1.112032</td>\n",
       "    </tr>\n",
       "    <tr>\n",
       "      <th>3</th>\n",
       "      <td>100706</td>\n",
       "      <td>1055</td>\n",
       "      <td>52000.0</td>\n",
       "      <td>0.8203</td>\n",
       "      <td>9302.0</td>\n",
       "      <td>0.7696</td>\n",
       "      <td>0.061</td>\n",
       "      <td>23.718723</td>\n",
       "      <td>0.5733</td>\n",
       "      <td>0.005370</td>\n",
       "      <td>0.000394</td>\n",
       "      <td>-0.714270</td>\n",
       "      <td>-0.714098</td>\n",
       "    </tr>\n",
       "    <tr>\n",
       "      <th>4</th>\n",
       "      <td>100724</td>\n",
       "      <td>1005</td>\n",
       "      <td>30600.0</td>\n",
       "      <td>0.5326</td>\n",
       "      <td>6609.0</td>\n",
       "      <td>0.5725</td>\n",
       "      <td>0.156</td>\n",
       "      <td>20.528185</td>\n",
       "      <td>0.3877</td>\n",
       "      <td>0.010012</td>\n",
       "      <td>0.000851</td>\n",
       "      <td>-0.767443</td>\n",
       "      <td>-0.767288</td>\n",
       "    </tr>\n",
       "    <tr>\n",
       "      <th>5</th>\n",
       "      <td>100751</td>\n",
       "      <td>1051</td>\n",
       "      <td>51600.0</td>\n",
       "      <td>0.5105</td>\n",
       "      <td>9667.0</td>\n",
       "      <td>0.8670</td>\n",
       "      <td>0.063</td>\n",
       "      <td>21.356529</td>\n",
       "      <td>0.4580</td>\n",
       "      <td>0.002588</td>\n",
       "      <td>0.000498</td>\n",
       "      <td>-1.158667</td>\n",
       "      <td>-1.158862</td>\n",
       "    </tr>\n",
       "  </tbody>\n",
       "</table>\n",
       "</div>"
      ],
      "text/plain": [
       "   UNITID  OPEID6  MN_EARN_WNE_P10  ADM_RATE_ALL  AVGFACSAL  RET_FT4   CDR3  \\\n",
       "0  100654    1002          35500.0        0.5256     6892.0   0.6595  0.172   \n",
       "1  100663    1052          48400.0        0.8569     9957.0   0.8288  0.062   \n",
       "3  100706    1055          52000.0        0.8203     9302.0   0.7696  0.061   \n",
       "4  100724    1005          30600.0        0.5326     6609.0   0.5725  0.156   \n",
       "5  100751    1051          51600.0        0.5105     9667.0   0.8670  0.063   \n",
       "\n",
       "   AGE_ENTRY  UGDS_MEN  Leverage  Cooks Distance  Standardized Residuals  \\\n",
       "0  20.525773    0.4831  0.010142        0.000261               -0.422036   \n",
       "1  23.492140    0.4169  0.005544        0.000985               -1.111903   \n",
       "3  23.718723    0.5733  0.005370        0.000394               -0.714270   \n",
       "4  20.528185    0.3877  0.010012        0.000851               -0.767443   \n",
       "5  21.356529    0.4580  0.002588        0.000498               -1.158667   \n",
       "\n",
       "   Studentized Residuals  \n",
       "0              -0.421866  \n",
       "1              -1.112032  \n",
       "3              -0.714098  \n",
       "4              -0.767288  \n",
       "5              -1.158862  "
      ]
     },
     "execution_count": 91,
     "metadata": {},
     "output_type": "execute_result"
    }
   ],
   "source": [
    "residual_results.head()"
   ]
  },
  {
   "cell_type": "code",
   "execution_count": 92,
   "metadata": {},
   "outputs": [
    {
     "data": {
      "text/html": [
       "<div>\n",
       "<style scoped>\n",
       "    .dataframe tbody tr th:only-of-type {\n",
       "        vertical-align: middle;\n",
       "    }\n",
       "\n",
       "    .dataframe tbody tr th {\n",
       "        vertical-align: top;\n",
       "    }\n",
       "\n",
       "    .dataframe thead th {\n",
       "        text-align: right;\n",
       "    }\n",
       "</style>\n",
       "<table border=\"1\" class=\"dataframe\">\n",
       "  <thead>\n",
       "    <tr style=\"text-align: right;\">\n",
       "      <th></th>\n",
       "      <th>UNITID</th>\n",
       "      <th>OPEID6</th>\n",
       "      <th>MN_EARN_WNE_P10</th>\n",
       "      <th>ADM_RATE_ALL</th>\n",
       "      <th>AVGFACSAL</th>\n",
       "      <th>RET_FT4</th>\n",
       "      <th>CDR3</th>\n",
       "      <th>AGE_ENTRY</th>\n",
       "      <th>UGDS_MEN</th>\n",
       "      <th>Leverage</th>\n",
       "      <th>Cooks Distance</th>\n",
       "      <th>Standardized Residuals</th>\n",
       "      <th>Studentized Residuals</th>\n",
       "    </tr>\n",
       "  </thead>\n",
       "  <tbody>\n",
       "    <tr>\n",
       "      <th>1728</th>\n",
       "      <td>414878</td>\n",
       "      <td>1839</td>\n",
       "      <td>49600.0</td>\n",
       "      <td>0.757525</td>\n",
       "      <td>8480.0</td>\n",
       "      <td>0.0000</td>\n",
       "      <td>0.082</td>\n",
       "      <td>23.623472</td>\n",
       "      <td>0.3856</td>\n",
       "      <td>0.111976</td>\n",
       "      <td>0.018978</td>\n",
       "      <td>1.026420</td>\n",
       "      <td>1.026447</td>\n",
       "    </tr>\n",
       "    <tr>\n",
       "      <th>1457</th>\n",
       "      <td>227243</td>\n",
       "      <td>4072</td>\n",
       "      <td>54900.0</td>\n",
       "      <td>0.577391</td>\n",
       "      <td>7342.0</td>\n",
       "      <td>0.2209</td>\n",
       "      <td>0.088</td>\n",
       "      <td>26.145374</td>\n",
       "      <td>0.3863</td>\n",
       "      <td>0.050988</td>\n",
       "      <td>0.018711</td>\n",
       "      <td>1.561331</td>\n",
       "      <td>1.562434</td>\n",
       "    </tr>\n",
       "    <tr>\n",
       "      <th>288</th>\n",
       "      <td>140553</td>\n",
       "      <td>1582</td>\n",
       "      <td>49000.0</td>\n",
       "      <td>0.840300</td>\n",
       "      <td>7004.0</td>\n",
       "      <td>0.8302</td>\n",
       "      <td>0.184</td>\n",
       "      <td>19.780273</td>\n",
       "      <td>1.0000</td>\n",
       "      <td>0.048033</td>\n",
       "      <td>0.002237</td>\n",
       "      <td>0.557077</td>\n",
       "      <td>0.556888</td>\n",
       "    </tr>\n",
       "    <tr>\n",
       "      <th>1687</th>\n",
       "      <td>243744</td>\n",
       "      <td>1305</td>\n",
       "      <td>141300.0</td>\n",
       "      <td>0.050900</td>\n",
       "      <td>20650.0</td>\n",
       "      <td>0.9845</td>\n",
       "      <td>0.008</td>\n",
       "      <td>19.581731</td>\n",
       "      <td>0.5278</td>\n",
       "      <td>0.042449</td>\n",
       "      <td>0.098189</td>\n",
       "      <td>3.937552</td>\n",
       "      <td>3.965907</td>\n",
       "    </tr>\n",
       "    <tr>\n",
       "      <th>1105</th>\n",
       "      <td>201690</td>\n",
       "      <td>3026</td>\n",
       "      <td>28600.0</td>\n",
       "      <td>0.377200</td>\n",
       "      <td>6438.0</td>\n",
       "      <td>0.5109</td>\n",
       "      <td>0.299</td>\n",
       "      <td>21.268335</td>\n",
       "      <td>0.4647</td>\n",
       "      <td>0.039148</td>\n",
       "      <td>0.000683</td>\n",
       "      <td>0.342600</td>\n",
       "      <td>0.342451</td>\n",
       "    </tr>\n",
       "  </tbody>\n",
       "</table>\n",
       "</div>"
      ],
      "text/plain": [
       "      UNITID  OPEID6  MN_EARN_WNE_P10  ADM_RATE_ALL  AVGFACSAL  RET_FT4  \\\n",
       "1728  414878    1839          49600.0      0.757525     8480.0   0.0000   \n",
       "1457  227243    4072          54900.0      0.577391     7342.0   0.2209   \n",
       "288   140553    1582          49000.0      0.840300     7004.0   0.8302   \n",
       "1687  243744    1305         141300.0      0.050900    20650.0   0.9845   \n",
       "1105  201690    3026          28600.0      0.377200     6438.0   0.5109   \n",
       "\n",
       "       CDR3  AGE_ENTRY  UGDS_MEN  Leverage  Cooks Distance  \\\n",
       "1728  0.082  23.623472    0.3856  0.111976        0.018978   \n",
       "1457  0.088  26.145374    0.3863  0.050988        0.018711   \n",
       "288   0.184  19.780273    1.0000  0.048033        0.002237   \n",
       "1687  0.008  19.581731    0.5278  0.042449        0.098189   \n",
       "1105  0.299  21.268335    0.4647  0.039148        0.000683   \n",
       "\n",
       "      Standardized Residuals  Studentized Residuals  \n",
       "1728                1.026420               1.026447  \n",
       "1457                1.561331               1.562434  \n",
       "288                 0.557077               0.556888  \n",
       "1687                3.937552               3.965907  \n",
       "1105                0.342600               0.342451  "
      ]
     },
     "execution_count": 92,
     "metadata": {},
     "output_type": "execute_result"
    }
   ],
   "source": [
    "leverage_df = residual_results.sort_values(\"Leverage\", ascending=False)\n",
    "leverage_df.head()"
   ]
  },
  {
   "cell_type": "code",
   "execution_count": 93,
   "metadata": {},
   "outputs": [
    {
     "data": {
      "text/html": [
       "<div>\n",
       "<style scoped>\n",
       "    .dataframe tbody tr th:only-of-type {\n",
       "        vertical-align: middle;\n",
       "    }\n",
       "\n",
       "    .dataframe tbody tr th {\n",
       "        vertical-align: top;\n",
       "    }\n",
       "\n",
       "    .dataframe thead th {\n",
       "        text-align: right;\n",
       "    }\n",
       "</style>\n",
       "<table border=\"1\" class=\"dataframe\">\n",
       "  <thead>\n",
       "    <tr style=\"text-align: right;\">\n",
       "      <th></th>\n",
       "      <th>UNITID</th>\n",
       "      <th>MN_EARN_WNE_P10</th>\n",
       "      <th>ADM_RATE_ALL</th>\n",
       "      <th>AVGFACSAL</th>\n",
       "      <th>RET_FT4</th>\n",
       "      <th>CDR3</th>\n",
       "      <th>AGE_ENTRY</th>\n",
       "      <th>UGDS_MEN</th>\n",
       "      <th>Leverage</th>\n",
       "      <th>Cooks Distance</th>\n",
       "      <th>Standardized Residuals</th>\n",
       "      <th>Studentized Residuals</th>\n",
       "    </tr>\n",
       "    <tr>\n",
       "      <th>OPEID6</th>\n",
       "      <th></th>\n",
       "      <th></th>\n",
       "      <th></th>\n",
       "      <th></th>\n",
       "      <th></th>\n",
       "      <th></th>\n",
       "      <th></th>\n",
       "      <th></th>\n",
       "      <th></th>\n",
       "      <th></th>\n",
       "      <th></th>\n",
       "      <th></th>\n",
       "    </tr>\n",
       "  </thead>\n",
       "  <tbody>\n",
       "    <tr>\n",
       "      <th>1002</th>\n",
       "      <td>100654</td>\n",
       "      <td>35500.0</td>\n",
       "      <td>0.5256</td>\n",
       "      <td>6892.0</td>\n",
       "      <td>0.6595</td>\n",
       "      <td>0.172</td>\n",
       "      <td>20.525773</td>\n",
       "      <td>0.4831</td>\n",
       "      <td>0.010142</td>\n",
       "      <td>0.000261</td>\n",
       "      <td>-0.422036</td>\n",
       "      <td>-0.421866</td>\n",
       "    </tr>\n",
       "    <tr>\n",
       "      <th>1052</th>\n",
       "      <td>100663</td>\n",
       "      <td>48400.0</td>\n",
       "      <td>0.8569</td>\n",
       "      <td>9957.0</td>\n",
       "      <td>0.8288</td>\n",
       "      <td>0.062</td>\n",
       "      <td>23.492140</td>\n",
       "      <td>0.4169</td>\n",
       "      <td>0.005544</td>\n",
       "      <td>0.000985</td>\n",
       "      <td>-1.111903</td>\n",
       "      <td>-1.112032</td>\n",
       "    </tr>\n",
       "  </tbody>\n",
       "</table>\n",
       "</div>"
      ],
      "text/plain": [
       "        UNITID  MN_EARN_WNE_P10  ADM_RATE_ALL  AVGFACSAL  RET_FT4   CDR3  \\\n",
       "OPEID6                                                                     \n",
       "1002    100654          35500.0        0.5256     6892.0   0.6595  0.172   \n",
       "1052    100663          48400.0        0.8569     9957.0   0.8288  0.062   \n",
       "\n",
       "        AGE_ENTRY  UGDS_MEN  Leverage  Cooks Distance  Standardized Residuals  \\\n",
       "OPEID6                                                                          \n",
       "1002    20.525773    0.4831  0.010142        0.000261               -0.422036   \n",
       "1052    23.492140    0.4169  0.005544        0.000985               -1.111903   \n",
       "\n",
       "        Studentized Residuals  \n",
       "OPEID6                         \n",
       "1002                -0.421866  \n",
       "1052                -1.112032  "
      ]
     },
     "execution_count": 93,
     "metadata": {},
     "output_type": "execute_result"
    }
   ],
   "source": [
    "residual_results.set_index('OPEID6', inplace=True)\n",
    "residual_results.head(2)"
   ]
  },
  {
   "cell_type": "code",
   "execution_count": 94,
   "metadata": {},
   "outputs": [],
   "source": [
    "# list(data.index.values)"
   ]
  },
  {
   "cell_type": "code",
   "execution_count": 95,
   "metadata": {},
   "outputs": [
    {
     "data": {
      "text/html": [
       "<div>\n",
       "<style scoped>\n",
       "    .dataframe tbody tr th:only-of-type {\n",
       "        vertical-align: middle;\n",
       "    }\n",
       "\n",
       "    .dataframe tbody tr th {\n",
       "        vertical-align: top;\n",
       "    }\n",
       "\n",
       "    .dataframe thead th {\n",
       "        text-align: right;\n",
       "    }\n",
       "</style>\n",
       "<table border=\"1\" class=\"dataframe\">\n",
       "  <thead>\n",
       "    <tr style=\"text-align: right;\">\n",
       "      <th></th>\n",
       "      <th>UNITID</th>\n",
       "      <th>MN_EARN_WNE_P10</th>\n",
       "      <th>ADM_RATE_ALL</th>\n",
       "      <th>AVGFACSAL</th>\n",
       "      <th>RET_FT4</th>\n",
       "      <th>CDR3</th>\n",
       "      <th>AGE_ENTRY</th>\n",
       "      <th>UGDS_MEN</th>\n",
       "      <th>Leverage</th>\n",
       "      <th>Cooks Distance</th>\n",
       "      <th>Standardized Residuals</th>\n",
       "      <th>Studentized Residuals</th>\n",
       "    </tr>\n",
       "    <tr>\n",
       "      <th>OPEID6</th>\n",
       "      <th></th>\n",
       "      <th></th>\n",
       "      <th></th>\n",
       "      <th></th>\n",
       "      <th></th>\n",
       "      <th></th>\n",
       "      <th></th>\n",
       "      <th></th>\n",
       "      <th></th>\n",
       "      <th></th>\n",
       "      <th></th>\n",
       "      <th></th>\n",
       "    </tr>\n",
       "  </thead>\n",
       "  <tbody>\n",
       "    <tr>\n",
       "      <th>2178</th>\n",
       "      <td>166683</td>\n",
       "      <td>153600.0</td>\n",
       "      <td>0.078800</td>\n",
       "      <td>16314.0</td>\n",
       "      <td>0.9865</td>\n",
       "      <td>0.017</td>\n",
       "      <td>19.367841</td>\n",
       "      <td>0.5424</td>\n",
       "      <td>0.019551</td>\n",
       "      <td>0.165893</td>\n",
       "      <td>7.631087</td>\n",
       "      <td>7.855094</td>\n",
       "    </tr>\n",
       "    <tr>\n",
       "      <th>1305</th>\n",
       "      <td>243744</td>\n",
       "      <td>141300.0</td>\n",
       "      <td>0.050900</td>\n",
       "      <td>20650.0</td>\n",
       "      <td>0.9845</td>\n",
       "      <td>0.008</td>\n",
       "      <td>19.581731</td>\n",
       "      <td>0.5278</td>\n",
       "      <td>0.042449</td>\n",
       "      <td>0.098189</td>\n",
       "      <td>3.937552</td>\n",
       "      <td>3.965907</td>\n",
       "    </tr>\n",
       "    <tr>\n",
       "      <th>2155</th>\n",
       "      <td>166027</td>\n",
       "      <td>139100.0</td>\n",
       "      <td>0.059600</td>\n",
       "      <td>18676.0</td>\n",
       "      <td>0.9783</td>\n",
       "      <td>0.009</td>\n",
       "      <td>22.286765</td>\n",
       "      <td>0.5246</td>\n",
       "      <td>0.032658</td>\n",
       "      <td>0.095236</td>\n",
       "      <td>4.443702</td>\n",
       "      <td>4.485191</td>\n",
       "    </tr>\n",
       "    <tr>\n",
       "      <th>3378</th>\n",
       "      <td>215062</td>\n",
       "      <td>131600.0</td>\n",
       "      <td>0.103700</td>\n",
       "      <td>15855.0</td>\n",
       "      <td>0.9744</td>\n",
       "      <td>0.011</td>\n",
       "      <td>23.038913</td>\n",
       "      <td>0.4924</td>\n",
       "      <td>0.019971</td>\n",
       "      <td>0.069058</td>\n",
       "      <td>4.870587</td>\n",
       "      <td>4.925872</td>\n",
       "    </tr>\n",
       "    <tr>\n",
       "      <th>3524</th>\n",
       "      <td>221856</td>\n",
       "      <td>33500.0</td>\n",
       "      <td>0.581700</td>\n",
       "      <td>2197.0</td>\n",
       "      <td>0.4118</td>\n",
       "      <td>0.298</td>\n",
       "      <td>27.207317</td>\n",
       "      <td>0.4577</td>\n",
       "      <td>0.032564</td>\n",
       "      <td>0.047041</td>\n",
       "      <td>3.127743</td>\n",
       "      <td>3.141323</td>\n",
       "    </tr>\n",
       "    <tr>\n",
       "      <th>1445</th>\n",
       "      <td>131496</td>\n",
       "      <td>125200.0</td>\n",
       "      <td>0.173500</td>\n",
       "      <td>13322.0</td>\n",
       "      <td>0.9630</td>\n",
       "      <td>0.006</td>\n",
       "      <td>20.669497</td>\n",
       "      <td>0.4531</td>\n",
       "      <td>0.010474</td>\n",
       "      <td>0.045099</td>\n",
       "      <td>5.461286</td>\n",
       "      <td>5.540289</td>\n",
       "    </tr>\n",
       "    <tr>\n",
       "      <th>1426</th>\n",
       "      <td>130794</td>\n",
       "      <td>124400.0</td>\n",
       "      <td>0.063000</td>\n",
       "      <td>16529.0</td>\n",
       "      <td>0.9838</td>\n",
       "      <td>0.006</td>\n",
       "      <td>19.626429</td>\n",
       "      <td>0.5098</td>\n",
       "      <td>0.020567</td>\n",
       "      <td>0.039163</td>\n",
       "      <td>3.613203</td>\n",
       "      <td>3.634789</td>\n",
       "    </tr>\n",
       "    <tr>\n",
       "      <th>2165</th>\n",
       "      <td>166656</td>\n",
       "      <td>106500.0</td>\n",
       "      <td>0.840100</td>\n",
       "      <td>8488.0</td>\n",
       "      <td>0.8664</td>\n",
       "      <td>0.010</td>\n",
       "      <td>21.560076</td>\n",
       "      <td>0.3136</td>\n",
       "      <td>0.005382</td>\n",
       "      <td>0.035572</td>\n",
       "      <td>6.783619</td>\n",
       "      <td>6.938775</td>\n",
       "    </tr>\n",
       "    <tr>\n",
       "      <th>2627</th>\n",
       "      <td>186131</td>\n",
       "      <td>116300.0</td>\n",
       "      <td>0.074400</td>\n",
       "      <td>16242.0</td>\n",
       "      <td>0.9766</td>\n",
       "      <td>0.024</td>\n",
       "      <td>19.411061</td>\n",
       "      <td>0.5112</td>\n",
       "      <td>0.019656</td>\n",
       "      <td>0.024595</td>\n",
       "      <td>2.930319</td>\n",
       "      <td>2.941300</td>\n",
       "    </tr>\n",
       "    <tr>\n",
       "      <th>2920</th>\n",
       "      <td>198419</td>\n",
       "      <td>114500.0</td>\n",
       "      <td>0.114100</td>\n",
       "      <td>14904.0</td>\n",
       "      <td>0.9723</td>\n",
       "      <td>0.006</td>\n",
       "      <td>23.143902</td>\n",
       "      <td>0.5037</td>\n",
       "      <td>0.017002</td>\n",
       "      <td>0.022079</td>\n",
       "      <td>2.989233</td>\n",
       "      <td>3.000952</td>\n",
       "    </tr>\n",
       "    <tr>\n",
       "      <th>2121</th>\n",
       "      <td>164580</td>\n",
       "      <td>113300.0</td>\n",
       "      <td>0.263100</td>\n",
       "      <td>15140.0</td>\n",
       "      <td>0.9448</td>\n",
       "      <td>0.011</td>\n",
       "      <td>19.541502</td>\n",
       "      <td>0.5316</td>\n",
       "      <td>0.013361</td>\n",
       "      <td>0.019602</td>\n",
       "      <td>3.183178</td>\n",
       "      <td>3.197553</td>\n",
       "    </tr>\n",
       "    <tr>\n",
       "      <th>2573</th>\n",
       "      <td>182670</td>\n",
       "      <td>110200.0</td>\n",
       "      <td>0.115000</td>\n",
       "      <td>13346.0</td>\n",
       "      <td>0.9766</td>\n",
       "      <td>0.017</td>\n",
       "      <td>20.617871</td>\n",
       "      <td>0.5067</td>\n",
       "      <td>0.011750</td>\n",
       "      <td>0.019452</td>\n",
       "      <td>3.384061</td>\n",
       "      <td>3.401569</td>\n",
       "    </tr>\n",
       "    <tr>\n",
       "      <th>2707</th>\n",
       "      <td>190150</td>\n",
       "      <td>115600.0</td>\n",
       "      <td>0.069500</td>\n",
       "      <td>16831.0</td>\n",
       "      <td>0.9648</td>\n",
       "      <td>0.017</td>\n",
       "      <td>23.772860</td>\n",
       "      <td>0.5243</td>\n",
       "      <td>0.026120</td>\n",
       "      <td>0.019242</td>\n",
       "      <td>2.240962</td>\n",
       "      <td>2.245402</td>\n",
       "    </tr>\n",
       "    <tr>\n",
       "      <th>1839</th>\n",
       "      <td>414878</td>\n",
       "      <td>49600.0</td>\n",
       "      <td>0.757525</td>\n",
       "      <td>8480.0</td>\n",
       "      <td>0.0000</td>\n",
       "      <td>0.082</td>\n",
       "      <td>23.623472</td>\n",
       "      <td>0.3856</td>\n",
       "      <td>0.111976</td>\n",
       "      <td>0.018978</td>\n",
       "      <td>1.026420</td>\n",
       "      <td>1.026447</td>\n",
       "    </tr>\n",
       "    <tr>\n",
       "      <th>4072</th>\n",
       "      <td>227243</td>\n",
       "      <td>54900.0</td>\n",
       "      <td>0.577391</td>\n",
       "      <td>7342.0</td>\n",
       "      <td>0.2209</td>\n",
       "      <td>0.088</td>\n",
       "      <td>26.145374</td>\n",
       "      <td>0.3863</td>\n",
       "      <td>0.050988</td>\n",
       "      <td>0.018711</td>\n",
       "      <td>1.561331</td>\n",
       "      <td>1.562434</td>\n",
       "    </tr>\n",
       "    <tr>\n",
       "      <th>3353</th>\n",
       "      <td>215132</td>\n",
       "      <td>92400.0</td>\n",
       "      <td>0.578800</td>\n",
       "      <td>7716.0</td>\n",
       "      <td>0.8818</td>\n",
       "      <td>0.021</td>\n",
       "      <td>19.640559</td>\n",
       "      <td>0.4108</td>\n",
       "      <td>0.004976</td>\n",
       "      <td>0.016782</td>\n",
       "      <td>4.846883</td>\n",
       "      <td>4.901332</td>\n",
       "    </tr>\n",
       "    <tr>\n",
       "      <th>2219</th>\n",
       "      <td>168148</td>\n",
       "      <td>103300.0</td>\n",
       "      <td>0.172400</td>\n",
       "      <td>11496.0</td>\n",
       "      <td>0.9694</td>\n",
       "      <td>0.015</td>\n",
       "      <td>19.673913</td>\n",
       "      <td>0.4956</td>\n",
       "      <td>0.009350</td>\n",
       "      <td>0.016367</td>\n",
       "      <td>3.484078</td>\n",
       "      <td>3.503297</td>\n",
       "    </tr>\n",
       "    <tr>\n",
       "      <th>3242</th>\n",
       "      <td>211440</td>\n",
       "      <td>103000.0</td>\n",
       "      <td>0.246000</td>\n",
       "      <td>11357.0</td>\n",
       "      <td>0.9597</td>\n",
       "      <td>0.007</td>\n",
       "      <td>19.306231</td>\n",
       "      <td>0.5668</td>\n",
       "      <td>0.008799</td>\n",
       "      <td>0.014664</td>\n",
       "      <td>3.400436</td>\n",
       "      <td>3.418217</td>\n",
       "    </tr>\n",
       "    <tr>\n",
       "      <th>3495</th>\n",
       "      <td>132879</td>\n",
       "      <td>31700.0</td>\n",
       "      <td>0.513500</td>\n",
       "      <td>7042.0</td>\n",
       "      <td>0.3864</td>\n",
       "      <td>0.076</td>\n",
       "      <td>22.714475</td>\n",
       "      <td>0.4864</td>\n",
       "      <td>0.027318</td>\n",
       "      <td>0.014588</td>\n",
       "      <td>-1.906797</td>\n",
       "      <td>-1.909271</td>\n",
       "    </tr>\n",
       "    <tr>\n",
       "      <th>1315</th>\n",
       "      <td>110662</td>\n",
       "      <td>73200.0</td>\n",
       "      <td>0.185600</td>\n",
       "      <td>15841.0</td>\n",
       "      <td>0.9685</td>\n",
       "      <td>0.015</td>\n",
       "      <td>21.320113</td>\n",
       "      <td>0.4432</td>\n",
       "      <td>0.017057</td>\n",
       "      <td>0.014118</td>\n",
       "      <td>-2.386469</td>\n",
       "      <td>-2.391992</td>\n",
       "    </tr>\n",
       "    <tr>\n",
       "      <th>1417</th>\n",
       "      <td>436827</td>\n",
       "      <td>66000.0</td>\n",
       "      <td>0.503355</td>\n",
       "      <td>15528.0</td>\n",
       "      <td>0.8696</td>\n",
       "      <td>0.027</td>\n",
       "      <td>20.513293</td>\n",
       "      <td>0.4746</td>\n",
       "      <td>0.016366</td>\n",
       "      <td>0.013845</td>\n",
       "      <td>-2.413437</td>\n",
       "      <td>-2.419177</td>\n",
       "    </tr>\n",
       "    <tr>\n",
       "      <th>1417</th>\n",
       "      <td>436836</td>\n",
       "      <td>66000.0</td>\n",
       "      <td>0.503355</td>\n",
       "      <td>15528.0</td>\n",
       "      <td>0.8694</td>\n",
       "      <td>0.027</td>\n",
       "      <td>20.513293</td>\n",
       "      <td>0.4521</td>\n",
       "      <td>0.016603</td>\n",
       "      <td>0.013438</td>\n",
       "      <td>-2.360397</td>\n",
       "      <td>-2.365715</td>\n",
       "    </tr>\n",
       "    <tr>\n",
       "      <th>1348</th>\n",
       "      <td>126775</td>\n",
       "      <td>95600.0</td>\n",
       "      <td>0.364700</td>\n",
       "      <td>10474.0</td>\n",
       "      <td>0.9371</td>\n",
       "      <td>0.008</td>\n",
       "      <td>20.869056</td>\n",
       "      <td>0.7337</td>\n",
       "      <td>0.012691</td>\n",
       "      <td>0.012513</td>\n",
       "      <td>2.610381</td>\n",
       "      <td>2.617867</td>\n",
       "    </tr>\n",
       "    <tr>\n",
       "      <th>3030</th>\n",
       "      <td>201964</td>\n",
       "      <td>33000.0</td>\n",
       "      <td>0.654000</td>\n",
       "      <td>1451.0</td>\n",
       "      <td>0.6405</td>\n",
       "      <td>0.167</td>\n",
       "      <td>34.450329</td>\n",
       "      <td>0.3675</td>\n",
       "      <td>0.036338</td>\n",
       "      <td>0.012066</td>\n",
       "      <td>1.496622</td>\n",
       "      <td>1.497535</td>\n",
       "    </tr>\n",
       "    <tr>\n",
       "      <th>2992</th>\n",
       "      <td>200217</td>\n",
       "      <td>53000.0</td>\n",
       "      <td>0.786500</td>\n",
       "      <td>2997.0</td>\n",
       "      <td>0.7612</td>\n",
       "      <td>0.052</td>\n",
       "      <td>22.213825</td>\n",
       "      <td>0.3480</td>\n",
       "      <td>0.010582</td>\n",
       "      <td>0.011684</td>\n",
       "      <td>2.765305</td>\n",
       "      <td>2.774377</td>\n",
       "    </tr>\n",
       "    <tr>\n",
       "      <th>1443</th>\n",
       "      <td>131450</td>\n",
       "      <td>34300.0</td>\n",
       "      <td>0.653200</td>\n",
       "      <td>10061.0</td>\n",
       "      <td>0.6650</td>\n",
       "      <td>0.053</td>\n",
       "      <td>22.803536</td>\n",
       "      <td>0.4585</td>\n",
       "      <td>0.006960</td>\n",
       "      <td>0.010794</td>\n",
       "      <td>-3.283412</td>\n",
       "      <td>-3.299299</td>\n",
       "    </tr>\n",
       "  </tbody>\n",
       "</table>\n",
       "</div>"
      ],
      "text/plain": [
       "        UNITID  MN_EARN_WNE_P10  ADM_RATE_ALL  AVGFACSAL  RET_FT4   CDR3  \\\n",
       "OPEID6                                                                     \n",
       "2178    166683         153600.0      0.078800    16314.0   0.9865  0.017   \n",
       "1305    243744         141300.0      0.050900    20650.0   0.9845  0.008   \n",
       "2155    166027         139100.0      0.059600    18676.0   0.9783  0.009   \n",
       "3378    215062         131600.0      0.103700    15855.0   0.9744  0.011   \n",
       "3524    221856          33500.0      0.581700     2197.0   0.4118  0.298   \n",
       "1445    131496         125200.0      0.173500    13322.0   0.9630  0.006   \n",
       "1426    130794         124400.0      0.063000    16529.0   0.9838  0.006   \n",
       "2165    166656         106500.0      0.840100     8488.0   0.8664  0.010   \n",
       "2627    186131         116300.0      0.074400    16242.0   0.9766  0.024   \n",
       "2920    198419         114500.0      0.114100    14904.0   0.9723  0.006   \n",
       "2121    164580         113300.0      0.263100    15140.0   0.9448  0.011   \n",
       "2573    182670         110200.0      0.115000    13346.0   0.9766  0.017   \n",
       "2707    190150         115600.0      0.069500    16831.0   0.9648  0.017   \n",
       "1839    414878          49600.0      0.757525     8480.0   0.0000  0.082   \n",
       "4072    227243          54900.0      0.577391     7342.0   0.2209  0.088   \n",
       "3353    215132          92400.0      0.578800     7716.0   0.8818  0.021   \n",
       "2219    168148         103300.0      0.172400    11496.0   0.9694  0.015   \n",
       "3242    211440         103000.0      0.246000    11357.0   0.9597  0.007   \n",
       "3495    132879          31700.0      0.513500     7042.0   0.3864  0.076   \n",
       "1315    110662          73200.0      0.185600    15841.0   0.9685  0.015   \n",
       "1417    436827          66000.0      0.503355    15528.0   0.8696  0.027   \n",
       "1417    436836          66000.0      0.503355    15528.0   0.8694  0.027   \n",
       "1348    126775          95600.0      0.364700    10474.0   0.9371  0.008   \n",
       "3030    201964          33000.0      0.654000     1451.0   0.6405  0.167   \n",
       "2992    200217          53000.0      0.786500     2997.0   0.7612  0.052   \n",
       "1443    131450          34300.0      0.653200    10061.0   0.6650  0.053   \n",
       "\n",
       "        AGE_ENTRY  UGDS_MEN  Leverage  Cooks Distance  Standardized Residuals  \\\n",
       "OPEID6                                                                          \n",
       "2178    19.367841    0.5424  0.019551        0.165893                7.631087   \n",
       "1305    19.581731    0.5278  0.042449        0.098189                3.937552   \n",
       "2155    22.286765    0.5246  0.032658        0.095236                4.443702   \n",
       "3378    23.038913    0.4924  0.019971        0.069058                4.870587   \n",
       "3524    27.207317    0.4577  0.032564        0.047041                3.127743   \n",
       "1445    20.669497    0.4531  0.010474        0.045099                5.461286   \n",
       "1426    19.626429    0.5098  0.020567        0.039163                3.613203   \n",
       "2165    21.560076    0.3136  0.005382        0.035572                6.783619   \n",
       "2627    19.411061    0.5112  0.019656        0.024595                2.930319   \n",
       "2920    23.143902    0.5037  0.017002        0.022079                2.989233   \n",
       "2121    19.541502    0.5316  0.013361        0.019602                3.183178   \n",
       "2573    20.617871    0.5067  0.011750        0.019452                3.384061   \n",
       "2707    23.772860    0.5243  0.026120        0.019242                2.240962   \n",
       "1839    23.623472    0.3856  0.111976        0.018978                1.026420   \n",
       "4072    26.145374    0.3863  0.050988        0.018711                1.561331   \n",
       "3353    19.640559    0.4108  0.004976        0.016782                4.846883   \n",
       "2219    19.673913    0.4956  0.009350        0.016367                3.484078   \n",
       "3242    19.306231    0.5668  0.008799        0.014664                3.400436   \n",
       "3495    22.714475    0.4864  0.027318        0.014588               -1.906797   \n",
       "1315    21.320113    0.4432  0.017057        0.014118               -2.386469   \n",
       "1417    20.513293    0.4746  0.016366        0.013845               -2.413437   \n",
       "1417    20.513293    0.4521  0.016603        0.013438               -2.360397   \n",
       "1348    20.869056    0.7337  0.012691        0.012513                2.610381   \n",
       "3030    34.450329    0.3675  0.036338        0.012066                1.496622   \n",
       "2992    22.213825    0.3480  0.010582        0.011684                2.765305   \n",
       "1443    22.803536    0.4585  0.006960        0.010794               -3.283412   \n",
       "\n",
       "        Studentized Residuals  \n",
       "OPEID6                         \n",
       "2178                 7.855094  \n",
       "1305                 3.965907  \n",
       "2155                 4.485191  \n",
       "3378                 4.925872  \n",
       "3524                 3.141323  \n",
       "1445                 5.540289  \n",
       "1426                 3.634789  \n",
       "2165                 6.938775  \n",
       "2627                 2.941300  \n",
       "2920                 3.000952  \n",
       "2121                 3.197553  \n",
       "2573                 3.401569  \n",
       "2707                 2.245402  \n",
       "1839                 1.026447  \n",
       "4072                 1.562434  \n",
       "3353                 4.901332  \n",
       "2219                 3.503297  \n",
       "3242                 3.418217  \n",
       "3495                -1.909271  \n",
       "1315                -2.391992  \n",
       "1417                -2.419177  \n",
       "1417                -2.365715  \n",
       "1348                 2.617867  \n",
       "3030                 1.497535  \n",
       "2992                 2.774377  \n",
       "1443                -3.299299  "
      ]
     },
     "execution_count": 95,
     "metadata": {},
     "output_type": "execute_result"
    }
   ],
   "source": [
    "cooks_df = residual_results.sort_values(\"Cooks Distance\", ascending=False)\n",
    "cooks_df.head(26)"
   ]
  },
  {
   "cell_type": "markdown",
   "metadata": {},
   "source": [
    "#### Remove Outliers from Cook's Distance with values > 0.01"
   ]
  },
  {
   "cell_type": "code",
   "execution_count": 96,
   "metadata": {},
   "outputs": [],
   "source": [
    "residual_results=residual_results.drop([2178,1305,2155,3378,3524,1445,1426,2165,2627,2920,2121,2573,2707,1839,4072,3353,2219,3242,3495,1315,1417,1348,3030,2992,1443], axis=0)"
   ]
  },
  {
   "cell_type": "code",
   "execution_count": 97,
   "metadata": {},
   "outputs": [
    {
     "data": {
      "text/plain": [
       "(994, 12)"
      ]
     },
     "execution_count": 97,
     "metadata": {},
     "output_type": "execute_result"
    }
   ],
   "source": [
    "residual_results.shape"
   ]
  },
  {
   "cell_type": "code",
   "execution_count": 98,
   "metadata": {},
   "outputs": [
    {
     "data": {
      "text/html": [
       "<div>\n",
       "<style scoped>\n",
       "    .dataframe tbody tr th:only-of-type {\n",
       "        vertical-align: middle;\n",
       "    }\n",
       "\n",
       "    .dataframe tbody tr th {\n",
       "        vertical-align: top;\n",
       "    }\n",
       "\n",
       "    .dataframe thead th {\n",
       "        text-align: right;\n",
       "    }\n",
       "</style>\n",
       "<table border=\"1\" class=\"dataframe\">\n",
       "  <thead>\n",
       "    <tr style=\"text-align: right;\">\n",
       "      <th></th>\n",
       "      <th>UNITID</th>\n",
       "      <th>MN_EARN_WNE_P10</th>\n",
       "      <th>ADM_RATE_ALL</th>\n",
       "      <th>AVGFACSAL</th>\n",
       "      <th>RET_FT4</th>\n",
       "      <th>CDR3</th>\n",
       "      <th>AGE_ENTRY</th>\n",
       "      <th>UGDS_MEN</th>\n",
       "      <th>Leverage</th>\n",
       "      <th>Cooks Distance</th>\n",
       "      <th>Standardized Residuals</th>\n",
       "      <th>Studentized Residuals</th>\n",
       "    </tr>\n",
       "    <tr>\n",
       "      <th>OPEID6</th>\n",
       "      <th></th>\n",
       "      <th></th>\n",
       "      <th></th>\n",
       "      <th></th>\n",
       "      <th></th>\n",
       "      <th></th>\n",
       "      <th></th>\n",
       "      <th></th>\n",
       "      <th></th>\n",
       "      <th></th>\n",
       "      <th></th>\n",
       "      <th></th>\n",
       "    </tr>\n",
       "  </thead>\n",
       "  <tbody>\n",
       "    <tr>\n",
       "      <th>2032</th>\n",
       "      <td>160904</td>\n",
       "      <td>64500.0</td>\n",
       "      <td>0.659900</td>\n",
       "      <td>8131.0</td>\n",
       "      <td>0.7077</td>\n",
       "      <td>0.103</td>\n",
       "      <td>20.229778</td>\n",
       "      <td>0.2702</td>\n",
       "      <td>0.007376</td>\n",
       "      <td>0.007482</td>\n",
       "      <td>2.654897</td>\n",
       "      <td>2.662819</td>\n",
       "    </tr>\n",
       "    <tr>\n",
       "      <th>2246</th>\n",
       "      <td>169327</td>\n",
       "      <td>59500.0</td>\n",
       "      <td>0.792900</td>\n",
       "      <td>4765.0</td>\n",
       "      <td>0.7209</td>\n",
       "      <td>0.078</td>\n",
       "      <td>27.690037</td>\n",
       "      <td>0.4749</td>\n",
       "      <td>0.008779</td>\n",
       "      <td>0.008478</td>\n",
       "      <td>2.588646</td>\n",
       "      <td>2.595925</td>\n",
       "    </tr>\n",
       "    <tr>\n",
       "      <th>1329</th>\n",
       "      <td>120883</td>\n",
       "      <td>84200.0</td>\n",
       "      <td>0.549000</td>\n",
       "      <td>10193.0</td>\n",
       "      <td>0.8595</td>\n",
       "      <td>0.033</td>\n",
       "      <td>20.696858</td>\n",
       "      <td>0.4842</td>\n",
       "      <td>0.002373</td>\n",
       "      <td>0.002186</td>\n",
       "      <td>2.536590</td>\n",
       "      <td>2.543387</td>\n",
       "    </tr>\n",
       "    <tr>\n",
       "      <th>3329</th>\n",
       "      <td>479956</td>\n",
       "      <td>57200.0</td>\n",
       "      <td>0.626518</td>\n",
       "      <td>4415.0</td>\n",
       "      <td>0.5682</td>\n",
       "      <td>0.057</td>\n",
       "      <td>21.766294</td>\n",
       "      <td>0.4669</td>\n",
       "      <td>0.010980</td>\n",
       "      <td>0.009603</td>\n",
       "      <td>2.460605</td>\n",
       "      <td>2.466737</td>\n",
       "    </tr>\n",
       "    <tr>\n",
       "      <th>3024</th>\n",
       "      <td>201645</td>\n",
       "      <td>89300.0</td>\n",
       "      <td>0.383100</td>\n",
       "      <td>10401.0</td>\n",
       "      <td>0.9312</td>\n",
       "      <td>0.012</td>\n",
       "      <td>19.527079</td>\n",
       "      <td>0.5444</td>\n",
       "      <td>0.005817</td>\n",
       "      <td>0.004866</td>\n",
       "      <td>2.412618</td>\n",
       "      <td>2.418351</td>\n",
       "    </tr>\n",
       "    <tr>\n",
       "      <th>2703</th>\n",
       "      <td>193399</td>\n",
       "      <td>61000.0</td>\n",
       "      <td>0.952100</td>\n",
       "      <td>7255.0</td>\n",
       "      <td>0.6943</td>\n",
       "      <td>0.050</td>\n",
       "      <td>20.155925</td>\n",
       "      <td>0.3052</td>\n",
       "      <td>0.008272</td>\n",
       "      <td>0.006873</td>\n",
       "      <td>2.401765</td>\n",
       "      <td>2.407410</td>\n",
       "    </tr>\n",
       "    <tr>\n",
       "      <th>3388</th>\n",
       "      <td>216597</td>\n",
       "      <td>87600.0</td>\n",
       "      <td>0.493300</td>\n",
       "      <td>10551.0</td>\n",
       "      <td>0.9367</td>\n",
       "      <td>0.011</td>\n",
       "      <td>20.830353</td>\n",
       "      <td>0.4766</td>\n",
       "      <td>0.003742</td>\n",
       "      <td>0.003026</td>\n",
       "      <td>2.374614</td>\n",
       "      <td>2.380043</td>\n",
       "    </tr>\n",
       "    <tr>\n",
       "      <th>1591</th>\n",
       "      <td>448309</td>\n",
       "      <td>50100.0</td>\n",
       "      <td>0.690701</td>\n",
       "      <td>4188.0</td>\n",
       "      <td>0.7000</td>\n",
       "      <td>0.091</td>\n",
       "      <td>27.833333</td>\n",
       "      <td>0.2009</td>\n",
       "      <td>0.009954</td>\n",
       "      <td>0.007438</td>\n",
       "      <td>2.275658</td>\n",
       "      <td>2.280342</td>\n",
       "    </tr>\n",
       "    <tr>\n",
       "      <th>2124</th>\n",
       "      <td>164739</td>\n",
       "      <td>95400.0</td>\n",
       "      <td>0.461100</td>\n",
       "      <td>12401.0</td>\n",
       "      <td>0.9394</td>\n",
       "      <td>0.011</td>\n",
       "      <td>19.667975</td>\n",
       "      <td>0.6002</td>\n",
       "      <td>0.006786</td>\n",
       "      <td>0.004990</td>\n",
       "      <td>2.260991</td>\n",
       "      <td>2.265572</td>\n",
       "    </tr>\n",
       "    <tr>\n",
       "      <th>1243</th>\n",
       "      <td>119173</td>\n",
       "      <td>63500.0</td>\n",
       "      <td>0.783000</td>\n",
       "      <td>8340.0</td>\n",
       "      <td>0.7724</td>\n",
       "      <td>0.043</td>\n",
       "      <td>24.111306</td>\n",
       "      <td>0.0666</td>\n",
       "      <td>0.014143</td>\n",
       "      <td>0.009253</td>\n",
       "      <td>2.124869</td>\n",
       "      <td>2.128547</td>\n",
       "    </tr>\n",
       "    <tr>\n",
       "      <th>2077</th>\n",
       "      <td>162928</td>\n",
       "      <td>89300.0</td>\n",
       "      <td>0.160800</td>\n",
       "      <td>10307.0</td>\n",
       "      <td>0.9668</td>\n",
       "      <td>0.015</td>\n",
       "      <td>22.209854</td>\n",
       "      <td>0.4913</td>\n",
       "      <td>0.010367</td>\n",
       "      <td>0.006386</td>\n",
       "      <td>2.065775</td>\n",
       "      <td>2.069098</td>\n",
       "    </tr>\n",
       "    <tr>\n",
       "      <th>3276</th>\n",
       "      <td>213011</td>\n",
       "      <td>54700.0</td>\n",
       "      <td>0.759400</td>\n",
       "      <td>5185.0</td>\n",
       "      <td>0.7944</td>\n",
       "      <td>0.066</td>\n",
       "      <td>26.370773</td>\n",
       "      <td>0.2545</td>\n",
       "      <td>0.008037</td>\n",
       "      <td>0.004910</td>\n",
       "      <td>2.059688</td>\n",
       "      <td>2.062976</td>\n",
       "    </tr>\n",
       "    <tr>\n",
       "      <th>2639</th>\n",
       "      <td>186867</td>\n",
       "      <td>91900.0</td>\n",
       "      <td>0.437800</td>\n",
       "      <td>11554.0</td>\n",
       "      <td>0.9244</td>\n",
       "      <td>0.022</td>\n",
       "      <td>19.579457</td>\n",
       "      <td>0.7097</td>\n",
       "      <td>0.009598</td>\n",
       "      <td>0.005840</td>\n",
       "      <td>2.053967</td>\n",
       "      <td>2.057222</td>\n",
       "    </tr>\n",
       "  </tbody>\n",
       "</table>\n",
       "</div>"
      ],
      "text/plain": [
       "        UNITID  MN_EARN_WNE_P10  ADM_RATE_ALL  AVGFACSAL  RET_FT4   CDR3  \\\n",
       "OPEID6                                                                     \n",
       "2032    160904          64500.0      0.659900     8131.0   0.7077  0.103   \n",
       "2246    169327          59500.0      0.792900     4765.0   0.7209  0.078   \n",
       "1329    120883          84200.0      0.549000    10193.0   0.8595  0.033   \n",
       "3329    479956          57200.0      0.626518     4415.0   0.5682  0.057   \n",
       "3024    201645          89300.0      0.383100    10401.0   0.9312  0.012   \n",
       "2703    193399          61000.0      0.952100     7255.0   0.6943  0.050   \n",
       "3388    216597          87600.0      0.493300    10551.0   0.9367  0.011   \n",
       "1591    448309          50100.0      0.690701     4188.0   0.7000  0.091   \n",
       "2124    164739          95400.0      0.461100    12401.0   0.9394  0.011   \n",
       "1243    119173          63500.0      0.783000     8340.0   0.7724  0.043   \n",
       "2077    162928          89300.0      0.160800    10307.0   0.9668  0.015   \n",
       "3276    213011          54700.0      0.759400     5185.0   0.7944  0.066   \n",
       "2639    186867          91900.0      0.437800    11554.0   0.9244  0.022   \n",
       "\n",
       "        AGE_ENTRY  UGDS_MEN  Leverage  Cooks Distance  Standardized Residuals  \\\n",
       "OPEID6                                                                          \n",
       "2032    20.229778    0.2702  0.007376        0.007482                2.654897   \n",
       "2246    27.690037    0.4749  0.008779        0.008478                2.588646   \n",
       "1329    20.696858    0.4842  0.002373        0.002186                2.536590   \n",
       "3329    21.766294    0.4669  0.010980        0.009603                2.460605   \n",
       "3024    19.527079    0.5444  0.005817        0.004866                2.412618   \n",
       "2703    20.155925    0.3052  0.008272        0.006873                2.401765   \n",
       "3388    20.830353    0.4766  0.003742        0.003026                2.374614   \n",
       "1591    27.833333    0.2009  0.009954        0.007438                2.275658   \n",
       "2124    19.667975    0.6002  0.006786        0.004990                2.260991   \n",
       "1243    24.111306    0.0666  0.014143        0.009253                2.124869   \n",
       "2077    22.209854    0.4913  0.010367        0.006386                2.065775   \n",
       "3276    26.370773    0.2545  0.008037        0.004910                2.059688   \n",
       "2639    19.579457    0.7097  0.009598        0.005840                2.053967   \n",
       "\n",
       "        Studentized Residuals  \n",
       "OPEID6                         \n",
       "2032                 2.662819  \n",
       "2246                 2.595925  \n",
       "1329                 2.543387  \n",
       "3329                 2.466737  \n",
       "3024                 2.418351  \n",
       "2703                 2.407410  \n",
       "3388                 2.380043  \n",
       "1591                 2.280342  \n",
       "2124                 2.265572  \n",
       "1243                 2.128547  \n",
       "2077                 2.069098  \n",
       "3276                 2.062976  \n",
       "2639                 2.057222  "
      ]
     },
     "execution_count": 98,
     "metadata": {},
     "output_type": "execute_result"
    }
   ],
   "source": [
    "studentized_df = residual_results.sort_values(\"Studentized Residuals\", ascending=False)\n",
    "studentized_df.head(13)"
   ]
  },
  {
   "cell_type": "code",
   "execution_count": 99,
   "metadata": {},
   "outputs": [
    {
     "data": {
      "text/plain": [
       "(994, 12)"
      ]
     },
     "execution_count": 99,
     "metadata": {},
     "output_type": "execute_result"
    }
   ],
   "source": [
    "studentized_df.shape"
   ]
  },
  {
   "cell_type": "markdown",
   "metadata": {},
   "source": [
    "#### Remove Outliers from Studentized Residuals with values > 3\n",
    "\n",
    "#### Not required as removing high cook's d already removed high Studentized Residuals"
   ]
  },
  {
   "cell_type": "code",
   "execution_count": 100,
   "metadata": {},
   "outputs": [],
   "source": [
    "# residual_results=residual_results.drop([2178,2165,1445,3378,3353,2155,1305,1426,2219,3242,2573,2121,3524], axis=0)"
   ]
  },
  {
   "cell_type": "code",
   "execution_count": 101,
   "metadata": {},
   "outputs": [],
   "source": [
    "X = residual_results[['ADM_RATE_ALL', 'AVGFACSAL','RET_FT4', 'CDR3',\n",
    "       'AGE_ENTRY', 'UGDS_MEN']]\n",
    "y = residual_results['MN_EARN_WNE_P10']"
   ]
  },
  {
   "cell_type": "code",
   "execution_count": 102,
   "metadata": {},
   "outputs": [
    {
     "name": "stdout",
     "output_type": "stream",
     "text": [
      "(994, 6) (994,)\n"
     ]
    }
   ],
   "source": [
    "print(X.shape, y.shape)"
   ]
  },
  {
   "cell_type": "code",
   "execution_count": 103,
   "metadata": {
    "scrolled": true
   },
   "outputs": [
    {
     "data": {
      "text/plain": [
       "LinearRegression(copy_X=True, fit_intercept=True, n_jobs=None,\n",
       "         normalize=False)"
      ]
     },
     "execution_count": 103,
     "metadata": {},
     "output_type": "execute_result"
    }
   ],
   "source": [
    "# Fit Model\n",
    "model.fit(X, y)"
   ]
  },
  {
   "cell_type": "code",
   "execution_count": 104,
   "metadata": {},
   "outputs": [
    {
     "name": "stdout",
     "output_type": "stream",
     "text": [
      "[-7.81233780e+03  2.91401119e+00  1.19735641e+04 -9.00505826e+04\n",
      "  2.89841775e+02  1.72503814e+04]\n",
      "15478.433519989114\n"
     ]
    }
   ],
   "source": [
    "print(model.coef_)\n",
    "print(model.intercept_)"
   ]
  },
  {
   "cell_type": "code",
   "execution_count": 105,
   "metadata": {},
   "outputs": [
    {
     "data": {
      "text/plain": [
       "<matplotlib.collections.PathCollection at 0x227efafec18>"
      ]
     },
     "execution_count": 105,
     "metadata": {},
     "output_type": "execute_result"
    },
    {
     "data": {
      "image/png": "[encoded data removed]",
      "text/plain": [
       "<Figure size 432x288 with 1 Axes>"
      ]
     },
     "metadata": {
      "needs_background": "light"
     },
     "output_type": "display_data"
    }
   ],
   "source": [
    "predictions = model.predict(X)\n",
    "plt.scatter(predictions,y)"
   ]
  },
  {
   "cell_type": "code",
   "execution_count": 106,
   "metadata": {},
   "outputs": [
    {
     "name": "stdout",
     "output_type": "stream",
     "text": [
      "Mean Squared Error (MSE): 36824165.76351373\n",
      "R-squared (R2 ): 0.7150156465242419\n"
     ]
    }
   ],
   "source": [
    "from sklearn.metrics import mean_squared_error, r2_score\n",
    "predicted = model.predict(X)\n",
    "mse = mean_squared_error(y, predicted)\n",
    "r2 = r2_score(y, predicted)\n",
    "print(f\"Mean Squared Error (MSE): {mse}\")\n",
    "print(f\"R-squared (R2 ): {r2}\")"
   ]
  },
  {
   "cell_type": "code",
   "execution_count": 107,
   "metadata": {},
   "outputs": [
    {
     "data": {
      "text/plain": [
       "0.7077735591104921"
      ]
     },
     "execution_count": 107,
     "metadata": {},
     "output_type": "execute_result"
    }
   ],
   "source": [
    "est2.rsquared_adj"
   ]
  },
  {
   "cell_type": "markdown",
   "metadata": {},
   "source": [
    "### Check Homoscedasticity again"
   ]
  },
  {
   "cell_type": "code",
   "execution_count": 108,
   "metadata": {
    "scrolled": true
   },
   "outputs": [
    {
     "name": "stderr",
     "output_type": "stream",
     "text": [
      "C:\\Users\\Chart\\AppData\\Local\\Continuum\\anaconda3\\lib\\site-packages\\numpy\\core\\fromnumeric.py:2389: FutureWarning: Method .ptp is deprecated and will be removed in a future version. Use numpy.ptp instead.\n",
      "  return ptp(axis=axis, out=out, **kwargs)\n"
     ]
    }
   ],
   "source": [
    "X2 = sm.add_constant(X)\n",
    "est = sm.OLS(y, X2)\n",
    "est2 = est.fit()"
   ]
  },
  {
   "cell_type": "code",
   "execution_count": 109,
   "metadata": {},
   "outputs": [],
   "source": [
    "influence2 = est2.get_influence()"
   ]
  },
  {
   "cell_type": "code",
   "execution_count": 110,
   "metadata": {},
   "outputs": [],
   "source": [
    "cooks_d2 = influence2.cooks_distance"
   ]
  },
  {
   "cell_type": "code",
   "execution_count": 111,
   "metadata": {},
   "outputs": [],
   "source": [
    "standardized_residuals2 = influence2.resid_studentized_internal\n",
    "studentized_residuals2 = influence2.resid_studentized_external"
   ]
  },
  {
   "cell_type": "code",
   "execution_count": 112,
   "metadata": {},
   "outputs": [
    {
     "name": "stdout",
     "output_type": "stream",
     "text": [
      "994 994 994 994\n"
     ]
    }
   ],
   "source": [
    "print(len(X), len(X2), len(y), len(cooks_d2[0]))"
   ]
  },
  {
   "cell_type": "code",
   "execution_count": 113,
   "metadata": {},
   "outputs": [
    {
     "name": "stdout",
     "output_type": "stream",
     "text": [
      "994 994\n"
     ]
    }
   ],
   "source": [
    "print(len(predictions), len(model.predict(X)))"
   ]
  },
  {
   "cell_type": "markdown",
   "metadata": {},
   "source": [
    "#### Homoscedasticity has improved;"
   ]
  },
  {
   "cell_type": "code",
   "execution_count": 114,
   "metadata": {},
   "outputs": [
    {
     "data": {
      "image/png": "[encoded data removed]",
      "text/plain": [
       "<Figure size 432x288 with 1 Axes>"
      ]
     },
     "metadata": {
      "needs_background": "light"
     },
     "output_type": "display_data"
    }
   ],
   "source": [
    "plt.scatter(predictions, standardized_residuals2)\n",
    "plt.hlines(y=0, xmin=predictions.min(), xmax=predictions.max())\n",
    "plt.show()"
   ]
  },
  {
   "cell_type": "code",
   "execution_count": 115,
   "metadata": {},
   "outputs": [
    {
     "data": {
      "image/png": "[encoded data removed]",
      "text/plain": [
       "<Figure size 432x288 with 1 Axes>"
      ]
     },
     "metadata": {
      "needs_background": "light"
     },
     "output_type": "display_data"
    }
   ],
   "source": [
    "plt.scatter(predictions, studentized_residuals2)\n",
    "plt.hlines(y=0, xmin=predictions.min(), xmax=predictions.max())\n",
    "plt.show()"
   ]
  },
  {
   "cell_type": "code",
   "execution_count": 116,
   "metadata": {},
   "outputs": [
    {
     "data": {
      "image/png": "[encoded data removed]",
      "text/plain": [
       "<Figure size 432x288 with 1 Axes>"
      ]
     },
     "metadata": {
      "needs_background": "light"
     },
     "output_type": "display_data"
    }
   ],
   "source": [
    "plt.scatter(predictions, cooks_d2[0])\n",
    "plt.hlines(y=0, xmin=predictions.min(), xmax=predictions.max())\n",
    "plt.show()"
   ]
  },
  {
   "cell_type": "markdown",
   "metadata": {},
   "source": [
    "### Check independant variable non linearity again;"
   ]
  },
  {
   "cell_type": "code",
   "execution_count": 117,
   "metadata": {},
   "outputs": [
    {
     "data": {
      "text/plain": [
       "<matplotlib.collections.PathCollection at 0x227efc2b9e8>"
      ]
     },
     "execution_count": 117,
     "metadata": {},
     "output_type": "execute_result"
    },
    {
     "data": {
      "image/png": "[encoded data removed]",
      "text/plain": [
       "<Figure size 432x288 with 1 Axes>"
      ]
     },
     "metadata": {
      "needs_background": "light"
     },
     "output_type": "display_data"
    }
   ],
   "source": [
    "z = residual_results['ADM_RATE_ALL']\n",
    "plt.scatter(z, y)"
   ]
  },
  {
   "cell_type": "code",
   "execution_count": 118,
   "metadata": {},
   "outputs": [
    {
     "data": {
      "text/plain": [
       "<matplotlib.collections.PathCollection at 0x227efcb49e8>"
      ]
     },
     "execution_count": 118,
     "metadata": {},
     "output_type": "execute_result"
    },
    {
     "data": {
      "image/png": "[encoded data removed]",
      "text/plain": [
       "<Figure size 432x288 with 1 Axes>"
      ]
     },
     "metadata": {
      "needs_background": "light"
     },
     "output_type": "display_data"
    }
   ],
   "source": [
    "p = residual_results['CDR3']\n",
    "plt.scatter(p, y)"
   ]
  },
  {
   "cell_type": "code",
   "execution_count": 119,
   "metadata": {},
   "outputs": [
    {
     "data": {
      "text/plain": [
       "<matplotlib.collections.PathCollection at 0x227efc2b1d0>"
      ]
     },
     "execution_count": 119,
     "metadata": {},
     "output_type": "execute_result"
    },
    {
     "data": {
      "image/png": "[encoded data removed]",
      "text/plain": [
       "<Figure size 432x288 with 1 Axes>"
      ]
     },
     "metadata": {
      "needs_background": "light"
     },
     "output_type": "display_data"
    }
   ],
   "source": [
    "x = residual_results['RET_FT4']\n",
    "plt.scatter(x, y)"
   ]
  },
  {
   "cell_type": "code",
   "execution_count": 120,
   "metadata": {},
   "outputs": [
    {
     "data": {
      "text/plain": [
       "<matplotlib.collections.PathCollection at 0x227efbfb2b0>"
      ]
     },
     "execution_count": 120,
     "metadata": {},
     "output_type": "execute_result"
    },
    {
     "data": {
      "image/png": "[encoded data removed]",
      "text/plain": [
       "<Figure size 432x288 with 1 Axes>"
      ]
     },
     "metadata": {
      "needs_background": "light"
     },
     "output_type": "display_data"
    }
   ],
   "source": [
    "t = residual_results['UGDS_MEN']\n",
    "plt.scatter(t, y)"
   ]
  },
  {
   "cell_type": "markdown",
   "metadata": {},
   "source": [
    "#### Despite the work done so far, a logaritmic function may still work better"
   ]
  },
  {
   "cell_type": "code",
   "execution_count": 121,
   "metadata": {},
   "outputs": [
    {
     "name": "stdout",
     "output_type": "stream",
     "text": [
      "994 994\n"
     ]
    }
   ],
   "source": [
    "print(len(x),len(y))"
   ]
  },
  {
   "cell_type": "code",
   "execution_count": 122,
   "metadata": {},
   "outputs": [
    {
     "data": {
      "image/png": "[encoded data removed]",
      "text/plain": [
       "<Figure size 432x288 with 1 Axes>"
      ]
     },
     "metadata": {
      "needs_background": "light"
     },
     "output_type": "display_data"
    },
    {
     "name": "stdout",
     "output_type": "stream",
     "text": [
      "r-squared: 0.4574906952876625\n",
      "p value: 6.899759268624661e-134\n",
      "Standard Error: 2580.881221904328\n",
      "Slope: 74646.8337063916\n",
      "Intercept: -6857.273308408527\n"
     ]
    }
   ],
   "source": [
    "(slope, intercept, _, _, _) = linregress(x, y)\n",
    "fit = slope * x + intercept\n",
    "fig, ax = plt.subplots()\n",
    "\n",
    "ax.plot(x, y, linewidth=0, marker='o')\n",
    "ax.plot(x, intercept + slope*x, 'm--')\n",
    "plt.show()\n",
    "\n",
    "slope, intercept, r_value, p_value, std_err = stats.linregress(x,y)\n",
    "print(\"r-squared:\", r_value**2)\n",
    "print(\"p value:\", p_value)\n",
    "print(\"Standard Error:\", std_err)\n",
    "print(\"Slope:\", slope)\n",
    "print(\"Intercept:\", intercept)"
   ]
  },
  {
   "cell_type": "code",
   "execution_count": 123,
   "metadata": {},
   "outputs": [
    {
     "data": {
      "image/png": "[encoded data removed]",
      "text/plain": [
       "<Figure size 432x288 with 1 Axes>"
      ]
     },
     "metadata": {
      "needs_background": "light"
     },
     "output_type": "display_data"
    },
    {
     "name": "stdout",
     "output_type": "stream",
     "text": [
      "r-squared: 0.47103608436400896\n",
      "p value: 2.431518640802061e-139\n",
      "Standard Error: 0.04753516098403795\n",
      "Slope: 1.4128136128716096\n",
      "Intercept: 9.720753867034544\n"
     ]
    }
   ],
   "source": [
    "y = np.log(residual_results['MN_EARN_WNE_P10'])\n",
    "(slope, intercept, _, _, _) = linregress(x, y)\n",
    "fit = slope * x + intercept\n",
    "fig, ax = plt.subplots()\n",
    "\n",
    "ax.plot(x, y, linewidth=0, marker='o')\n",
    "ax.plot(x, intercept + slope*x, 'y--')\n",
    "\n",
    "# #plt.savefig(\"../Images/Injuries vs Weekly Avg Min Temp\")\n",
    "plt.show()\n",
    "\n",
    "slope, intercept, r_value, p_value, std_err = stats.linregress(x,y)\n",
    "print(\"r-squared:\", r_value**2)\n",
    "print(\"p value:\", p_value)\n",
    "print(\"Standard Error:\", std_err)\n",
    "print(\"Slope:\", slope)\n",
    "print(\"Intercept:\", intercept)"
   ]
  },
  {
   "cell_type": "code",
   "execution_count": 124,
   "metadata": {},
   "outputs": [
    {
     "data": {
      "text/plain": [
       "LinearRegression(copy_X=True, fit_intercept=True, n_jobs=None,\n",
       "         normalize=False)"
      ]
     },
     "execution_count": 124,
     "metadata": {},
     "output_type": "execute_result"
    }
   ],
   "source": [
    "# Fit Model\n",
    "model.fit(X, y)"
   ]
  },
  {
   "cell_type": "code",
   "execution_count": 125,
   "metadata": {},
   "outputs": [
    {
     "name": "stdout",
     "output_type": "stream",
     "text": [
      "[-7.61091033e-02  5.07363492e-05  2.38916336e-01 -1.99913622e+00\n",
      "  6.41483428e-03  3.19881917e-01]\n",
      "10.122009871310908\n"
     ]
    }
   ],
   "source": [
    "print(model.coef_)\n",
    "print(model.intercept_)"
   ]
  },
  {
   "cell_type": "code",
   "execution_count": 126,
   "metadata": {},
   "outputs": [
    {
     "name": "stderr",
     "output_type": "stream",
     "text": [
      "C:\\Users\\Chart\\AppData\\Local\\Continuum\\anaconda3\\lib\\site-packages\\numpy\\core\\fromnumeric.py:2389: FutureWarning: Method .ptp is deprecated and will be removed in a future version. Use numpy.ptp instead.\n",
      "  return ptp(axis=axis, out=out, **kwargs)\n"
     ]
    }
   ],
   "source": [
    "X2 = sm.add_constant(X)\n",
    "est = sm.OLS(y, X2)\n",
    "est2 = est.fit()"
   ]
  },
  {
   "cell_type": "code",
   "execution_count": 127,
   "metadata": {},
   "outputs": [
    {
     "data": {
      "text/plain": [
       "<matplotlib.collections.PathCollection at 0x227ef7f9da0>"
      ]
     },
     "execution_count": 127,
     "metadata": {},
     "output_type": "execute_result"
    },
    {
     "data": {
      "image/png": "[encoded data removed]",
      "text/plain": [
       "<Figure size 432x288 with 1 Axes>"
      ]
     },
     "metadata": {
      "needs_background": "light"
     },
     "output_type": "display_data"
    }
   ],
   "source": [
    "plt.scatter(model.predict(X),y)"
   ]
  },
  {
   "cell_type": "code",
   "execution_count": 128,
   "metadata": {},
   "outputs": [
    {
     "name": "stdout",
     "output_type": "stream",
     "text": [
      "Mean Squared Error (MSE): 0.012463402291082778\n",
      "R-squared (R2 ): 0.7227639733320563\n"
     ]
    }
   ],
   "source": [
    "from sklearn.metrics import mean_squared_error, r2_score\n",
    "predicted = model.predict(X)\n",
    "mse = mean_squared_error(y, predicted)\n",
    "r2 = r2_score(y, predicted)\n",
    "print(f\"Mean Squared Error (MSE): {mse}\")\n",
    "print(f\"R-squared (R2 ): {r2}\")"
   ]
  },
  {
   "cell_type": "code",
   "execution_count": 129,
   "metadata": {},
   "outputs": [
    {
     "data": {
      "text/plain": [
       "0.7227639733320566"
      ]
     },
     "execution_count": 129,
     "metadata": {},
     "output_type": "execute_result"
    }
   ],
   "source": [
    "est2.rsquared"
   ]
  },
  {
   "cell_type": "code",
   "execution_count": 130,
   "metadata": {},
   "outputs": [
    {
     "data": {
      "text/plain": [
       "0.721078647941978"
      ]
     },
     "execution_count": 130,
     "metadata": {},
     "output_type": "execute_result"
    }
   ],
   "source": [
    "est2.rsquared_adj"
   ]
  },
  {
   "cell_type": "markdown",
   "metadata": {},
   "source": [
    "##### We see a small improvement in r2 and adjusted r2\n",
    "\n",
    "#### Root Mean Squared Error can be considered the standard deviation of of the residual or unexplained variance:"
   ]
  },
  {
   "cell_type": "code",
   "execution_count": 131,
   "metadata": {},
   "outputs": [
    {
     "data": {
      "text/plain": [
       "0.11163960897048493"
      ]
     },
     "execution_count": 131,
     "metadata": {},
     "output_type": "execute_result"
    }
   ],
   "source": [
    "RSME = np.sqrt(mse)\n",
    "RSME"
   ]
  },
  {
   "cell_type": "markdown",
   "metadata": {},
   "source": [
    "#### Check Durbin-Watson for auto correlation again"
   ]
  },
  {
   "cell_type": "code",
   "execution_count": 132,
   "metadata": {},
   "outputs": [],
   "source": [
    "from statsmodels.tools.sm_exceptions import ValueWarning\n",
    "resids = est2.resid\n",
    "def durbin_watson(resids, axis=0):\n",
    "    resids = np.asarray(resids)\n",
    "    diff_resids = np.diff(resids, 1, axis=axis)\n",
    "    dw = np.sum(diff_resids**2, axis=axis) / np.sum(resids**2, axis=axis)\n",
    "    return dw"
   ]
  },
  {
   "cell_type": "code",
   "execution_count": 133,
   "metadata": {},
   "outputs": [
    {
     "data": {
      "text/plain": [
       "1.7408776438099898"
      ]
     },
     "execution_count": 133,
     "metadata": {},
     "output_type": "execute_result"
    }
   ],
   "source": [
    "durbin_watson(resids)"
   ]
  },
  {
   "cell_type": "markdown",
   "metadata": {},
   "source": [
    "#### Durbin-Watson close to 2 implies limited auto correlation (particuarly as this is not time series data)"
   ]
  },
  {
   "cell_type": "code",
   "execution_count": 134,
   "metadata": {},
   "outputs": [
    {
     "data": {
      "text/html": [
       "<table class=\"simpletable\">\n",
       "<caption>OLS Regression Results</caption>\n",
       "<tr>\n",
       "  <th>Dep. Variable:</th>     <td>MN_EARN_WNE_P10</td> <th>  R-squared:         </th> <td>   0.723</td> \n",
       "</tr>\n",
       "<tr>\n",
       "  <th>Model:</th>                   <td>OLS</td>       <th>  Adj. R-squared:    </th> <td>   0.721</td> \n",
       "</tr>\n",
       "<tr>\n",
       "  <th>Method:</th>             <td>Least Squares</td>  <th>  F-statistic:       </th> <td>   428.9</td> \n",
       "</tr>\n",
       "<tr>\n",
       "  <th>Date:</th>             <td>Sun, 28 Jul 2019</td> <th>  Prob (F-statistic):</th> <td>7.13e-271</td>\n",
       "</tr>\n",
       "<tr>\n",
       "  <th>Time:</th>                 <td>14:45:01</td>     <th>  Log-Likelihood:    </th> <td>  768.90</td> \n",
       "</tr>\n",
       "<tr>\n",
       "  <th>No. Observations:</th>      <td>   994</td>      <th>  AIC:               </th> <td>  -1524.</td> \n",
       "</tr>\n",
       "<tr>\n",
       "  <th>Df Residuals:</th>          <td>   987</td>      <th>  BIC:               </th> <td>  -1489.</td> \n",
       "</tr>\n",
       "<tr>\n",
       "  <th>Df Model:</th>              <td>     6</td>      <th>                     </th>     <td> </td>    \n",
       "</tr>\n",
       "<tr>\n",
       "  <th>Covariance Type:</th>      <td>nonrobust</td>    <th>                     </th>     <td> </td>    \n",
       "</tr>\n",
       "</table>\n",
       "<table class=\"simpletable\">\n",
       "<tr>\n",
       "        <td></td>          <th>coef</th>     <th>std err</th>      <th>t</th>      <th>P>|t|</th>  <th>[0.025</th>    <th>0.975]</th>  \n",
       "</tr>\n",
       "<tr>\n",
       "  <th>const</th>        <td>   10.1220</td> <td>    0.072</td> <td>  140.192</td> <td> 0.000</td> <td>    9.980</td> <td>   10.264</td>\n",
       "</tr>\n",
       "<tr>\n",
       "  <th>ADM_RATE_ALL</th> <td>   -0.0761</td> <td>    0.021</td> <td>   -3.608</td> <td> 0.000</td> <td>   -0.118</td> <td>   -0.035</td>\n",
       "</tr>\n",
       "<tr>\n",
       "  <th>AVGFACSAL</th>    <td> 5.074e-05</td> <td>  2.6e-06</td> <td>   19.551</td> <td> 0.000</td> <td> 4.56e-05</td> <td> 5.58e-05</td>\n",
       "</tr>\n",
       "<tr>\n",
       "  <th>RET_FT4</th>      <td>    0.2389</td> <td>    0.056</td> <td>    4.255</td> <td> 0.000</td> <td>    0.129</td> <td>    0.349</td>\n",
       "</tr>\n",
       "<tr>\n",
       "  <th>CDR3</th>         <td>   -1.9991</td> <td>    0.115</td> <td>  -17.362</td> <td> 0.000</td> <td>   -2.225</td> <td>   -1.773</td>\n",
       "</tr>\n",
       "<tr>\n",
       "  <th>AGE_ENTRY</th>    <td>    0.0064</td> <td>    0.002</td> <td>    3.715</td> <td> 0.000</td> <td>    0.003</td> <td>    0.010</td>\n",
       "</tr>\n",
       "<tr>\n",
       "  <th>UGDS_MEN</th>     <td>    0.3199</td> <td>    0.035</td> <td>    9.164</td> <td> 0.000</td> <td>    0.251</td> <td>    0.388</td>\n",
       "</tr>\n",
       "</table>\n",
       "<table class=\"simpletable\">\n",
       "<tr>\n",
       "  <th>Omnibus:</th>       <td> 7.985</td> <th>  Durbin-Watson:     </th> <td>   1.741</td>\n",
       "</tr>\n",
       "<tr>\n",
       "  <th>Prob(Omnibus):</th> <td> 0.018</td> <th>  Jarque-Bera (JB):  </th> <td>   9.781</td>\n",
       "</tr>\n",
       "<tr>\n",
       "  <th>Skew:</th>          <td> 0.106</td> <th>  Prob(JB):          </th> <td> 0.00752</td>\n",
       "</tr>\n",
       "<tr>\n",
       "  <th>Kurtosis:</th>      <td> 3.437</td> <th>  Cond. No.          </th> <td>2.89e+05</td>\n",
       "</tr>\n",
       "</table><br/><br/>Warnings:<br/>[1] Standard Errors assume that the covariance matrix of the errors is correctly specified.<br/>[2] The condition number is large, 2.89e+05. This might indicate that there are<br/>strong multicollinearity or other numerical problems."
      ],
      "text/plain": [
       "<class 'statsmodels.iolib.summary.Summary'>\n",
       "\"\"\"\n",
       "                            OLS Regression Results                            \n",
       "==============================================================================\n",
       "Dep. Variable:        MN_EARN_WNE_P10   R-squared:                       0.723\n",
       "Model:                            OLS   Adj. R-squared:                  0.721\n",
       "Method:                 Least Squares   F-statistic:                     428.9\n",
       "Date:                Sun, 28 Jul 2019   Prob (F-statistic):          7.13e-271\n",
       "Time:                        14:45:01   Log-Likelihood:                 768.90\n",
       "No. Observations:                 994   AIC:                            -1524.\n",
       "Df Residuals:                     987   BIC:                            -1489.\n",
       "Df Model:                           6                                         \n",
       "Covariance Type:            nonrobust                                         \n",
       "================================================================================\n",
       "                   coef    std err          t      P>|t|      [0.025      0.975]\n",
       "--------------------------------------------------------------------------------\n",
       "const           10.1220      0.072    140.192      0.000       9.980      10.264\n",
       "ADM_RATE_ALL    -0.0761      0.021     -3.608      0.000      -0.118      -0.035\n",
       "AVGFACSAL     5.074e-05    2.6e-06     19.551      0.000    4.56e-05    5.58e-05\n",
       "RET_FT4          0.2389      0.056      4.255      0.000       0.129       0.349\n",
       "CDR3            -1.9991      0.115    -17.362      0.000      -2.225      -1.773\n",
       "AGE_ENTRY        0.0064      0.002      3.715      0.000       0.003       0.010\n",
       "UGDS_MEN         0.3199      0.035      9.164      0.000       0.251       0.388\n",
       "==============================================================================\n",
       "Omnibus:                        7.985   Durbin-Watson:                   1.741\n",
       "Prob(Omnibus):                  0.018   Jarque-Bera (JB):                9.781\n",
       "Skew:                           0.106   Prob(JB):                      0.00752\n",
       "Kurtosis:                       3.437   Cond. No.                     2.89e+05\n",
       "==============================================================================\n",
       "\n",
       "Warnings:\n",
       "[1] Standard Errors assume that the covariance matrix of the errors is correctly specified.\n",
       "[2] The condition number is large, 2.89e+05. This might indicate that there are\n",
       "strong multicollinearity or other numerical problems.\n",
       "\"\"\""
      ]
     },
     "execution_count": 134,
     "metadata": {},
     "output_type": "execute_result"
    }
   ],
   "source": [
    "est2.summary()"
   ]
  },
  {
   "cell_type": "markdown",
   "metadata": {},
   "source": [
    "#### remaining high Condition Number and Omnibus relates to a scaling issue rather than multicollinearity - after examining eigen values (est2.eigenvals), see https://stats.stackexchange.com/questions/332428/regression-model-constant-causes-multicollinearity-warning-but-not-in-standardi"
   ]
  },
  {
   "cell_type": "markdown",
   "metadata": {},
   "source": [
    "#### where condition number = largest eigenvalue / smallest;"
   ]
  },
  {
   "cell_type": "code",
   "execution_count": 135,
   "metadata": {},
   "outputs": [
    {
     "data": {
      "text/plain": [
       "array([6.41167392e+10, 4.33641426e+04, 3.59789652e+01, 1.38478135e+01,\n",
       "       8.53529398e+00, 2.95375317e+00, 7.69300267e-01])"
      ]
     },
     "execution_count": 135,
     "metadata": {},
     "output_type": "execute_result"
    }
   ],
   "source": [
    "est2.eigenvals"
   ]
  },
  {
   "cell_type": "markdown",
   "metadata": {},
   "source": [
    "### Check for normality again"
   ]
  },
  {
   "cell_type": "code",
   "execution_count": 136,
   "metadata": {},
   "outputs": [
    {
     "data": {
      "text/plain": [
       "OPEID6\n",
       "1002    10.477288\n",
       "1052    10.787255\n",
       "Name: MN_EARN_WNE_P10, dtype: float64"
      ]
     },
     "execution_count": 136,
     "metadata": {},
     "output_type": "execute_result"
    }
   ],
   "source": [
    "y.head(2)"
   ]
  },
  {
   "cell_type": "code",
   "execution_count": 137,
   "metadata": {},
   "outputs": [
    {
     "data": {
      "text/plain": [
       "Text(0.5, 1.0, 'Model2 Residuals Probability Plot')"
      ]
     },
     "execution_count": 137,
     "metadata": {},
     "output_type": "execute_result"
    },
    {
     "data": {
      "image/png": "[encoded data removed]",
      "text/plain": [
       "<Figure size 432x288 with 1 Axes>"
      ]
     },
     "metadata": {
      "needs_background": "light"
     },
     "output_type": "display_data"
    }
   ],
   "source": [
    "stats.probplot(est2.resid, plot= plt)\n",
    "plt.title(\"Model2 Residuals Probability Plot\")"
   ]
  },
  {
   "cell_type": "markdown",
   "metadata": {},
   "source": [
    "#### The Kolmogorov-Smirnov test significance has fallen below 40%"
   ]
  },
  {
   "cell_type": "code",
   "execution_count": 138,
   "metadata": {},
   "outputs": [
    {
     "data": {
      "text/plain": [
       "KstestResult(statistic=0.39252281276822837, pvalue=1.6416820612134886e-138)"
      ]
     },
     "execution_count": 138,
     "metadata": {},
     "output_type": "execute_result"
    }
   ],
   "source": [
    "stats.kstest(est2.resid, 'norm')"
   ]
  },
  {
   "cell_type": "markdown",
   "metadata": {},
   "source": [
    "#### the residual fit has improved considerably;"
   ]
  },
  {
   "cell_type": "code",
   "execution_count": 139,
   "metadata": {},
   "outputs": [
    {
     "data": {
      "text/plain": [
       "0.9959200801012055"
      ]
     },
     "execution_count": 139,
     "metadata": {},
     "output_type": "execute_result"
    }
   ],
   "source": [
    "# fig, ax = plt.subplots(figsize=(6,2.5))\n",
    "_, (__, ___, r) = stats.probplot(est2.resid, plot=ax, fit=True)\n",
    "r**2"
   ]
  },
  {
   "cell_type": "code",
   "execution_count": 140,
   "metadata": {},
   "outputs": [
    {
     "name": "stdout",
     "output_type": "stream",
     "text": [
      "[-7.61091033e-02  5.07363492e-05  2.38916336e-01 -1.99913622e+00\n",
      "  6.41483428e-03  3.19881917e-01]\n",
      "10.122009871310908\n"
     ]
    }
   ],
   "source": [
    "print(model.coef_)\n",
    "print(model.intercept_)"
   ]
  },
  {
   "cell_type": "code",
   "execution_count": 141,
   "metadata": {},
   "outputs": [
    {
     "data": {
      "text/plain": [
       "const           10.122010\n",
       "ADM_RATE_ALL    -0.076109\n",
       "AVGFACSAL        0.000051\n",
       "RET_FT4          0.238916\n",
       "CDR3            -1.999136\n",
       "AGE_ENTRY        0.006415\n",
       "UGDS_MEN         0.319882\n",
       "dtype: float64"
      ]
     },
     "execution_count": 141,
     "metadata": {},
     "output_type": "execute_result"
    }
   ],
   "source": [
    "est2.params"
   ]
  },
  {
   "cell_type": "markdown",
   "metadata": {},
   "source": [
    "### We can conclude that the Model's residuals now largely follow a normal distribrution"
   ]
  },
  {
   "cell_type": "markdown",
   "metadata": {},
   "source": [
    "#### Train Test"
   ]
  },
  {
   "cell_type": "code",
   "execution_count": 142,
   "metadata": {
    "scrolled": true
   },
   "outputs": [],
   "source": [
    "# Use train_test_split to create training and testing data\n",
    "\n",
    "### BEGIN SOLUTION\n",
    "from sklearn.model_selection import train_test_split\n",
    "\n",
    "X_train, X_test, y_train, y_test = train_test_split(X, y, random_state=42)\n",
    "\n",
    "### END SOLUTION"
   ]
  },
  {
   "cell_type": "code",
   "execution_count": 143,
   "metadata": {
    "scrolled": true
   },
   "outputs": [
    {
     "name": "stdout",
     "output_type": "stream",
     "text": [
      "Training Score: 0.7306718021623144\n",
      "Testing Score: 0.6978564029602758\n"
     ]
    }
   ],
   "source": [
    "# Fit the model to the training data and calculate the scores for the training and testing data\n",
    "\n",
    "### BEGIN SOLUTION\n",
    "model.fit(X_train, y_train)\n",
    "training_score = model.score(X_train, y_train)\n",
    "testing_score = model.score(X_test, y_test)\n",
    "\n",
    "### END SOLUTION \n",
    "\n",
    "print(f\"Training Score: {training_score}\")\n",
    "print(f\"Testing Score: {testing_score}\")"
   ]
  },
  {
   "cell_type": "code",
   "execution_count": 144,
   "metadata": {
    "scrolled": true
   },
   "outputs": [
    {
     "data": {
      "text/plain": [
       "Text(0.5, 1.0, 'Residual Plot')"
      ]
     },
     "execution_count": 144,
     "metadata": {},
     "output_type": "execute_result"
    },
    {
     "data": {
      "image/png": "[encoded data removed]",
      "text/plain": [
       "<Figure size 432x288 with 1 Axes>"
      ]
     },
     "metadata": {
      "needs_background": "light"
     },
     "output_type": "display_data"
    }
   ],
   "source": [
    "# Plot the Residuals for the Training and Testing data\n",
    "\n",
    "### BEGIN SOLUTION\n",
    "plt.scatter(model.predict(X_train), model.predict(X_train) - y_train, c=\"blue\", label=\"Training Data\")\n",
    "plt.scatter(model.predict(X_test), model.predict(X_test) - y_test, c=\"orange\", label=\"Testing Data\")\n",
    "plt.legend()\n",
    "plt.hlines(y=0, xmin=y.min(), xmax=y.max())\n",
    "plt.title(\"Residual Plot\")\n",
    "### END SOLUTION"
   ]
  },
  {
   "cell_type": "code",
   "execution_count": 145,
   "metadata": {},
   "outputs": [
    {
     "data": {
      "text/plain": [
       "0.7306718021623144"
      ]
     },
     "execution_count": 145,
     "metadata": {},
     "output_type": "execute_result"
    }
   ],
   "source": [
    "# R2 for train data\n",
    "Train_R2 = model.score(X_train, y_train)\n",
    "Train_R2"
   ]
  },
  {
   "cell_type": "code",
   "execution_count": 146,
   "metadata": {
    "scrolled": true
   },
   "outputs": [
    {
     "data": {
      "text/plain": [
       "0.6978564029602758"
      ]
     },
     "execution_count": 146,
     "metadata": {},
     "output_type": "execute_result"
    }
   ],
   "source": [
    "# R2 for test data\n",
    "Test_R2 = model.score(X_test, y_test)\n",
    "Test_R2"
   ]
  },
  {
   "cell_type": "code",
   "execution_count": 147,
   "metadata": {
    "scrolled": true
   },
   "outputs": [
    {
     "data": {
      "text/plain": [
       "0.014287526625842102"
      ]
     },
     "execution_count": 147,
     "metadata": {},
     "output_type": "execute_result"
    }
   ],
   "source": [
    "# MSE for test data\n",
    "Test_MSE = np.mean((model.predict(X_test) - y_test)**2)\n",
    "Test_MSE"
   ]
  },
  {
   "cell_type": "code",
   "execution_count": 148,
   "metadata": {
    "scrolled": true
   },
   "outputs": [
    {
     "data": {
      "text/plain": [
       "0.11953044225569527"
      ]
     },
     "execution_count": 148,
     "metadata": {},
     "output_type": "execute_result"
    }
   ],
   "source": [
    "# RSME\n",
    "Test_RSME = np.sqrt(Test_MSE)\n",
    "Test_RSME"
   ]
  },
  {
   "cell_type": "code",
   "execution_count": 149,
   "metadata": {
    "scrolled": true
   },
   "outputs": [
    {
     "data": {
      "text/plain": [
       "array([-7.69361935e-02,  4.86739619e-05,  2.79367360e-01, -1.97532303e+00,\n",
       "        6.62783166e-03,  3.51797697e-01])"
      ]
     },
     "execution_count": 149,
     "metadata": {},
     "output_type": "execute_result"
    }
   ],
   "source": [
    "Test_coeff = model.coef_\n",
    "Test_coeff"
   ]
  },
  {
   "cell_type": "code",
   "execution_count": 150,
   "metadata": {
    "scrolled": true
   },
   "outputs": [
    {
     "data": {
      "text/plain": [
       "10.084179003899095"
      ]
     },
     "execution_count": 150,
     "metadata": {},
     "output_type": "execute_result"
    }
   ],
   "source": [
    "Test_intercept = model.intercept_\n",
    "Test_intercept"
   ]
  },
  {
   "cell_type": "code",
   "execution_count": 151,
   "metadata": {
    "scrolled": true
   },
   "outputs": [
    {
     "data": {
      "text/plain": [
       "(745, 6)"
      ]
     },
     "execution_count": 151,
     "metadata": {},
     "output_type": "execute_result"
    }
   ],
   "source": [
    "X_train.shape"
   ]
  },
  {
   "cell_type": "code",
   "execution_count": 152,
   "metadata": {
    "scrolled": true
   },
   "outputs": [
    {
     "data": {
      "text/plain": [
       "(249, 6)"
      ]
     },
     "execution_count": 152,
     "metadata": {},
     "output_type": "execute_result"
    }
   ],
   "source": [
    "X_test.shape"
   ]
  },
  {
   "cell_type": "markdown",
   "metadata": {},
   "source": [
    "#### Add Ouput column to dataframe using exponential (y)"
   ]
  },
  {
   "cell_type": "code",
   "execution_count": 153,
   "metadata": {},
   "outputs": [],
   "source": [
    "final_data = pd.read_excel(\"US Dept Education data/Output/FourYearUniversitiesChris.xlsx\")"
   ]
  },
  {
   "cell_type": "code",
   "execution_count": 154,
   "metadata": {},
   "outputs": [],
   "source": [
    "# final_data.set_index('UNITID', inplace=True)\n",
    "# final_data.head(2)"
   ]
  },
  {
   "cell_type": "code",
   "execution_count": 155,
   "metadata": {},
   "outputs": [],
   "source": [
    "# Model coefficients prior to train test [-7.61091033e-02  5.07363492e-05  2.38916336e-01 -1.99913622e+00 6.41483428e-03  3.19881917e-01]\n",
    "\n",
    "# Model Intercept prior to train test 10.122009871310908"
   ]
  },
  {
   "cell_type": "code",
   "execution_count": 156,
   "metadata": {},
   "outputs": [
    {
     "data": {
      "text/plain": [
       "const           10.122010\n",
       "ADM_RATE_ALL    -0.076109\n",
       "AVGFACSAL        0.000051\n",
       "RET_FT4          0.238916\n",
       "CDR3            -1.999136\n",
       "AGE_ENTRY        0.006415\n",
       "UGDS_MEN         0.319882\n",
       "dtype: float64"
      ]
     },
     "execution_count": 156,
     "metadata": {},
     "output_type": "execute_result"
    }
   ],
   "source": [
    "est2.params"
   ]
  },
  {
   "cell_type": "code",
   "execution_count": 157,
   "metadata": {},
   "outputs": [],
   "source": [
    "final_data['Predicted Final Data LN'] = ((final_data['ADM_RATE_ALL']*-7.61091033e-02)\\\n",
    "            + (final_data['AVGFACSAL']*5.07363492e-05\\\n",
    "              + (final_data['RET_FT4']*2.38916336e-01)\\\n",
    "              + (final_data['CDR3']*-1.99913622e+00)\\\n",
    "              + (final_data['AGE_ENTRY']*6.41483428e-03)\\\n",
    "              + (final_data['UGDS_MEN']*3.19881917e-01))+10.122009871310908)"
   ]
  },
  {
   "cell_type": "code",
   "execution_count": 158,
   "metadata": {},
   "outputs": [
    {
     "data": {
      "text/html": [
       "<div>\n",
       "<style scoped>\n",
       "    .dataframe tbody tr th:only-of-type {\n",
       "        vertical-align: middle;\n",
       "    }\n",
       "\n",
       "    .dataframe tbody tr th {\n",
       "        vertical-align: top;\n",
       "    }\n",
       "\n",
       "    .dataframe thead th {\n",
       "        text-align: right;\n",
       "    }\n",
       "</style>\n",
       "<table border=\"1\" class=\"dataframe\">\n",
       "  <thead>\n",
       "    <tr style=\"text-align: right;\">\n",
       "      <th></th>\n",
       "      <th>UNITID</th>\n",
       "      <th>OPEID6</th>\n",
       "      <th>13-14 Predicted Final Data LN</th>\n",
       "      <th>13-14 Final_Predicted 10 year earnings</th>\n",
       "      <th>CONTROL</th>\n",
       "      <th>CONTROL.1</th>\n",
       "      <th>TUITIONFEE_IN</th>\n",
       "      <th>TUITIONFEE_OUT</th>\n",
       "      <th>ICLEVEL</th>\n",
       "      <th>PREDDEG</th>\n",
       "      <th>...</th>\n",
       "      <th>SD_EARN_WNE_P10</th>\n",
       "      <th>COUNT_NWNE_P6</th>\n",
       "      <th>COUNT_NWNE_P8</th>\n",
       "      <th>COUNT_NWNE_P10</th>\n",
       "      <th>COUNT_WNE_P6</th>\n",
       "      <th>COUNT_WNE_P8</th>\n",
       "      <th>COUNT_WNE_P10</th>\n",
       "      <th>UGDS_MEN</th>\n",
       "      <th>UGDS_WOMEN</th>\n",
       "      <th>Predicted Final Data LN</th>\n",
       "    </tr>\n",
       "  </thead>\n",
       "  <tbody>\n",
       "    <tr>\n",
       "      <th>0</th>\n",
       "      <td>100654</td>\n",
       "      <td>1002</td>\n",
       "      <td>10.538013</td>\n",
       "      <td>37722.522920</td>\n",
       "      <td>1</td>\n",
       "      <td>Public</td>\n",
       "      <td>9096.0</td>\n",
       "      <td>16596.0</td>\n",
       "      <td>1</td>\n",
       "      <td>3</td>\n",
       "      <td>...</td>\n",
       "      <td>25400.0</td>\n",
       "      <td>94.0</td>\n",
       "      <td>142.0</td>\n",
       "      <td>212.0</td>\n",
       "      <td>1304.0</td>\n",
       "      <td>1485.0</td>\n",
       "      <td>1784.0</td>\n",
       "      <td>0.4831</td>\n",
       "      <td>0.5169</td>\n",
       "      <td>10.531600</td>\n",
       "    </tr>\n",
       "    <tr>\n",
       "      <th>1</th>\n",
       "      <td>100663</td>\n",
       "      <td>1052</td>\n",
       "      <td>10.794632</td>\n",
       "      <td>48758.384286</td>\n",
       "      <td>1</td>\n",
       "      <td>Public</td>\n",
       "      <td>7510.0</td>\n",
       "      <td>17062.0</td>\n",
       "      <td>1</td>\n",
       "      <td>3</td>\n",
       "      <td>...</td>\n",
       "      <td>39200.0</td>\n",
       "      <td>241.0</td>\n",
       "      <td>309.0</td>\n",
       "      <td>464.0</td>\n",
       "      <td>2727.0</td>\n",
       "      <td>3048.0</td>\n",
       "      <td>3643.0</td>\n",
       "      <td>0.4169</td>\n",
       "      <td>0.5831</td>\n",
       "      <td>10.920098</td>\n",
       "    </tr>\n",
       "    <tr>\n",
       "      <th>2</th>\n",
       "      <td>100690</td>\n",
       "      <td>25034</td>\n",
       "      <td>NaN</td>\n",
       "      <td>47600.000000</td>\n",
       "      <td>2</td>\n",
       "      <td>Private</td>\n",
       "      <td>6900.0</td>\n",
       "      <td>6900.0</td>\n",
       "      <td>1</td>\n",
       "      <td>3</td>\n",
       "      <td>...</td>\n",
       "      <td>38600.0</td>\n",
       "      <td>38.0</td>\n",
       "      <td>51.0</td>\n",
       "      <td>54.0</td>\n",
       "      <td>155.0</td>\n",
       "      <td>198.0</td>\n",
       "      <td>170.0</td>\n",
       "      <td>0.3986</td>\n",
       "      <td>0.6014</td>\n",
       "      <td>NaN</td>\n",
       "    </tr>\n",
       "    <tr>\n",
       "      <th>3</th>\n",
       "      <td>100706</td>\n",
       "      <td>1055</td>\n",
       "      <td>10.807532</td>\n",
       "      <td>49391.442044</td>\n",
       "      <td>1</td>\n",
       "      <td>Public</td>\n",
       "      <td>9158.0</td>\n",
       "      <td>21232.0</td>\n",
       "      <td>1</td>\n",
       "      <td>3</td>\n",
       "      <td>...</td>\n",
       "      <td>33600.0</td>\n",
       "      <td>144.0</td>\n",
       "      <td>161.0</td>\n",
       "      <td>213.0</td>\n",
       "      <td>1378.0</td>\n",
       "      <td>1472.0</td>\n",
       "      <td>1475.0</td>\n",
       "      <td>0.5733</td>\n",
       "      <td>0.4267</td>\n",
       "      <td>10.928990</td>\n",
       "    </tr>\n",
       "    <tr>\n",
       "      <th>4</th>\n",
       "      <td>100724</td>\n",
       "      <td>1005</td>\n",
       "      <td>10.568757</td>\n",
       "      <td>38900.295097</td>\n",
       "      <td>1</td>\n",
       "      <td>Public</td>\n",
       "      <td>8720.0</td>\n",
       "      <td>15656.0</td>\n",
       "      <td>1</td>\n",
       "      <td>3</td>\n",
       "      <td>...</td>\n",
       "      <td>21400.0</td>\n",
       "      <td>157.0</td>\n",
       "      <td>209.0</td>\n",
       "      <td>244.0</td>\n",
       "      <td>1754.0</td>\n",
       "      <td>1829.0</td>\n",
       "      <td>1832.0</td>\n",
       "      <td>0.3877</td>\n",
       "      <td>0.6123</td>\n",
       "      <td>10.497408</td>\n",
       "    </tr>\n",
       "  </tbody>\n",
       "</table>\n",
       "<p>5 rows × 79 columns</p>\n",
       "</div>"
      ],
      "text/plain": [
       "   UNITID  OPEID6  13-14 Predicted Final Data LN  \\\n",
       "0  100654    1002                      10.538013   \n",
       "1  100663    1052                      10.794632   \n",
       "2  100690   25034                            NaN   \n",
       "3  100706    1055                      10.807532   \n",
       "4  100724    1005                      10.568757   \n",
       "\n",
       "   13-14 Final_Predicted 10 year earnings  CONTROL CONTROL.1  TUITIONFEE_IN  \\\n",
       "0                            37722.522920        1    Public         9096.0   \n",
       "1                            48758.384286        1    Public         7510.0   \n",
       "2                            47600.000000        2   Private         6900.0   \n",
       "3                            49391.442044        1    Public         9158.0   \n",
       "4                            38900.295097        1    Public         8720.0   \n",
       "\n",
       "   TUITIONFEE_OUT  ICLEVEL  PREDDEG  ...  SD_EARN_WNE_P10  COUNT_NWNE_P6  \\\n",
       "0         16596.0        1        3  ...          25400.0           94.0   \n",
       "1         17062.0        1        3  ...          39200.0          241.0   \n",
       "2          6900.0        1        3  ...          38600.0           38.0   \n",
       "3         21232.0        1        3  ...          33600.0          144.0   \n",
       "4         15656.0        1        3  ...          21400.0          157.0   \n",
       "\n",
       "   COUNT_NWNE_P8  COUNT_NWNE_P10  COUNT_WNE_P6  COUNT_WNE_P8  COUNT_WNE_P10  \\\n",
       "0          142.0           212.0        1304.0        1485.0         1784.0   \n",
       "1          309.0           464.0        2727.0        3048.0         3643.0   \n",
       "2           51.0            54.0         155.0         198.0          170.0   \n",
       "3          161.0           213.0        1378.0        1472.0         1475.0   \n",
       "4          209.0           244.0        1754.0        1829.0         1832.0   \n",
       "\n",
       "   UGDS_MEN  UGDS_WOMEN  Predicted Final Data LN  \n",
       "0    0.4831      0.5169                10.531600  \n",
       "1    0.4169      0.5831                10.920098  \n",
       "2    0.3986      0.6014                      NaN  \n",
       "3    0.5733      0.4267                10.928990  \n",
       "4    0.3877      0.6123                10.497408  \n",
       "\n",
       "[5 rows x 79 columns]"
      ]
     },
     "execution_count": 158,
     "metadata": {},
     "output_type": "execute_result"
    }
   ],
   "source": [
    "final_data.head()"
   ]
  },
  {
   "cell_type": "markdown",
   "metadata": {},
   "source": [
    "#### cross check results the same as original regression data"
   ]
  },
  {
   "cell_type": "code",
   "execution_count": 159,
   "metadata": {},
   "outputs": [
    {
     "data": {
      "text/html": [
       "<div>\n",
       "<style scoped>\n",
       "    .dataframe tbody tr th:only-of-type {\n",
       "        vertical-align: middle;\n",
       "    }\n",
       "\n",
       "    .dataframe tbody tr th {\n",
       "        vertical-align: top;\n",
       "    }\n",
       "\n",
       "    .dataframe thead th {\n",
       "        text-align: right;\n",
       "    }\n",
       "</style>\n",
       "<table border=\"1\" class=\"dataframe\">\n",
       "  <thead>\n",
       "    <tr style=\"text-align: right;\">\n",
       "      <th></th>\n",
       "      <th>UNITID</th>\n",
       "      <th>MN_EARN_WNE_P10</th>\n",
       "      <th>ADM_RATE_ALL</th>\n",
       "      <th>AVGFACSAL</th>\n",
       "      <th>RET_FT4</th>\n",
       "      <th>CDR3</th>\n",
       "      <th>AGE_ENTRY</th>\n",
       "      <th>UGDS_MEN</th>\n",
       "      <th>Leverage</th>\n",
       "      <th>Cooks Distance</th>\n",
       "      <th>Standardized Residuals</th>\n",
       "      <th>Studentized Residuals</th>\n",
       "    </tr>\n",
       "    <tr>\n",
       "      <th>OPEID6</th>\n",
       "      <th></th>\n",
       "      <th></th>\n",
       "      <th></th>\n",
       "      <th></th>\n",
       "      <th></th>\n",
       "      <th></th>\n",
       "      <th></th>\n",
       "      <th></th>\n",
       "      <th></th>\n",
       "      <th></th>\n",
       "      <th></th>\n",
       "      <th></th>\n",
       "    </tr>\n",
       "  </thead>\n",
       "  <tbody>\n",
       "    <tr>\n",
       "      <th>1002</th>\n",
       "      <td>100654</td>\n",
       "      <td>35500.0</td>\n",
       "      <td>0.5256</td>\n",
       "      <td>6892.0</td>\n",
       "      <td>0.6595</td>\n",
       "      <td>0.172</td>\n",
       "      <td>20.525773</td>\n",
       "      <td>0.4831</td>\n",
       "      <td>0.010142</td>\n",
       "      <td>0.000261</td>\n",
       "      <td>-0.422036</td>\n",
       "      <td>-0.421866</td>\n",
       "    </tr>\n",
       "    <tr>\n",
       "      <th>1052</th>\n",
       "      <td>100663</td>\n",
       "      <td>48400.0</td>\n",
       "      <td>0.8569</td>\n",
       "      <td>9957.0</td>\n",
       "      <td>0.8288</td>\n",
       "      <td>0.062</td>\n",
       "      <td>23.492140</td>\n",
       "      <td>0.4169</td>\n",
       "      <td>0.005544</td>\n",
       "      <td>0.000985</td>\n",
       "      <td>-1.111903</td>\n",
       "      <td>-1.112032</td>\n",
       "    </tr>\n",
       "    <tr>\n",
       "      <th>1055</th>\n",
       "      <td>100706</td>\n",
       "      <td>52000.0</td>\n",
       "      <td>0.8203</td>\n",
       "      <td>9302.0</td>\n",
       "      <td>0.7696</td>\n",
       "      <td>0.061</td>\n",
       "      <td>23.718723</td>\n",
       "      <td>0.5733</td>\n",
       "      <td>0.005370</td>\n",
       "      <td>0.000394</td>\n",
       "      <td>-0.714270</td>\n",
       "      <td>-0.714098</td>\n",
       "    </tr>\n",
       "    <tr>\n",
       "      <th>1005</th>\n",
       "      <td>100724</td>\n",
       "      <td>30600.0</td>\n",
       "      <td>0.5326</td>\n",
       "      <td>6609.0</td>\n",
       "      <td>0.5725</td>\n",
       "      <td>0.156</td>\n",
       "      <td>20.528185</td>\n",
       "      <td>0.3877</td>\n",
       "      <td>0.010012</td>\n",
       "      <td>0.000851</td>\n",
       "      <td>-0.767443</td>\n",
       "      <td>-0.767288</td>\n",
       "    </tr>\n",
       "    <tr>\n",
       "      <th>1051</th>\n",
       "      <td>100751</td>\n",
       "      <td>51600.0</td>\n",
       "      <td>0.5105</td>\n",
       "      <td>9667.0</td>\n",
       "      <td>0.8670</td>\n",
       "      <td>0.063</td>\n",
       "      <td>21.356529</td>\n",
       "      <td>0.4580</td>\n",
       "      <td>0.002588</td>\n",
       "      <td>0.000498</td>\n",
       "      <td>-1.158667</td>\n",
       "      <td>-1.158862</td>\n",
       "    </tr>\n",
       "  </tbody>\n",
       "</table>\n",
       "</div>"
      ],
      "text/plain": [
       "        UNITID  MN_EARN_WNE_P10  ADM_RATE_ALL  AVGFACSAL  RET_FT4   CDR3  \\\n",
       "OPEID6                                                                     \n",
       "1002    100654          35500.0        0.5256     6892.0   0.6595  0.172   \n",
       "1052    100663          48400.0        0.8569     9957.0   0.8288  0.062   \n",
       "1055    100706          52000.0        0.8203     9302.0   0.7696  0.061   \n",
       "1005    100724          30600.0        0.5326     6609.0   0.5725  0.156   \n",
       "1051    100751          51600.0        0.5105     9667.0   0.8670  0.063   \n",
       "\n",
       "        AGE_ENTRY  UGDS_MEN  Leverage  Cooks Distance  Standardized Residuals  \\\n",
       "OPEID6                                                                          \n",
       "1002    20.525773    0.4831  0.010142        0.000261               -0.422036   \n",
       "1052    23.492140    0.4169  0.005544        0.000985               -1.111903   \n",
       "1055    23.718723    0.5733  0.005370        0.000394               -0.714270   \n",
       "1005    20.528185    0.3877  0.010012        0.000851               -0.767443   \n",
       "1051    21.356529    0.4580  0.002588        0.000498               -1.158667   \n",
       "\n",
       "        Studentized Residuals  \n",
       "OPEID6                         \n",
       "1002                -0.421866  \n",
       "1052                -1.112032  \n",
       "1055                -0.714098  \n",
       "1005                -0.767288  \n",
       "1051                -1.158862  "
      ]
     },
     "execution_count": 159,
     "metadata": {},
     "output_type": "execute_result"
    }
   ],
   "source": [
    "# residual_results.set_index('UNITID', inplace=True)\n",
    "residual_results.head()"
   ]
  },
  {
   "cell_type": "code",
   "execution_count": 160,
   "metadata": {},
   "outputs": [],
   "source": [
    "residual_results['Predicted Final Data LN'] = ((residual_results['ADM_RATE_ALL']*-7.61091033e-02)\\\n",
    "            + (residual_results['AVGFACSAL']*5.07363492e-05\\\n",
    "              + (residual_results['RET_FT4']*2.38916336e-01)\\\n",
    "              + (residual_results['CDR3']*-1.99913622e+00)\\\n",
    "              + (residual_results['AGE_ENTRY']*6.41483428e-03)\\\n",
    "              + (residual_results['UGDS_MEN']*3.19881917e-01))+10.122009871310908)"
   ]
  },
  {
   "cell_type": "code",
   "execution_count": 161,
   "metadata": {},
   "outputs": [
    {
     "data": {
      "text/html": [
       "<div>\n",
       "<style scoped>\n",
       "    .dataframe tbody tr th:only-of-type {\n",
       "        vertical-align: middle;\n",
       "    }\n",
       "\n",
       "    .dataframe tbody tr th {\n",
       "        vertical-align: top;\n",
       "    }\n",
       "\n",
       "    .dataframe thead th {\n",
       "        text-align: right;\n",
       "    }\n",
       "</style>\n",
       "<table border=\"1\" class=\"dataframe\">\n",
       "  <thead>\n",
       "    <tr style=\"text-align: right;\">\n",
       "      <th></th>\n",
       "      <th>UNITID</th>\n",
       "      <th>MN_EARN_WNE_P10</th>\n",
       "      <th>ADM_RATE_ALL</th>\n",
       "      <th>AVGFACSAL</th>\n",
       "      <th>RET_FT4</th>\n",
       "      <th>CDR3</th>\n",
       "      <th>AGE_ENTRY</th>\n",
       "      <th>UGDS_MEN</th>\n",
       "      <th>Leverage</th>\n",
       "      <th>Cooks Distance</th>\n",
       "      <th>Standardized Residuals</th>\n",
       "      <th>Studentized Residuals</th>\n",
       "      <th>Predicted Final Data LN</th>\n",
       "    </tr>\n",
       "    <tr>\n",
       "      <th>OPEID6</th>\n",
       "      <th></th>\n",
       "      <th></th>\n",
       "      <th></th>\n",
       "      <th></th>\n",
       "      <th></th>\n",
       "      <th></th>\n",
       "      <th></th>\n",
       "      <th></th>\n",
       "      <th></th>\n",
       "      <th></th>\n",
       "      <th></th>\n",
       "      <th></th>\n",
       "      <th></th>\n",
       "    </tr>\n",
       "  </thead>\n",
       "  <tbody>\n",
       "    <tr>\n",
       "      <th>1002</th>\n",
       "      <td>100654</td>\n",
       "      <td>35500.0</td>\n",
       "      <td>0.5256</td>\n",
       "      <td>6892.0</td>\n",
       "      <td>0.6595</td>\n",
       "      <td>0.172</td>\n",
       "      <td>20.525773</td>\n",
       "      <td>0.4831</td>\n",
       "      <td>0.010142</td>\n",
       "      <td>0.000261</td>\n",
       "      <td>-0.422036</td>\n",
       "      <td>-0.421866</td>\n",
       "      <td>10.531600</td>\n",
       "    </tr>\n",
       "    <tr>\n",
       "      <th>1052</th>\n",
       "      <td>100663</td>\n",
       "      <td>48400.0</td>\n",
       "      <td>0.8569</td>\n",
       "      <td>9957.0</td>\n",
       "      <td>0.8288</td>\n",
       "      <td>0.062</td>\n",
       "      <td>23.492140</td>\n",
       "      <td>0.4169</td>\n",
       "      <td>0.005544</td>\n",
       "      <td>0.000985</td>\n",
       "      <td>-1.111903</td>\n",
       "      <td>-1.112032</td>\n",
       "      <td>10.920098</td>\n",
       "    </tr>\n",
       "    <tr>\n",
       "      <th>1055</th>\n",
       "      <td>100706</td>\n",
       "      <td>52000.0</td>\n",
       "      <td>0.8203</td>\n",
       "      <td>9302.0</td>\n",
       "      <td>0.7696</td>\n",
       "      <td>0.061</td>\n",
       "      <td>23.718723</td>\n",
       "      <td>0.5733</td>\n",
       "      <td>0.005370</td>\n",
       "      <td>0.000394</td>\n",
       "      <td>-0.714270</td>\n",
       "      <td>-0.714098</td>\n",
       "      <td>10.928990</td>\n",
       "    </tr>\n",
       "    <tr>\n",
       "      <th>1005</th>\n",
       "      <td>100724</td>\n",
       "      <td>30600.0</td>\n",
       "      <td>0.5326</td>\n",
       "      <td>6609.0</td>\n",
       "      <td>0.5725</td>\n",
       "      <td>0.156</td>\n",
       "      <td>20.528185</td>\n",
       "      <td>0.3877</td>\n",
       "      <td>0.010012</td>\n",
       "      <td>0.000851</td>\n",
       "      <td>-0.767443</td>\n",
       "      <td>-0.767288</td>\n",
       "      <td>10.497408</td>\n",
       "    </tr>\n",
       "    <tr>\n",
       "      <th>1051</th>\n",
       "      <td>100751</td>\n",
       "      <td>51600.0</td>\n",
       "      <td>0.5105</td>\n",
       "      <td>9667.0</td>\n",
       "      <td>0.8670</td>\n",
       "      <td>0.063</td>\n",
       "      <td>21.356529</td>\n",
       "      <td>0.4580</td>\n",
       "      <td>0.002588</td>\n",
       "      <td>0.000498</td>\n",
       "      <td>-1.158667</td>\n",
       "      <td>-1.158862</td>\n",
       "      <td>10.938324</td>\n",
       "    </tr>\n",
       "  </tbody>\n",
       "</table>\n",
       "</div>"
      ],
      "text/plain": [
       "        UNITID  MN_EARN_WNE_P10  ADM_RATE_ALL  AVGFACSAL  RET_FT4   CDR3  \\\n",
       "OPEID6                                                                     \n",
       "1002    100654          35500.0        0.5256     6892.0   0.6595  0.172   \n",
       "1052    100663          48400.0        0.8569     9957.0   0.8288  0.062   \n",
       "1055    100706          52000.0        0.8203     9302.0   0.7696  0.061   \n",
       "1005    100724          30600.0        0.5326     6609.0   0.5725  0.156   \n",
       "1051    100751          51600.0        0.5105     9667.0   0.8670  0.063   \n",
       "\n",
       "        AGE_ENTRY  UGDS_MEN  Leverage  Cooks Distance  Standardized Residuals  \\\n",
       "OPEID6                                                                          \n",
       "1002    20.525773    0.4831  0.010142        0.000261               -0.422036   \n",
       "1052    23.492140    0.4169  0.005544        0.000985               -1.111903   \n",
       "1055    23.718723    0.5733  0.005370        0.000394               -0.714270   \n",
       "1005    20.528185    0.3877  0.010012        0.000851               -0.767443   \n",
       "1051    21.356529    0.4580  0.002588        0.000498               -1.158667   \n",
       "\n",
       "        Studentized Residuals  Predicted Final Data LN  \n",
       "OPEID6                                                  \n",
       "1002                -0.421866                10.531600  \n",
       "1052                -1.112032                10.920098  \n",
       "1055                -0.714098                10.928990  \n",
       "1005                -0.767288                10.497408  \n",
       "1051                -1.158862                10.938324  "
      ]
     },
     "execution_count": 161,
     "metadata": {},
     "output_type": "execute_result"
    }
   ],
   "source": [
    "residual_results.head()"
   ]
  },
  {
   "cell_type": "code",
   "execution_count": 162,
   "metadata": {},
   "outputs": [
    {
     "data": {
      "text/html": [
       "<div>\n",
       "<style scoped>\n",
       "    .dataframe tbody tr th:only-of-type {\n",
       "        vertical-align: middle;\n",
       "    }\n",
       "\n",
       "    .dataframe tbody tr th {\n",
       "        vertical-align: top;\n",
       "    }\n",
       "\n",
       "    .dataframe thead th {\n",
       "        text-align: right;\n",
       "    }\n",
       "</style>\n",
       "<table border=\"1\" class=\"dataframe\">\n",
       "  <thead>\n",
       "    <tr style=\"text-align: right;\">\n",
       "      <th></th>\n",
       "      <th>UNITID</th>\n",
       "      <th>MN_EARN_WNE_P10</th>\n",
       "      <th>ADM_RATE_ALL</th>\n",
       "      <th>AVGFACSAL</th>\n",
       "      <th>RET_FT4</th>\n",
       "      <th>CDR3</th>\n",
       "      <th>AGE_ENTRY</th>\n",
       "      <th>UGDS_MEN</th>\n",
       "      <th>Leverage</th>\n",
       "      <th>Cooks Distance</th>\n",
       "      <th>Standardized Residuals</th>\n",
       "      <th>Studentized Residuals</th>\n",
       "      <th>Predicted Final Data LN</th>\n",
       "      <th>dependant_variable y</th>\n",
       "    </tr>\n",
       "    <tr>\n",
       "      <th>OPEID6</th>\n",
       "      <th></th>\n",
       "      <th></th>\n",
       "      <th></th>\n",
       "      <th></th>\n",
       "      <th></th>\n",
       "      <th></th>\n",
       "      <th></th>\n",
       "      <th></th>\n",
       "      <th></th>\n",
       "      <th></th>\n",
       "      <th></th>\n",
       "      <th></th>\n",
       "      <th></th>\n",
       "      <th></th>\n",
       "    </tr>\n",
       "  </thead>\n",
       "  <tbody>\n",
       "    <tr>\n",
       "      <th>1002</th>\n",
       "      <td>100654</td>\n",
       "      <td>35500.0</td>\n",
       "      <td>0.5256</td>\n",
       "      <td>6892.0</td>\n",
       "      <td>0.6595</td>\n",
       "      <td>0.172</td>\n",
       "      <td>20.525773</td>\n",
       "      <td>0.4831</td>\n",
       "      <td>0.010142</td>\n",
       "      <td>0.000261</td>\n",
       "      <td>-0.422036</td>\n",
       "      <td>-0.421866</td>\n",
       "      <td>10.531600</td>\n",
       "      <td>10.477288</td>\n",
       "    </tr>\n",
       "    <tr>\n",
       "      <th>1052</th>\n",
       "      <td>100663</td>\n",
       "      <td>48400.0</td>\n",
       "      <td>0.8569</td>\n",
       "      <td>9957.0</td>\n",
       "      <td>0.8288</td>\n",
       "      <td>0.062</td>\n",
       "      <td>23.492140</td>\n",
       "      <td>0.4169</td>\n",
       "      <td>0.005544</td>\n",
       "      <td>0.000985</td>\n",
       "      <td>-1.111903</td>\n",
       "      <td>-1.112032</td>\n",
       "      <td>10.920098</td>\n",
       "      <td>10.787255</td>\n",
       "    </tr>\n",
       "    <tr>\n",
       "      <th>1055</th>\n",
       "      <td>100706</td>\n",
       "      <td>52000.0</td>\n",
       "      <td>0.8203</td>\n",
       "      <td>9302.0</td>\n",
       "      <td>0.7696</td>\n",
       "      <td>0.061</td>\n",
       "      <td>23.718723</td>\n",
       "      <td>0.5733</td>\n",
       "      <td>0.005370</td>\n",
       "      <td>0.000394</td>\n",
       "      <td>-0.714270</td>\n",
       "      <td>-0.714098</td>\n",
       "      <td>10.928990</td>\n",
       "      <td>10.858999</td>\n",
       "    </tr>\n",
       "    <tr>\n",
       "      <th>1005</th>\n",
       "      <td>100724</td>\n",
       "      <td>30600.0</td>\n",
       "      <td>0.5326</td>\n",
       "      <td>6609.0</td>\n",
       "      <td>0.5725</td>\n",
       "      <td>0.156</td>\n",
       "      <td>20.528185</td>\n",
       "      <td>0.3877</td>\n",
       "      <td>0.010012</td>\n",
       "      <td>0.000851</td>\n",
       "      <td>-0.767443</td>\n",
       "      <td>-0.767288</td>\n",
       "      <td>10.497408</td>\n",
       "      <td>10.328755</td>\n",
       "    </tr>\n",
       "    <tr>\n",
       "      <th>1051</th>\n",
       "      <td>100751</td>\n",
       "      <td>51600.0</td>\n",
       "      <td>0.5105</td>\n",
       "      <td>9667.0</td>\n",
       "      <td>0.8670</td>\n",
       "      <td>0.063</td>\n",
       "      <td>21.356529</td>\n",
       "      <td>0.4580</td>\n",
       "      <td>0.002588</td>\n",
       "      <td>0.000498</td>\n",
       "      <td>-1.158667</td>\n",
       "      <td>-1.158862</td>\n",
       "      <td>10.938324</td>\n",
       "      <td>10.851277</td>\n",
       "    </tr>\n",
       "  </tbody>\n",
       "</table>\n",
       "</div>"
      ],
      "text/plain": [
       "        UNITID  MN_EARN_WNE_P10  ADM_RATE_ALL  AVGFACSAL  RET_FT4   CDR3  \\\n",
       "OPEID6                                                                     \n",
       "1002    100654          35500.0        0.5256     6892.0   0.6595  0.172   \n",
       "1052    100663          48400.0        0.8569     9957.0   0.8288  0.062   \n",
       "1055    100706          52000.0        0.8203     9302.0   0.7696  0.061   \n",
       "1005    100724          30600.0        0.5326     6609.0   0.5725  0.156   \n",
       "1051    100751          51600.0        0.5105     9667.0   0.8670  0.063   \n",
       "\n",
       "        AGE_ENTRY  UGDS_MEN  Leverage  Cooks Distance  Standardized Residuals  \\\n",
       "OPEID6                                                                          \n",
       "1002    20.525773    0.4831  0.010142        0.000261               -0.422036   \n",
       "1052    23.492140    0.4169  0.005544        0.000985               -1.111903   \n",
       "1055    23.718723    0.5733  0.005370        0.000394               -0.714270   \n",
       "1005    20.528185    0.3877  0.010012        0.000851               -0.767443   \n",
       "1051    21.356529    0.4580  0.002588        0.000498               -1.158667   \n",
       "\n",
       "        Studentized Residuals  Predicted Final Data LN  dependant_variable y  \n",
       "OPEID6                                                                        \n",
       "1002                -0.421866                10.531600             10.477288  \n",
       "1052                -1.112032                10.920098             10.787255  \n",
       "1055                -0.714098                10.928990             10.858999  \n",
       "1005                -0.767288                10.497408             10.328755  \n",
       "1051                -1.158862                10.938324             10.851277  "
      ]
     },
     "execution_count": 162,
     "metadata": {},
     "output_type": "execute_result"
    }
   ],
   "source": [
    "residual_results['dependant_variable y'] = np.log(residual_results['MN_EARN_WNE_P10'])\n",
    "residual_results.head()"
   ]
  },
  {
   "cell_type": "code",
   "execution_count": 163,
   "metadata": {},
   "outputs": [],
   "source": [
    "# final_data_1st_point = final_data.loc[100654, \"MN_EARN_WNE_P10\"]\n",
    "# final_data_1st_point"
   ]
  },
  {
   "cell_type": "code",
   "execution_count": 164,
   "metadata": {},
   "outputs": [
    {
     "data": {
      "text/html": [
       "<div>\n",
       "<style scoped>\n",
       "    .dataframe tbody tr th:only-of-type {\n",
       "        vertical-align: middle;\n",
       "    }\n",
       "\n",
       "    .dataframe tbody tr th {\n",
       "        vertical-align: top;\n",
       "    }\n",
       "\n",
       "    .dataframe thead th {\n",
       "        text-align: right;\n",
       "    }\n",
       "</style>\n",
       "<table border=\"1\" class=\"dataframe\">\n",
       "  <thead>\n",
       "    <tr style=\"text-align: right;\">\n",
       "      <th></th>\n",
       "      <th>UNITID</th>\n",
       "      <th>OPEID6</th>\n",
       "      <th>13-14 Predicted Final Data LN</th>\n",
       "      <th>13-14 Final_Predicted 10 year earnings</th>\n",
       "      <th>CONTROL</th>\n",
       "      <th>CONTROL.1</th>\n",
       "      <th>TUITIONFEE_IN</th>\n",
       "      <th>TUITIONFEE_OUT</th>\n",
       "      <th>ICLEVEL</th>\n",
       "      <th>PREDDEG</th>\n",
       "      <th>...</th>\n",
       "      <th>COUNT_NWNE_P6</th>\n",
       "      <th>COUNT_NWNE_P8</th>\n",
       "      <th>COUNT_NWNE_P10</th>\n",
       "      <th>COUNT_WNE_P6</th>\n",
       "      <th>COUNT_WNE_P8</th>\n",
       "      <th>COUNT_WNE_P10</th>\n",
       "      <th>UGDS_MEN</th>\n",
       "      <th>UGDS_WOMEN</th>\n",
       "      <th>Predicted Final Data LN</th>\n",
       "      <th>Final_Predicted 10 year earnings</th>\n",
       "    </tr>\n",
       "  </thead>\n",
       "  <tbody>\n",
       "    <tr>\n",
       "      <th>0</th>\n",
       "      <td>100654</td>\n",
       "      <td>1002</td>\n",
       "      <td>10.538013</td>\n",
       "      <td>37722.522920</td>\n",
       "      <td>1</td>\n",
       "      <td>Public</td>\n",
       "      <td>9096.0</td>\n",
       "      <td>16596.0</td>\n",
       "      <td>1</td>\n",
       "      <td>3</td>\n",
       "      <td>...</td>\n",
       "      <td>94.0</td>\n",
       "      <td>142.0</td>\n",
       "      <td>212.0</td>\n",
       "      <td>1304.0</td>\n",
       "      <td>1485.0</td>\n",
       "      <td>1784.0</td>\n",
       "      <td>0.4831</td>\n",
       "      <td>0.5169</td>\n",
       "      <td>10.531600</td>\n",
       "      <td>37481.401417</td>\n",
       "    </tr>\n",
       "    <tr>\n",
       "      <th>1</th>\n",
       "      <td>100663</td>\n",
       "      <td>1052</td>\n",
       "      <td>10.794632</td>\n",
       "      <td>48758.384286</td>\n",
       "      <td>1</td>\n",
       "      <td>Public</td>\n",
       "      <td>7510.0</td>\n",
       "      <td>17062.0</td>\n",
       "      <td>1</td>\n",
       "      <td>3</td>\n",
       "      <td>...</td>\n",
       "      <td>241.0</td>\n",
       "      <td>309.0</td>\n",
       "      <td>464.0</td>\n",
       "      <td>2727.0</td>\n",
       "      <td>3048.0</td>\n",
       "      <td>3643.0</td>\n",
       "      <td>0.4169</td>\n",
       "      <td>0.5831</td>\n",
       "      <td>10.920098</td>\n",
       "      <td>55276.225605</td>\n",
       "    </tr>\n",
       "  </tbody>\n",
       "</table>\n",
       "<p>2 rows × 80 columns</p>\n",
       "</div>"
      ],
      "text/plain": [
       "   UNITID  OPEID6  13-14 Predicted Final Data LN  \\\n",
       "0  100654    1002                      10.538013   \n",
       "1  100663    1052                      10.794632   \n",
       "\n",
       "   13-14 Final_Predicted 10 year earnings  CONTROL CONTROL.1  TUITIONFEE_IN  \\\n",
       "0                            37722.522920        1    Public         9096.0   \n",
       "1                            48758.384286        1    Public         7510.0   \n",
       "\n",
       "   TUITIONFEE_OUT  ICLEVEL  PREDDEG  ...  COUNT_NWNE_P6  COUNT_NWNE_P8  \\\n",
       "0         16596.0        1        3  ...           94.0          142.0   \n",
       "1         17062.0        1        3  ...          241.0          309.0   \n",
       "\n",
       "   COUNT_NWNE_P10  COUNT_WNE_P6  COUNT_WNE_P8  COUNT_WNE_P10  UGDS_MEN  \\\n",
       "0           212.0        1304.0        1485.0         1784.0    0.4831   \n",
       "1           464.0        2727.0        3048.0         3643.0    0.4169   \n",
       "\n",
       "   UGDS_WOMEN  Predicted Final Data LN  Final_Predicted 10 year earnings  \n",
       "0      0.5169                10.531600                      37481.401417  \n",
       "1      0.5831                10.920098                      55276.225605  \n",
       "\n",
       "[2 rows x 80 columns]"
      ]
     },
     "execution_count": 164,
     "metadata": {},
     "output_type": "execute_result"
    }
   ],
   "source": [
    "final_data['Final_Predicted 10 year earnings'] = np.exp(final_data['Predicted Final Data LN'])\n",
    "final_data.head(2)"
   ]
  },
  {
   "cell_type": "code",
   "execution_count": 165,
   "metadata": {},
   "outputs": [],
   "source": [
    "# final_data.reset_index()"
   ]
  },
  {
   "cell_type": "code",
   "execution_count": 166,
   "metadata": {},
   "outputs": [],
   "source": [
    "final_data.to_csv(\"US Dept Education data/Output/2014-2015_predicted_earnings.csv\", index=False, header=True)"
   ]
  },
  {
   "cell_type": "code",
   "execution_count": null,
   "metadata": {},
   "outputs": [],
   "source": []
  },
  {
   "cell_type": "markdown",
   "metadata": {},
   "source": [
    "#### Repeat for Tuition Costs"
   ]
  },
  {
   "cell_type": "code",
   "execution_count": null,
   "metadata": {},
   "outputs": [],
   "source": []
  }
 ],
 "metadata": {
  "kernelspec": {
   "display_name": "Python 3",
   "language": "python",
   "name": "python3"
  },
  "language_info": {
   "codemirror_mode": {
    "name": "ipython",
    "version": 3
   },
   "file_extension": ".py",
   "mimetype": "text/x-python",
   "name": "python",
   "nbconvert_exporter": "python",
   "pygments_lexer": "ipython3",
   "version": "3.6.8"
  },
  "toc": {
   "base_numbering": 1,
   "nav_menu": {},
   "number_sections": false,
   "sideBar": false,
   "skip_h1_title": false,
   "title_cell": "Table of Contents",
   "title_sidebar": "Contents",
   "toc_cell": false,
   "toc_position": {},
   "toc_section_display": false,
   "toc_window_display": false
  }
 },
 "nbformat": 4,
 "nbformat_minor": 2
}
