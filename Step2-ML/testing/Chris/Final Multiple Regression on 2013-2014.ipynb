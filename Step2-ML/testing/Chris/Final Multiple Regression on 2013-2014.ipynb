{
 "cells": [
  {
   "cell_type": "code",
   "execution_count": 1,
   "metadata": {
    "scrolled": true
   },
   "outputs": [],
   "source": [
    "%matplotlib inline\n",
    "import matplotlib.pyplot as plt\n",
    "import pandas as pd\n",
    "import numpy as np\n",
    "import os\n",
    "import json\n",
    "import requests\n",
    "import time\n",
    "import datetime"
   ]
  },
  {
   "cell_type": "code",
   "execution_count": 2,
   "metadata": {
    "scrolled": true
   },
   "outputs": [],
   "source": [
    "data = pd.read_csv(\"US Dept Education data/Output/Cleaned 2013_2014.csv\")"
   ]
  },
  {
   "cell_type": "code",
   "execution_count": 3,
   "metadata": {
    "scrolled": true
   },
   "outputs": [
    {
     "data": {
      "text/html": [
       "<div>\n",
       "<style scoped>\n",
       "    .dataframe tbody tr th:only-of-type {\n",
       "        vertical-align: middle;\n",
       "    }\n",
       "\n",
       "    .dataframe tbody tr th {\n",
       "        vertical-align: top;\n",
       "    }\n",
       "\n",
       "    .dataframe thead th {\n",
       "        text-align: right;\n",
       "    }\n",
       "</style>\n",
       "<table border=\"1\" class=\"dataframe\">\n",
       "  <thead>\n",
       "    <tr style=\"text-align: right;\">\n",
       "      <th></th>\n",
       "      <th>6-digit OPE ID for institution</th>\n",
       "      <th>Admission rate for all campuses rolled up to the 6-digit OPE ID</th>\n",
       "      <th>Average SAT equivalent score of students admitted for all campuses rolled up to the 6-digit OPE ID</th>\n",
       "      <th>Proportion of faculty that is full-time</th>\n",
       "      <th>First-time, full-time student retention rate at four-year institutions</th>\n",
       "      <th>The median debt for students who have completed</th>\n",
       "      <th>Average age of entry</th>\n",
       "      <th>Average family income in real 2015 dollars</th>\n",
       "      <th>Mean earnings of students working and not enrolled 6 years after entry</th>\n",
       "      <th>Mean earnings of students working and not enrolled 8 years after entry</th>\n",
       "      <th>Mean earnings of students working and not enrolled 10 years after entry</th>\n",
       "      <th>Nat Log Mean earnings of students working and not enrolled 10 years after entry</th>\n",
       "      <th>Average cost of attendance (academic year institutions)</th>\n",
       "      <th>Completion rate for first-time, full-time students at four-year institutions (150% of expected time to completion)</th>\n",
       "      <th>Unnamed: 14</th>\n",
       "      <th>Unnamed: 15</th>\n",
       "    </tr>\n",
       "  </thead>\n",
       "  <tbody>\n",
       "    <tr>\n",
       "      <th>0</th>\n",
       "      <td>1002</td>\n",
       "      <td>0.8989</td>\n",
       "      <td>823</td>\n",
       "      <td>0.8856</td>\n",
       "      <td>0.6314</td>\n",
       "      <td>29500.0</td>\n",
       "      <td>20.540410</td>\n",
       "      <td>29598.38641</td>\n",
       "      <td>27200</td>\n",
       "      <td>29700</td>\n",
       "      <td>34300</td>\n",
       "      <td>10.442901</td>\n",
       "      <td>18888.0</td>\n",
       "      <td>0.2914</td>\n",
       "      <td>NaN</td>\n",
       "      <td>NaN</td>\n",
       "    </tr>\n",
       "    <tr>\n",
       "      <th>1</th>\n",
       "      <td>1004</td>\n",
       "      <td>0.8729</td>\n",
       "      <td>1070</td>\n",
       "      <td>0.5951</td>\n",
       "      <td>0.7365</td>\n",
       "      <td>22500.0</td>\n",
       "      <td>21.791473</td>\n",
       "      <td>53709.14341</td>\n",
       "      <td>27000</td>\n",
       "      <td>31600</td>\n",
       "      <td>36000</td>\n",
       "      <td>10.491274</td>\n",
       "      <td>20194.0</td>\n",
       "      <td>0.4493</td>\n",
       "      <td>NaN</td>\n",
       "      <td>NaN</td>\n",
       "    </tr>\n",
       "  </tbody>\n",
       "</table>\n",
       "</div>"
      ],
      "text/plain": [
       "   6-digit OPE ID for institution  \\\n",
       "0                            1002   \n",
       "1                            1004   \n",
       "\n",
       "   Admission rate for all campuses rolled up to the 6-digit OPE ID  \\\n",
       "0                                             0.8989                 \n",
       "1                                             0.8729                 \n",
       "\n",
       "   Average SAT equivalent score of students admitted for all campuses rolled up to the 6-digit OPE ID  \\\n",
       "0                                                823                                                    \n",
       "1                                               1070                                                    \n",
       "\n",
       "   Proportion of faculty that is full-time  \\\n",
       "0                                   0.8856   \n",
       "1                                   0.5951   \n",
       "\n",
       "   First-time, full-time student retention rate at four-year institutions  \\\n",
       "0                                             0.6314                        \n",
       "1                                             0.7365                        \n",
       "\n",
       "   The median debt for students who have completed  Average age of entry  \\\n",
       "0                                          29500.0             20.540410   \n",
       "1                                          22500.0             21.791473   \n",
       "\n",
       "   Average family income in real 2015 dollars  \\\n",
       "0                                 29598.38641   \n",
       "1                                 53709.14341   \n",
       "\n",
       "   Mean earnings of students working and not enrolled 6 years after entry  \\\n",
       "0                                              27200                        \n",
       "1                                              27000                        \n",
       "\n",
       "   Mean earnings of students working and not enrolled 8 years after entry  \\\n",
       "0                                              29700                        \n",
       "1                                              31600                        \n",
       "\n",
       "   Mean earnings of students working and not enrolled 10 years after entry  \\\n",
       "0                                              34300                         \n",
       "1                                              36000                         \n",
       "\n",
       "   Nat Log Mean earnings of students working and not enrolled 10 years after entry  \\\n",
       "0                                          10.442901                                 \n",
       "1                                          10.491274                                 \n",
       "\n",
       "   Average cost of attendance (academic year institutions)  \\\n",
       "0                                            18888.0         \n",
       "1                                            20194.0         \n",
       "\n",
       "   Completion rate for first-time, full-time students at four-year institutions (150% of expected time to completion)  \\\n",
       "0                                             0.2914                                                                    \n",
       "1                                             0.4493                                                                    \n",
       "\n",
       "   Unnamed: 14  Unnamed: 15  \n",
       "0          NaN          NaN  \n",
       "1          NaN          NaN  "
      ]
     },
     "execution_count": 3,
     "metadata": {},
     "output_type": "execute_result"
    }
   ],
   "source": [
    "data.head(2)"
   ]
  },
  {
   "cell_type": "code",
   "execution_count": 4,
   "metadata": {
    "scrolled": true
   },
   "outputs": [
    {
     "data": {
      "text/plain": [
       "Index(['6-digit OPE ID for institution',\n",
       "       'Admission rate for all campuses rolled up to the 6-digit OPE ID',\n",
       "       'Average SAT equivalent score of students admitted for all campuses rolled up to the 6-digit OPE ID',\n",
       "       'Proportion of faculty that is full-time',\n",
       "       'First-time, full-time student retention rate at four-year institutions',\n",
       "       'The median debt for students who have completed',\n",
       "       'Average age of entry', 'Average family income in real 2015 dollars',\n",
       "       'Mean earnings of students working and not enrolled 6 years after entry',\n",
       "       'Mean earnings of students working and not enrolled 8 years after entry',\n",
       "       'Mean earnings of students working and not enrolled 10 years after entry',\n",
       "       'Nat Log Mean earnings of students working and not enrolled 10 years after entry',\n",
       "       'Average cost of attendance (academic year institutions)',\n",
       "       'Completion rate for first-time, full-time students at four-year institutions (150% of expected time to completion)',\n",
       "       'Unnamed: 14', 'Unnamed: 15'],\n",
       "      dtype='object')"
      ]
     },
     "execution_count": 4,
     "metadata": {},
     "output_type": "execute_result"
    }
   ],
   "source": [
    "data.columns"
   ]
  },
  {
   "cell_type": "markdown",
   "metadata": {},
   "source": [
    "#### Drop blank columns"
   ]
  },
  {
   "cell_type": "code",
   "execution_count": 5,
   "metadata": {
    "scrolled": true
   },
   "outputs": [],
   "source": [
    "data = data.drop([\"Unnamed: 14\", 'Unnamed: 15'], axis=1)"
   ]
  },
  {
   "cell_type": "markdown",
   "metadata": {},
   "source": [
    "#### Move all independant (X) variables to the left (for neatness)"
   ]
  },
  {
   "cell_type": "code",
   "execution_count": 6,
   "metadata": {
    "scrolled": true
   },
   "outputs": [
    {
     "data": {
      "text/html": [
       "<div>\n",
       "<style scoped>\n",
       "    .dataframe tbody tr th:only-of-type {\n",
       "        vertical-align: middle;\n",
       "    }\n",
       "\n",
       "    .dataframe tbody tr th {\n",
       "        vertical-align: top;\n",
       "    }\n",
       "\n",
       "    .dataframe thead th {\n",
       "        text-align: right;\n",
       "    }\n",
       "</style>\n",
       "<table border=\"1\" class=\"dataframe\">\n",
       "  <thead>\n",
       "    <tr style=\"text-align: right;\">\n",
       "      <th></th>\n",
       "      <th>6-digit OPE ID for institution</th>\n",
       "      <th>Admission rate for all campuses rolled up to the 6-digit OPE ID</th>\n",
       "      <th>Average SAT equivalent score of students admitted for all campuses rolled up to the 6-digit OPE ID</th>\n",
       "      <th>Proportion of faculty that is full-time</th>\n",
       "      <th>First-time, full-time student retention rate at four-year institutions</th>\n",
       "      <th>The median debt for students who have completed</th>\n",
       "      <th>Average age of entry</th>\n",
       "      <th>Average family income in real 2015 dollars</th>\n",
       "      <th>Completion rate for first-time, full-time students at four-year institutions (150% of expected time to completion)</th>\n",
       "      <th>Mean earnings of students working and not enrolled 6 years after entry</th>\n",
       "      <th>Mean earnings of students working and not enrolled 8 years after entry</th>\n",
       "      <th>Mean earnings of students working and not enrolled 10 years after entry</th>\n",
       "      <th>Nat Log Mean earnings of students working and not enrolled 10 years after entry</th>\n",
       "      <th>Average cost of attendance (academic year institutions)</th>\n",
       "    </tr>\n",
       "  </thead>\n",
       "  <tbody>\n",
       "    <tr>\n",
       "      <th>0</th>\n",
       "      <td>1002</td>\n",
       "      <td>0.8989</td>\n",
       "      <td>823</td>\n",
       "      <td>0.8856</td>\n",
       "      <td>0.6314</td>\n",
       "      <td>29500.0</td>\n",
       "      <td>20.540410</td>\n",
       "      <td>29598.38641</td>\n",
       "      <td>0.2914</td>\n",
       "      <td>27200</td>\n",
       "      <td>29700</td>\n",
       "      <td>34300</td>\n",
       "      <td>10.442901</td>\n",
       "      <td>18888.0</td>\n",
       "    </tr>\n",
       "    <tr>\n",
       "      <th>1</th>\n",
       "      <td>1004</td>\n",
       "      <td>0.8729</td>\n",
       "      <td>1070</td>\n",
       "      <td>0.5951</td>\n",
       "      <td>0.7365</td>\n",
       "      <td>22500.0</td>\n",
       "      <td>21.791473</td>\n",
       "      <td>53709.14341</td>\n",
       "      <td>0.4493</td>\n",
       "      <td>27000</td>\n",
       "      <td>31600</td>\n",
       "      <td>36000</td>\n",
       "      <td>10.491274</td>\n",
       "      <td>20194.0</td>\n",
       "    </tr>\n",
       "  </tbody>\n",
       "</table>\n",
       "</div>"
      ],
      "text/plain": [
       "   6-digit OPE ID for institution  \\\n",
       "0                            1002   \n",
       "1                            1004   \n",
       "\n",
       "   Admission rate for all campuses rolled up to the 6-digit OPE ID  \\\n",
       "0                                             0.8989                 \n",
       "1                                             0.8729                 \n",
       "\n",
       "   Average SAT equivalent score of students admitted for all campuses rolled up to the 6-digit OPE ID  \\\n",
       "0                                                823                                                    \n",
       "1                                               1070                                                    \n",
       "\n",
       "   Proportion of faculty that is full-time  \\\n",
       "0                                   0.8856   \n",
       "1                                   0.5951   \n",
       "\n",
       "   First-time, full-time student retention rate at four-year institutions  \\\n",
       "0                                             0.6314                        \n",
       "1                                             0.7365                        \n",
       "\n",
       "   The median debt for students who have completed  Average age of entry  \\\n",
       "0                                          29500.0             20.540410   \n",
       "1                                          22500.0             21.791473   \n",
       "\n",
       "   Average family income in real 2015 dollars  \\\n",
       "0                                 29598.38641   \n",
       "1                                 53709.14341   \n",
       "\n",
       "   Completion rate for first-time, full-time students at four-year institutions (150% of expected time to completion)  \\\n",
       "0                                             0.2914                                                                    \n",
       "1                                             0.4493                                                                    \n",
       "\n",
       "   Mean earnings of students working and not enrolled 6 years after entry  \\\n",
       "0                                              27200                        \n",
       "1                                              27000                        \n",
       "\n",
       "   Mean earnings of students working and not enrolled 8 years after entry  \\\n",
       "0                                              29700                        \n",
       "1                                              31600                        \n",
       "\n",
       "   Mean earnings of students working and not enrolled 10 years after entry  \\\n",
       "0                                              34300                         \n",
       "1                                              36000                         \n",
       "\n",
       "   Nat Log Mean earnings of students working and not enrolled 10 years after entry  \\\n",
       "0                                          10.442901                                 \n",
       "1                                          10.491274                                 \n",
       "\n",
       "   Average cost of attendance (academic year institutions)  \n",
       "0                                            18888.0        \n",
       "1                                            20194.0        "
      ]
     },
     "execution_count": 6,
     "metadata": {},
     "output_type": "execute_result"
    }
   ],
   "source": [
    "xyz=['6-digit OPE ID for institution',\n",
    "       'Admission rate for all campuses rolled up to the 6-digit OPE ID',\n",
    "       'Average SAT equivalent score of students admitted for all campuses rolled up to the 6-digit OPE ID',\n",
    "       'Proportion of faculty that is full-time',\n",
    "       'First-time, full-time student retention rate at four-year institutions',\n",
    "       'The median debt for students who have completed',\n",
    "       'Average age of entry', 'Average family income in real 2015 dollars',\n",
    "    'Completion rate for first-time, full-time students at four-year institutions (150% of expected time to completion)','Mean earnings of students working and not enrolled 6 years after entry',\n",
    "       'Mean earnings of students working and not enrolled 8 years after entry',\n",
    "       'Mean earnings of students working and not enrolled 10 years after entry',\n",
    "       'Nat Log Mean earnings of students working and not enrolled 10 years after entry',\n",
    "       'Average cost of attendance (academic year institutions)']\n",
    "data = data[xyz]\n",
    "data.head(2)"
   ]
  },
  {
   "cell_type": "code",
   "execution_count": 7,
   "metadata": {
    "scrolled": true
   },
   "outputs": [],
   "source": [
    "from sklearn.linear_model import LinearRegression\n",
    "model = LinearRegression()"
   ]
  },
  {
   "cell_type": "code",
   "execution_count": 8,
   "metadata": {
    "scrolled": true
   },
   "outputs": [],
   "source": [
    "X = data[['Admission rate for all campuses rolled up to the 6-digit OPE ID',\\\n",
    "                     'Average SAT equivalent score of students admitted for all campuses rolled up to the 6-digit OPE ID',\\\n",
    "                     'Proportion of faculty that is full-time',\\\n",
    "                     'First-time, full-time student retention rate at four-year institutions',\\\n",
    "                     'The median debt for students who have completed',\\\n",
    "                     'Average age of entry',\\\n",
    "                     'Average family income in real 2015 dollars',\\\n",
    "         'Completion rate for first-time, full-time students at four-year institutions (150% of expected time to completion)']]\n",
    "\n",
    "y = data['Mean earnings of students working and not enrolled 10 years after entry']\n"
   ]
  },
  {
   "cell_type": "code",
   "execution_count": 9,
   "metadata": {
    "scrolled": true
   },
   "outputs": [
    {
     "name": "stdout",
     "output_type": "stream",
     "text": [
      "(1268, 8) (1268,)\n"
     ]
    }
   ],
   "source": [
    "print(X.shape, y.shape)"
   ]
  },
  {
   "cell_type": "code",
   "execution_count": 10,
   "metadata": {
    "scrolled": true
   },
   "outputs": [
    {
     "data": {
      "text/plain": [
       "LinearRegression(copy_X=True, fit_intercept=True, n_jobs=None,\n",
       "         normalize=False)"
      ]
     },
     "execution_count": 10,
     "metadata": {},
     "output_type": "execute_result"
    }
   ],
   "source": [
    "# Fit Model\n",
    "model.fit(X, y)"
   ]
  },
  {
   "cell_type": "markdown",
   "metadata": {},
   "source": [
    "#### Examine coefficients and Intercept"
   ]
  },
  {
   "cell_type": "code",
   "execution_count": 11,
   "metadata": {
    "scrolled": true
   },
   "outputs": [
    {
     "name": "stdout",
     "output_type": "stream",
     "text": [
      "[-9.81400420e+03  4.28222275e+01 -2.89905016e+03  1.83750904e+04\n",
      " -1.90696438e-01  4.36044294e+02  1.04849345e-01  5.89157967e+03]\n",
      "-17728.606259561573\n"
     ]
    }
   ],
   "source": [
    "print(model.coef_)\n",
    "print(model.intercept_)"
   ]
  },
  {
   "cell_type": "markdown",
   "metadata": {},
   "source": [
    "#### Check p-values for each coefficient"
   ]
  },
  {
   "cell_type": "code",
   "execution_count": 12,
   "metadata": {
    "scrolled": true
   },
   "outputs": [],
   "source": [
    "import statsmodels.api as sm\n",
    "from scipy import stats"
   ]
  },
  {
   "cell_type": "code",
   "execution_count": 13,
   "metadata": {
    "scrolled": false
   },
   "outputs": [
    {
     "name": "stdout",
     "output_type": "stream",
     "text": [
      "                                                       OLS Regression Results                                                      \n",
      "===================================================================================================================================\n",
      "Dep. Variable:     Mean earnings of students working and not enrolled 10 years after entry   R-squared:                       0.589\n",
      "Model:                                                                                 OLS   Adj. R-squared:                  0.586\n",
      "Method:                                                                      Least Squares   F-statistic:                     225.3\n",
      "Date:                                                                     Sat, 27 Jul 2019   Prob (F-statistic):          1.08e-236\n",
      "Time:                                                                             08:27:12   Log-Likelihood:                -13305.\n",
      "No. Observations:                                                                     1268   AIC:                         2.663e+04\n",
      "Df Residuals:                                                                         1259   BIC:                         2.667e+04\n",
      "Df Model:                                                                                8                                         \n",
      "Covariance Type:                                                                 nonrobust                                         \n",
      "======================================================================================================================================================================================\n",
      "                                                                                                                         coef    std err          t      P>|t|      [0.025      0.975]\n",
      "--------------------------------------------------------------------------------------------------------------------------------------------------------------------------------------\n",
      "const                                                                                                              -1.773e+04   5382.447     -3.294      0.001   -2.83e+04   -7169.052\n",
      "Admission rate for all campuses rolled up to the 6-digit OPE ID                                                    -9814.0042   1479.995     -6.631      0.000   -1.27e+04   -6910.476\n",
      "Average SAT equivalent score of students admitted for all campuses rolled up to the 6-digit OPE ID                    42.8222      4.006     10.690      0.000      34.964      50.681\n",
      "Proportion of faculty that is full-time                                                                            -2899.0502   1066.653     -2.718      0.007   -4991.663    -806.437\n",
      "First-time, full-time student retention rate at four-year institutions                                              1.838e+04   4109.486      4.471      0.000    1.03e+04    2.64e+04\n",
      "The median debt for students who have completed                                                                       -0.1907      0.063     -3.010      0.003      -0.315      -0.066\n",
      "Average age of entry                                                                                                 436.0443    119.407      3.652      0.000     201.786     670.303\n",
      "Average family income in real 2015 dollars                                                                             0.1048      0.022      4.779      0.000       0.062       0.148\n",
      "Completion rate for first-time, full-time students at four-year institutions (150% of expected time to completion)  5891.5797   3387.919      1.739      0.082    -755.008    1.25e+04\n",
      "==============================================================================\n",
      "Omnibus:                      519.646   Durbin-Watson:                   1.793\n",
      "Prob(Omnibus):                  0.000   Jarque-Bera (JB):             4222.200\n",
      "Skew:                           1.688   Prob(JB):                         0.00\n",
      "Kurtosis:                      11.278   Cond. No.                     1.72e+06\n",
      "==============================================================================\n",
      "\n",
      "Warnings:\n",
      "[1] Standard Errors assume that the covariance matrix of the errors is correctly specified.\n",
      "[2] The condition number is large, 1.72e+06. This might indicate that there are\n",
      "strong multicollinearity or other numerical problems.\n"
     ]
    },
    {
     "name": "stderr",
     "output_type": "stream",
     "text": [
      "C:\\Users\\Chart\\AppData\\Local\\Continuum\\anaconda3\\lib\\site-packages\\numpy\\core\\fromnumeric.py:2389: FutureWarning: Method .ptp is deprecated and will be removed in a future version. Use numpy.ptp instead.\n",
      "  return ptp(axis=axis, out=out, **kwargs)\n"
     ]
    }
   ],
   "source": [
    "X2 = sm.add_constant(X)\n",
    "est = sm.OLS(y, X2)\n",
    "est2 = est.fit()\n",
    "print(est2.summary())"
   ]
  },
  {
   "cell_type": "markdown",
   "metadata": {},
   "source": [
    "#### Reject any X coefficients with p-values >= 5%"
   ]
  },
  {
   "cell_type": "code",
   "execution_count": 14,
   "metadata": {
    "scrolled": true
   },
   "outputs": [],
   "source": [
    "data = data.drop([\"Completion rate for first-time, full-time students at four-year institutions (150% of expected time to completion)\"], axis=1)"
   ]
  },
  {
   "cell_type": "code",
   "execution_count": 15,
   "metadata": {
    "scrolled": true
   },
   "outputs": [
    {
     "data": {
      "text/html": [
       "<div>\n",
       "<style scoped>\n",
       "    .dataframe tbody tr th:only-of-type {\n",
       "        vertical-align: middle;\n",
       "    }\n",
       "\n",
       "    .dataframe tbody tr th {\n",
       "        vertical-align: top;\n",
       "    }\n",
       "\n",
       "    .dataframe thead th {\n",
       "        text-align: right;\n",
       "    }\n",
       "</style>\n",
       "<table border=\"1\" class=\"dataframe\">\n",
       "  <thead>\n",
       "    <tr style=\"text-align: right;\">\n",
       "      <th></th>\n",
       "      <th>6-digit OPE ID for institution</th>\n",
       "      <th>Admission rate for all campuses rolled up to the 6-digit OPE ID</th>\n",
       "      <th>Average SAT equivalent score of students admitted for all campuses rolled up to the 6-digit OPE ID</th>\n",
       "      <th>Proportion of faculty that is full-time</th>\n",
       "      <th>First-time, full-time student retention rate at four-year institutions</th>\n",
       "      <th>The median debt for students who have completed</th>\n",
       "      <th>Average age of entry</th>\n",
       "      <th>Average family income in real 2015 dollars</th>\n",
       "      <th>Mean earnings of students working and not enrolled 6 years after entry</th>\n",
       "      <th>Mean earnings of students working and not enrolled 8 years after entry</th>\n",
       "      <th>Mean earnings of students working and not enrolled 10 years after entry</th>\n",
       "      <th>Nat Log Mean earnings of students working and not enrolled 10 years after entry</th>\n",
       "      <th>Average cost of attendance (academic year institutions)</th>\n",
       "    </tr>\n",
       "  </thead>\n",
       "  <tbody>\n",
       "    <tr>\n",
       "      <th>0</th>\n",
       "      <td>1002</td>\n",
       "      <td>0.8989</td>\n",
       "      <td>823</td>\n",
       "      <td>0.8856</td>\n",
       "      <td>0.6314</td>\n",
       "      <td>29500.0</td>\n",
       "      <td>20.540410</td>\n",
       "      <td>29598.38641</td>\n",
       "      <td>27200</td>\n",
       "      <td>29700</td>\n",
       "      <td>34300</td>\n",
       "      <td>10.442901</td>\n",
       "      <td>18888.0</td>\n",
       "    </tr>\n",
       "    <tr>\n",
       "      <th>1</th>\n",
       "      <td>1004</td>\n",
       "      <td>0.8729</td>\n",
       "      <td>1070</td>\n",
       "      <td>0.5951</td>\n",
       "      <td>0.7365</td>\n",
       "      <td>22500.0</td>\n",
       "      <td>21.791473</td>\n",
       "      <td>53709.14341</td>\n",
       "      <td>27000</td>\n",
       "      <td>31600</td>\n",
       "      <td>36000</td>\n",
       "      <td>10.491274</td>\n",
       "      <td>20194.0</td>\n",
       "    </tr>\n",
       "  </tbody>\n",
       "</table>\n",
       "</div>"
      ],
      "text/plain": [
       "   6-digit OPE ID for institution  \\\n",
       "0                            1002   \n",
       "1                            1004   \n",
       "\n",
       "   Admission rate for all campuses rolled up to the 6-digit OPE ID  \\\n",
       "0                                             0.8989                 \n",
       "1                                             0.8729                 \n",
       "\n",
       "   Average SAT equivalent score of students admitted for all campuses rolled up to the 6-digit OPE ID  \\\n",
       "0                                                823                                                    \n",
       "1                                               1070                                                    \n",
       "\n",
       "   Proportion of faculty that is full-time  \\\n",
       "0                                   0.8856   \n",
       "1                                   0.5951   \n",
       "\n",
       "   First-time, full-time student retention rate at four-year institutions  \\\n",
       "0                                             0.6314                        \n",
       "1                                             0.7365                        \n",
       "\n",
       "   The median debt for students who have completed  Average age of entry  \\\n",
       "0                                          29500.0             20.540410   \n",
       "1                                          22500.0             21.791473   \n",
       "\n",
       "   Average family income in real 2015 dollars  \\\n",
       "0                                 29598.38641   \n",
       "1                                 53709.14341   \n",
       "\n",
       "   Mean earnings of students working and not enrolled 6 years after entry  \\\n",
       "0                                              27200                        \n",
       "1                                              27000                        \n",
       "\n",
       "   Mean earnings of students working and not enrolled 8 years after entry  \\\n",
       "0                                              29700                        \n",
       "1                                              31600                        \n",
       "\n",
       "   Mean earnings of students working and not enrolled 10 years after entry  \\\n",
       "0                                              34300                         \n",
       "1                                              36000                         \n",
       "\n",
       "   Nat Log Mean earnings of students working and not enrolled 10 years after entry  \\\n",
       "0                                          10.442901                                 \n",
       "1                                          10.491274                                 \n",
       "\n",
       "   Average cost of attendance (academic year institutions)  \n",
       "0                                            18888.0        \n",
       "1                                            20194.0        "
      ]
     },
     "execution_count": 15,
     "metadata": {},
     "output_type": "execute_result"
    }
   ],
   "source": [
    "data.head(2)"
   ]
  },
  {
   "cell_type": "code",
   "execution_count": 16,
   "metadata": {
    "scrolled": true
   },
   "outputs": [],
   "source": [
    "X = data[['Admission rate for all campuses rolled up to the 6-digit OPE ID',\\\n",
    "                     'Average SAT equivalent score of students admitted for all campuses rolled up to the 6-digit OPE ID',\\\n",
    "                     'Proportion of faculty that is full-time',\\\n",
    "                     'First-time, full-time student retention rate at four-year institutions',\\\n",
    "                     'The median debt for students who have completed',\\\n",
    "                     'Average age of entry',\\\n",
    "                     'Average family income in real 2015 dollars']]"
   ]
  },
  {
   "cell_type": "code",
   "execution_count": 17,
   "metadata": {
    "scrolled": true
   },
   "outputs": [
    {
     "data": {
      "text/html": [
       "<div>\n",
       "<style scoped>\n",
       "    .dataframe tbody tr th:only-of-type {\n",
       "        vertical-align: middle;\n",
       "    }\n",
       "\n",
       "    .dataframe tbody tr th {\n",
       "        vertical-align: top;\n",
       "    }\n",
       "\n",
       "    .dataframe thead th {\n",
       "        text-align: right;\n",
       "    }\n",
       "</style>\n",
       "<table border=\"1\" class=\"dataframe\">\n",
       "  <thead>\n",
       "    <tr style=\"text-align: right;\">\n",
       "      <th></th>\n",
       "      <th>Admission rate for all campuses rolled up to the 6-digit OPE ID</th>\n",
       "      <th>Average SAT equivalent score of students admitted for all campuses rolled up to the 6-digit OPE ID</th>\n",
       "      <th>Proportion of faculty that is full-time</th>\n",
       "      <th>First-time, full-time student retention rate at four-year institutions</th>\n",
       "      <th>The median debt for students who have completed</th>\n",
       "      <th>Average age of entry</th>\n",
       "      <th>Average family income in real 2015 dollars</th>\n",
       "    </tr>\n",
       "  </thead>\n",
       "  <tbody>\n",
       "    <tr>\n",
       "      <th>0</th>\n",
       "      <td>0.8989</td>\n",
       "      <td>823</td>\n",
       "      <td>0.8856</td>\n",
       "      <td>0.6314</td>\n",
       "      <td>29500.0</td>\n",
       "      <td>20.540410</td>\n",
       "      <td>29598.38641</td>\n",
       "    </tr>\n",
       "    <tr>\n",
       "      <th>1</th>\n",
       "      <td>0.8729</td>\n",
       "      <td>1070</td>\n",
       "      <td>0.5951</td>\n",
       "      <td>0.7365</td>\n",
       "      <td>22500.0</td>\n",
       "      <td>21.791473</td>\n",
       "      <td>53709.14341</td>\n",
       "    </tr>\n",
       "  </tbody>\n",
       "</table>\n",
       "</div>"
      ],
      "text/plain": [
       "   Admission rate for all campuses rolled up to the 6-digit OPE ID  \\\n",
       "0                                             0.8989                 \n",
       "1                                             0.8729                 \n",
       "\n",
       "   Average SAT equivalent score of students admitted for all campuses rolled up to the 6-digit OPE ID  \\\n",
       "0                                                823                                                    \n",
       "1                                               1070                                                    \n",
       "\n",
       "   Proportion of faculty that is full-time  \\\n",
       "0                                   0.8856   \n",
       "1                                   0.5951   \n",
       "\n",
       "   First-time, full-time student retention rate at four-year institutions  \\\n",
       "0                                             0.6314                        \n",
       "1                                             0.7365                        \n",
       "\n",
       "   The median debt for students who have completed  Average age of entry  \\\n",
       "0                                          29500.0             20.540410   \n",
       "1                                          22500.0             21.791473   \n",
       "\n",
       "   Average family income in real 2015 dollars  \n",
       "0                                 29598.38641  \n",
       "1                                 53709.14341  "
      ]
     },
     "execution_count": 17,
     "metadata": {},
     "output_type": "execute_result"
    }
   ],
   "source": [
    "X.head(2)"
   ]
  },
  {
   "cell_type": "code",
   "execution_count": 18,
   "metadata": {
    "scrolled": true
   },
   "outputs": [
    {
     "name": "stdout",
     "output_type": "stream",
     "text": [
      "(1268, 7) (1268,)\n"
     ]
    }
   ],
   "source": [
    "print(X.shape, y.shape)"
   ]
  },
  {
   "cell_type": "markdown",
   "metadata": {},
   "source": [
    "#### See if colinearity warning is still in place;"
   ]
  },
  {
   "cell_type": "code",
   "execution_count": 19,
   "metadata": {
    "scrolled": true
   },
   "outputs": [
    {
     "data": {
      "text/plain": [
       "LinearRegression(copy_X=True, fit_intercept=True, n_jobs=None,\n",
       "         normalize=False)"
      ]
     },
     "execution_count": 19,
     "metadata": {},
     "output_type": "execute_result"
    }
   ],
   "source": [
    "# Fit Model\n",
    "model.fit(X, y)"
   ]
  },
  {
   "cell_type": "code",
   "execution_count": 20,
   "metadata": {
    "scrolled": false
   },
   "outputs": [
    {
     "name": "stdout",
     "output_type": "stream",
     "text": [
      "                                                       OLS Regression Results                                                      \n",
      "===================================================================================================================================\n",
      "Dep. Variable:     Mean earnings of students working and not enrolled 10 years after entry   R-squared:                       0.588\n",
      "Model:                                                                                 OLS   Adj. R-squared:                  0.585\n",
      "Method:                                                                      Least Squares   F-statistic:                     256.6\n",
      "Date:                                                                     Sat, 27 Jul 2019   Prob (F-statistic):          2.94e-237\n",
      "Time:                                                                             08:27:12   Log-Likelihood:                -13306.\n",
      "No. Observations:                                                                     1268   AIC:                         2.663e+04\n",
      "Df Residuals:                                                                         1260   BIC:                         2.667e+04\n",
      "Df Model:                                                                                7                                         \n",
      "Covariance Type:                                                                 nonrobust                                         \n",
      "======================================================================================================================================================================\n",
      "                                                                                                         coef    std err          t      P>|t|      [0.025      0.975]\n",
      "----------------------------------------------------------------------------------------------------------------------------------------------------------------------\n",
      "const                                                                                              -2.045e+04   5154.276     -3.967      0.000   -3.06e+04   -1.03e+04\n",
      "Admission rate for all campuses rolled up to the 6-digit OPE ID                                    -1.012e+04   1471.012     -6.876      0.000    -1.3e+04   -7229.200\n",
      "Average SAT equivalent score of students admitted for all campuses rolled up to the 6-digit OPE ID    45.2018      3.768     11.997      0.000      37.810      52.594\n",
      "Proportion of faculty that is full-time                                                            -2917.9425   1067.454     -2.734      0.006   -5012.125    -823.760\n",
      "First-time, full-time student retention rate at four-year institutions                               2.17e+04   3639.322      5.964      0.000    1.46e+04    2.88e+04\n",
      "The median debt for students who have completed                                                       -0.1869      0.063     -2.950      0.003      -0.311      -0.063\n",
      "Average age of entry                                                                                 437.8152    119.498      3.664      0.000     203.377     672.253\n",
      "Average family income in real 2015 dollars                                                             0.1199      0.020      5.947      0.000       0.080       0.160\n",
      "==============================================================================\n",
      "Omnibus:                      527.626   Durbin-Watson:                   1.790\n",
      "Prob(Omnibus):                  0.000   Jarque-Bera (JB):             4398.834\n",
      "Skew:                           1.711   Prob(JB):                         0.00\n",
      "Kurtosis:                      11.459   Cond. No.                     1.54e+06\n",
      "==============================================================================\n",
      "\n",
      "Warnings:\n",
      "[1] Standard Errors assume that the covariance matrix of the errors is correctly specified.\n",
      "[2] The condition number is large, 1.54e+06. This might indicate that there are\n",
      "strong multicollinearity or other numerical problems.\n"
     ]
    },
    {
     "name": "stderr",
     "output_type": "stream",
     "text": [
      "C:\\Users\\Chart\\AppData\\Local\\Continuum\\anaconda3\\lib\\site-packages\\numpy\\core\\fromnumeric.py:2389: FutureWarning: Method .ptp is deprecated and will be removed in a future version. Use numpy.ptp instead.\n",
      "  return ptp(axis=axis, out=out, **kwargs)\n"
     ]
    }
   ],
   "source": [
    "X2 = sm.add_constant(X)\n",
    "est = sm.OLS(y, X2)\n",
    "est2 = est.fit()\n",
    "print(est2.summary())"
   ]
  },
  {
   "cell_type": "code",
   "execution_count": 21,
   "metadata": {
    "scrolled": true
   },
   "outputs": [
    {
     "name": "stdout",
     "output_type": "stream",
     "text": [
      "[-1.01151028e+04  4.52018338e+01 -2.91794255e+03  2.17040114e+04\n",
      " -1.86915885e-01  4.37815171e+02  1.19935301e-01]\n",
      "-20448.77947608228\n"
     ]
    }
   ],
   "source": [
    "print(model.coef_)\n",
    "print(model.intercept_)"
   ]
  },
  {
   "cell_type": "markdown",
   "metadata": {},
   "source": [
    "#### Check for colinearity"
   ]
  },
  {
   "cell_type": "code",
   "execution_count": 22,
   "metadata": {
    "scrolled": true
   },
   "outputs": [],
   "source": [
    "from statsmodels.stats.outliers_influence import variance_inflation_factor"
   ]
  },
  {
   "cell_type": "code",
   "execution_count": 23,
   "metadata": {
    "scrolled": true
   },
   "outputs": [
    {
     "data": {
      "text/plain": [
       "array([34300, 36000, 29500, ..., 53100, 85700, 46100], dtype=int64)"
      ]
     },
     "execution_count": 23,
     "metadata": {},
     "output_type": "execute_result"
    }
   ],
   "source": [
    "# check the dependant variable y\n",
    "variables_endogenous = est2.model.endog\n",
    "variables_endogenous"
   ]
  },
  {
   "cell_type": "code",
   "execution_count": 24,
   "metadata": {
    "scrolled": true
   },
   "outputs": [
    {
     "data": {
      "text/plain": [
       "array([[1.00000000e+00, 8.98900000e-01, 8.23000000e+02, ...,\n",
       "        2.95000000e+04, 2.05404101e+01, 2.95983864e+04],\n",
       "       [1.00000000e+00, 8.72900000e-01, 1.07000000e+03, ...,\n",
       "        2.25000000e+04, 2.17914729e+01, 5.37091434e+04],\n",
       "       [1.00000000e+00, 5.12500000e-01, 8.30000000e+02, ...,\n",
       "        3.12000000e+04, 2.06485753e+01, 2.81124651e+04],\n",
       "       ...,\n",
       "       [1.00000000e+00, 4.63000000e-01, 1.12500000e+03, ...,\n",
       "        3.12370000e+04, 2.70508259e+01, 3.91686607e+04],\n",
       "       [1.00000000e+00, 6.63500000e-01, 1.22500000e+03, ...,\n",
       "        2.70000000e+04, 2.17170264e+01, 7.69563501e+04],\n",
       "       [1.00000000e+00, 6.44300000e-01, 9.54000000e+02, ...,\n",
       "        1.50000000e+04, 2.35467512e+01, 4.59535420e+04]])"
      ]
     },
     "execution_count": 24,
     "metadata": {},
     "output_type": "execute_result"
    }
   ],
   "source": [
    "variables_exogenous = est2.model.exog\n",
    "variables_exogenous"
   ]
  },
  {
   "cell_type": "code",
   "execution_count": 25,
   "metadata": {
    "scrolled": true
   },
   "outputs": [
    {
     "data": {
      "text/plain": [
       "[438.7362671684371,\n",
       " 1.2304022773203342,\n",
       " 4.005656825674626,\n",
       " 1.0403331958266897,\n",
       " 2.725102236533551,\n",
       " 1.3543499227760865,\n",
       " 1.5790516094469864,\n",
       " 3.181462607967563]"
      ]
     },
     "execution_count": 25,
     "metadata": {},
     "output_type": "execute_result"
    }
   ],
   "source": [
    "vif = [variance_inflation_factor(variables_exogenous, i) for i in range(variables_exogenous.shape[1])]\n",
    "vif "
   ]
  },
  {
   "cell_type": "code",
   "execution_count": 26,
   "metadata": {},
   "outputs": [
    {
     "data": {
      "text/html": [
       "<div>\n",
       "<style scoped>\n",
       "    .dataframe tbody tr th:only-of-type {\n",
       "        vertical-align: middle;\n",
       "    }\n",
       "\n",
       "    .dataframe tbody tr th {\n",
       "        vertical-align: top;\n",
       "    }\n",
       "\n",
       "    .dataframe thead th {\n",
       "        text-align: right;\n",
       "    }\n",
       "</style>\n",
       "<table border=\"1\" class=\"dataframe\">\n",
       "  <thead>\n",
       "    <tr style=\"text-align: right;\">\n",
       "      <th></th>\n",
       "      <th>Admission rate for all campuses rolled up to the 6-digit OPE ID</th>\n",
       "      <th>Average SAT equivalent score of students admitted for all campuses rolled up to the 6-digit OPE ID</th>\n",
       "      <th>Proportion of faculty that is full-time</th>\n",
       "      <th>First-time, full-time student retention rate at four-year institutions</th>\n",
       "      <th>The median debt for students who have completed</th>\n",
       "      <th>Average age of entry</th>\n",
       "      <th>Average family income in real 2015 dollars</th>\n",
       "    </tr>\n",
       "  </thead>\n",
       "  <tbody>\n",
       "    <tr>\n",
       "      <th>Admission rate for all campuses rolled up to the 6-digit OPE ID</th>\n",
       "      <td>1.000000</td>\n",
       "      <td>-0.383117</td>\n",
       "      <td>-0.038612</td>\n",
       "      <td>-0.284319</td>\n",
       "      <td>0.189326</td>\n",
       "      <td>0.147779</td>\n",
       "      <td>-0.141847</td>\n",
       "    </tr>\n",
       "    <tr>\n",
       "      <th>Average SAT equivalent score of students admitted for all campuses rolled up to the 6-digit OPE ID</th>\n",
       "      <td>-0.383117</td>\n",
       "      <td>1.000000</td>\n",
       "      <td>0.126192</td>\n",
       "      <td>0.777505</td>\n",
       "      <td>-0.266950</td>\n",
       "      <td>-0.400375</td>\n",
       "      <td>0.702049</td>\n",
       "    </tr>\n",
       "    <tr>\n",
       "      <th>Proportion of faculty that is full-time</th>\n",
       "      <td>-0.038612</td>\n",
       "      <td>0.126192</td>\n",
       "      <td>1.000000</td>\n",
       "      <td>0.049544</td>\n",
       "      <td>-0.045678</td>\n",
       "      <td>-0.141676</td>\n",
       "      <td>0.078323</td>\n",
       "    </tr>\n",
       "    <tr>\n",
       "      <th>First-time, full-time student retention rate at four-year institutions</th>\n",
       "      <td>-0.284319</td>\n",
       "      <td>0.777505</td>\n",
       "      <td>0.049544</td>\n",
       "      <td>1.000000</td>\n",
       "      <td>-0.170558</td>\n",
       "      <td>-0.412488</td>\n",
       "      <td>0.652252</td>\n",
       "    </tr>\n",
       "    <tr>\n",
       "      <th>The median debt for students who have completed</th>\n",
       "      <td>0.189326</td>\n",
       "      <td>-0.266950</td>\n",
       "      <td>-0.045678</td>\n",
       "      <td>-0.170558</td>\n",
       "      <td>1.000000</td>\n",
       "      <td>-0.119571</td>\n",
       "      <td>0.118647</td>\n",
       "    </tr>\n",
       "    <tr>\n",
       "      <th>Average age of entry</th>\n",
       "      <td>0.147779</td>\n",
       "      <td>-0.400375</td>\n",
       "      <td>-0.141676</td>\n",
       "      <td>-0.412488</td>\n",
       "      <td>-0.119571</td>\n",
       "      <td>1.000000</td>\n",
       "      <td>-0.585724</td>\n",
       "    </tr>\n",
       "    <tr>\n",
       "      <th>Average family income in real 2015 dollars</th>\n",
       "      <td>-0.141847</td>\n",
       "      <td>0.702049</td>\n",
       "      <td>0.078323</td>\n",
       "      <td>0.652252</td>\n",
       "      <td>0.118647</td>\n",
       "      <td>-0.585724</td>\n",
       "      <td>1.000000</td>\n",
       "    </tr>\n",
       "  </tbody>\n",
       "</table>\n",
       "</div>"
      ],
      "text/plain": [
       "                                                    Admission rate for all campuses rolled up to the 6-digit OPE ID  \\\n",
       "Admission rate for all campuses rolled up to th...                                           1.000000                 \n",
       "Average SAT equivalent score of students admitt...                                          -0.383117                 \n",
       "Proportion of faculty that is full-time                                                     -0.038612                 \n",
       "First-time, full-time student retention rate at...                                          -0.284319                 \n",
       "The median debt for students who have completed                                              0.189326                 \n",
       "Average age of entry                                                                         0.147779                 \n",
       "Average family income in real 2015 dollars                                                  -0.141847                 \n",
       "\n",
       "                                                    Average SAT equivalent score of students admitted for all campuses rolled up to the 6-digit OPE ID  \\\n",
       "Admission rate for all campuses rolled up to th...                                          -0.383117                                                    \n",
       "Average SAT equivalent score of students admitt...                                           1.000000                                                    \n",
       "Proportion of faculty that is full-time                                                      0.126192                                                    \n",
       "First-time, full-time student retention rate at...                                           0.777505                                                    \n",
       "The median debt for students who have completed                                             -0.266950                                                    \n",
       "Average age of entry                                                                        -0.400375                                                    \n",
       "Average family income in real 2015 dollars                                                   0.702049                                                    \n",
       "\n",
       "                                                    Proportion of faculty that is full-time  \\\n",
       "Admission rate for all campuses rolled up to th...                                -0.038612   \n",
       "Average SAT equivalent score of students admitt...                                 0.126192   \n",
       "Proportion of faculty that is full-time                                            1.000000   \n",
       "First-time, full-time student retention rate at...                                 0.049544   \n",
       "The median debt for students who have completed                                   -0.045678   \n",
       "Average age of entry                                                              -0.141676   \n",
       "Average family income in real 2015 dollars                                         0.078323   \n",
       "\n",
       "                                                    First-time, full-time student retention rate at four-year institutions  \\\n",
       "Admission rate for all campuses rolled up to th...                                          -0.284319                        \n",
       "Average SAT equivalent score of students admitt...                                           0.777505                        \n",
       "Proportion of faculty that is full-time                                                      0.049544                        \n",
       "First-time, full-time student retention rate at...                                           1.000000                        \n",
       "The median debt for students who have completed                                             -0.170558                        \n",
       "Average age of entry                                                                        -0.412488                        \n",
       "Average family income in real 2015 dollars                                                   0.652252                        \n",
       "\n",
       "                                                    The median debt for students who have completed  \\\n",
       "Admission rate for all campuses rolled up to th...                                         0.189326   \n",
       "Average SAT equivalent score of students admitt...                                        -0.266950   \n",
       "Proportion of faculty that is full-time                                                   -0.045678   \n",
       "First-time, full-time student retention rate at...                                        -0.170558   \n",
       "The median debt for students who have completed                                            1.000000   \n",
       "Average age of entry                                                                      -0.119571   \n",
       "Average family income in real 2015 dollars                                                 0.118647   \n",
       "\n",
       "                                                    Average age of entry  \\\n",
       "Admission rate for all campuses rolled up to th...              0.147779   \n",
       "Average SAT equivalent score of students admitt...             -0.400375   \n",
       "Proportion of faculty that is full-time                        -0.141676   \n",
       "First-time, full-time student retention rate at...             -0.412488   \n",
       "The median debt for students who have completed                -0.119571   \n",
       "Average age of entry                                            1.000000   \n",
       "Average family income in real 2015 dollars                     -0.585724   \n",
       "\n",
       "                                                    Average family income in real 2015 dollars  \n",
       "Admission rate for all campuses rolled up to th...                                   -0.141847  \n",
       "Average SAT equivalent score of students admitt...                                    0.702049  \n",
       "Proportion of faculty that is full-time                                               0.078323  \n",
       "First-time, full-time student retention rate at...                                    0.652252  \n",
       "The median debt for students who have completed                                       0.118647  \n",
       "Average age of entry                                                                 -0.585724  \n",
       "Average family income in real 2015 dollars                                            1.000000  "
      ]
     },
     "execution_count": 26,
     "metadata": {},
     "output_type": "execute_result"
    }
   ],
   "source": [
    "X.corr()"
   ]
  },
  {
   "cell_type": "code",
   "execution_count": 27,
   "metadata": {
    "scrolled": true
   },
   "outputs": [
    {
     "data": {
      "text/plain": [
       "Index(['Admission rate for all campuses rolled up to the 6-digit OPE ID',\n",
       "       'Average SAT equivalent score of students admitted for all campuses rolled up to the 6-digit OPE ID',\n",
       "       'Proportion of faculty that is full-time',\n",
       "       'First-time, full-time student retention rate at four-year institutions',\n",
       "       'The median debt for students who have completed',\n",
       "       'Average age of entry', 'Average family income in real 2015 dollars'],\n",
       "      dtype='object')"
      ]
     },
     "execution_count": 27,
     "metadata": {},
     "output_type": "execute_result"
    }
   ],
   "source": [
    "X.columns"
   ]
  },
  {
   "cell_type": "markdown",
   "metadata": {},
   "source": [
    "#### As the 1st VIF term is for the intercept, 'Average SAT equivalent score of students admitted for all campuses rolled up to the 6-digit OPE ID'\n",
    "#### and 'Average family income in real 2015 dollars' have a high colinearity to the other variables'"
   ]
  },
  {
   "cell_type": "code",
   "execution_count": 28,
   "metadata": {
    "scrolled": true
   },
   "outputs": [],
   "source": [
    "data = data.drop([\"Average SAT equivalent score of students admitted for all campuses rolled up to the 6-digit OPE ID\",\\\n",
    "                 'Average family income in real 2015 dollars'], axis=1)"
   ]
  },
  {
   "cell_type": "code",
   "execution_count": 29,
   "metadata": {},
   "outputs": [
    {
     "data": {
      "text/plain": [
       "(1268, 11)"
      ]
     },
     "execution_count": 29,
     "metadata": {},
     "output_type": "execute_result"
    }
   ],
   "source": [
    "data.shape"
   ]
  },
  {
   "cell_type": "code",
   "execution_count": 30,
   "metadata": {
    "scrolled": true
   },
   "outputs": [
    {
     "data": {
      "text/html": [
       "<div>\n",
       "<style scoped>\n",
       "    .dataframe tbody tr th:only-of-type {\n",
       "        vertical-align: middle;\n",
       "    }\n",
       "\n",
       "    .dataframe tbody tr th {\n",
       "        vertical-align: top;\n",
       "    }\n",
       "\n",
       "    .dataframe thead th {\n",
       "        text-align: right;\n",
       "    }\n",
       "</style>\n",
       "<table border=\"1\" class=\"dataframe\">\n",
       "  <thead>\n",
       "    <tr style=\"text-align: right;\">\n",
       "      <th></th>\n",
       "      <th>6-digit OPE ID for institution</th>\n",
       "      <th>Admission rate for all campuses rolled up to the 6-digit OPE ID</th>\n",
       "      <th>Proportion of faculty that is full-time</th>\n",
       "      <th>First-time, full-time student retention rate at four-year institutions</th>\n",
       "      <th>The median debt for students who have completed</th>\n",
       "      <th>Average age of entry</th>\n",
       "      <th>Mean earnings of students working and not enrolled 6 years after entry</th>\n",
       "      <th>Mean earnings of students working and not enrolled 8 years after entry</th>\n",
       "      <th>Mean earnings of students working and not enrolled 10 years after entry</th>\n",
       "      <th>Nat Log Mean earnings of students working and not enrolled 10 years after entry</th>\n",
       "      <th>Average cost of attendance (academic year institutions)</th>\n",
       "    </tr>\n",
       "  </thead>\n",
       "  <tbody>\n",
       "    <tr>\n",
       "      <th>0</th>\n",
       "      <td>1002</td>\n",
       "      <td>0.8989</td>\n",
       "      <td>0.8856</td>\n",
       "      <td>0.6314</td>\n",
       "      <td>29500.0</td>\n",
       "      <td>20.540410</td>\n",
       "      <td>27200</td>\n",
       "      <td>29700</td>\n",
       "      <td>34300</td>\n",
       "      <td>10.442901</td>\n",
       "      <td>18888.0</td>\n",
       "    </tr>\n",
       "    <tr>\n",
       "      <th>1</th>\n",
       "      <td>1004</td>\n",
       "      <td>0.8729</td>\n",
       "      <td>0.5951</td>\n",
       "      <td>0.7365</td>\n",
       "      <td>22500.0</td>\n",
       "      <td>21.791473</td>\n",
       "      <td>27000</td>\n",
       "      <td>31600</td>\n",
       "      <td>36000</td>\n",
       "      <td>10.491274</td>\n",
       "      <td>20194.0</td>\n",
       "    </tr>\n",
       "  </tbody>\n",
       "</table>\n",
       "</div>"
      ],
      "text/plain": [
       "   6-digit OPE ID for institution  \\\n",
       "0                            1002   \n",
       "1                            1004   \n",
       "\n",
       "   Admission rate for all campuses rolled up to the 6-digit OPE ID  \\\n",
       "0                                             0.8989                 \n",
       "1                                             0.8729                 \n",
       "\n",
       "   Proportion of faculty that is full-time  \\\n",
       "0                                   0.8856   \n",
       "1                                   0.5951   \n",
       "\n",
       "   First-time, full-time student retention rate at four-year institutions  \\\n",
       "0                                             0.6314                        \n",
       "1                                             0.7365                        \n",
       "\n",
       "   The median debt for students who have completed  Average age of entry  \\\n",
       "0                                          29500.0             20.540410   \n",
       "1                                          22500.0             21.791473   \n",
       "\n",
       "   Mean earnings of students working and not enrolled 6 years after entry  \\\n",
       "0                                              27200                        \n",
       "1                                              27000                        \n",
       "\n",
       "   Mean earnings of students working and not enrolled 8 years after entry  \\\n",
       "0                                              29700                        \n",
       "1                                              31600                        \n",
       "\n",
       "   Mean earnings of students working and not enrolled 10 years after entry  \\\n",
       "0                                              34300                         \n",
       "1                                              36000                         \n",
       "\n",
       "   Nat Log Mean earnings of students working and not enrolled 10 years after entry  \\\n",
       "0                                          10.442901                                 \n",
       "1                                          10.491274                                 \n",
       "\n",
       "   Average cost of attendance (academic year institutions)  \n",
       "0                                            18888.0        \n",
       "1                                            20194.0        "
      ]
     },
     "execution_count": 30,
     "metadata": {},
     "output_type": "execute_result"
    }
   ],
   "source": [
    "data.head(2)"
   ]
  },
  {
   "cell_type": "code",
   "execution_count": 31,
   "metadata": {
    "scrolled": true
   },
   "outputs": [],
   "source": [
    "X = data[['Admission rate for all campuses rolled up to the 6-digit OPE ID',\\\n",
    "                     'Proportion of faculty that is full-time',\\\n",
    "                     'First-time, full-time student retention rate at four-year institutions',\\\n",
    "                     'The median debt for students who have completed',\\\n",
    "                     'Average age of entry']]"
   ]
  },
  {
   "cell_type": "code",
   "execution_count": 32,
   "metadata": {
    "scrolled": true
   },
   "outputs": [
    {
     "data": {
      "text/html": [
       "<div>\n",
       "<style scoped>\n",
       "    .dataframe tbody tr th:only-of-type {\n",
       "        vertical-align: middle;\n",
       "    }\n",
       "\n",
       "    .dataframe tbody tr th {\n",
       "        vertical-align: top;\n",
       "    }\n",
       "\n",
       "    .dataframe thead th {\n",
       "        text-align: right;\n",
       "    }\n",
       "</style>\n",
       "<table border=\"1\" class=\"dataframe\">\n",
       "  <thead>\n",
       "    <tr style=\"text-align: right;\">\n",
       "      <th></th>\n",
       "      <th>Admission rate for all campuses rolled up to the 6-digit OPE ID</th>\n",
       "      <th>Proportion of faculty that is full-time</th>\n",
       "      <th>First-time, full-time student retention rate at four-year institutions</th>\n",
       "      <th>The median debt for students who have completed</th>\n",
       "      <th>Average age of entry</th>\n",
       "    </tr>\n",
       "  </thead>\n",
       "  <tbody>\n",
       "    <tr>\n",
       "      <th>0</th>\n",
       "      <td>0.8989</td>\n",
       "      <td>0.8856</td>\n",
       "      <td>0.6314</td>\n",
       "      <td>29500.0</td>\n",
       "      <td>20.540410</td>\n",
       "    </tr>\n",
       "    <tr>\n",
       "      <th>1</th>\n",
       "      <td>0.8729</td>\n",
       "      <td>0.5951</td>\n",
       "      <td>0.7365</td>\n",
       "      <td>22500.0</td>\n",
       "      <td>21.791473</td>\n",
       "    </tr>\n",
       "  </tbody>\n",
       "</table>\n",
       "</div>"
      ],
      "text/plain": [
       "   Admission rate for all campuses rolled up to the 6-digit OPE ID  \\\n",
       "0                                             0.8989                 \n",
       "1                                             0.8729                 \n",
       "\n",
       "   Proportion of faculty that is full-time  \\\n",
       "0                                   0.8856   \n",
       "1                                   0.5951   \n",
       "\n",
       "   First-time, full-time student retention rate at four-year institutions  \\\n",
       "0                                             0.6314                        \n",
       "1                                             0.7365                        \n",
       "\n",
       "   The median debt for students who have completed  Average age of entry  \n",
       "0                                          29500.0             20.540410  \n",
       "1                                          22500.0             21.791473  "
      ]
     },
     "execution_count": 32,
     "metadata": {},
     "output_type": "execute_result"
    }
   ],
   "source": [
    "X.head(2)"
   ]
  },
  {
   "cell_type": "code",
   "execution_count": 33,
   "metadata": {},
   "outputs": [
    {
     "name": "stdout",
     "output_type": "stream",
     "text": [
      "(1268, 5) (1268,)\n"
     ]
    }
   ],
   "source": [
    "print(X.shape, y.shape)"
   ]
  },
  {
   "cell_type": "code",
   "execution_count": 34,
   "metadata": {
    "scrolled": false
   },
   "outputs": [
    {
     "name": "stdout",
     "output_type": "stream",
     "text": [
      "                                                       OLS Regression Results                                                      \n",
      "===================================================================================================================================\n",
      "Dep. Variable:     Mean earnings of students working and not enrolled 10 years after entry   R-squared:                       0.476\n",
      "Model:                                                                                 OLS   Adj. R-squared:                  0.474\n",
      "Method:                                                                      Least Squares   F-statistic:                     229.2\n",
      "Date:                                                                     Sat, 27 Jul 2019   Prob (F-statistic):          3.61e-174\n",
      "Time:                                                                             08:27:12   Log-Likelihood:                -13459.\n",
      "No. Observations:                                                                     1268   AIC:                         2.693e+04\n",
      "Df Residuals:                                                                         1262   BIC:                         2.696e+04\n",
      "Df Model:                                                                                5                                         \n",
      "Covariance Type:                                                                 nonrobust                                         \n",
      "==========================================================================================================================================\n",
      "                                                                             coef    std err          t      P>|t|      [0.025      0.975]\n",
      "------------------------------------------------------------------------------------------------------------------------------------------\n",
      "const                                                                   1.612e+04   5054.419      3.189      0.001    6203.519     2.6e+04\n",
      "Admission rate for all campuses rolled up to the 6-digit OPE ID        -1.442e+04   1579.835     -9.125      0.000   -1.75e+04   -1.13e+04\n",
      "Proportion of faculty that is full-time                                -1145.5174   1193.997     -0.959      0.338   -3487.955    1196.921\n",
      "First-time, full-time student retention rate at four-year institutions  6.957e+04   2874.453     24.202      0.000    6.39e+04    7.52e+04\n",
      "The median debt for students who have completed                           -0.2694      0.065     -4.165      0.000      -0.396      -0.142\n",
      "Average age of entry                                                    -164.3960    121.884     -1.349      0.178    -403.513      74.721\n",
      "==============================================================================\n",
      "Omnibus:                      476.182   Durbin-Watson:                   1.796\n",
      "Prob(Omnibus):                  0.000   Jarque-Bera (JB):             2917.312\n",
      "Skew:                           1.614   Prob(JB):                         0.00\n",
      "Kurtosis:                       9.693   Cond. No.                     4.74e+05\n",
      "==============================================================================\n",
      "\n",
      "Warnings:\n",
      "[1] Standard Errors assume that the covariance matrix of the errors is correctly specified.\n",
      "[2] The condition number is large, 4.74e+05. This might indicate that there are\n",
      "strong multicollinearity or other numerical problems.\n"
     ]
    }
   ],
   "source": [
    "X2 = sm.add_constant(X)\n",
    "est = sm.OLS(y, X2)\n",
    "est2 = est.fit()\n",
    "print(est2.summary())"
   ]
  },
  {
   "cell_type": "markdown",
   "metadata": {},
   "source": [
    "#### multicolinearity seems fine as below but p-values for 'Proportion of faculty that is full-time' & 'Average age of entry' are now too high;"
   ]
  },
  {
   "cell_type": "code",
   "execution_count": 35,
   "metadata": {
    "scrolled": true
   },
   "outputs": [
    {
     "data": {
      "text/plain": [
       "array([[1.00000000e+00, 8.98900000e-01, 8.85600000e-01, 6.31400000e-01,\n",
       "        2.95000000e+04, 2.05404101e+01],\n",
       "       [1.00000000e+00, 8.72900000e-01, 5.95100000e-01, 7.36500000e-01,\n",
       "        2.25000000e+04, 2.17914729e+01],\n",
       "       [1.00000000e+00, 5.12500000e-01, 6.64100000e-01, 6.21900000e-01,\n",
       "        3.12000000e+04, 2.06485753e+01],\n",
       "       ...,\n",
       "       [1.00000000e+00, 4.63000000e-01, 9.87300000e-01, 7.42400000e-01,\n",
       "        3.12370000e+04, 2.70508259e+01],\n",
       "       [1.00000000e+00, 6.63500000e-01, 5.10400000e-01, 7.56300000e-01,\n",
       "        2.70000000e+04, 2.17170264e+01],\n",
       "       [1.00000000e+00, 6.44300000e-01, 4.74100000e-01, 7.81400000e-01,\n",
       "        1.50000000e+04, 2.35467512e+01]])"
      ]
     },
     "execution_count": 35,
     "metadata": {},
     "output_type": "execute_result"
    }
   ],
   "source": [
    "variables_exogenous = est2.model.exog\n",
    "variables_exogenous"
   ]
  },
  {
   "cell_type": "code",
   "execution_count": 36,
   "metadata": {
    "scrolled": true
   },
   "outputs": [
    {
     "data": {
      "text/plain": [
       "[332.38937257913733,\n",
       " 1.1180846933290667,\n",
       " 1.025456859687224,\n",
       " 1.3393338267594672,\n",
       " 1.111418181273601,\n",
       " 1.2941954784683753]"
      ]
     },
     "execution_count": 36,
     "metadata": {},
     "output_type": "execute_result"
    }
   ],
   "source": [
    "vif = [variance_inflation_factor(variables_exogenous, i) for i in range(variables_exogenous.shape[1])]\n",
    "vif "
   ]
  },
  {
   "cell_type": "code",
   "execution_count": 37,
   "metadata": {},
   "outputs": [
    {
     "data": {
      "text/html": [
       "<div>\n",
       "<style scoped>\n",
       "    .dataframe tbody tr th:only-of-type {\n",
       "        vertical-align: middle;\n",
       "    }\n",
       "\n",
       "    .dataframe tbody tr th {\n",
       "        vertical-align: top;\n",
       "    }\n",
       "\n",
       "    .dataframe thead th {\n",
       "        text-align: right;\n",
       "    }\n",
       "</style>\n",
       "<table border=\"1\" class=\"dataframe\">\n",
       "  <thead>\n",
       "    <tr style=\"text-align: right;\">\n",
       "      <th></th>\n",
       "      <th>Admission rate for all campuses rolled up to the 6-digit OPE ID</th>\n",
       "      <th>Proportion of faculty that is full-time</th>\n",
       "      <th>First-time, full-time student retention rate at four-year institutions</th>\n",
       "      <th>The median debt for students who have completed</th>\n",
       "      <th>Average age of entry</th>\n",
       "    </tr>\n",
       "  </thead>\n",
       "  <tbody>\n",
       "    <tr>\n",
       "      <th>Admission rate for all campuses rolled up to the 6-digit OPE ID</th>\n",
       "      <td>1.000000</td>\n",
       "      <td>-0.038612</td>\n",
       "      <td>-0.284319</td>\n",
       "      <td>0.189326</td>\n",
       "      <td>0.147779</td>\n",
       "    </tr>\n",
       "    <tr>\n",
       "      <th>Proportion of faculty that is full-time</th>\n",
       "      <td>-0.038612</td>\n",
       "      <td>1.000000</td>\n",
       "      <td>0.049544</td>\n",
       "      <td>-0.045678</td>\n",
       "      <td>-0.141676</td>\n",
       "    </tr>\n",
       "    <tr>\n",
       "      <th>First-time, full-time student retention rate at four-year institutions</th>\n",
       "      <td>-0.284319</td>\n",
       "      <td>0.049544</td>\n",
       "      <td>1.000000</td>\n",
       "      <td>-0.170558</td>\n",
       "      <td>-0.412488</td>\n",
       "    </tr>\n",
       "    <tr>\n",
       "      <th>The median debt for students who have completed</th>\n",
       "      <td>0.189326</td>\n",
       "      <td>-0.045678</td>\n",
       "      <td>-0.170558</td>\n",
       "      <td>1.000000</td>\n",
       "      <td>-0.119571</td>\n",
       "    </tr>\n",
       "    <tr>\n",
       "      <th>Average age of entry</th>\n",
       "      <td>0.147779</td>\n",
       "      <td>-0.141676</td>\n",
       "      <td>-0.412488</td>\n",
       "      <td>-0.119571</td>\n",
       "      <td>1.000000</td>\n",
       "    </tr>\n",
       "  </tbody>\n",
       "</table>\n",
       "</div>"
      ],
      "text/plain": [
       "                                                    Admission rate for all campuses rolled up to the 6-digit OPE ID  \\\n",
       "Admission rate for all campuses rolled up to th...                                           1.000000                 \n",
       "Proportion of faculty that is full-time                                                     -0.038612                 \n",
       "First-time, full-time student retention rate at...                                          -0.284319                 \n",
       "The median debt for students who have completed                                              0.189326                 \n",
       "Average age of entry                                                                         0.147779                 \n",
       "\n",
       "                                                    Proportion of faculty that is full-time  \\\n",
       "Admission rate for all campuses rolled up to th...                                -0.038612   \n",
       "Proportion of faculty that is full-time                                            1.000000   \n",
       "First-time, full-time student retention rate at...                                 0.049544   \n",
       "The median debt for students who have completed                                   -0.045678   \n",
       "Average age of entry                                                              -0.141676   \n",
       "\n",
       "                                                    First-time, full-time student retention rate at four-year institutions  \\\n",
       "Admission rate for all campuses rolled up to th...                                          -0.284319                        \n",
       "Proportion of faculty that is full-time                                                      0.049544                        \n",
       "First-time, full-time student retention rate at...                                           1.000000                        \n",
       "The median debt for students who have completed                                             -0.170558                        \n",
       "Average age of entry                                                                        -0.412488                        \n",
       "\n",
       "                                                    The median debt for students who have completed  \\\n",
       "Admission rate for all campuses rolled up to th...                                         0.189326   \n",
       "Proportion of faculty that is full-time                                                   -0.045678   \n",
       "First-time, full-time student retention rate at...                                        -0.170558   \n",
       "The median debt for students who have completed                                            1.000000   \n",
       "Average age of entry                                                                      -0.119571   \n",
       "\n",
       "                                                    Average age of entry  \n",
       "Admission rate for all campuses rolled up to th...              0.147779  \n",
       "Proportion of faculty that is full-time                        -0.141676  \n",
       "First-time, full-time student retention rate at...             -0.412488  \n",
       "The median debt for students who have completed                -0.119571  \n",
       "Average age of entry                                            1.000000  "
      ]
     },
     "execution_count": 37,
     "metadata": {},
     "output_type": "execute_result"
    }
   ],
   "source": [
    "X.corr()"
   ]
  },
  {
   "cell_type": "code",
   "execution_count": 38,
   "metadata": {
    "scrolled": true
   },
   "outputs": [],
   "source": [
    "data = data.drop([\"Proportion of faculty that is full-time\",\\\n",
    "                 'Average age of entry'], axis=1)"
   ]
  },
  {
   "cell_type": "code",
   "execution_count": 39,
   "metadata": {
    "scrolled": true
   },
   "outputs": [
    {
     "data": {
      "text/html": [
       "<div>\n",
       "<style scoped>\n",
       "    .dataframe tbody tr th:only-of-type {\n",
       "        vertical-align: middle;\n",
       "    }\n",
       "\n",
       "    .dataframe tbody tr th {\n",
       "        vertical-align: top;\n",
       "    }\n",
       "\n",
       "    .dataframe thead th {\n",
       "        text-align: right;\n",
       "    }\n",
       "</style>\n",
       "<table border=\"1\" class=\"dataframe\">\n",
       "  <thead>\n",
       "    <tr style=\"text-align: right;\">\n",
       "      <th></th>\n",
       "      <th>6-digit OPE ID for institution</th>\n",
       "      <th>Admission rate for all campuses rolled up to the 6-digit OPE ID</th>\n",
       "      <th>First-time, full-time student retention rate at four-year institutions</th>\n",
       "      <th>The median debt for students who have completed</th>\n",
       "      <th>Mean earnings of students working and not enrolled 6 years after entry</th>\n",
       "      <th>Mean earnings of students working and not enrolled 8 years after entry</th>\n",
       "      <th>Mean earnings of students working and not enrolled 10 years after entry</th>\n",
       "      <th>Nat Log Mean earnings of students working and not enrolled 10 years after entry</th>\n",
       "      <th>Average cost of attendance (academic year institutions)</th>\n",
       "    </tr>\n",
       "  </thead>\n",
       "  <tbody>\n",
       "    <tr>\n",
       "      <th>0</th>\n",
       "      <td>1002</td>\n",
       "      <td>0.8989</td>\n",
       "      <td>0.6314</td>\n",
       "      <td>29500.0</td>\n",
       "      <td>27200</td>\n",
       "      <td>29700</td>\n",
       "      <td>34300</td>\n",
       "      <td>10.442901</td>\n",
       "      <td>18888.0</td>\n",
       "    </tr>\n",
       "    <tr>\n",
       "      <th>1</th>\n",
       "      <td>1004</td>\n",
       "      <td>0.8729</td>\n",
       "      <td>0.7365</td>\n",
       "      <td>22500.0</td>\n",
       "      <td>27000</td>\n",
       "      <td>31600</td>\n",
       "      <td>36000</td>\n",
       "      <td>10.491274</td>\n",
       "      <td>20194.0</td>\n",
       "    </tr>\n",
       "  </tbody>\n",
       "</table>\n",
       "</div>"
      ],
      "text/plain": [
       "   6-digit OPE ID for institution  \\\n",
       "0                            1002   \n",
       "1                            1004   \n",
       "\n",
       "   Admission rate for all campuses rolled up to the 6-digit OPE ID  \\\n",
       "0                                             0.8989                 \n",
       "1                                             0.8729                 \n",
       "\n",
       "   First-time, full-time student retention rate at four-year institutions  \\\n",
       "0                                             0.6314                        \n",
       "1                                             0.7365                        \n",
       "\n",
       "   The median debt for students who have completed  \\\n",
       "0                                          29500.0   \n",
       "1                                          22500.0   \n",
       "\n",
       "   Mean earnings of students working and not enrolled 6 years after entry  \\\n",
       "0                                              27200                        \n",
       "1                                              27000                        \n",
       "\n",
       "   Mean earnings of students working and not enrolled 8 years after entry  \\\n",
       "0                                              29700                        \n",
       "1                                              31600                        \n",
       "\n",
       "   Mean earnings of students working and not enrolled 10 years after entry  \\\n",
       "0                                              34300                         \n",
       "1                                              36000                         \n",
       "\n",
       "   Nat Log Mean earnings of students working and not enrolled 10 years after entry  \\\n",
       "0                                          10.442901                                 \n",
       "1                                          10.491274                                 \n",
       "\n",
       "   Average cost of attendance (academic year institutions)  \n",
       "0                                            18888.0        \n",
       "1                                            20194.0        "
      ]
     },
     "execution_count": 39,
     "metadata": {},
     "output_type": "execute_result"
    }
   ],
   "source": [
    "data.head(2)"
   ]
  },
  {
   "cell_type": "code",
   "execution_count": 40,
   "metadata": {},
   "outputs": [
    {
     "data": {
      "text/plain": [
       "(1268, 9)"
      ]
     },
     "execution_count": 40,
     "metadata": {},
     "output_type": "execute_result"
    }
   ],
   "source": [
    "data.shape"
   ]
  },
  {
   "cell_type": "code",
   "execution_count": 41,
   "metadata": {
    "scrolled": true
   },
   "outputs": [],
   "source": [
    "X = data[['Admission rate for all campuses rolled up to the 6-digit OPE ID',\\\n",
    "                     'First-time, full-time student retention rate at four-year institutions',\\\n",
    "                     'The median debt for students who have completed']]"
   ]
  },
  {
   "cell_type": "code",
   "execution_count": 42,
   "metadata": {
    "scrolled": true
   },
   "outputs": [
    {
     "data": {
      "text/html": [
       "<div>\n",
       "<style scoped>\n",
       "    .dataframe tbody tr th:only-of-type {\n",
       "        vertical-align: middle;\n",
       "    }\n",
       "\n",
       "    .dataframe tbody tr th {\n",
       "        vertical-align: top;\n",
       "    }\n",
       "\n",
       "    .dataframe thead th {\n",
       "        text-align: right;\n",
       "    }\n",
       "</style>\n",
       "<table border=\"1\" class=\"dataframe\">\n",
       "  <thead>\n",
       "    <tr style=\"text-align: right;\">\n",
       "      <th></th>\n",
       "      <th>Admission rate for all campuses rolled up to the 6-digit OPE ID</th>\n",
       "      <th>First-time, full-time student retention rate at four-year institutions</th>\n",
       "      <th>The median debt for students who have completed</th>\n",
       "    </tr>\n",
       "  </thead>\n",
       "  <tbody>\n",
       "    <tr>\n",
       "      <th>0</th>\n",
       "      <td>0.8989</td>\n",
       "      <td>0.6314</td>\n",
       "      <td>29500.0</td>\n",
       "    </tr>\n",
       "    <tr>\n",
       "      <th>1</th>\n",
       "      <td>0.8729</td>\n",
       "      <td>0.7365</td>\n",
       "      <td>22500.0</td>\n",
       "    </tr>\n",
       "  </tbody>\n",
       "</table>\n",
       "</div>"
      ],
      "text/plain": [
       "   Admission rate for all campuses rolled up to the 6-digit OPE ID  \\\n",
       "0                                             0.8989                 \n",
       "1                                             0.8729                 \n",
       "\n",
       "   First-time, full-time student retention rate at four-year institutions  \\\n",
       "0                                             0.6314                        \n",
       "1                                             0.7365                        \n",
       "\n",
       "   The median debt for students who have completed  \n",
       "0                                          29500.0  \n",
       "1                                          22500.0  "
      ]
     },
     "execution_count": 42,
     "metadata": {},
     "output_type": "execute_result"
    }
   ],
   "source": [
    "X.head(2)"
   ]
  },
  {
   "cell_type": "code",
   "execution_count": 43,
   "metadata": {},
   "outputs": [
    {
     "name": "stdout",
     "output_type": "stream",
     "text": [
      "(1268, 3) (1268,)\n"
     ]
    }
   ],
   "source": [
    "print(X.shape, y.shape)"
   ]
  },
  {
   "cell_type": "markdown",
   "metadata": {},
   "source": [
    "#### All now looks fine although the R2 value for the model has dropped as independant variables have been removed;"
   ]
  },
  {
   "cell_type": "code",
   "execution_count": 44,
   "metadata": {
    "scrolled": false
   },
   "outputs": [
    {
     "name": "stdout",
     "output_type": "stream",
     "text": [
      "                                                       OLS Regression Results                                                      \n",
      "===================================================================================================================================\n",
      "Dep. Variable:     Mean earnings of students working and not enrolled 10 years after entry   R-squared:                       0.475\n",
      "Model:                                                                                 OLS   Adj. R-squared:                  0.474\n",
      "Method:                                                                      Least Squares   F-statistic:                     381.0\n",
      "Date:                                                                     Sat, 27 Jul 2019   Prob (F-statistic):          3.15e-176\n",
      "Time:                                                                             08:27:12   Log-Likelihood:                -13460.\n",
      "No. Observations:                                                                     1268   AIC:                         2.693e+04\n",
      "Df Residuals:                                                                         1264   BIC:                         2.695e+04\n",
      "Df Model:                                                                                3                                         \n",
      "Covariance Type:                                                                 nonrobust                                         \n",
      "==========================================================================================================================================\n",
      "                                                                             coef    std err          t      P>|t|      [0.025      0.975]\n",
      "------------------------------------------------------------------------------------------------------------------------------------------\n",
      "const                                                                   1.001e+04   2910.916      3.440      0.001    4303.295    1.57e+04\n",
      "Admission rate for all campuses rolled up to the 6-digit OPE ID        -1.453e+04   1576.270     -9.220      0.000   -1.76e+04   -1.14e+04\n",
      "First-time, full-time student retention rate at four-year institutions  7.111e+04   2611.265     27.233      0.000     6.6e+04    7.62e+04\n",
      "The median debt for students who have completed                           -0.2480      0.063     -3.938      0.000      -0.371      -0.124\n",
      "==============================================================================\n",
      "Omnibus:                      473.292   Durbin-Watson:                   1.793\n",
      "Prob(Omnibus):                  0.000   Jarque-Bera (JB):             2882.923\n",
      "Skew:                           1.605   Prob(JB):                         0.00\n",
      "Kurtosis:                       9.653   Cond. No.                     3.23e+05\n",
      "==============================================================================\n",
      "\n",
      "Warnings:\n",
      "[1] Standard Errors assume that the covariance matrix of the errors is correctly specified.\n",
      "[2] The condition number is large, 3.23e+05. This might indicate that there are\n",
      "strong multicollinearity or other numerical problems.\n"
     ]
    }
   ],
   "source": [
    "X2 = sm.add_constant(X)\n",
    "est = sm.OLS(y, X2)\n",
    "est2 = est.fit()\n",
    "print(est2.summary())"
   ]
  },
  {
   "cell_type": "code",
   "execution_count": 45,
   "metadata": {
    "scrolled": true
   },
   "outputs": [
    {
     "data": {
      "text/plain": [
       "array([[1.0000e+00, 8.9890e-01, 6.3140e-01, 2.9500e+04],\n",
       "       [1.0000e+00, 8.7290e-01, 7.3650e-01, 2.2500e+04],\n",
       "       [1.0000e+00, 5.1250e-01, 6.2190e-01, 3.1200e+04],\n",
       "       ...,\n",
       "       [1.0000e+00, 4.6300e-01, 7.4240e-01, 3.1237e+04],\n",
       "       [1.0000e+00, 6.6350e-01, 7.5630e-01, 2.7000e+04],\n",
       "       [1.0000e+00, 6.4430e-01, 7.8140e-01, 1.5000e+04]])"
      ]
     },
     "execution_count": 45,
     "metadata": {},
     "output_type": "execute_result"
    }
   ],
   "source": [
    "variables_exogenous = est2.model.exog\n",
    "variables_exogenous"
   ]
  },
  {
   "cell_type": "code",
   "execution_count": 46,
   "metadata": {
    "scrolled": true
   },
   "outputs": [
    {
     "data": {
      "text/plain": [
       "[110.20988338511967,\n",
       " 1.1126757966642684,\n",
       " 1.1049353256445367,\n",
       " 1.0533723543911735]"
      ]
     },
     "execution_count": 46,
     "metadata": {},
     "output_type": "execute_result"
    }
   ],
   "source": [
    "vif = [variance_inflation_factor(variables_exogenous, i) for i in range(variables_exogenous.shape[1])]\n",
    "vif "
   ]
  },
  {
   "cell_type": "code",
   "execution_count": 47,
   "metadata": {},
   "outputs": [
    {
     "data": {
      "text/html": [
       "<div>\n",
       "<style scoped>\n",
       "    .dataframe tbody tr th:only-of-type {\n",
       "        vertical-align: middle;\n",
       "    }\n",
       "\n",
       "    .dataframe tbody tr th {\n",
       "        vertical-align: top;\n",
       "    }\n",
       "\n",
       "    .dataframe thead th {\n",
       "        text-align: right;\n",
       "    }\n",
       "</style>\n",
       "<table border=\"1\" class=\"dataframe\">\n",
       "  <thead>\n",
       "    <tr style=\"text-align: right;\">\n",
       "      <th></th>\n",
       "      <th>Admission rate for all campuses rolled up to the 6-digit OPE ID</th>\n",
       "      <th>First-time, full-time student retention rate at four-year institutions</th>\n",
       "      <th>The median debt for students who have completed</th>\n",
       "    </tr>\n",
       "  </thead>\n",
       "  <tbody>\n",
       "    <tr>\n",
       "      <th>Admission rate for all campuses rolled up to the 6-digit OPE ID</th>\n",
       "      <td>1.000000</td>\n",
       "      <td>-0.284319</td>\n",
       "      <td>0.189326</td>\n",
       "    </tr>\n",
       "    <tr>\n",
       "      <th>First-time, full-time student retention rate at four-year institutions</th>\n",
       "      <td>-0.284319</td>\n",
       "      <td>1.000000</td>\n",
       "      <td>-0.170558</td>\n",
       "    </tr>\n",
       "    <tr>\n",
       "      <th>The median debt for students who have completed</th>\n",
       "      <td>0.189326</td>\n",
       "      <td>-0.170558</td>\n",
       "      <td>1.000000</td>\n",
       "    </tr>\n",
       "  </tbody>\n",
       "</table>\n",
       "</div>"
      ],
      "text/plain": [
       "                                                    Admission rate for all campuses rolled up to the 6-digit OPE ID  \\\n",
       "Admission rate for all campuses rolled up to th...                                           1.000000                 \n",
       "First-time, full-time student retention rate at...                                          -0.284319                 \n",
       "The median debt for students who have completed                                              0.189326                 \n",
       "\n",
       "                                                    First-time, full-time student retention rate at four-year institutions  \\\n",
       "Admission rate for all campuses rolled up to th...                                          -0.284319                        \n",
       "First-time, full-time student retention rate at...                                           1.000000                        \n",
       "The median debt for students who have completed                                             -0.170558                        \n",
       "\n",
       "                                                    The median debt for students who have completed  \n",
       "Admission rate for all campuses rolled up to th...                                         0.189326  \n",
       "First-time, full-time student retention rate at...                                        -0.170558  \n",
       "The median debt for students who have completed                                            1.000000  "
      ]
     },
     "execution_count": 47,
     "metadata": {},
     "output_type": "execute_result"
    }
   ],
   "source": [
    "X.corr()"
   ]
  },
  {
   "cell_type": "markdown",
   "metadata": {},
   "source": [
    "#### Examine non linearity"
   ]
  },
  {
   "cell_type": "code",
   "execution_count": 48,
   "metadata": {
    "scrolled": true
   },
   "outputs": [
    {
     "data": {
      "text/plain": [
       "<matplotlib.collections.PathCollection at 0x17b732a4fd0>"
      ]
     },
     "execution_count": 48,
     "metadata": {},
     "output_type": "execute_result"
    },
    {
     "data": {
      "image/png": "[encoded data removed]",
      "text/plain": [
       "<Figure size 432x288 with 1 Axes>"
      ]
     },
     "metadata": {
      "needs_background": "light"
     },
     "output_type": "display_data"
    }
   ],
   "source": [
    "x = data['First-time, full-time student retention rate at four-year institutions']\n",
    "plt.scatter(x, y)"
   ]
  },
  {
   "cell_type": "code",
   "execution_count": 49,
   "metadata": {
    "scrolled": true
   },
   "outputs": [
    {
     "data": {
      "image/png": "[encoded data removed]",
      "text/plain": [
       "<Figure size 432x288 with 1 Axes>"
      ]
     },
     "metadata": {
      "needs_background": "light"
     },
     "output_type": "display_data"
    },
    {
     "name": "stdout",
     "output_type": "stream",
     "text": [
      "r-squared: 0.4275666698843749\n",
      "p value: 1.4946790789365566e-155\n",
      "Standard Error: 2591.6089346997223\n",
      "Slope: 79694.02957275405\n",
      "Intercept: -11568.289325622296\n"
     ]
    }
   ],
   "source": [
    "from scipy.stats import linregress\n",
    "\n",
    "(slope, intercept, _, _, _) = linregress(x, y)\n",
    "fit = slope * x + intercept\n",
    "fig, ax = plt.subplots()\n",
    "\n",
    "ax.plot(x, y, linewidth=0, marker='o')\n",
    "ax.plot(x, intercept + slope*x, 'm--')\n",
    "plt.show()\n",
    "\n",
    "slope, intercept, r_value, p_value, std_err = stats.linregress(x,y)\n",
    "print(\"r-squared:\", r_value**2)\n",
    "print(\"p value:\", p_value)\n",
    "print(\"Standard Error:\", std_err)\n",
    "print(\"Slope:\", slope)\n",
    "print(\"Intercept:\", intercept)"
   ]
  },
  {
   "cell_type": "markdown",
   "metadata": {},
   "source": [
    "#### See if Nat Log (y) is a better fit on the primary coefficient"
   ]
  },
  {
   "cell_type": "code",
   "execution_count": 50,
   "metadata": {
    "scrolled": true
   },
   "outputs": [
    {
     "data": {
      "text/html": [
       "<div>\n",
       "<style scoped>\n",
       "    .dataframe tbody tr th:only-of-type {\n",
       "        vertical-align: middle;\n",
       "    }\n",
       "\n",
       "    .dataframe tbody tr th {\n",
       "        vertical-align: top;\n",
       "    }\n",
       "\n",
       "    .dataframe thead th {\n",
       "        text-align: right;\n",
       "    }\n",
       "</style>\n",
       "<table border=\"1\" class=\"dataframe\">\n",
       "  <thead>\n",
       "    <tr style=\"text-align: right;\">\n",
       "      <th></th>\n",
       "      <th>6-digit OPE ID for institution</th>\n",
       "      <th>Admission rate for all campuses rolled up to the 6-digit OPE ID</th>\n",
       "      <th>First-time, full-time student retention rate at four-year institutions</th>\n",
       "      <th>The median debt for students who have completed</th>\n",
       "      <th>Mean earnings of students working and not enrolled 6 years after entry</th>\n",
       "      <th>Mean earnings of students working and not enrolled 8 years after entry</th>\n",
       "      <th>Mean earnings of students working and not enrolled 10 years after entry</th>\n",
       "      <th>Average cost of attendance (academic year institutions)</th>\n",
       "    </tr>\n",
       "  </thead>\n",
       "  <tbody>\n",
       "    <tr>\n",
       "      <th>0</th>\n",
       "      <td>1002</td>\n",
       "      <td>0.8989</td>\n",
       "      <td>0.6314</td>\n",
       "      <td>29500.0</td>\n",
       "      <td>27200</td>\n",
       "      <td>29700</td>\n",
       "      <td>34300</td>\n",
       "      <td>18888.0</td>\n",
       "    </tr>\n",
       "    <tr>\n",
       "      <th>1</th>\n",
       "      <td>1004</td>\n",
       "      <td>0.8729</td>\n",
       "      <td>0.7365</td>\n",
       "      <td>22500.0</td>\n",
       "      <td>27000</td>\n",
       "      <td>31600</td>\n",
       "      <td>36000</td>\n",
       "      <td>20194.0</td>\n",
       "    </tr>\n",
       "  </tbody>\n",
       "</table>\n",
       "</div>"
      ],
      "text/plain": [
       "   6-digit OPE ID for institution  \\\n",
       "0                            1002   \n",
       "1                            1004   \n",
       "\n",
       "   Admission rate for all campuses rolled up to the 6-digit OPE ID  \\\n",
       "0                                             0.8989                 \n",
       "1                                             0.8729                 \n",
       "\n",
       "   First-time, full-time student retention rate at four-year institutions  \\\n",
       "0                                             0.6314                        \n",
       "1                                             0.7365                        \n",
       "\n",
       "   The median debt for students who have completed  \\\n",
       "0                                          29500.0   \n",
       "1                                          22500.0   \n",
       "\n",
       "   Mean earnings of students working and not enrolled 6 years after entry  \\\n",
       "0                                              27200                        \n",
       "1                                              27000                        \n",
       "\n",
       "   Mean earnings of students working and not enrolled 8 years after entry  \\\n",
       "0                                              29700                        \n",
       "1                                              31600                        \n",
       "\n",
       "   Mean earnings of students working and not enrolled 10 years after entry  \\\n",
       "0                                              34300                         \n",
       "1                                              36000                         \n",
       "\n",
       "   Average cost of attendance (academic year institutions)  \n",
       "0                                            18888.0        \n",
       "1                                            20194.0        "
      ]
     },
     "execution_count": 50,
     "metadata": {},
     "output_type": "execute_result"
    }
   ],
   "source": [
    "# remove nat log (y) if it exists so nat log column so process is explanined\n",
    "data = data.drop(['Nat Log Mean earnings of students working and not enrolled 10 years after entry'], axis=1)\n",
    "data.head(2)"
   ]
  },
  {
   "cell_type": "code",
   "execution_count": 51,
   "metadata": {
    "scrolled": true
   },
   "outputs": [
    {
     "data": {
      "text/html": [
       "<div>\n",
       "<style scoped>\n",
       "    .dataframe tbody tr th:only-of-type {\n",
       "        vertical-align: middle;\n",
       "    }\n",
       "\n",
       "    .dataframe tbody tr th {\n",
       "        vertical-align: top;\n",
       "    }\n",
       "\n",
       "    .dataframe thead th {\n",
       "        text-align: right;\n",
       "    }\n",
       "</style>\n",
       "<table border=\"1\" class=\"dataframe\">\n",
       "  <thead>\n",
       "    <tr style=\"text-align: right;\">\n",
       "      <th></th>\n",
       "      <th>6-digit OPE ID for institution</th>\n",
       "      <th>Admission rate for all campuses rolled up to the 6-digit OPE ID</th>\n",
       "      <th>First-time, full-time student retention rate at four-year institutions</th>\n",
       "      <th>The median debt for students who have completed</th>\n",
       "      <th>Mean earnings of students working and not enrolled 6 years after entry</th>\n",
       "      <th>Mean earnings of students working and not enrolled 8 years after entry</th>\n",
       "      <th>Mean earnings of students working and not enrolled 10 years after entry</th>\n",
       "      <th>Average cost of attendance (academic year institutions)</th>\n",
       "      <th>Nat Log Mean earnings of students working and not enrolled 10 years after entry</th>\n",
       "    </tr>\n",
       "  </thead>\n",
       "  <tbody>\n",
       "    <tr>\n",
       "      <th>0</th>\n",
       "      <td>1002</td>\n",
       "      <td>0.8989</td>\n",
       "      <td>0.6314</td>\n",
       "      <td>29500.0</td>\n",
       "      <td>27200</td>\n",
       "      <td>29700</td>\n",
       "      <td>34300</td>\n",
       "      <td>18888.0</td>\n",
       "      <td>10.442901</td>\n",
       "    </tr>\n",
       "    <tr>\n",
       "      <th>1</th>\n",
       "      <td>1004</td>\n",
       "      <td>0.8729</td>\n",
       "      <td>0.7365</td>\n",
       "      <td>22500.0</td>\n",
       "      <td>27000</td>\n",
       "      <td>31600</td>\n",
       "      <td>36000</td>\n",
       "      <td>20194.0</td>\n",
       "      <td>10.491274</td>\n",
       "    </tr>\n",
       "  </tbody>\n",
       "</table>\n",
       "</div>"
      ],
      "text/plain": [
       "   6-digit OPE ID for institution  \\\n",
       "0                            1002   \n",
       "1                            1004   \n",
       "\n",
       "   Admission rate for all campuses rolled up to the 6-digit OPE ID  \\\n",
       "0                                             0.8989                 \n",
       "1                                             0.8729                 \n",
       "\n",
       "   First-time, full-time student retention rate at four-year institutions  \\\n",
       "0                                             0.6314                        \n",
       "1                                             0.7365                        \n",
       "\n",
       "   The median debt for students who have completed  \\\n",
       "0                                          29500.0   \n",
       "1                                          22500.0   \n",
       "\n",
       "   Mean earnings of students working and not enrolled 6 years after entry  \\\n",
       "0                                              27200                        \n",
       "1                                              27000                        \n",
       "\n",
       "   Mean earnings of students working and not enrolled 8 years after entry  \\\n",
       "0                                              29700                        \n",
       "1                                              31600                        \n",
       "\n",
       "   Mean earnings of students working and not enrolled 10 years after entry  \\\n",
       "0                                              34300                         \n",
       "1                                              36000                         \n",
       "\n",
       "   Average cost of attendance (academic year institutions)  \\\n",
       "0                                            18888.0         \n",
       "1                                            20194.0         \n",
       "\n",
       "   Nat Log Mean earnings of students working and not enrolled 10 years after entry  \n",
       "0                                          10.442901                                \n",
       "1                                          10.491274                                "
      ]
     },
     "execution_count": 51,
     "metadata": {},
     "output_type": "execute_result"
    }
   ],
   "source": [
    "y = data['Nat Log Mean earnings of students working and not enrolled 10 years after entry'] = \\\n",
    "np.log(data['Mean earnings of students working and not enrolled 10 years after entry'])\n",
    "data.head(2)"
   ]
  },
  {
   "cell_type": "code",
   "execution_count": 52,
   "metadata": {
    "scrolled": true
   },
   "outputs": [
    {
     "data": {
      "image/png": "[encoded data removed]",
      "text/plain": [
       "<Figure size 432x288 with 1 Axes>"
      ]
     },
     "metadata": {
      "needs_background": "light"
     },
     "output_type": "display_data"
    },
    {
     "name": "stdout",
     "output_type": "stream",
     "text": [
      "r-squared: 0.4738782229016678\n",
      "p value: 9.120924220247462e-179\n",
      "Standard Error: 0.04414122631302584\n",
      "Slope: 1.4905669366510956\n",
      "Intercept: 9.635181449582785\n"
     ]
    }
   ],
   "source": [
    "y = data['Nat Log Mean earnings of students working and not enrolled 10 years after entry']\n",
    "(slope, intercept, _, _, _) = linregress(x, y)\n",
    "fit = slope * x + intercept\n",
    "fig, ax = plt.subplots()\n",
    "\n",
    "ax.plot(x, y, linewidth=0, marker='o')\n",
    "ax.plot(x, intercept + slope*x, 'y--')\n",
    "\n",
    "# #plt.savefig(\"../Images/Injuries vs Weekly Avg Min Temp\")\n",
    "plt.show()\n",
    "\n",
    "slope, intercept, r_value, p_value, std_err = stats.linregress(x,y)\n",
    "print(\"r-squared:\", r_value**2)\n",
    "print(\"p value:\", p_value)\n",
    "print(\"Standard Error:\", std_err)\n",
    "print(\"Slope:\", slope)\n",
    "print(\"Intercept:\", intercept)"
   ]
  },
  {
   "cell_type": "code",
   "execution_count": 53,
   "metadata": {
    "scrolled": true
   },
   "outputs": [
    {
     "data": {
      "text/plain": [
       "0    10.442901\n",
       "1    10.491274\n",
       "Name: Nat Log Mean earnings of students working and not enrolled 10 years after entry, dtype: float64"
      ]
     },
     "execution_count": 53,
     "metadata": {},
     "output_type": "execute_result"
    }
   ],
   "source": [
    "y.head(2)"
   ]
  },
  {
   "cell_type": "markdown",
   "metadata": {},
   "source": [
    "### Ploting with all X coefficients"
   ]
  },
  {
   "cell_type": "code",
   "execution_count": 54,
   "metadata": {
    "scrolled": true
   },
   "outputs": [
    {
     "data": {
      "text/plain": [
       "LinearRegression(copy_X=True, fit_intercept=True, n_jobs=None,\n",
       "         normalize=False)"
      ]
     },
     "execution_count": 54,
     "metadata": {},
     "output_type": "execute_result"
    }
   ],
   "source": [
    "# Fit Model\n",
    "model.fit(X, y)"
   ]
  },
  {
   "cell_type": "code",
   "execution_count": 55,
   "metadata": {
    "scrolled": true
   },
   "outputs": [
    {
     "name": "stdout",
     "output_type": "stream",
     "text": [
      "[-1.61691171e-01  1.38619781e+00 -4.04653024e-06]\n",
      "9.911792191714731\n"
     ]
    }
   ],
   "source": [
    "print(model.coef_)\n",
    "print(model.intercept_)"
   ]
  },
  {
   "cell_type": "code",
   "execution_count": 56,
   "metadata": {
    "scrolled": true
   },
   "outputs": [
    {
     "data": {
      "text/plain": [
       "<matplotlib.collections.PathCollection at 0x17b7454af60>"
      ]
     },
     "execution_count": 56,
     "metadata": {},
     "output_type": "execute_result"
    },
    {
     "data": {
      "image/png": "[encoded data removed]",
      "text/plain": [
       "<Figure size 432x288 with 1 Axes>"
      ]
     },
     "metadata": {
      "needs_background": "light"
     },
     "output_type": "display_data"
    }
   ],
   "source": [
    "plt.scatter(model.predict(X),y)"
   ]
  },
  {
   "cell_type": "markdown",
   "metadata": {},
   "source": [
    "### Stats Check\n",
    "#### In Excel MSE is Residual Sum of Squares / (n - df) whereas in sklearn it's ResdidualSS / n\n",
    "#### R2 = RegressionSS / TotalSS\n",
    "#### where ResidualSS = sum{(y - y predicted)^2}, RegressionSS = sum{(y - average(y))^2}, TotalSS = ResidualSS + RegressionSS"
   ]
  },
  {
   "cell_type": "code",
   "execution_count": 57,
   "metadata": {
    "scrolled": true
   },
   "outputs": [
    {
     "name": "stdout",
     "output_type": "stream",
     "text": [
      "Mean Squared Error (MSE): 0.029425714326452662\n",
      "R-squared (R2 ): 0.4962477769774357\n"
     ]
    }
   ],
   "source": [
    "from sklearn.metrics import mean_squared_error, r2_score\n",
    "predicted = model.predict(X)\n",
    "mse = mean_squared_error(y, predicted)\n",
    "r2 = r2_score(y, predicted)\n",
    "print(f\"Mean Squared Error (MSE): {mse}\")\n",
    "print(f\"R-squared (R2 ): {r2}\")\n",
    "# ** Alternate mechanisms to generate R2 **\n",
    "# score = model.score(X, y)\n",
    "# print(f\"R2 Score: {score}\")\n",
    "# model.score(X, y)"
   ]
  },
  {
   "cell_type": "markdown",
   "metadata": {},
   "source": [
    "#### Root Mean Squared Error can be considered the standard deviation of of the residual or unexplained variance:"
   ]
  },
  {
   "cell_type": "code",
   "execution_count": 58,
   "metadata": {
    "scrolled": true
   },
   "outputs": [
    {
     "data": {
      "text/plain": [
       "0.1715392501046121"
      ]
     },
     "execution_count": 58,
     "metadata": {},
     "output_type": "execute_result"
    }
   ],
   "source": [
    "RSME = np.sqrt(mse)\n",
    "RSME"
   ]
  },
  {
   "cell_type": "markdown",
   "metadata": {},
   "source": [
    "### Check for normality"
   ]
  },
  {
   "cell_type": "code",
   "execution_count": 59,
   "metadata": {},
   "outputs": [
    {
     "data": {
      "text/html": [
       "<div>\n",
       "<style scoped>\n",
       "    .dataframe tbody tr th:only-of-type {\n",
       "        vertical-align: middle;\n",
       "    }\n",
       "\n",
       "    .dataframe tbody tr th {\n",
       "        vertical-align: top;\n",
       "    }\n",
       "\n",
       "    .dataframe thead th {\n",
       "        text-align: right;\n",
       "    }\n",
       "</style>\n",
       "<table border=\"1\" class=\"dataframe\">\n",
       "  <thead>\n",
       "    <tr style=\"text-align: right;\">\n",
       "      <th></th>\n",
       "      <th>Admission rate for all campuses rolled up to the 6-digit OPE ID</th>\n",
       "      <th>First-time, full-time student retention rate at four-year institutions</th>\n",
       "      <th>The median debt for students who have completed</th>\n",
       "    </tr>\n",
       "  </thead>\n",
       "  <tbody>\n",
       "    <tr>\n",
       "      <th>0</th>\n",
       "      <td>0.8989</td>\n",
       "      <td>0.6314</td>\n",
       "      <td>29500.0</td>\n",
       "    </tr>\n",
       "    <tr>\n",
       "      <th>1</th>\n",
       "      <td>0.8729</td>\n",
       "      <td>0.7365</td>\n",
       "      <td>22500.0</td>\n",
       "    </tr>\n",
       "  </tbody>\n",
       "</table>\n",
       "</div>"
      ],
      "text/plain": [
       "   Admission rate for all campuses rolled up to the 6-digit OPE ID  \\\n",
       "0                                             0.8989                 \n",
       "1                                             0.8729                 \n",
       "\n",
       "   First-time, full-time student retention rate at four-year institutions  \\\n",
       "0                                             0.6314                        \n",
       "1                                             0.7365                        \n",
       "\n",
       "   The median debt for students who have completed  \n",
       "0                                          29500.0  \n",
       "1                                          22500.0  "
      ]
     },
     "execution_count": 59,
     "metadata": {},
     "output_type": "execute_result"
    }
   ],
   "source": [
    "X.head(2)"
   ]
  },
  {
   "cell_type": "code",
   "execution_count": 60,
   "metadata": {},
   "outputs": [
    {
     "data": {
      "text/plain": [
       "0    10.442901\n",
       "1    10.491274\n",
       "Name: Nat Log Mean earnings of students working and not enrolled 10 years after entry, dtype: float64"
      ]
     },
     "execution_count": 60,
     "metadata": {},
     "output_type": "execute_result"
    }
   ],
   "source": [
    "y.head(2)"
   ]
  },
  {
   "cell_type": "code",
   "execution_count": 61,
   "metadata": {},
   "outputs": [
    {
     "data": {
      "text/plain": [
       "Text(0.5, 1.0, 'Model1 Residuals Probability Plot')"
      ]
     },
     "execution_count": 61,
     "metadata": {},
     "output_type": "execute_result"
    },
    {
     "data": {
      "image/png": "[encoded data removed]",
      "text/plain": [
       "<Figure size 432x288 with 1 Axes>"
      ]
     },
     "metadata": {
      "needs_background": "light"
     },
     "output_type": "display_data"
    }
   ],
   "source": [
    "stats.probplot(est2.resid, plot= plt)\n",
    "plt.title(\"Model1 Residuals Probability Plot\")"
   ]
  },
  {
   "cell_type": "markdown",
   "metadata": {},
   "source": [
    "#### Model's residuals largely follow a normal distribrution but lets make some checks;"
   ]
  },
  {
   "cell_type": "markdown",
   "metadata": {},
   "source": [
    "#### The Kolmogorov-Smirnov test is close to significant (not what we want);"
   ]
  },
  {
   "cell_type": "code",
   "execution_count": 62,
   "metadata": {},
   "outputs": [
    {
     "data": {
      "text/plain": [
       "KstestResult(statistic=0.5583596214511041, pvalue=0.0)"
      ]
     },
     "execution_count": 62,
     "metadata": {},
     "output_type": "execute_result"
    }
   ],
   "source": [
    "stats.kstest(est2.resid, 'norm')"
   ]
  },
  {
   "cell_type": "markdown",
   "metadata": {},
   "source": [
    "#### But the good fit indicates that normality is a reasonable approximation"
   ]
  },
  {
   "cell_type": "code",
   "execution_count": 63,
   "metadata": {},
   "outputs": [
    {
     "data": {
      "text/plain": [
       "0.9030628337054458"
      ]
     },
     "execution_count": 63,
     "metadata": {},
     "output_type": "execute_result"
    }
   ],
   "source": [
    "# fig, ax = plt.subplots(figsize=(6,2.5))\n",
    "_, (__, ___, r) = stats.probplot(est2.resid, plot=ax, fit=True)\n",
    "r**2"
   ]
  },
  {
   "cell_type": "code",
   "execution_count": 64,
   "metadata": {},
   "outputs": [],
   "source": [
    "# stats.probplot(data['Admission rate for all campuses rolled up to the 6-digit OPE ID'], dist=\"norm\", plot=plt)\n",
    "# plt.show()"
   ]
  },
  {
   "cell_type": "code",
   "execution_count": 65,
   "metadata": {},
   "outputs": [],
   "source": [
    "# stats.probplot(data['First-time, full-time student retention rate at four-year institutions'], dist=\"norm\", plot=plt)\n",
    "# plt.show()"
   ]
  },
  {
   "cell_type": "code",
   "execution_count": 66,
   "metadata": {},
   "outputs": [],
   "source": [
    "# stats.probplot(data['The median debt for students who have completed'], dist=\"norm\", plot=plt)\n",
    "# plt.show()"
   ]
  },
  {
   "cell_type": "code",
   "execution_count": 67,
   "metadata": {
    "scrolled": true
   },
   "outputs": [
    {
     "name": "stdout",
     "output_type": "stream",
     "text": [
      "                                                           OLS Regression Results                                                          \n",
      "===========================================================================================================================================\n",
      "Dep. Variable:     Nat Log Mean earnings of students working and not enrolled 10 years after entry   R-squared:                       0.496\n",
      "Model:                                                                                         OLS   Adj. R-squared:                  0.495\n",
      "Method:                                                                              Least Squares   F-statistic:                     415.1\n",
      "Date:                                                                             Sat, 27 Jul 2019   Prob (F-statistic):          1.27e-187\n",
      "Time:                                                                                     08:27:13   Log-Likelihood:                 436.20\n",
      "No. Observations:                                                                             1268   AIC:                            -864.4\n",
      "Df Residuals:                                                                                 1264   BIC:                            -843.8\n",
      "Df Model:                                                                                        3                                         \n",
      "Covariance Type:                                                                         nonrobust                                         \n",
      "==========================================================================================================================================\n",
      "                                                                             coef    std err          t      P>|t|      [0.025      0.975]\n",
      "------------------------------------------------------------------------------------------------------------------------------------------\n",
      "const                                                                      9.9118      0.051    195.682      0.000       9.812      10.011\n",
      "Admission rate for all campuses rolled up to the 6-digit OPE ID           -0.1617      0.027     -5.895      0.000      -0.216      -0.108\n",
      "First-time, full-time student retention rate at four-year institutions     1.3862      0.045     30.507      0.000       1.297       1.475\n",
      "The median debt for students who have completed                        -4.047e-06    1.1e-06     -3.693      0.000    -6.2e-06    -1.9e-06\n",
      "==============================================================================\n",
      "Omnibus:                       74.297   Durbin-Watson:                   1.749\n",
      "Prob(Omnibus):                  0.000   Jarque-Bera (JB):              142.559\n",
      "Skew:                           0.404   Prob(JB):                     1.11e-31\n",
      "Kurtosis:                       4.430   Cond. No.                     3.23e+05\n",
      "==============================================================================\n",
      "\n",
      "Warnings:\n",
      "[1] Standard Errors assume that the covariance matrix of the errors is correctly specified.\n",
      "[2] The condition number is large, 3.23e+05. This might indicate that there are\n",
      "strong multicollinearity or other numerical problems.\n"
     ]
    },
    {
     "name": "stderr",
     "output_type": "stream",
     "text": [
      "C:\\Users\\Chart\\AppData\\Local\\Continuum\\anaconda3\\lib\\site-packages\\numpy\\core\\fromnumeric.py:2389: FutureWarning: Method .ptp is deprecated and will be removed in a future version. Use numpy.ptp instead.\n",
      "  return ptp(axis=axis, out=out, **kwargs)\n"
     ]
    }
   ],
   "source": [
    "X2 = sm.add_constant(X)\n",
    "est = sm.OLS(y, X2)\n",
    "est2 = est.fit()\n",
    "print(est2.summary())"
   ]
  },
  {
   "cell_type": "markdown",
   "metadata": {},
   "source": [
    "#### R2 has improved\n",
    "#### Durbin-Watson close to 2 implies limited auto correlation (as this is not time series data)\n",
    "#### Skew < +/- 2 and Kurtosis isn't as steep as previously"
   ]
  },
  {
   "cell_type": "markdown",
   "metadata": {},
   "source": [
    "### Residuals, Standardized and Studentized Residuals"
   ]
  },
  {
   "cell_type": "code",
   "execution_count": 68,
   "metadata": {
    "scrolled": true
   },
   "outputs": [
    {
     "data": {
      "text/plain": [
       "<matplotlib.collections.PathCollection at 0x17b74637908>"
      ]
     },
     "execution_count": 68,
     "metadata": {},
     "output_type": "execute_result"
    },
    {
     "data": {
      "image/png": "[encoded data removed]",
      "text/plain": [
       "<Figure size 432x288 with 1 Axes>"
      ]
     },
     "metadata": {
      "needs_background": "light"
     },
     "output_type": "display_data"
    }
   ],
   "source": [
    "# repeat of plt.scatter(model.predict(X),y)\n",
    "predictions = model.predict(X)\n",
    "plt.scatter(predictions,y)"
   ]
  },
  {
   "cell_type": "markdown",
   "metadata": {},
   "source": [
    "##### Plot Residuals"
   ]
  },
  {
   "cell_type": "code",
   "execution_count": 69,
   "metadata": {
    "scrolled": true
   },
   "outputs": [
    {
     "data": {
      "image/png": "[encoded data removed]",
      "text/plain": [
       "<Figure size 432x288 with 1 Axes>"
      ]
     },
     "metadata": {
      "needs_background": "light"
     },
     "output_type": "display_data"
    }
   ],
   "source": [
    "plt.scatter(predictions, predictions - y)\n",
    "plt.hlines(y=0, xmin=predictions.min(), xmax=predictions.max())\n",
    "plt.show()"
   ]
  },
  {
   "cell_type": "markdown",
   "metadata": {},
   "source": [
    "### Examine Residuals"
   ]
  },
  {
   "cell_type": "markdown",
   "metadata": {},
   "source": [
    "#### Standardized Residual = Residual(i) / SQRT (MSE(1 - leverage)\n",
    "#### Leverage = distance of point from the mean value\n",
    "#### However Standardized Residual in Excel = Residual(i) / SQRT(MSE) where MSE is calculated as ResidualSS/(n-1)\n",
    "#### but the Excel MSE calculated via the Data Analysis Tool Pak = ResidualSS/(n-1 - degrees of freedom)"
   ]
  },
  {
   "cell_type": "code",
   "execution_count": 70,
   "metadata": {
    "scrolled": true
   },
   "outputs": [],
   "source": [
    "# from statsmodels fit linear model to cleaned and nat log adjusted etc dataset\n",
    "initial = sm.OLS(y, X2)\n",
    "results = initial.fit()"
   ]
  },
  {
   "cell_type": "code",
   "execution_count": 71,
   "metadata": {
    "scrolled": true
   },
   "outputs": [],
   "source": [
    "# create instance of influence\n",
    "influence = results.get_influence()"
   ]
  },
  {
   "cell_type": "markdown",
   "metadata": {},
   "source": [
    "##### Leverage = distance of point from the centre of the data or mean value"
   ]
  },
  {
   "cell_type": "code",
   "execution_count": 72,
   "metadata": {
    "scrolled": true
   },
   "outputs": [
    {
     "data": {
      "text/plain": [
       "array([0.00371804, 0.00212193, 0.00546777, ..., 0.00478422, 0.00139067,\n",
       "       0.00341497])"
      ]
     },
     "execution_count": 72,
     "metadata": {},
     "output_type": "execute_result"
    }
   ],
   "source": [
    "# leverage (hat values)\n",
    "leverage = influence.hat_matrix_diag\n",
    "leverage"
   ]
  },
  {
   "cell_type": "code",
   "execution_count": 73,
   "metadata": {
    "scrolled": true
   },
   "outputs": [
    {
     "data": {
      "image/png": "[encoded data removed]",
      "text/plain": [
       "<Figure size 432x288 with 1 Axes>"
      ]
     },
     "metadata": {
      "needs_background": "light"
     },
     "output_type": "display_data"
    }
   ],
   "source": [
    "plt.scatter(predictions, leverage)\n",
    "plt.hlines(y=0, xmin=predictions.min(), xmax=predictions.max())\n",
    "plt.show()"
   ]
  },
  {
   "cell_type": "markdown",
   "metadata": {},
   "source": [
    "##### Cooks distance summarizes how much all the values in the regression model change when the ith observation is removed\n",
    "\n",
    "##### Typically better than Leverage in determining outliers"
   ]
  },
  {
   "cell_type": "code",
   "execution_count": 74,
   "metadata": {
    "scrolled": true
   },
   "outputs": [
    {
     "data": {
      "text/plain": [
       "(array([0.0002001 , 0.00079034, 0.0034792 , ..., 0.00080515, 0.00446668,\n",
       "        0.00024393]),\n",
       " array([0.99999992, 0.99999875, 0.99997586, ..., 0.9999987 , 0.99996027,\n",
       "        0.99999988]))"
      ]
     },
     "execution_count": 74,
     "metadata": {},
     "output_type": "execute_result"
    }
   ],
   "source": [
    "# Cook's D values (and p-values) as tuple of arrays\n",
    "cooks_d = influence.cooks_distance\n",
    "cooks_d"
   ]
  },
  {
   "cell_type": "code",
   "execution_count": 75,
   "metadata": {
    "scrolled": true
   },
   "outputs": [
    {
     "data": {
      "image/png": "[encoded data removed]",
      "text/plain": [
       "<Figure size 432x288 with 1 Axes>"
      ]
     },
     "metadata": {
      "needs_background": "light"
     },
     "output_type": "display_data"
    }
   ],
   "source": [
    "plt.scatter(predictions, cooks_d[0])\n",
    "plt.hlines(y=0, xmin=predictions.min(), xmax=predictions.max())\n",
    "plt.show()"
   ]
  },
  {
   "cell_type": "markdown",
   "metadata": {},
   "source": [
    "#### Standardized Residual (see explanation above)"
   ]
  },
  {
   "cell_type": "code",
   "execution_count": 76,
   "metadata": {
    "scrolled": true
   },
   "outputs": [
    {
     "data": {
      "text/plain": [
       "array([-0.46311543, -1.21929645, -1.59101453, ...,  0.81850688,\n",
       "        3.58185982, -0.53361146])"
      ]
     },
     "execution_count": 76,
     "metadata": {},
     "output_type": "execute_result"
    }
   ],
   "source": [
    "standardized_residuals = influence.resid_studentized_internal\n",
    "standardized_residuals"
   ]
  },
  {
   "cell_type": "code",
   "execution_count": 77,
   "metadata": {
    "scrolled": true
   },
   "outputs": [
    {
     "data": {
      "image/png": "[encoded data removed]",
      "text/plain": [
       "<Figure size 432x288 with 1 Axes>"
      ]
     },
     "metadata": {
      "needs_background": "light"
     },
     "output_type": "display_data"
    }
   ],
   "source": [
    "plt.scatter(predictions, standardized_residuals)\n",
    "plt.hlines(y=0, xmin=predictions.min(), xmax=predictions.max())\n",
    "plt.show()"
   ]
  },
  {
   "cell_type": "markdown",
   "metadata": {},
   "source": [
    "#### Studentized Residual\n",
    "##### Standardized residuals use the mean square error for the model based on all observations, MSE, while studentized residuals use the mean square error based on the estimated model with the ith observation deleted, MSE(i)\n",
    "#### Studentized Residual along with Cook's D better for outlier identification\n",
    "#### If Studentized Residual > 3, data point can be considered an outlier"
   ]
  },
  {
   "cell_type": "code",
   "execution_count": 78,
   "metadata": {
    "scrolled": true
   },
   "outputs": [
    {
     "data": {
      "text/plain": [
       "array([-0.46297148, -1.21953144, -1.59197992, ...,  0.81839995,\n",
       "        3.59875309, -0.53346043])"
      ]
     },
     "execution_count": 78,
     "metadata": {},
     "output_type": "execute_result"
    }
   ],
   "source": [
    "studentized_residuals = influence.resid_studentized_external\n",
    "studentized_residuals"
   ]
  },
  {
   "cell_type": "code",
   "execution_count": 79,
   "metadata": {
    "scrolled": false
   },
   "outputs": [
    {
     "data": {
      "image/png": "[encoded data removed]",
      "text/plain": [
       "<Figure size 432x288 with 1 Axes>"
      ]
     },
     "metadata": {
      "needs_background": "light"
     },
     "output_type": "display_data"
    }
   ],
   "source": [
    "plt.scatter(predictions, studentized_residuals)\n",
    "plt.hlines(y=0, xmin=predictions.min(), xmax=predictions.max())\n",
    "plt.show()"
   ]
  },
  {
   "cell_type": "markdown",
   "metadata": {},
   "source": [
    "### Make Dataframe with outlier column identifiers included"
   ]
  },
  {
   "cell_type": "code",
   "execution_count": 80,
   "metadata": {
    "scrolled": true
   },
   "outputs": [
    {
     "data": {
      "text/html": [
       "<div>\n",
       "<style scoped>\n",
       "    .dataframe tbody tr th:only-of-type {\n",
       "        vertical-align: middle;\n",
       "    }\n",
       "\n",
       "    .dataframe tbody tr th {\n",
       "        vertical-align: top;\n",
       "    }\n",
       "\n",
       "    .dataframe thead th {\n",
       "        text-align: right;\n",
       "    }\n",
       "</style>\n",
       "<table border=\"1\" class=\"dataframe\">\n",
       "  <thead>\n",
       "    <tr style=\"text-align: right;\">\n",
       "      <th></th>\n",
       "      <th>6-digit OPE ID for institution</th>\n",
       "      <th>Admission rate for all campuses rolled up to the 6-digit OPE ID</th>\n",
       "      <th>First-time, full-time student retention rate at four-year institutions</th>\n",
       "      <th>The median debt for students who have completed</th>\n",
       "      <th>Mean earnings of students working and not enrolled 6 years after entry</th>\n",
       "      <th>Mean earnings of students working and not enrolled 8 years after entry</th>\n",
       "      <th>Mean earnings of students working and not enrolled 10 years after entry</th>\n",
       "      <th>Average cost of attendance (academic year institutions)</th>\n",
       "      <th>Nat Log Mean earnings of students working and not enrolled 10 years after entry</th>\n",
       "    </tr>\n",
       "  </thead>\n",
       "  <tbody>\n",
       "    <tr>\n",
       "      <th>0</th>\n",
       "      <td>1002</td>\n",
       "      <td>0.8989</td>\n",
       "      <td>0.6314</td>\n",
       "      <td>29500.0</td>\n",
       "      <td>27200</td>\n",
       "      <td>29700</td>\n",
       "      <td>34300</td>\n",
       "      <td>18888.0</td>\n",
       "      <td>10.442901</td>\n",
       "    </tr>\n",
       "    <tr>\n",
       "      <th>1</th>\n",
       "      <td>1004</td>\n",
       "      <td>0.8729</td>\n",
       "      <td>0.7365</td>\n",
       "      <td>22500.0</td>\n",
       "      <td>27000</td>\n",
       "      <td>31600</td>\n",
       "      <td>36000</td>\n",
       "      <td>20194.0</td>\n",
       "      <td>10.491274</td>\n",
       "    </tr>\n",
       "  </tbody>\n",
       "</table>\n",
       "</div>"
      ],
      "text/plain": [
       "   6-digit OPE ID for institution  \\\n",
       "0                            1002   \n",
       "1                            1004   \n",
       "\n",
       "   Admission rate for all campuses rolled up to the 6-digit OPE ID  \\\n",
       "0                                             0.8989                 \n",
       "1                                             0.8729                 \n",
       "\n",
       "   First-time, full-time student retention rate at four-year institutions  \\\n",
       "0                                             0.6314                        \n",
       "1                                             0.7365                        \n",
       "\n",
       "   The median debt for students who have completed  \\\n",
       "0                                          29500.0   \n",
       "1                                          22500.0   \n",
       "\n",
       "   Mean earnings of students working and not enrolled 6 years after entry  \\\n",
       "0                                              27200                        \n",
       "1                                              27000                        \n",
       "\n",
       "   Mean earnings of students working and not enrolled 8 years after entry  \\\n",
       "0                                              29700                        \n",
       "1                                              31600                        \n",
       "\n",
       "   Mean earnings of students working and not enrolled 10 years after entry  \\\n",
       "0                                              34300                         \n",
       "1                                              36000                         \n",
       "\n",
       "   Average cost of attendance (academic year institutions)  \\\n",
       "0                                            18888.0         \n",
       "1                                            20194.0         \n",
       "\n",
       "   Nat Log Mean earnings of students working and not enrolled 10 years after entry  \n",
       "0                                          10.442901                                \n",
       "1                                          10.491274                                "
      ]
     },
     "execution_count": 80,
     "metadata": {},
     "output_type": "execute_result"
    }
   ],
   "source": [
    "data.head(2)"
   ]
  },
  {
   "cell_type": "code",
   "execution_count": 81,
   "metadata": {
    "scrolled": true
   },
   "outputs": [],
   "source": [
    "data['Leverage'] = leverage\n",
    "data['Cooks Distance'] = cooks_d[0]\n",
    "data['Standardized Residuals'] = standardized_residuals\n",
    "data['Studentized Residuals'] = studentized_residuals"
   ]
  },
  {
   "cell_type": "code",
   "execution_count": 82,
   "metadata": {},
   "outputs": [
    {
     "data": {
      "text/html": [
       "<div>\n",
       "<style scoped>\n",
       "    .dataframe tbody tr th:only-of-type {\n",
       "        vertical-align: middle;\n",
       "    }\n",
       "\n",
       "    .dataframe tbody tr th {\n",
       "        vertical-align: top;\n",
       "    }\n",
       "\n",
       "    .dataframe thead th {\n",
       "        text-align: right;\n",
       "    }\n",
       "</style>\n",
       "<table border=\"1\" class=\"dataframe\">\n",
       "  <thead>\n",
       "    <tr style=\"text-align: right;\">\n",
       "      <th></th>\n",
       "      <th>6-digit OPE ID for institution</th>\n",
       "      <th>Admission rate for all campuses rolled up to the 6-digit OPE ID</th>\n",
       "      <th>First-time, full-time student retention rate at four-year institutions</th>\n",
       "      <th>The median debt for students who have completed</th>\n",
       "      <th>Mean earnings of students working and not enrolled 6 years after entry</th>\n",
       "      <th>Mean earnings of students working and not enrolled 8 years after entry</th>\n",
       "      <th>Mean earnings of students working and not enrolled 10 years after entry</th>\n",
       "      <th>Average cost of attendance (academic year institutions)</th>\n",
       "      <th>Nat Log Mean earnings of students working and not enrolled 10 years after entry</th>\n",
       "      <th>Leverage</th>\n",
       "      <th>Cooks Distance</th>\n",
       "      <th>Standardized Residuals</th>\n",
       "      <th>Studentized Residuals</th>\n",
       "    </tr>\n",
       "  </thead>\n",
       "  <tbody>\n",
       "    <tr>\n",
       "      <th>0</th>\n",
       "      <td>1002</td>\n",
       "      <td>0.8989</td>\n",
       "      <td>0.6314</td>\n",
       "      <td>29500.0</td>\n",
       "      <td>27200</td>\n",
       "      <td>29700</td>\n",
       "      <td>34300</td>\n",
       "      <td>18888.0</td>\n",
       "      <td>10.442901</td>\n",
       "      <td>0.003718</td>\n",
       "      <td>0.00020</td>\n",
       "      <td>-0.463115</td>\n",
       "      <td>-0.462971</td>\n",
       "    </tr>\n",
       "    <tr>\n",
       "      <th>1</th>\n",
       "      <td>1004</td>\n",
       "      <td>0.8729</td>\n",
       "      <td>0.7365</td>\n",
       "      <td>22500.0</td>\n",
       "      <td>27000</td>\n",
       "      <td>31600</td>\n",
       "      <td>36000</td>\n",
       "      <td>20194.0</td>\n",
       "      <td>10.491274</td>\n",
       "      <td>0.002122</td>\n",
       "      <td>0.00079</td>\n",
       "      <td>-1.219296</td>\n",
       "      <td>-1.219531</td>\n",
       "    </tr>\n",
       "  </tbody>\n",
       "</table>\n",
       "</div>"
      ],
      "text/plain": [
       "   6-digit OPE ID for institution  \\\n",
       "0                            1002   \n",
       "1                            1004   \n",
       "\n",
       "   Admission rate for all campuses rolled up to the 6-digit OPE ID  \\\n",
       "0                                             0.8989                 \n",
       "1                                             0.8729                 \n",
       "\n",
       "   First-time, full-time student retention rate at four-year institutions  \\\n",
       "0                                             0.6314                        \n",
       "1                                             0.7365                        \n",
       "\n",
       "   The median debt for students who have completed  \\\n",
       "0                                          29500.0   \n",
       "1                                          22500.0   \n",
       "\n",
       "   Mean earnings of students working and not enrolled 6 years after entry  \\\n",
       "0                                              27200                        \n",
       "1                                              27000                        \n",
       "\n",
       "   Mean earnings of students working and not enrolled 8 years after entry  \\\n",
       "0                                              29700                        \n",
       "1                                              31600                        \n",
       "\n",
       "   Mean earnings of students working and not enrolled 10 years after entry  \\\n",
       "0                                              34300                         \n",
       "1                                              36000                         \n",
       "\n",
       "   Average cost of attendance (academic year institutions)  \\\n",
       "0                                            18888.0         \n",
       "1                                            20194.0         \n",
       "\n",
       "   Nat Log Mean earnings of students working and not enrolled 10 years after entry  \\\n",
       "0                                          10.442901                                 \n",
       "1                                          10.491274                                 \n",
       "\n",
       "   Leverage  Cooks Distance  Standardized Residuals  Studentized Residuals  \n",
       "0  0.003718         0.00020               -0.463115              -0.462971  \n",
       "1  0.002122         0.00079               -1.219296              -1.219531  "
      ]
     },
     "execution_count": 82,
     "metadata": {},
     "output_type": "execute_result"
    }
   ],
   "source": [
    "data.head(2)"
   ]
  },
  {
   "cell_type": "code",
   "execution_count": 83,
   "metadata": {},
   "outputs": [
    {
     "data": {
      "text/html": [
       "<div>\n",
       "<style scoped>\n",
       "    .dataframe tbody tr th:only-of-type {\n",
       "        vertical-align: middle;\n",
       "    }\n",
       "\n",
       "    .dataframe tbody tr th {\n",
       "        vertical-align: top;\n",
       "    }\n",
       "\n",
       "    .dataframe thead th {\n",
       "        text-align: right;\n",
       "    }\n",
       "</style>\n",
       "<table border=\"1\" class=\"dataframe\">\n",
       "  <thead>\n",
       "    <tr style=\"text-align: right;\">\n",
       "      <th></th>\n",
       "      <th>6-digit OPE ID for institution</th>\n",
       "      <th>Admission rate for all campuses rolled up to the 6-digit OPE ID</th>\n",
       "      <th>First-time, full-time student retention rate at four-year institutions</th>\n",
       "      <th>The median debt for students who have completed</th>\n",
       "      <th>Mean earnings of students working and not enrolled 6 years after entry</th>\n",
       "      <th>Mean earnings of students working and not enrolled 8 years after entry</th>\n",
       "      <th>Mean earnings of students working and not enrolled 10 years after entry</th>\n",
       "      <th>Average cost of attendance (academic year institutions)</th>\n",
       "      <th>Nat Log Mean earnings of students working and not enrolled 10 years after entry</th>\n",
       "      <th>Leverage</th>\n",
       "      <th>Cooks Distance</th>\n",
       "      <th>Standardized Residuals</th>\n",
       "      <th>Studentized Residuals</th>\n",
       "    </tr>\n",
       "  </thead>\n",
       "  <tbody>\n",
       "    <tr>\n",
       "      <th>223</th>\n",
       "      <td>1685</td>\n",
       "      <td>0.9299</td>\n",
       "      <td>0.2182</td>\n",
       "      <td>7819.0</td>\n",
       "      <td>26700</td>\n",
       "      <td>24900</td>\n",
       "      <td>28500</td>\n",
       "      <td>33966.0</td>\n",
       "      <td>10.257659</td>\n",
       "      <td>0.034244</td>\n",
       "      <td>0.015797</td>\n",
       "      <td>1.334939</td>\n",
       "      <td>1.335353</td>\n",
       "    </tr>\n",
       "    <tr>\n",
       "      <th>771</th>\n",
       "      <td>3026</td>\n",
       "      <td>0.3328</td>\n",
       "      <td>0.5279</td>\n",
       "      <td>38097.0</td>\n",
       "      <td>21400</td>\n",
       "      <td>23500</td>\n",
       "      <td>27200</td>\n",
       "      <td>17380.0</td>\n",
       "      <td>10.210972</td>\n",
       "      <td>0.017684</td>\n",
       "      <td>0.007831</td>\n",
       "      <td>-1.319099</td>\n",
       "      <td>-1.319486</td>\n",
       "    </tr>\n",
       "    <tr>\n",
       "      <th>437</th>\n",
       "      <td>2155</td>\n",
       "      <td>0.0584</td>\n",
       "      <td>0.9706</td>\n",
       "      <td>6000.0</td>\n",
       "      <td>96800</td>\n",
       "      <td>119900</td>\n",
       "      <td>136700</td>\n",
       "      <td>57950.0</td>\n",
       "      <td>11.825544</td>\n",
       "      <td>0.017229</td>\n",
       "      <td>0.054756</td>\n",
       "      <td>3.534618</td>\n",
       "      <td>3.550812</td>\n",
       "    </tr>\n",
       "    <tr>\n",
       "      <th>1243</th>\n",
       "      <td>20758</td>\n",
       "      <td>0.8667</td>\n",
       "      <td>0.9375</td>\n",
       "      <td>39500.0</td>\n",
       "      <td>42800</td>\n",
       "      <td>42900</td>\n",
       "      <td>46400</td>\n",
       "      <td>50373.0</td>\n",
       "      <td>10.745055</td>\n",
       "      <td>0.016217</td>\n",
       "      <td>0.003926</td>\n",
       "      <td>-0.976003</td>\n",
       "      <td>-0.975985</td>\n",
       "    </tr>\n",
       "    <tr>\n",
       "      <th>560</th>\n",
       "      <td>2489</td>\n",
       "      <td>0.2218</td>\n",
       "      <td>0.4360</td>\n",
       "      <td>26100.0</td>\n",
       "      <td>27900</td>\n",
       "      <td>33200</td>\n",
       "      <td>36500</td>\n",
       "      <td>28754.0</td>\n",
       "      <td>10.505068</td>\n",
       "      <td>0.015964</td>\n",
       "      <td>0.002373</td>\n",
       "      <td>0.764936</td>\n",
       "      <td>0.764810</td>\n",
       "    </tr>\n",
       "    <tr>\n",
       "      <th>722</th>\n",
       "      <td>2920</td>\n",
       "      <td>0.1342</td>\n",
       "      <td>0.9720</td>\n",
       "      <td>6420.5</td>\n",
       "      <td>88200</td>\n",
       "      <td>100800</td>\n",
       "      <td>108900</td>\n",
       "      <td>59528.0</td>\n",
       "      <td>11.598185</td>\n",
       "      <td>0.015404</td>\n",
       "      <td>0.020123</td>\n",
       "      <td>2.268207</td>\n",
       "      <td>2.271938</td>\n",
       "    </tr>\n",
       "    <tr>\n",
       "      <th>1261</th>\n",
       "      <td>31019</td>\n",
       "      <td>0.4847</td>\n",
       "      <td>0.4717</td>\n",
       "      <td>11204.0</td>\n",
       "      <td>22300</td>\n",
       "      <td>29700</td>\n",
       "      <td>30400</td>\n",
       "      <td>16752.0</td>\n",
       "      <td>10.322198</td>\n",
       "      <td>0.014827</td>\n",
       "      <td>0.001855</td>\n",
       "      <td>-0.702242</td>\n",
       "      <td>-0.702101</td>\n",
       "    </tr>\n",
       "    <tr>\n",
       "      <th>622</th>\n",
       "      <td>2627</td>\n",
       "      <td>0.0741</td>\n",
       "      <td>0.9757</td>\n",
       "      <td>8674.0</td>\n",
       "      <td>73700</td>\n",
       "      <td>88000</td>\n",
       "      <td>113900</td>\n",
       "      <td>55430.0</td>\n",
       "      <td>11.643076</td>\n",
       "      <td>0.014251</td>\n",
       "      <td>0.022526</td>\n",
       "      <td>2.496466</td>\n",
       "      <td>2.501653</td>\n",
       "    </tr>\n",
       "    <tr>\n",
       "      <th>14</th>\n",
       "      <td>1044</td>\n",
       "      <td>0.4300</td>\n",
       "      <td>0.6123</td>\n",
       "      <td>38500.0</td>\n",
       "      <td>22600</td>\n",
       "      <td>30300</td>\n",
       "      <td>29500</td>\n",
       "      <td>24744.0</td>\n",
       "      <td>10.292146</td>\n",
       "      <td>0.013849</td>\n",
       "      <td>0.007128</td>\n",
       "      <td>-1.424814</td>\n",
       "      <td>-1.425396</td>\n",
       "    </tr>\n",
       "    <tr>\n",
       "      <th>69</th>\n",
       "      <td>1173</td>\n",
       "      <td>0.1392</td>\n",
       "      <td>0.9749</td>\n",
       "      <td>8085.0</td>\n",
       "      <td>44700</td>\n",
       "      <td>66200</td>\n",
       "      <td>70500</td>\n",
       "      <td>57014.0</td>\n",
       "      <td>11.163368</td>\n",
       "      <td>0.013618</td>\n",
       "      <td>0.000236</td>\n",
       "      <td>-0.261403</td>\n",
       "      <td>-0.261306</td>\n",
       "    </tr>\n",
       "  </tbody>\n",
       "</table>\n",
       "</div>"
      ],
      "text/plain": [
       "      6-digit OPE ID for institution  \\\n",
       "223                             1685   \n",
       "771                             3026   \n",
       "437                             2155   \n",
       "1243                           20758   \n",
       "560                             2489   \n",
       "722                             2920   \n",
       "1261                           31019   \n",
       "622                             2627   \n",
       "14                              1044   \n",
       "69                              1173   \n",
       "\n",
       "      Admission rate for all campuses rolled up to the 6-digit OPE ID  \\\n",
       "223                                              0.9299                 \n",
       "771                                              0.3328                 \n",
       "437                                              0.0584                 \n",
       "1243                                             0.8667                 \n",
       "560                                              0.2218                 \n",
       "722                                              0.1342                 \n",
       "1261                                             0.4847                 \n",
       "622                                              0.0741                 \n",
       "14                                               0.4300                 \n",
       "69                                               0.1392                 \n",
       "\n",
       "      First-time, full-time student retention rate at four-year institutions  \\\n",
       "223                                              0.2182                        \n",
       "771                                              0.5279                        \n",
       "437                                              0.9706                        \n",
       "1243                                             0.9375                        \n",
       "560                                              0.4360                        \n",
       "722                                              0.9720                        \n",
       "1261                                             0.4717                        \n",
       "622                                              0.9757                        \n",
       "14                                               0.6123                        \n",
       "69                                               0.9749                        \n",
       "\n",
       "      The median debt for students who have completed  \\\n",
       "223                                            7819.0   \n",
       "771                                           38097.0   \n",
       "437                                            6000.0   \n",
       "1243                                          39500.0   \n",
       "560                                           26100.0   \n",
       "722                                            6420.5   \n",
       "1261                                          11204.0   \n",
       "622                                            8674.0   \n",
       "14                                            38500.0   \n",
       "69                                             8085.0   \n",
       "\n",
       "      Mean earnings of students working and not enrolled 6 years after entry  \\\n",
       "223                                               26700                        \n",
       "771                                               21400                        \n",
       "437                                               96800                        \n",
       "1243                                              42800                        \n",
       "560                                               27900                        \n",
       "722                                               88200                        \n",
       "1261                                              22300                        \n",
       "622                                               73700                        \n",
       "14                                                22600                        \n",
       "69                                                44700                        \n",
       "\n",
       "      Mean earnings of students working and not enrolled 8 years after entry  \\\n",
       "223                                               24900                        \n",
       "771                                               23500                        \n",
       "437                                              119900                        \n",
       "1243                                              42900                        \n",
       "560                                               33200                        \n",
       "722                                              100800                        \n",
       "1261                                              29700                        \n",
       "622                                               88000                        \n",
       "14                                                30300                        \n",
       "69                                                66200                        \n",
       "\n",
       "      Mean earnings of students working and not enrolled 10 years after entry  \\\n",
       "223                                               28500                         \n",
       "771                                               27200                         \n",
       "437                                              136700                         \n",
       "1243                                              46400                         \n",
       "560                                               36500                         \n",
       "722                                              108900                         \n",
       "1261                                              30400                         \n",
       "622                                              113900                         \n",
       "14                                                29500                         \n",
       "69                                                70500                         \n",
       "\n",
       "      Average cost of attendance (academic year institutions)  \\\n",
       "223                                             33966.0         \n",
       "771                                             17380.0         \n",
       "437                                             57950.0         \n",
       "1243                                            50373.0         \n",
       "560                                             28754.0         \n",
       "722                                             59528.0         \n",
       "1261                                            16752.0         \n",
       "622                                             55430.0         \n",
       "14                                              24744.0         \n",
       "69                                              57014.0         \n",
       "\n",
       "      Nat Log Mean earnings of students working and not enrolled 10 years after entry  \\\n",
       "223                                           10.257659                                 \n",
       "771                                           10.210972                                 \n",
       "437                                           11.825544                                 \n",
       "1243                                          10.745055                                 \n",
       "560                                           10.505068                                 \n",
       "722                                           11.598185                                 \n",
       "1261                                          10.322198                                 \n",
       "622                                           11.643076                                 \n",
       "14                                            10.292146                                 \n",
       "69                                            11.163368                                 \n",
       "\n",
       "      Leverage  Cooks Distance  Standardized Residuals  Studentized Residuals  \n",
       "223   0.034244        0.015797                1.334939               1.335353  \n",
       "771   0.017684        0.007831               -1.319099              -1.319486  \n",
       "437   0.017229        0.054756                3.534618               3.550812  \n",
       "1243  0.016217        0.003926               -0.976003              -0.975985  \n",
       "560   0.015964        0.002373                0.764936               0.764810  \n",
       "722   0.015404        0.020123                2.268207               2.271938  \n",
       "1261  0.014827        0.001855               -0.702242              -0.702101  \n",
       "622   0.014251        0.022526                2.496466               2.501653  \n",
       "14    0.013849        0.007128               -1.424814              -1.425396  \n",
       "69    0.013618        0.000236               -0.261403              -0.261306  "
      ]
     },
     "execution_count": 83,
     "metadata": {},
     "output_type": "execute_result"
    }
   ],
   "source": [
    "leverage_df = data.sort_values(\"Leverage\", ascending=False)\n",
    "leverage_df.head(10)"
   ]
  },
  {
   "cell_type": "code",
   "execution_count": 84,
   "metadata": {},
   "outputs": [
    {
     "data": {
      "text/html": [
       "<div>\n",
       "<style scoped>\n",
       "    .dataframe tbody tr th:only-of-type {\n",
       "        vertical-align: middle;\n",
       "    }\n",
       "\n",
       "    .dataframe tbody tr th {\n",
       "        vertical-align: top;\n",
       "    }\n",
       "\n",
       "    .dataframe thead th {\n",
       "        text-align: right;\n",
       "    }\n",
       "</style>\n",
       "<table border=\"1\" class=\"dataframe\">\n",
       "  <thead>\n",
       "    <tr style=\"text-align: right;\">\n",
       "      <th></th>\n",
       "      <th>6-digit OPE ID for institution</th>\n",
       "      <th>Admission rate for all campuses rolled up to the 6-digit OPE ID</th>\n",
       "      <th>First-time, full-time student retention rate at four-year institutions</th>\n",
       "      <th>The median debt for students who have completed</th>\n",
       "      <th>Mean earnings of students working and not enrolled 6 years after entry</th>\n",
       "      <th>Mean earnings of students working and not enrolled 8 years after entry</th>\n",
       "      <th>Mean earnings of students working and not enrolled 10 years after entry</th>\n",
       "      <th>Average cost of attendance (academic year institutions)</th>\n",
       "      <th>Nat Log Mean earnings of students working and not enrolled 10 years after entry</th>\n",
       "      <th>Leverage</th>\n",
       "      <th>Cooks Distance</th>\n",
       "      <th>Standardized Residuals</th>\n",
       "      <th>Studentized Residuals</th>\n",
       "    </tr>\n",
       "  </thead>\n",
       "  <tbody>\n",
       "    <tr>\n",
       "      <th>437</th>\n",
       "      <td>2155</td>\n",
       "      <td>0.0584</td>\n",
       "      <td>0.9706</td>\n",
       "      <td>6000.0</td>\n",
       "      <td>96800</td>\n",
       "      <td>119900</td>\n",
       "      <td>136700</td>\n",
       "      <td>57950.0</td>\n",
       "      <td>11.825544</td>\n",
       "      <td>0.017229</td>\n",
       "      <td>0.054756</td>\n",
       "      <td>3.534618</td>\n",
       "      <td>3.550812</td>\n",
       "    </tr>\n",
       "    <tr>\n",
       "      <th>442</th>\n",
       "      <td>2178</td>\n",
       "      <td>0.0815</td>\n",
       "      <td>0.9788</td>\n",
       "      <td>13000.0</td>\n",
       "      <td>100800</td>\n",
       "      <td>130000</td>\n",
       "      <td>142100</td>\n",
       "      <td>57010.0</td>\n",
       "      <td>11.864286</td>\n",
       "      <td>0.010965</td>\n",
       "      <td>0.041538</td>\n",
       "      <td>3.871260</td>\n",
       "      <td>3.892876</td>\n",
       "    </tr>\n",
       "    <tr>\n",
       "      <th>90</th>\n",
       "      <td>1305</td>\n",
       "      <td>0.0569</td>\n",
       "      <td>0.9858</td>\n",
       "      <td>11110.0</td>\n",
       "      <td>95200</td>\n",
       "      <td>128700</td>\n",
       "      <td>122900</td>\n",
       "      <td>58408.0</td>\n",
       "      <td>11.719126</td>\n",
       "      <td>0.012770</td>\n",
       "      <td>0.027187</td>\n",
       "      <td>2.899524</td>\n",
       "      <td>2.908064</td>\n",
       "    </tr>\n",
       "    <tr>\n",
       "      <th>476</th>\n",
       "      <td>2246</td>\n",
       "      <td>0.7263</td>\n",
       "      <td>0.4333</td>\n",
       "      <td>23068.5</td>\n",
       "      <td>43700</td>\n",
       "      <td>53200</td>\n",
       "      <td>54900</td>\n",
       "      <td>17823.0</td>\n",
       "      <td>10.913269</td>\n",
       "      <td>0.007815</td>\n",
       "      <td>0.025152</td>\n",
       "      <td>3.573850</td>\n",
       "      <td>3.590623</td>\n",
       "    </tr>\n",
       "    <tr>\n",
       "      <th>350</th>\n",
       "      <td>1955</td>\n",
       "      <td>0.3401</td>\n",
       "      <td>0.8107</td>\n",
       "      <td>5720.0</td>\n",
       "      <td>24900</td>\n",
       "      <td>30800</td>\n",
       "      <td>36100</td>\n",
       "      <td>30396.0</td>\n",
       "      <td>10.494048</td>\n",
       "      <td>0.013268</td>\n",
       "      <td>0.024783</td>\n",
       "      <td>-2.715215</td>\n",
       "      <td>-2.722091</td>\n",
       "    </tr>\n",
       "    <tr>\n",
       "      <th>543</th>\n",
       "      <td>2433</td>\n",
       "      <td>0.1386</td>\n",
       "      <td>0.6273</td>\n",
       "      <td>22813.0</td>\n",
       "      <td>19200</td>\n",
       "      <td>22500</td>\n",
       "      <td>25100</td>\n",
       "      <td>14466.0</td>\n",
       "      <td>10.130623</td>\n",
       "      <td>0.009928</td>\n",
       "      <td>0.024645</td>\n",
       "      <td>-3.135361</td>\n",
       "      <td>-3.146380</td>\n",
       "    </tr>\n",
       "    <tr>\n",
       "      <th>914</th>\n",
       "      <td>3378</td>\n",
       "      <td>0.1224</td>\n",
       "      <td>0.9778</td>\n",
       "      <td>14935.0</td>\n",
       "      <td>89000</td>\n",
       "      <td>107300</td>\n",
       "      <td>123600</td>\n",
       "      <td>59600.0</td>\n",
       "      <td>11.724806</td>\n",
       "      <td>0.009192</td>\n",
       "      <td>0.022937</td>\n",
       "      <td>3.144769</td>\n",
       "      <td>3.155895</td>\n",
       "    </tr>\n",
       "    <tr>\n",
       "      <th>622</th>\n",
       "      <td>2627</td>\n",
       "      <td>0.0741</td>\n",
       "      <td>0.9757</td>\n",
       "      <td>8674.0</td>\n",
       "      <td>73700</td>\n",
       "      <td>88000</td>\n",
       "      <td>113900</td>\n",
       "      <td>55430.0</td>\n",
       "      <td>11.643076</td>\n",
       "      <td>0.014251</td>\n",
       "      <td>0.022526</td>\n",
       "      <td>2.496466</td>\n",
       "      <td>2.501653</td>\n",
       "    </tr>\n",
       "    <tr>\n",
       "      <th>133</th>\n",
       "      <td>1426</td>\n",
       "      <td>0.0705</td>\n",
       "      <td>0.9867</td>\n",
       "      <td>11472.0</td>\n",
       "      <td>74600</td>\n",
       "      <td>95200</td>\n",
       "      <td>118400</td>\n",
       "      <td>59320.0</td>\n",
       "      <td>11.681824</td>\n",
       "      <td>0.012248</td>\n",
       "      <td>0.022507</td>\n",
       "      <td>2.694454</td>\n",
       "      <td>2.701156</td>\n",
       "    </tr>\n",
       "    <tr>\n",
       "      <th>722</th>\n",
       "      <td>2920</td>\n",
       "      <td>0.1342</td>\n",
       "      <td>0.9720</td>\n",
       "      <td>6420.5</td>\n",
       "      <td>88200</td>\n",
       "      <td>100800</td>\n",
       "      <td>108900</td>\n",
       "      <td>59528.0</td>\n",
       "      <td>11.598185</td>\n",
       "      <td>0.015404</td>\n",
       "      <td>0.020123</td>\n",
       "      <td>2.268207</td>\n",
       "      <td>2.271938</td>\n",
       "    </tr>\n",
       "    <tr>\n",
       "      <th>142</th>\n",
       "      <td>1445</td>\n",
       "      <td>0.1697</td>\n",
       "      <td>0.9598</td>\n",
       "      <td>17125.0</td>\n",
       "      <td>78100</td>\n",
       "      <td>101000</td>\n",
       "      <td>118900</td>\n",
       "      <td>59900.0</td>\n",
       "      <td>11.686038</td>\n",
       "      <td>0.007301</td>\n",
       "      <td>0.018331</td>\n",
       "      <td>3.157509</td>\n",
       "      <td>3.168781</td>\n",
       "    </tr>\n",
       "    <tr>\n",
       "      <th>123</th>\n",
       "      <td>1401</td>\n",
       "      <td>0.8302</td>\n",
       "      <td>0.3946</td>\n",
       "      <td>23855.0</td>\n",
       "      <td>34000</td>\n",
       "      <td>40500</td>\n",
       "      <td>44300</td>\n",
       "      <td>40723.0</td>\n",
       "      <td>10.698740</td>\n",
       "      <td>0.009359</td>\n",
       "      <td>0.017897</td>\n",
       "      <td>2.752676</td>\n",
       "      <td>2.759872</td>\n",
       "    </tr>\n",
       "    <tr>\n",
       "      <th>223</th>\n",
       "      <td>1685</td>\n",
       "      <td>0.9299</td>\n",
       "      <td>0.2182</td>\n",
       "      <td>7819.0</td>\n",
       "      <td>26700</td>\n",
       "      <td>24900</td>\n",
       "      <td>28500</td>\n",
       "      <td>33966.0</td>\n",
       "      <td>10.257659</td>\n",
       "      <td>0.034244</td>\n",
       "      <td>0.015797</td>\n",
       "      <td>1.334939</td>\n",
       "      <td>1.335353</td>\n",
       "    </tr>\n",
       "    <tr>\n",
       "      <th>441</th>\n",
       "      <td>2165</td>\n",
       "      <td>0.8921</td>\n",
       "      <td>0.8890</td>\n",
       "      <td>25000.0</td>\n",
       "      <td>86700</td>\n",
       "      <td>98700</td>\n",
       "      <td>102700</td>\n",
       "      <td>43966.0</td>\n",
       "      <td>11.539567</td>\n",
       "      <td>0.004364</td>\n",
       "      <td>0.015314</td>\n",
       "      <td>3.738168</td>\n",
       "      <td>3.757517</td>\n",
       "    </tr>\n",
       "    <tr>\n",
       "      <th>423</th>\n",
       "      <td>2121</td>\n",
       "      <td>0.2821</td>\n",
       "      <td>0.9489</td>\n",
       "      <td>27000.0</td>\n",
       "      <td>75000</td>\n",
       "      <td>82400</td>\n",
       "      <td>108500</td>\n",
       "      <td>58450.0</td>\n",
       "      <td>11.594505</td>\n",
       "      <td>0.006466</td>\n",
       "      <td>0.015129</td>\n",
       "      <td>3.049384</td>\n",
       "      <td>3.059452</td>\n",
       "    </tr>\n",
       "    <tr>\n",
       "      <th>811</th>\n",
       "      <td>3151</td>\n",
       "      <td>0.4934</td>\n",
       "      <td>0.5036</td>\n",
       "      <td>20832.0</td>\n",
       "      <td>47500</td>\n",
       "      <td>47500</td>\n",
       "      <td>55300</td>\n",
       "      <td>32241.0</td>\n",
       "      <td>10.920528</td>\n",
       "      <td>0.007125</td>\n",
       "      <td>0.013795</td>\n",
       "      <td>2.772956</td>\n",
       "      <td>2.780329</td>\n",
       "    </tr>\n",
       "    <tr>\n",
       "      <th>190</th>\n",
       "      <td>1587</td>\n",
       "      <td>0.4377</td>\n",
       "      <td>0.6763</td>\n",
       "      <td>37342.5</td>\n",
       "      <td>19900</td>\n",
       "      <td>24200</td>\n",
       "      <td>28400</td>\n",
       "      <td>21516.0</td>\n",
       "      <td>10.254144</td>\n",
       "      <td>0.011370</td>\n",
       "      <td>0.013727</td>\n",
       "      <td>-2.184930</td>\n",
       "      <td>-2.188202</td>\n",
       "    </tr>\n",
       "    <tr>\n",
       "      <th>647</th>\n",
       "      <td>2707</td>\n",
       "      <td>0.0742</td>\n",
       "      <td>0.9734</td>\n",
       "      <td>18982.5</td>\n",
       "      <td>79000</td>\n",
       "      <td>92300</td>\n",
       "      <td>107600</td>\n",
       "      <td>61540.0</td>\n",
       "      <td>11.586176</td>\n",
       "      <td>0.009157</td>\n",
       "      <td>0.013531</td>\n",
       "      <td>2.419978</td>\n",
       "      <td>2.424644</td>\n",
       "    </tr>\n",
       "    <tr>\n",
       "      <th>1053</th>\n",
       "      <td>3663</td>\n",
       "      <td>0.9862</td>\n",
       "      <td>0.4704</td>\n",
       "      <td>16500.0</td>\n",
       "      <td>38600</td>\n",
       "      <td>42800</td>\n",
       "      <td>44800</td>\n",
       "      <td>21543.0</td>\n",
       "      <td>10.709963</td>\n",
       "      <td>0.010711</td>\n",
       "      <td>0.012850</td>\n",
       "      <td>2.178806</td>\n",
       "      <td>2.182045</td>\n",
       "    </tr>\n",
       "    <tr>\n",
       "      <th>599</th>\n",
       "      <td>2573</td>\n",
       "      <td>0.0978</td>\n",
       "      <td>0.9726</td>\n",
       "      <td>11957.0</td>\n",
       "      <td>68200</td>\n",
       "      <td>87700</td>\n",
       "      <td>104000</td>\n",
       "      <td>61398.0</td>\n",
       "      <td>11.552146</td>\n",
       "      <td>0.011182</td>\n",
       "      <td>0.012298</td>\n",
       "      <td>2.085699</td>\n",
       "      <td>2.088471</td>\n",
       "    </tr>\n",
       "    <tr>\n",
       "      <th>852</th>\n",
       "      <td>3242</td>\n",
       "      <td>0.2549</td>\n",
       "      <td>0.9422</td>\n",
       "      <td>25878.5</td>\n",
       "      <td>83100</td>\n",
       "      <td>84100</td>\n",
       "      <td>102700</td>\n",
       "      <td>59710.0</td>\n",
       "      <td>11.539567</td>\n",
       "      <td>0.006252</td>\n",
       "      <td>0.011726</td>\n",
       "      <td>2.730344</td>\n",
       "      <td>2.737348</td>\n",
       "    </tr>\n",
       "    <tr>\n",
       "      <th>544</th>\n",
       "      <td>2439</td>\n",
       "      <td>0.3551</td>\n",
       "      <td>0.6996</td>\n",
       "      <td>33000.0</td>\n",
       "      <td>24100</td>\n",
       "      <td>28400</td>\n",
       "      <td>29600</td>\n",
       "      <td>20179.0</td>\n",
       "      <td>10.295530</td>\n",
       "      <td>0.008136</td>\n",
       "      <td>0.010934</td>\n",
       "      <td>-2.309008</td>\n",
       "      <td>-2.312977</td>\n",
       "    </tr>\n",
       "    <tr>\n",
       "      <th>542</th>\n",
       "      <td>2424</td>\n",
       "      <td>0.2272</td>\n",
       "      <td>0.5296</td>\n",
       "      <td>27776.0</td>\n",
       "      <td>22100</td>\n",
       "      <td>24700</td>\n",
       "      <td>26600</td>\n",
       "      <td>17758.0</td>\n",
       "      <td>10.188666</td>\n",
       "      <td>0.012020</td>\n",
       "      <td>0.009901</td>\n",
       "      <td>-1.804267</td>\n",
       "      <td>-1.805881</td>\n",
       "    </tr>\n",
       "    <tr>\n",
       "      <th>810</th>\n",
       "      <td>3147</td>\n",
       "      <td>0.7182</td>\n",
       "      <td>0.3313</td>\n",
       "      <td>22500.0</td>\n",
       "      <td>28200</td>\n",
       "      <td>32100</td>\n",
       "      <td>34700</td>\n",
       "      <td>26400.0</td>\n",
       "      <td>10.454495</td>\n",
       "      <td>0.013184</td>\n",
       "      <td>0.009685</td>\n",
       "      <td>1.702830</td>\n",
       "      <td>1.704112</td>\n",
       "    </tr>\n",
       "    <tr>\n",
       "      <th>763</th>\n",
       "      <td>3011</td>\n",
       "      <td>0.2548</td>\n",
       "      <td>0.7105</td>\n",
       "      <td>27000.0</td>\n",
       "      <td>20900</td>\n",
       "      <td>28600</td>\n",
       "      <td>30400</td>\n",
       "      <td>32485.0</td>\n",
       "      <td>10.322198</td>\n",
       "      <td>0.006210</td>\n",
       "      <td>0.009575</td>\n",
       "      <td>-2.475725</td>\n",
       "      <td>-2.480767</td>\n",
       "    </tr>\n",
       "    <tr>\n",
       "      <th>1071</th>\n",
       "      <td>3703</td>\n",
       "      <td>0.9087</td>\n",
       "      <td>0.4853</td>\n",
       "      <td>18750.0</td>\n",
       "      <td>38800</td>\n",
       "      <td>44300</td>\n",
       "      <td>45700</td>\n",
       "      <td>33668.0</td>\n",
       "      <td>10.729854</td>\n",
       "      <td>0.007864</td>\n",
       "      <td>0.009170</td>\n",
       "      <td>2.151190</td>\n",
       "      <td>2.154286</td>\n",
       "    </tr>\n",
       "    <tr>\n",
       "      <th>67</th>\n",
       "      <td>1170</td>\n",
       "      <td>0.1173</td>\n",
       "      <td>0.9622</td>\n",
       "      <td>12000.0</td>\n",
       "      <td>56400</td>\n",
       "      <td>78800</td>\n",
       "      <td>97800</td>\n",
       "      <td>60065.0</td>\n",
       "      <td>11.490680</td>\n",
       "      <td>0.010645</td>\n",
       "      <td>0.009001</td>\n",
       "      <td>1.829285</td>\n",
       "      <td>1.830986</td>\n",
       "    </tr>\n",
       "    <tr>\n",
       "      <th>185</th>\n",
       "      <td>1579</td>\n",
       "      <td>0.4103</td>\n",
       "      <td>0.6762</td>\n",
       "      <td>8748.5</td>\n",
       "      <td>55200</td>\n",
       "      <td>64700</td>\n",
       "      <td>63300</td>\n",
       "      <td>7715.0</td>\n",
       "      <td>11.055641</td>\n",
       "      <td>0.010930</td>\n",
       "      <td>0.008991</td>\n",
       "      <td>1.803981</td>\n",
       "      <td>1.805593</td>\n",
       "    </tr>\n",
       "    <tr>\n",
       "      <th>733</th>\n",
       "      <td>2942</td>\n",
       "      <td>0.7122</td>\n",
       "      <td>0.5296</td>\n",
       "      <td>39635.0</td>\n",
       "      <td>20600</td>\n",
       "      <td>25700</td>\n",
       "      <td>24200</td>\n",
       "      <td>25050.0</td>\n",
       "      <td>10.094108</td>\n",
       "      <td>0.013451</td>\n",
       "      <td>0.008934</td>\n",
       "      <td>-1.618941</td>\n",
       "      <td>-1.619981</td>\n",
       "    </tr>\n",
       "    <tr>\n",
       "      <th>651</th>\n",
       "      <td>2711</td>\n",
       "      <td>0.1556</td>\n",
       "      <td>0.9677</td>\n",
       "      <td>11750.0</td>\n",
       "      <td>68400</td>\n",
       "      <td>81700</td>\n",
       "      <td>98400</td>\n",
       "      <td>59572.0</td>\n",
       "      <td>11.496796</td>\n",
       "      <td>0.010200</td>\n",
       "      <td>0.008821</td>\n",
       "      <td>1.850362</td>\n",
       "      <td>1.852141</td>\n",
       "    </tr>\n",
       "  </tbody>\n",
       "</table>\n",
       "</div>"
      ],
      "text/plain": [
       "      6-digit OPE ID for institution  \\\n",
       "437                             2155   \n",
       "442                             2178   \n",
       "90                              1305   \n",
       "476                             2246   \n",
       "350                             1955   \n",
       "543                             2433   \n",
       "914                             3378   \n",
       "622                             2627   \n",
       "133                             1426   \n",
       "722                             2920   \n",
       "142                             1445   \n",
       "123                             1401   \n",
       "223                             1685   \n",
       "441                             2165   \n",
       "423                             2121   \n",
       "811                             3151   \n",
       "190                             1587   \n",
       "647                             2707   \n",
       "1053                            3663   \n",
       "599                             2573   \n",
       "852                             3242   \n",
       "544                             2439   \n",
       "542                             2424   \n",
       "810                             3147   \n",
       "763                             3011   \n",
       "1071                            3703   \n",
       "67                              1170   \n",
       "185                             1579   \n",
       "733                             2942   \n",
       "651                             2711   \n",
       "\n",
       "      Admission rate for all campuses rolled up to the 6-digit OPE ID  \\\n",
       "437                                              0.0584                 \n",
       "442                                              0.0815                 \n",
       "90                                               0.0569                 \n",
       "476                                              0.7263                 \n",
       "350                                              0.3401                 \n",
       "543                                              0.1386                 \n",
       "914                                              0.1224                 \n",
       "622                                              0.0741                 \n",
       "133                                              0.0705                 \n",
       "722                                              0.1342                 \n",
       "142                                              0.1697                 \n",
       "123                                              0.8302                 \n",
       "223                                              0.9299                 \n",
       "441                                              0.8921                 \n",
       "423                                              0.2821                 \n",
       "811                                              0.4934                 \n",
       "190                                              0.4377                 \n",
       "647                                              0.0742                 \n",
       "1053                                             0.9862                 \n",
       "599                                              0.0978                 \n",
       "852                                              0.2549                 \n",
       "544                                              0.3551                 \n",
       "542                                              0.2272                 \n",
       "810                                              0.7182                 \n",
       "763                                              0.2548                 \n",
       "1071                                             0.9087                 \n",
       "67                                               0.1173                 \n",
       "185                                              0.4103                 \n",
       "733                                              0.7122                 \n",
       "651                                              0.1556                 \n",
       "\n",
       "      First-time, full-time student retention rate at four-year institutions  \\\n",
       "437                                              0.9706                        \n",
       "442                                              0.9788                        \n",
       "90                                               0.9858                        \n",
       "476                                              0.4333                        \n",
       "350                                              0.8107                        \n",
       "543                                              0.6273                        \n",
       "914                                              0.9778                        \n",
       "622                                              0.9757                        \n",
       "133                                              0.9867                        \n",
       "722                                              0.9720                        \n",
       "142                                              0.9598                        \n",
       "123                                              0.3946                        \n",
       "223                                              0.2182                        \n",
       "441                                              0.8890                        \n",
       "423                                              0.9489                        \n",
       "811                                              0.5036                        \n",
       "190                                              0.6763                        \n",
       "647                                              0.9734                        \n",
       "1053                                             0.4704                        \n",
       "599                                              0.9726                        \n",
       "852                                              0.9422                        \n",
       "544                                              0.6996                        \n",
       "542                                              0.5296                        \n",
       "810                                              0.3313                        \n",
       "763                                              0.7105                        \n",
       "1071                                             0.4853                        \n",
       "67                                               0.9622                        \n",
       "185                                              0.6762                        \n",
       "733                                              0.5296                        \n",
       "651                                              0.9677                        \n",
       "\n",
       "      The median debt for students who have completed  \\\n",
       "437                                            6000.0   \n",
       "442                                           13000.0   \n",
       "90                                            11110.0   \n",
       "476                                           23068.5   \n",
       "350                                            5720.0   \n",
       "543                                           22813.0   \n",
       "914                                           14935.0   \n",
       "622                                            8674.0   \n",
       "133                                           11472.0   \n",
       "722                                            6420.5   \n",
       "142                                           17125.0   \n",
       "123                                           23855.0   \n",
       "223                                            7819.0   \n",
       "441                                           25000.0   \n",
       "423                                           27000.0   \n",
       "811                                           20832.0   \n",
       "190                                           37342.5   \n",
       "647                                           18982.5   \n",
       "1053                                          16500.0   \n",
       "599                                           11957.0   \n",
       "852                                           25878.5   \n",
       "544                                           33000.0   \n",
       "542                                           27776.0   \n",
       "810                                           22500.0   \n",
       "763                                           27000.0   \n",
       "1071                                          18750.0   \n",
       "67                                            12000.0   \n",
       "185                                            8748.5   \n",
       "733                                           39635.0   \n",
       "651                                           11750.0   \n",
       "\n",
       "      Mean earnings of students working and not enrolled 6 years after entry  \\\n",
       "437                                               96800                        \n",
       "442                                              100800                        \n",
       "90                                                95200                        \n",
       "476                                               43700                        \n",
       "350                                               24900                        \n",
       "543                                               19200                        \n",
       "914                                               89000                        \n",
       "622                                               73700                        \n",
       "133                                               74600                        \n",
       "722                                               88200                        \n",
       "142                                               78100                        \n",
       "123                                               34000                        \n",
       "223                                               26700                        \n",
       "441                                               86700                        \n",
       "423                                               75000                        \n",
       "811                                               47500                        \n",
       "190                                               19900                        \n",
       "647                                               79000                        \n",
       "1053                                              38600                        \n",
       "599                                               68200                        \n",
       "852                                               83100                        \n",
       "544                                               24100                        \n",
       "542                                               22100                        \n",
       "810                                               28200                        \n",
       "763                                               20900                        \n",
       "1071                                              38800                        \n",
       "67                                                56400                        \n",
       "185                                               55200                        \n",
       "733                                               20600                        \n",
       "651                                               68400                        \n",
       "\n",
       "      Mean earnings of students working and not enrolled 8 years after entry  \\\n",
       "437                                              119900                        \n",
       "442                                              130000                        \n",
       "90                                               128700                        \n",
       "476                                               53200                        \n",
       "350                                               30800                        \n",
       "543                                               22500                        \n",
       "914                                              107300                        \n",
       "622                                               88000                        \n",
       "133                                               95200                        \n",
       "722                                              100800                        \n",
       "142                                              101000                        \n",
       "123                                               40500                        \n",
       "223                                               24900                        \n",
       "441                                               98700                        \n",
       "423                                               82400                        \n",
       "811                                               47500                        \n",
       "190                                               24200                        \n",
       "647                                               92300                        \n",
       "1053                                              42800                        \n",
       "599                                               87700                        \n",
       "852                                               84100                        \n",
       "544                                               28400                        \n",
       "542                                               24700                        \n",
       "810                                               32100                        \n",
       "763                                               28600                        \n",
       "1071                                              44300                        \n",
       "67                                                78800                        \n",
       "185                                               64700                        \n",
       "733                                               25700                        \n",
       "651                                               81700                        \n",
       "\n",
       "      Mean earnings of students working and not enrolled 10 years after entry  \\\n",
       "437                                              136700                         \n",
       "442                                              142100                         \n",
       "90                                               122900                         \n",
       "476                                               54900                         \n",
       "350                                               36100                         \n",
       "543                                               25100                         \n",
       "914                                              123600                         \n",
       "622                                              113900                         \n",
       "133                                              118400                         \n",
       "722                                              108900                         \n",
       "142                                              118900                         \n",
       "123                                               44300                         \n",
       "223                                               28500                         \n",
       "441                                              102700                         \n",
       "423                                              108500                         \n",
       "811                                               55300                         \n",
       "190                                               28400                         \n",
       "647                                              107600                         \n",
       "1053                                              44800                         \n",
       "599                                              104000                         \n",
       "852                                              102700                         \n",
       "544                                               29600                         \n",
       "542                                               26600                         \n",
       "810                                               34700                         \n",
       "763                                               30400                         \n",
       "1071                                              45700                         \n",
       "67                                                97800                         \n",
       "185                                               63300                         \n",
       "733                                               24200                         \n",
       "651                                               98400                         \n",
       "\n",
       "      Average cost of attendance (academic year institutions)  \\\n",
       "437                                             57950.0         \n",
       "442                                             57010.0         \n",
       "90                                              58408.0         \n",
       "476                                             17823.0         \n",
       "350                                             30396.0         \n",
       "543                                             14466.0         \n",
       "914                                             59600.0         \n",
       "622                                             55430.0         \n",
       "133                                             59320.0         \n",
       "722                                             59528.0         \n",
       "142                                             59900.0         \n",
       "123                                             40723.0         \n",
       "223                                             33966.0         \n",
       "441                                             43966.0         \n",
       "423                                             58450.0         \n",
       "811                                             32241.0         \n",
       "190                                             21516.0         \n",
       "647                                             61540.0         \n",
       "1053                                            21543.0         \n",
       "599                                             61398.0         \n",
       "852                                             59710.0         \n",
       "544                                             20179.0         \n",
       "542                                             17758.0         \n",
       "810                                             26400.0         \n",
       "763                                             32485.0         \n",
       "1071                                            33668.0         \n",
       "67                                              60065.0         \n",
       "185                                              7715.0         \n",
       "733                                             25050.0         \n",
       "651                                             59572.0         \n",
       "\n",
       "      Nat Log Mean earnings of students working and not enrolled 10 years after entry  \\\n",
       "437                                           11.825544                                 \n",
       "442                                           11.864286                                 \n",
       "90                                            11.719126                                 \n",
       "476                                           10.913269                                 \n",
       "350                                           10.494048                                 \n",
       "543                                           10.130623                                 \n",
       "914                                           11.724806                                 \n",
       "622                                           11.643076                                 \n",
       "133                                           11.681824                                 \n",
       "722                                           11.598185                                 \n",
       "142                                           11.686038                                 \n",
       "123                                           10.698740                                 \n",
       "223                                           10.257659                                 \n",
       "441                                           11.539567                                 \n",
       "423                                           11.594505                                 \n",
       "811                                           10.920528                                 \n",
       "190                                           10.254144                                 \n",
       "647                                           11.586176                                 \n",
       "1053                                          10.709963                                 \n",
       "599                                           11.552146                                 \n",
       "852                                           11.539567                                 \n",
       "544                                           10.295530                                 \n",
       "542                                           10.188666                                 \n",
       "810                                           10.454495                                 \n",
       "763                                           10.322198                                 \n",
       "1071                                          10.729854                                 \n",
       "67                                            11.490680                                 \n",
       "185                                           11.055641                                 \n",
       "733                                           10.094108                                 \n",
       "651                                           11.496796                                 \n",
       "\n",
       "      Leverage  Cooks Distance  Standardized Residuals  Studentized Residuals  \n",
       "437   0.017229        0.054756                3.534618               3.550812  \n",
       "442   0.010965        0.041538                3.871260               3.892876  \n",
       "90    0.012770        0.027187                2.899524               2.908064  \n",
       "476   0.007815        0.025152                3.573850               3.590623  \n",
       "350   0.013268        0.024783               -2.715215              -2.722091  \n",
       "543   0.009928        0.024645               -3.135361              -3.146380  \n",
       "914   0.009192        0.022937                3.144769               3.155895  \n",
       "622   0.014251        0.022526                2.496466               2.501653  \n",
       "133   0.012248        0.022507                2.694454               2.701156  \n",
       "722   0.015404        0.020123                2.268207               2.271938  \n",
       "142   0.007301        0.018331                3.157509               3.168781  \n",
       "123   0.009359        0.017897                2.752676               2.759872  \n",
       "223   0.034244        0.015797                1.334939               1.335353  \n",
       "441   0.004364        0.015314                3.738168               3.757517  \n",
       "423   0.006466        0.015129                3.049384               3.059452  \n",
       "811   0.007125        0.013795                2.772956               2.780329  \n",
       "190   0.011370        0.013727               -2.184930              -2.188202  \n",
       "647   0.009157        0.013531                2.419978               2.424644  \n",
       "1053  0.010711        0.012850                2.178806               2.182045  \n",
       "599   0.011182        0.012298                2.085699               2.088471  \n",
       "852   0.006252        0.011726                2.730344               2.737348  \n",
       "544   0.008136        0.010934               -2.309008              -2.312977  \n",
       "542   0.012020        0.009901               -1.804267              -1.805881  \n",
       "810   0.013184        0.009685                1.702830               1.704112  \n",
       "763   0.006210        0.009575               -2.475725              -2.480767  \n",
       "1071  0.007864        0.009170                2.151190               2.154286  \n",
       "67    0.010645        0.009001                1.829285               1.830986  \n",
       "185   0.010930        0.008991                1.803981               1.805593  \n",
       "733   0.013451        0.008934               -1.618941              -1.619981  \n",
       "651   0.010200        0.008821                1.850362               1.852141  "
      ]
     },
     "execution_count": 84,
     "metadata": {},
     "output_type": "execute_result"
    }
   ],
   "source": [
    "cooks_df = data.sort_values(\"Cooks Distance\", ascending=False)\n",
    "cooks_df.head(30)"
   ]
  },
  {
   "cell_type": "code",
   "execution_count": 85,
   "metadata": {},
   "outputs": [
    {
     "data": {
      "text/html": [
       "<div>\n",
       "<style scoped>\n",
       "    .dataframe tbody tr th:only-of-type {\n",
       "        vertical-align: middle;\n",
       "    }\n",
       "\n",
       "    .dataframe tbody tr th {\n",
       "        vertical-align: top;\n",
       "    }\n",
       "\n",
       "    .dataframe thead th {\n",
       "        text-align: right;\n",
       "    }\n",
       "</style>\n",
       "<table border=\"1\" class=\"dataframe\">\n",
       "  <thead>\n",
       "    <tr style=\"text-align: right;\">\n",
       "      <th></th>\n",
       "      <th>Admission rate for all campuses rolled up to the 6-digit OPE ID</th>\n",
       "      <th>First-time, full-time student retention rate at four-year institutions</th>\n",
       "      <th>The median debt for students who have completed</th>\n",
       "      <th>Mean earnings of students working and not enrolled 6 years after entry</th>\n",
       "      <th>Mean earnings of students working and not enrolled 8 years after entry</th>\n",
       "      <th>Mean earnings of students working and not enrolled 10 years after entry</th>\n",
       "      <th>Average cost of attendance (academic year institutions)</th>\n",
       "      <th>Nat Log Mean earnings of students working and not enrolled 10 years after entry</th>\n",
       "      <th>Leverage</th>\n",
       "      <th>Cooks Distance</th>\n",
       "      <th>Standardized Residuals</th>\n",
       "      <th>Studentized Residuals</th>\n",
       "    </tr>\n",
       "    <tr>\n",
       "      <th>6-digit OPE ID for institution</th>\n",
       "      <th></th>\n",
       "      <th></th>\n",
       "      <th></th>\n",
       "      <th></th>\n",
       "      <th></th>\n",
       "      <th></th>\n",
       "      <th></th>\n",
       "      <th></th>\n",
       "      <th></th>\n",
       "      <th></th>\n",
       "      <th></th>\n",
       "      <th></th>\n",
       "    </tr>\n",
       "  </thead>\n",
       "  <tbody>\n",
       "    <tr>\n",
       "      <th>1002</th>\n",
       "      <td>0.8989</td>\n",
       "      <td>0.6314</td>\n",
       "      <td>29500.0</td>\n",
       "      <td>27200</td>\n",
       "      <td>29700</td>\n",
       "      <td>34300</td>\n",
       "      <td>18888.0</td>\n",
       "      <td>10.442901</td>\n",
       "      <td>0.003718</td>\n",
       "      <td>0.00020</td>\n",
       "      <td>-0.463115</td>\n",
       "      <td>-0.462971</td>\n",
       "    </tr>\n",
       "    <tr>\n",
       "      <th>1004</th>\n",
       "      <td>0.8729</td>\n",
       "      <td>0.7365</td>\n",
       "      <td>22500.0</td>\n",
       "      <td>27000</td>\n",
       "      <td>31600</td>\n",
       "      <td>36000</td>\n",
       "      <td>20194.0</td>\n",
       "      <td>10.491274</td>\n",
       "      <td>0.002122</td>\n",
       "      <td>0.00079</td>\n",
       "      <td>-1.219296</td>\n",
       "      <td>-1.219531</td>\n",
       "    </tr>\n",
       "  </tbody>\n",
       "</table>\n",
       "</div>"
      ],
      "text/plain": [
       "                                Admission rate for all campuses rolled up to the 6-digit OPE ID  \\\n",
       "6-digit OPE ID for institution                                                                    \n",
       "1002                                                                       0.8989                 \n",
       "1004                                                                       0.8729                 \n",
       "\n",
       "                                First-time, full-time student retention rate at four-year institutions  \\\n",
       "6-digit OPE ID for institution                                                                           \n",
       "1002                                                                       0.6314                        \n",
       "1004                                                                       0.7365                        \n",
       "\n",
       "                                The median debt for students who have completed  \\\n",
       "6-digit OPE ID for institution                                                    \n",
       "1002                                                                    29500.0   \n",
       "1004                                                                    22500.0   \n",
       "\n",
       "                                Mean earnings of students working and not enrolled 6 years after entry  \\\n",
       "6-digit OPE ID for institution                                                                           \n",
       "1002                                                                        27200                        \n",
       "1004                                                                        27000                        \n",
       "\n",
       "                                Mean earnings of students working and not enrolled 8 years after entry  \\\n",
       "6-digit OPE ID for institution                                                                           \n",
       "1002                                                                        29700                        \n",
       "1004                                                                        31600                        \n",
       "\n",
       "                                Mean earnings of students working and not enrolled 10 years after entry  \\\n",
       "6-digit OPE ID for institution                                                                            \n",
       "1002                                                                        34300                         \n",
       "1004                                                                        36000                         \n",
       "\n",
       "                                Average cost of attendance (academic year institutions)  \\\n",
       "6-digit OPE ID for institution                                                            \n",
       "1002                                                                      18888.0         \n",
       "1004                                                                      20194.0         \n",
       "\n",
       "                                Nat Log Mean earnings of students working and not enrolled 10 years after entry  \\\n",
       "6-digit OPE ID for institution                                                                                    \n",
       "1002                                                                    10.442901                                 \n",
       "1004                                                                    10.491274                                 \n",
       "\n",
       "                                Leverage  Cooks Distance  \\\n",
       "6-digit OPE ID for institution                             \n",
       "1002                            0.003718         0.00020   \n",
       "1004                            0.002122         0.00079   \n",
       "\n",
       "                                Standardized Residuals  Studentized Residuals  \n",
       "6-digit OPE ID for institution                                                 \n",
       "1002                                         -0.463115              -0.462971  \n",
       "1004                                         -1.219296              -1.219531  "
      ]
     },
     "execution_count": 85,
     "metadata": {},
     "output_type": "execute_result"
    }
   ],
   "source": [
    "data.set_index('6-digit OPE ID for institution', inplace=True)\n",
    "data.head(2)"
   ]
  },
  {
   "cell_type": "code",
   "execution_count": 86,
   "metadata": {},
   "outputs": [],
   "source": [
    "#data.loc[:, ['Admission rate for all campuses rolled up to the 6-digit OPE ID']].head()\n",
    "#list(data.index.values)"
   ]
  },
  {
   "cell_type": "code",
   "execution_count": 87,
   "metadata": {},
   "outputs": [
    {
     "data": {
      "text/html": [
       "<div>\n",
       "<style scoped>\n",
       "    .dataframe tbody tr th:only-of-type {\n",
       "        vertical-align: middle;\n",
       "    }\n",
       "\n",
       "    .dataframe tbody tr th {\n",
       "        vertical-align: top;\n",
       "    }\n",
       "\n",
       "    .dataframe thead th {\n",
       "        text-align: right;\n",
       "    }\n",
       "</style>\n",
       "<table border=\"1\" class=\"dataframe\">\n",
       "  <thead>\n",
       "    <tr style=\"text-align: right;\">\n",
       "      <th></th>\n",
       "      <th>Admission rate for all campuses rolled up to the 6-digit OPE ID</th>\n",
       "      <th>First-time, full-time student retention rate at four-year institutions</th>\n",
       "      <th>The median debt for students who have completed</th>\n",
       "      <th>Mean earnings of students working and not enrolled 6 years after entry</th>\n",
       "      <th>Mean earnings of students working and not enrolled 8 years after entry</th>\n",
       "      <th>Mean earnings of students working and not enrolled 10 years after entry</th>\n",
       "      <th>Average cost of attendance (academic year institutions)</th>\n",
       "      <th>Nat Log Mean earnings of students working and not enrolled 10 years after entry</th>\n",
       "      <th>Leverage</th>\n",
       "      <th>Cooks Distance</th>\n",
       "      <th>Standardized Residuals</th>\n",
       "      <th>Studentized Residuals</th>\n",
       "    </tr>\n",
       "    <tr>\n",
       "      <th>6-digit OPE ID for institution</th>\n",
       "      <th></th>\n",
       "      <th></th>\n",
       "      <th></th>\n",
       "      <th></th>\n",
       "      <th></th>\n",
       "      <th></th>\n",
       "      <th></th>\n",
       "      <th></th>\n",
       "      <th></th>\n",
       "      <th></th>\n",
       "      <th></th>\n",
       "      <th></th>\n",
       "    </tr>\n",
       "  </thead>\n",
       "  <tbody>\n",
       "    <tr>\n",
       "      <th>2155</th>\n",
       "      <td>0.0584</td>\n",
       "      <td>0.9706</td>\n",
       "      <td>6000.0</td>\n",
       "      <td>96800</td>\n",
       "      <td>119900</td>\n",
       "      <td>136700</td>\n",
       "      <td>57950.0</td>\n",
       "      <td>11.825544</td>\n",
       "      <td>0.017229</td>\n",
       "      <td>0.054756</td>\n",
       "      <td>3.534618</td>\n",
       "      <td>3.550812</td>\n",
       "    </tr>\n",
       "    <tr>\n",
       "      <th>2178</th>\n",
       "      <td>0.0815</td>\n",
       "      <td>0.9788</td>\n",
       "      <td>13000.0</td>\n",
       "      <td>100800</td>\n",
       "      <td>130000</td>\n",
       "      <td>142100</td>\n",
       "      <td>57010.0</td>\n",
       "      <td>11.864286</td>\n",
       "      <td>0.010965</td>\n",
       "      <td>0.041538</td>\n",
       "      <td>3.871260</td>\n",
       "      <td>3.892876</td>\n",
       "    </tr>\n",
       "    <tr>\n",
       "      <th>1305</th>\n",
       "      <td>0.0569</td>\n",
       "      <td>0.9858</td>\n",
       "      <td>11110.0</td>\n",
       "      <td>95200</td>\n",
       "      <td>128700</td>\n",
       "      <td>122900</td>\n",
       "      <td>58408.0</td>\n",
       "      <td>11.719126</td>\n",
       "      <td>0.012770</td>\n",
       "      <td>0.027187</td>\n",
       "      <td>2.899524</td>\n",
       "      <td>2.908064</td>\n",
       "    </tr>\n",
       "    <tr>\n",
       "      <th>2246</th>\n",
       "      <td>0.7263</td>\n",
       "      <td>0.4333</td>\n",
       "      <td>23068.5</td>\n",
       "      <td>43700</td>\n",
       "      <td>53200</td>\n",
       "      <td>54900</td>\n",
       "      <td>17823.0</td>\n",
       "      <td>10.913269</td>\n",
       "      <td>0.007815</td>\n",
       "      <td>0.025152</td>\n",
       "      <td>3.573850</td>\n",
       "      <td>3.590623</td>\n",
       "    </tr>\n",
       "    <tr>\n",
       "      <th>1955</th>\n",
       "      <td>0.3401</td>\n",
       "      <td>0.8107</td>\n",
       "      <td>5720.0</td>\n",
       "      <td>24900</td>\n",
       "      <td>30800</td>\n",
       "      <td>36100</td>\n",
       "      <td>30396.0</td>\n",
       "      <td>10.494048</td>\n",
       "      <td>0.013268</td>\n",
       "      <td>0.024783</td>\n",
       "      <td>-2.715215</td>\n",
       "      <td>-2.722091</td>\n",
       "    </tr>\n",
       "    <tr>\n",
       "      <th>2433</th>\n",
       "      <td>0.1386</td>\n",
       "      <td>0.6273</td>\n",
       "      <td>22813.0</td>\n",
       "      <td>19200</td>\n",
       "      <td>22500</td>\n",
       "      <td>25100</td>\n",
       "      <td>14466.0</td>\n",
       "      <td>10.130623</td>\n",
       "      <td>0.009928</td>\n",
       "      <td>0.024645</td>\n",
       "      <td>-3.135361</td>\n",
       "      <td>-3.146380</td>\n",
       "    </tr>\n",
       "    <tr>\n",
       "      <th>3378</th>\n",
       "      <td>0.1224</td>\n",
       "      <td>0.9778</td>\n",
       "      <td>14935.0</td>\n",
       "      <td>89000</td>\n",
       "      <td>107300</td>\n",
       "      <td>123600</td>\n",
       "      <td>59600.0</td>\n",
       "      <td>11.724806</td>\n",
       "      <td>0.009192</td>\n",
       "      <td>0.022937</td>\n",
       "      <td>3.144769</td>\n",
       "      <td>3.155895</td>\n",
       "    </tr>\n",
       "    <tr>\n",
       "      <th>2627</th>\n",
       "      <td>0.0741</td>\n",
       "      <td>0.9757</td>\n",
       "      <td>8674.0</td>\n",
       "      <td>73700</td>\n",
       "      <td>88000</td>\n",
       "      <td>113900</td>\n",
       "      <td>55430.0</td>\n",
       "      <td>11.643076</td>\n",
       "      <td>0.014251</td>\n",
       "      <td>0.022526</td>\n",
       "      <td>2.496466</td>\n",
       "      <td>2.501653</td>\n",
       "    </tr>\n",
       "    <tr>\n",
       "      <th>1426</th>\n",
       "      <td>0.0705</td>\n",
       "      <td>0.9867</td>\n",
       "      <td>11472.0</td>\n",
       "      <td>74600</td>\n",
       "      <td>95200</td>\n",
       "      <td>118400</td>\n",
       "      <td>59320.0</td>\n",
       "      <td>11.681824</td>\n",
       "      <td>0.012248</td>\n",
       "      <td>0.022507</td>\n",
       "      <td>2.694454</td>\n",
       "      <td>2.701156</td>\n",
       "    </tr>\n",
       "    <tr>\n",
       "      <th>2920</th>\n",
       "      <td>0.1342</td>\n",
       "      <td>0.9720</td>\n",
       "      <td>6420.5</td>\n",
       "      <td>88200</td>\n",
       "      <td>100800</td>\n",
       "      <td>108900</td>\n",
       "      <td>59528.0</td>\n",
       "      <td>11.598185</td>\n",
       "      <td>0.015404</td>\n",
       "      <td>0.020123</td>\n",
       "      <td>2.268207</td>\n",
       "      <td>2.271938</td>\n",
       "    </tr>\n",
       "    <tr>\n",
       "      <th>1445</th>\n",
       "      <td>0.1697</td>\n",
       "      <td>0.9598</td>\n",
       "      <td>17125.0</td>\n",
       "      <td>78100</td>\n",
       "      <td>101000</td>\n",
       "      <td>118900</td>\n",
       "      <td>59900.0</td>\n",
       "      <td>11.686038</td>\n",
       "      <td>0.007301</td>\n",
       "      <td>0.018331</td>\n",
       "      <td>3.157509</td>\n",
       "      <td>3.168781</td>\n",
       "    </tr>\n",
       "    <tr>\n",
       "      <th>1401</th>\n",
       "      <td>0.8302</td>\n",
       "      <td>0.3946</td>\n",
       "      <td>23855.0</td>\n",
       "      <td>34000</td>\n",
       "      <td>40500</td>\n",
       "      <td>44300</td>\n",
       "      <td>40723.0</td>\n",
       "      <td>10.698740</td>\n",
       "      <td>0.009359</td>\n",
       "      <td>0.017897</td>\n",
       "      <td>2.752676</td>\n",
       "      <td>2.759872</td>\n",
       "    </tr>\n",
       "    <tr>\n",
       "      <th>1685</th>\n",
       "      <td>0.9299</td>\n",
       "      <td>0.2182</td>\n",
       "      <td>7819.0</td>\n",
       "      <td>26700</td>\n",
       "      <td>24900</td>\n",
       "      <td>28500</td>\n",
       "      <td>33966.0</td>\n",
       "      <td>10.257659</td>\n",
       "      <td>0.034244</td>\n",
       "      <td>0.015797</td>\n",
       "      <td>1.334939</td>\n",
       "      <td>1.335353</td>\n",
       "    </tr>\n",
       "    <tr>\n",
       "      <th>2165</th>\n",
       "      <td>0.8921</td>\n",
       "      <td>0.8890</td>\n",
       "      <td>25000.0</td>\n",
       "      <td>86700</td>\n",
       "      <td>98700</td>\n",
       "      <td>102700</td>\n",
       "      <td>43966.0</td>\n",
       "      <td>11.539567</td>\n",
       "      <td>0.004364</td>\n",
       "      <td>0.015314</td>\n",
       "      <td>3.738168</td>\n",
       "      <td>3.757517</td>\n",
       "    </tr>\n",
       "    <tr>\n",
       "      <th>2121</th>\n",
       "      <td>0.2821</td>\n",
       "      <td>0.9489</td>\n",
       "      <td>27000.0</td>\n",
       "      <td>75000</td>\n",
       "      <td>82400</td>\n",
       "      <td>108500</td>\n",
       "      <td>58450.0</td>\n",
       "      <td>11.594505</td>\n",
       "      <td>0.006466</td>\n",
       "      <td>0.015129</td>\n",
       "      <td>3.049384</td>\n",
       "      <td>3.059452</td>\n",
       "    </tr>\n",
       "    <tr>\n",
       "      <th>3151</th>\n",
       "      <td>0.4934</td>\n",
       "      <td>0.5036</td>\n",
       "      <td>20832.0</td>\n",
       "      <td>47500</td>\n",
       "      <td>47500</td>\n",
       "      <td>55300</td>\n",
       "      <td>32241.0</td>\n",
       "      <td>10.920528</td>\n",
       "      <td>0.007125</td>\n",
       "      <td>0.013795</td>\n",
       "      <td>2.772956</td>\n",
       "      <td>2.780329</td>\n",
       "    </tr>\n",
       "    <tr>\n",
       "      <th>1587</th>\n",
       "      <td>0.4377</td>\n",
       "      <td>0.6763</td>\n",
       "      <td>37342.5</td>\n",
       "      <td>19900</td>\n",
       "      <td>24200</td>\n",
       "      <td>28400</td>\n",
       "      <td>21516.0</td>\n",
       "      <td>10.254144</td>\n",
       "      <td>0.011370</td>\n",
       "      <td>0.013727</td>\n",
       "      <td>-2.184930</td>\n",
       "      <td>-2.188202</td>\n",
       "    </tr>\n",
       "    <tr>\n",
       "      <th>2707</th>\n",
       "      <td>0.0742</td>\n",
       "      <td>0.9734</td>\n",
       "      <td>18982.5</td>\n",
       "      <td>79000</td>\n",
       "      <td>92300</td>\n",
       "      <td>107600</td>\n",
       "      <td>61540.0</td>\n",
       "      <td>11.586176</td>\n",
       "      <td>0.009157</td>\n",
       "      <td>0.013531</td>\n",
       "      <td>2.419978</td>\n",
       "      <td>2.424644</td>\n",
       "    </tr>\n",
       "    <tr>\n",
       "      <th>3663</th>\n",
       "      <td>0.9862</td>\n",
       "      <td>0.4704</td>\n",
       "      <td>16500.0</td>\n",
       "      <td>38600</td>\n",
       "      <td>42800</td>\n",
       "      <td>44800</td>\n",
       "      <td>21543.0</td>\n",
       "      <td>10.709963</td>\n",
       "      <td>0.010711</td>\n",
       "      <td>0.012850</td>\n",
       "      <td>2.178806</td>\n",
       "      <td>2.182045</td>\n",
       "    </tr>\n",
       "    <tr>\n",
       "      <th>2573</th>\n",
       "      <td>0.0978</td>\n",
       "      <td>0.9726</td>\n",
       "      <td>11957.0</td>\n",
       "      <td>68200</td>\n",
       "      <td>87700</td>\n",
       "      <td>104000</td>\n",
       "      <td>61398.0</td>\n",
       "      <td>11.552146</td>\n",
       "      <td>0.011182</td>\n",
       "      <td>0.012298</td>\n",
       "      <td>2.085699</td>\n",
       "      <td>2.088471</td>\n",
       "    </tr>\n",
       "    <tr>\n",
       "      <th>3242</th>\n",
       "      <td>0.2549</td>\n",
       "      <td>0.9422</td>\n",
       "      <td>25878.5</td>\n",
       "      <td>83100</td>\n",
       "      <td>84100</td>\n",
       "      <td>102700</td>\n",
       "      <td>59710.0</td>\n",
       "      <td>11.539567</td>\n",
       "      <td>0.006252</td>\n",
       "      <td>0.011726</td>\n",
       "      <td>2.730344</td>\n",
       "      <td>2.737348</td>\n",
       "    </tr>\n",
       "    <tr>\n",
       "      <th>2439</th>\n",
       "      <td>0.3551</td>\n",
       "      <td>0.6996</td>\n",
       "      <td>33000.0</td>\n",
       "      <td>24100</td>\n",
       "      <td>28400</td>\n",
       "      <td>29600</td>\n",
       "      <td>20179.0</td>\n",
       "      <td>10.295530</td>\n",
       "      <td>0.008136</td>\n",
       "      <td>0.010934</td>\n",
       "      <td>-2.309008</td>\n",
       "      <td>-2.312977</td>\n",
       "    </tr>\n",
       "    <tr>\n",
       "      <th>2424</th>\n",
       "      <td>0.2272</td>\n",
       "      <td>0.5296</td>\n",
       "      <td>27776.0</td>\n",
       "      <td>22100</td>\n",
       "      <td>24700</td>\n",
       "      <td>26600</td>\n",
       "      <td>17758.0</td>\n",
       "      <td>10.188666</td>\n",
       "      <td>0.012020</td>\n",
       "      <td>0.009901</td>\n",
       "      <td>-1.804267</td>\n",
       "      <td>-1.805881</td>\n",
       "    </tr>\n",
       "    <tr>\n",
       "      <th>3147</th>\n",
       "      <td>0.7182</td>\n",
       "      <td>0.3313</td>\n",
       "      <td>22500.0</td>\n",
       "      <td>28200</td>\n",
       "      <td>32100</td>\n",
       "      <td>34700</td>\n",
       "      <td>26400.0</td>\n",
       "      <td>10.454495</td>\n",
       "      <td>0.013184</td>\n",
       "      <td>0.009685</td>\n",
       "      <td>1.702830</td>\n",
       "      <td>1.704112</td>\n",
       "    </tr>\n",
       "    <tr>\n",
       "      <th>3011</th>\n",
       "      <td>0.2548</td>\n",
       "      <td>0.7105</td>\n",
       "      <td>27000.0</td>\n",
       "      <td>20900</td>\n",
       "      <td>28600</td>\n",
       "      <td>30400</td>\n",
       "      <td>32485.0</td>\n",
       "      <td>10.322198</td>\n",
       "      <td>0.006210</td>\n",
       "      <td>0.009575</td>\n",
       "      <td>-2.475725</td>\n",
       "      <td>-2.480767</td>\n",
       "    </tr>\n",
       "    <tr>\n",
       "      <th>3703</th>\n",
       "      <td>0.9087</td>\n",
       "      <td>0.4853</td>\n",
       "      <td>18750.0</td>\n",
       "      <td>38800</td>\n",
       "      <td>44300</td>\n",
       "      <td>45700</td>\n",
       "      <td>33668.0</td>\n",
       "      <td>10.729854</td>\n",
       "      <td>0.007864</td>\n",
       "      <td>0.009170</td>\n",
       "      <td>2.151190</td>\n",
       "      <td>2.154286</td>\n",
       "    </tr>\n",
       "    <tr>\n",
       "      <th>1170</th>\n",
       "      <td>0.1173</td>\n",
       "      <td>0.9622</td>\n",
       "      <td>12000.0</td>\n",
       "      <td>56400</td>\n",
       "      <td>78800</td>\n",
       "      <td>97800</td>\n",
       "      <td>60065.0</td>\n",
       "      <td>11.490680</td>\n",
       "      <td>0.010645</td>\n",
       "      <td>0.009001</td>\n",
       "      <td>1.829285</td>\n",
       "      <td>1.830986</td>\n",
       "    </tr>\n",
       "    <tr>\n",
       "      <th>1579</th>\n",
       "      <td>0.4103</td>\n",
       "      <td>0.6762</td>\n",
       "      <td>8748.5</td>\n",
       "      <td>55200</td>\n",
       "      <td>64700</td>\n",
       "      <td>63300</td>\n",
       "      <td>7715.0</td>\n",
       "      <td>11.055641</td>\n",
       "      <td>0.010930</td>\n",
       "      <td>0.008991</td>\n",
       "      <td>1.803981</td>\n",
       "      <td>1.805593</td>\n",
       "    </tr>\n",
       "    <tr>\n",
       "      <th>2942</th>\n",
       "      <td>0.7122</td>\n",
       "      <td>0.5296</td>\n",
       "      <td>39635.0</td>\n",
       "      <td>20600</td>\n",
       "      <td>25700</td>\n",
       "      <td>24200</td>\n",
       "      <td>25050.0</td>\n",
       "      <td>10.094108</td>\n",
       "      <td>0.013451</td>\n",
       "      <td>0.008934</td>\n",
       "      <td>-1.618941</td>\n",
       "      <td>-1.619981</td>\n",
       "    </tr>\n",
       "    <tr>\n",
       "      <th>2711</th>\n",
       "      <td>0.1556</td>\n",
       "      <td>0.9677</td>\n",
       "      <td>11750.0</td>\n",
       "      <td>68400</td>\n",
       "      <td>81700</td>\n",
       "      <td>98400</td>\n",
       "      <td>59572.0</td>\n",
       "      <td>11.496796</td>\n",
       "      <td>0.010200</td>\n",
       "      <td>0.008821</td>\n",
       "      <td>1.850362</td>\n",
       "      <td>1.852141</td>\n",
       "    </tr>\n",
       "  </tbody>\n",
       "</table>\n",
       "</div>"
      ],
      "text/plain": [
       "                                Admission rate for all campuses rolled up to the 6-digit OPE ID  \\\n",
       "6-digit OPE ID for institution                                                                    \n",
       "2155                                                                       0.0584                 \n",
       "2178                                                                       0.0815                 \n",
       "1305                                                                       0.0569                 \n",
       "2246                                                                       0.7263                 \n",
       "1955                                                                       0.3401                 \n",
       "2433                                                                       0.1386                 \n",
       "3378                                                                       0.1224                 \n",
       "2627                                                                       0.0741                 \n",
       "1426                                                                       0.0705                 \n",
       "2920                                                                       0.1342                 \n",
       "1445                                                                       0.1697                 \n",
       "1401                                                                       0.8302                 \n",
       "1685                                                                       0.9299                 \n",
       "2165                                                                       0.8921                 \n",
       "2121                                                                       0.2821                 \n",
       "3151                                                                       0.4934                 \n",
       "1587                                                                       0.4377                 \n",
       "2707                                                                       0.0742                 \n",
       "3663                                                                       0.9862                 \n",
       "2573                                                                       0.0978                 \n",
       "3242                                                                       0.2549                 \n",
       "2439                                                                       0.3551                 \n",
       "2424                                                                       0.2272                 \n",
       "3147                                                                       0.7182                 \n",
       "3011                                                                       0.2548                 \n",
       "3703                                                                       0.9087                 \n",
       "1170                                                                       0.1173                 \n",
       "1579                                                                       0.4103                 \n",
       "2942                                                                       0.7122                 \n",
       "2711                                                                       0.1556                 \n",
       "\n",
       "                                First-time, full-time student retention rate at four-year institutions  \\\n",
       "6-digit OPE ID for institution                                                                           \n",
       "2155                                                                       0.9706                        \n",
       "2178                                                                       0.9788                        \n",
       "1305                                                                       0.9858                        \n",
       "2246                                                                       0.4333                        \n",
       "1955                                                                       0.8107                        \n",
       "2433                                                                       0.6273                        \n",
       "3378                                                                       0.9778                        \n",
       "2627                                                                       0.9757                        \n",
       "1426                                                                       0.9867                        \n",
       "2920                                                                       0.9720                        \n",
       "1445                                                                       0.9598                        \n",
       "1401                                                                       0.3946                        \n",
       "1685                                                                       0.2182                        \n",
       "2165                                                                       0.8890                        \n",
       "2121                                                                       0.9489                        \n",
       "3151                                                                       0.5036                        \n",
       "1587                                                                       0.6763                        \n",
       "2707                                                                       0.9734                        \n",
       "3663                                                                       0.4704                        \n",
       "2573                                                                       0.9726                        \n",
       "3242                                                                       0.9422                        \n",
       "2439                                                                       0.6996                        \n",
       "2424                                                                       0.5296                        \n",
       "3147                                                                       0.3313                        \n",
       "3011                                                                       0.7105                        \n",
       "3703                                                                       0.4853                        \n",
       "1170                                                                       0.9622                        \n",
       "1579                                                                       0.6762                        \n",
       "2942                                                                       0.5296                        \n",
       "2711                                                                       0.9677                        \n",
       "\n",
       "                                The median debt for students who have completed  \\\n",
       "6-digit OPE ID for institution                                                    \n",
       "2155                                                                     6000.0   \n",
       "2178                                                                    13000.0   \n",
       "1305                                                                    11110.0   \n",
       "2246                                                                    23068.5   \n",
       "1955                                                                     5720.0   \n",
       "2433                                                                    22813.0   \n",
       "3378                                                                    14935.0   \n",
       "2627                                                                     8674.0   \n",
       "1426                                                                    11472.0   \n",
       "2920                                                                     6420.5   \n",
       "1445                                                                    17125.0   \n",
       "1401                                                                    23855.0   \n",
       "1685                                                                     7819.0   \n",
       "2165                                                                    25000.0   \n",
       "2121                                                                    27000.0   \n",
       "3151                                                                    20832.0   \n",
       "1587                                                                    37342.5   \n",
       "2707                                                                    18982.5   \n",
       "3663                                                                    16500.0   \n",
       "2573                                                                    11957.0   \n",
       "3242                                                                    25878.5   \n",
       "2439                                                                    33000.0   \n",
       "2424                                                                    27776.0   \n",
       "3147                                                                    22500.0   \n",
       "3011                                                                    27000.0   \n",
       "3703                                                                    18750.0   \n",
       "1170                                                                    12000.0   \n",
       "1579                                                                     8748.5   \n",
       "2942                                                                    39635.0   \n",
       "2711                                                                    11750.0   \n",
       "\n",
       "                                Mean earnings of students working and not enrolled 6 years after entry  \\\n",
       "6-digit OPE ID for institution                                                                           \n",
       "2155                                                                        96800                        \n",
       "2178                                                                       100800                        \n",
       "1305                                                                        95200                        \n",
       "2246                                                                        43700                        \n",
       "1955                                                                        24900                        \n",
       "2433                                                                        19200                        \n",
       "3378                                                                        89000                        \n",
       "2627                                                                        73700                        \n",
       "1426                                                                        74600                        \n",
       "2920                                                                        88200                        \n",
       "1445                                                                        78100                        \n",
       "1401                                                                        34000                        \n",
       "1685                                                                        26700                        \n",
       "2165                                                                        86700                        \n",
       "2121                                                                        75000                        \n",
       "3151                                                                        47500                        \n",
       "1587                                                                        19900                        \n",
       "2707                                                                        79000                        \n",
       "3663                                                                        38600                        \n",
       "2573                                                                        68200                        \n",
       "3242                                                                        83100                        \n",
       "2439                                                                        24100                        \n",
       "2424                                                                        22100                        \n",
       "3147                                                                        28200                        \n",
       "3011                                                                        20900                        \n",
       "3703                                                                        38800                        \n",
       "1170                                                                        56400                        \n",
       "1579                                                                        55200                        \n",
       "2942                                                                        20600                        \n",
       "2711                                                                        68400                        \n",
       "\n",
       "                                Mean earnings of students working and not enrolled 8 years after entry  \\\n",
       "6-digit OPE ID for institution                                                                           \n",
       "2155                                                                       119900                        \n",
       "2178                                                                       130000                        \n",
       "1305                                                                       128700                        \n",
       "2246                                                                        53200                        \n",
       "1955                                                                        30800                        \n",
       "2433                                                                        22500                        \n",
       "3378                                                                       107300                        \n",
       "2627                                                                        88000                        \n",
       "1426                                                                        95200                        \n",
       "2920                                                                       100800                        \n",
       "1445                                                                       101000                        \n",
       "1401                                                                        40500                        \n",
       "1685                                                                        24900                        \n",
       "2165                                                                        98700                        \n",
       "2121                                                                        82400                        \n",
       "3151                                                                        47500                        \n",
       "1587                                                                        24200                        \n",
       "2707                                                                        92300                        \n",
       "3663                                                                        42800                        \n",
       "2573                                                                        87700                        \n",
       "3242                                                                        84100                        \n",
       "2439                                                                        28400                        \n",
       "2424                                                                        24700                        \n",
       "3147                                                                        32100                        \n",
       "3011                                                                        28600                        \n",
       "3703                                                                        44300                        \n",
       "1170                                                                        78800                        \n",
       "1579                                                                        64700                        \n",
       "2942                                                                        25700                        \n",
       "2711                                                                        81700                        \n",
       "\n",
       "                                Mean earnings of students working and not enrolled 10 years after entry  \\\n",
       "6-digit OPE ID for institution                                                                            \n",
       "2155                                                                       136700                         \n",
       "2178                                                                       142100                         \n",
       "1305                                                                       122900                         \n",
       "2246                                                                        54900                         \n",
       "1955                                                                        36100                         \n",
       "2433                                                                        25100                         \n",
       "3378                                                                       123600                         \n",
       "2627                                                                       113900                         \n",
       "1426                                                                       118400                         \n",
       "2920                                                                       108900                         \n",
       "1445                                                                       118900                         \n",
       "1401                                                                        44300                         \n",
       "1685                                                                        28500                         \n",
       "2165                                                                       102700                         \n",
       "2121                                                                       108500                         \n",
       "3151                                                                        55300                         \n",
       "1587                                                                        28400                         \n",
       "2707                                                                       107600                         \n",
       "3663                                                                        44800                         \n",
       "2573                                                                       104000                         \n",
       "3242                                                                       102700                         \n",
       "2439                                                                        29600                         \n",
       "2424                                                                        26600                         \n",
       "3147                                                                        34700                         \n",
       "3011                                                                        30400                         \n",
       "3703                                                                        45700                         \n",
       "1170                                                                        97800                         \n",
       "1579                                                                        63300                         \n",
       "2942                                                                        24200                         \n",
       "2711                                                                        98400                         \n",
       "\n",
       "                                Average cost of attendance (academic year institutions)  \\\n",
       "6-digit OPE ID for institution                                                            \n",
       "2155                                                                      57950.0         \n",
       "2178                                                                      57010.0         \n",
       "1305                                                                      58408.0         \n",
       "2246                                                                      17823.0         \n",
       "1955                                                                      30396.0         \n",
       "2433                                                                      14466.0         \n",
       "3378                                                                      59600.0         \n",
       "2627                                                                      55430.0         \n",
       "1426                                                                      59320.0         \n",
       "2920                                                                      59528.0         \n",
       "1445                                                                      59900.0         \n",
       "1401                                                                      40723.0         \n",
       "1685                                                                      33966.0         \n",
       "2165                                                                      43966.0         \n",
       "2121                                                                      58450.0         \n",
       "3151                                                                      32241.0         \n",
       "1587                                                                      21516.0         \n",
       "2707                                                                      61540.0         \n",
       "3663                                                                      21543.0         \n",
       "2573                                                                      61398.0         \n",
       "3242                                                                      59710.0         \n",
       "2439                                                                      20179.0         \n",
       "2424                                                                      17758.0         \n",
       "3147                                                                      26400.0         \n",
       "3011                                                                      32485.0         \n",
       "3703                                                                      33668.0         \n",
       "1170                                                                      60065.0         \n",
       "1579                                                                       7715.0         \n",
       "2942                                                                      25050.0         \n",
       "2711                                                                      59572.0         \n",
       "\n",
       "                                Nat Log Mean earnings of students working and not enrolled 10 years after entry  \\\n",
       "6-digit OPE ID for institution                                                                                    \n",
       "2155                                                                    11.825544                                 \n",
       "2178                                                                    11.864286                                 \n",
       "1305                                                                    11.719126                                 \n",
       "2246                                                                    10.913269                                 \n",
       "1955                                                                    10.494048                                 \n",
       "2433                                                                    10.130623                                 \n",
       "3378                                                                    11.724806                                 \n",
       "2627                                                                    11.643076                                 \n",
       "1426                                                                    11.681824                                 \n",
       "2920                                                                    11.598185                                 \n",
       "1445                                                                    11.686038                                 \n",
       "1401                                                                    10.698740                                 \n",
       "1685                                                                    10.257659                                 \n",
       "2165                                                                    11.539567                                 \n",
       "2121                                                                    11.594505                                 \n",
       "3151                                                                    10.920528                                 \n",
       "1587                                                                    10.254144                                 \n",
       "2707                                                                    11.586176                                 \n",
       "3663                                                                    10.709963                                 \n",
       "2573                                                                    11.552146                                 \n",
       "3242                                                                    11.539567                                 \n",
       "2439                                                                    10.295530                                 \n",
       "2424                                                                    10.188666                                 \n",
       "3147                                                                    10.454495                                 \n",
       "3011                                                                    10.322198                                 \n",
       "3703                                                                    10.729854                                 \n",
       "1170                                                                    11.490680                                 \n",
       "1579                                                                    11.055641                                 \n",
       "2942                                                                    10.094108                                 \n",
       "2711                                                                    11.496796                                 \n",
       "\n",
       "                                Leverage  Cooks Distance  \\\n",
       "6-digit OPE ID for institution                             \n",
       "2155                            0.017229        0.054756   \n",
       "2178                            0.010965        0.041538   \n",
       "1305                            0.012770        0.027187   \n",
       "2246                            0.007815        0.025152   \n",
       "1955                            0.013268        0.024783   \n",
       "2433                            0.009928        0.024645   \n",
       "3378                            0.009192        0.022937   \n",
       "2627                            0.014251        0.022526   \n",
       "1426                            0.012248        0.022507   \n",
       "2920                            0.015404        0.020123   \n",
       "1445                            0.007301        0.018331   \n",
       "1401                            0.009359        0.017897   \n",
       "1685                            0.034244        0.015797   \n",
       "2165                            0.004364        0.015314   \n",
       "2121                            0.006466        0.015129   \n",
       "3151                            0.007125        0.013795   \n",
       "1587                            0.011370        0.013727   \n",
       "2707                            0.009157        0.013531   \n",
       "3663                            0.010711        0.012850   \n",
       "2573                            0.011182        0.012298   \n",
       "3242                            0.006252        0.011726   \n",
       "2439                            0.008136        0.010934   \n",
       "2424                            0.012020        0.009901   \n",
       "3147                            0.013184        0.009685   \n",
       "3011                            0.006210        0.009575   \n",
       "3703                            0.007864        0.009170   \n",
       "1170                            0.010645        0.009001   \n",
       "1579                            0.010930        0.008991   \n",
       "2942                            0.013451        0.008934   \n",
       "2711                            0.010200        0.008821   \n",
       "\n",
       "                                Standardized Residuals  Studentized Residuals  \n",
       "6-digit OPE ID for institution                                                 \n",
       "2155                                          3.534618               3.550812  \n",
       "2178                                          3.871260               3.892876  \n",
       "1305                                          2.899524               2.908064  \n",
       "2246                                          3.573850               3.590623  \n",
       "1955                                         -2.715215              -2.722091  \n",
       "2433                                         -3.135361              -3.146380  \n",
       "3378                                          3.144769               3.155895  \n",
       "2627                                          2.496466               2.501653  \n",
       "1426                                          2.694454               2.701156  \n",
       "2920                                          2.268207               2.271938  \n",
       "1445                                          3.157509               3.168781  \n",
       "1401                                          2.752676               2.759872  \n",
       "1685                                          1.334939               1.335353  \n",
       "2165                                          3.738168               3.757517  \n",
       "2121                                          3.049384               3.059452  \n",
       "3151                                          2.772956               2.780329  \n",
       "1587                                         -2.184930              -2.188202  \n",
       "2707                                          2.419978               2.424644  \n",
       "3663                                          2.178806               2.182045  \n",
       "2573                                          2.085699               2.088471  \n",
       "3242                                          2.730344               2.737348  \n",
       "2439                                         -2.309008              -2.312977  \n",
       "2424                                         -1.804267              -1.805881  \n",
       "3147                                          1.702830               1.704112  \n",
       "3011                                         -2.475725              -2.480767  \n",
       "3703                                          2.151190               2.154286  \n",
       "1170                                          1.829285               1.830986  \n",
       "1579                                          1.803981               1.805593  \n",
       "2942                                         -1.618941              -1.619981  \n",
       "2711                                          1.850362               1.852141  "
      ]
     },
     "execution_count": 87,
     "metadata": {},
     "output_type": "execute_result"
    }
   ],
   "source": [
    "cooks_df = data.sort_values(\"Cooks Distance\", ascending=False)\n",
    "cooks_df.head(30)"
   ]
  },
  {
   "cell_type": "markdown",
   "metadata": {},
   "source": [
    "#### Remove Outliers from Cook's Distance with values > 0.01"
   ]
  },
  {
   "cell_type": "code",
   "execution_count": 88,
   "metadata": {},
   "outputs": [],
   "source": [
    "data=data.drop([2155,2178,1305,2246,1955,2433,3378,2627,1426,2920,1445,1401,1685,2165,2121,3151,1587,2707,3663,2573,3242,2439], axis=0)"
   ]
  },
  {
   "cell_type": "code",
   "execution_count": 89,
   "metadata": {},
   "outputs": [
    {
     "data": {
      "text/plain": [
       "(1246, 12)"
      ]
     },
     "execution_count": 89,
     "metadata": {},
     "output_type": "execute_result"
    }
   ],
   "source": [
    "data.shape"
   ]
  },
  {
   "cell_type": "code",
   "execution_count": 90,
   "metadata": {},
   "outputs": [
    {
     "data": {
      "text/html": [
       "<div>\n",
       "<style scoped>\n",
       "    .dataframe tbody tr th:only-of-type {\n",
       "        vertical-align: middle;\n",
       "    }\n",
       "\n",
       "    .dataframe tbody tr th {\n",
       "        vertical-align: top;\n",
       "    }\n",
       "\n",
       "    .dataframe thead th {\n",
       "        text-align: right;\n",
       "    }\n",
       "</style>\n",
       "<table border=\"1\" class=\"dataframe\">\n",
       "  <thead>\n",
       "    <tr style=\"text-align: right;\">\n",
       "      <th></th>\n",
       "      <th>Admission rate for all campuses rolled up to the 6-digit OPE ID</th>\n",
       "      <th>First-time, full-time student retention rate at four-year institutions</th>\n",
       "      <th>The median debt for students who have completed</th>\n",
       "      <th>Mean earnings of students working and not enrolled 6 years after entry</th>\n",
       "      <th>Mean earnings of students working and not enrolled 8 years after entry</th>\n",
       "      <th>Mean earnings of students working and not enrolled 10 years after entry</th>\n",
       "      <th>Average cost of attendance (academic year institutions)</th>\n",
       "      <th>Nat Log Mean earnings of students working and not enrolled 10 years after entry</th>\n",
       "      <th>Leverage</th>\n",
       "      <th>Cooks Distance</th>\n",
       "      <th>Standardized Residuals</th>\n",
       "      <th>Studentized Residuals</th>\n",
       "    </tr>\n",
       "    <tr>\n",
       "      <th>6-digit OPE ID for institution</th>\n",
       "      <th></th>\n",
       "      <th></th>\n",
       "      <th></th>\n",
       "      <th></th>\n",
       "      <th></th>\n",
       "      <th></th>\n",
       "      <th></th>\n",
       "      <th></th>\n",
       "      <th></th>\n",
       "      <th></th>\n",
       "      <th></th>\n",
       "      <th></th>\n",
       "    </tr>\n",
       "  </thead>\n",
       "  <tbody>\n",
       "    <tr>\n",
       "      <th>2885</th>\n",
       "      <td>0.634000</td>\n",
       "      <td>0.8097</td>\n",
       "      <td>25000.0</td>\n",
       "      <td>97400</td>\n",
       "      <td>106800</td>\n",
       "      <td>111500</td>\n",
       "      <td>40718.00000</td>\n",
       "      <td>11.621780</td>\n",
       "      <td>0.001150</td>\n",
       "      <td>0.006113</td>\n",
       "      <td>4.608068</td>\n",
       "      <td>4.645430</td>\n",
       "    </tr>\n",
       "    <tr>\n",
       "      <th>2044</th>\n",
       "      <td>0.653600</td>\n",
       "      <td>0.7537</td>\n",
       "      <td>27000.0</td>\n",
       "      <td>80100</td>\n",
       "      <td>92900</td>\n",
       "      <td>100300</td>\n",
       "      <td>23673.00000</td>\n",
       "      <td>11.515921</td>\n",
       "      <td>0.001392</td>\n",
       "      <td>0.007087</td>\n",
       "      <td>4.509787</td>\n",
       "      <td>4.544714</td>\n",
       "    </tr>\n",
       "    <tr>\n",
       "      <th>37243</th>\n",
       "      <td>0.663500</td>\n",
       "      <td>0.7563</td>\n",
       "      <td>27000.0</td>\n",
       "      <td>60400</td>\n",
       "      <td>64800</td>\n",
       "      <td>85700</td>\n",
       "      <td>37848.00000</td>\n",
       "      <td>11.358608</td>\n",
       "      <td>0.001391</td>\n",
       "      <td>0.004467</td>\n",
       "      <td>3.581860</td>\n",
       "      <td>3.598753</td>\n",
       "    </tr>\n",
       "    <tr>\n",
       "      <th>1134</th>\n",
       "      <td>0.748000</td>\n",
       "      <td>0.8214</td>\n",
       "      <td>26000.0</td>\n",
       "      <td>78900</td>\n",
       "      <td>79300</td>\n",
       "      <td>90500</td>\n",
       "      <td>22223.00000</td>\n",
       "      <td>11.413105</td>\n",
       "      <td>0.001809</td>\n",
       "      <td>0.005332</td>\n",
       "      <td>3.430398</td>\n",
       "      <td>3.445115</td>\n",
       "    </tr>\n",
       "    <tr>\n",
       "      <th>2181</th>\n",
       "      <td>0.772600</td>\n",
       "      <td>0.8500</td>\n",
       "      <td>27000.0</td>\n",
       "      <td>70900</td>\n",
       "      <td>83200</td>\n",
       "      <td>87900</td>\n",
       "      <td>22420.00000</td>\n",
       "      <td>11.383955</td>\n",
       "      <td>0.002665</td>\n",
       "      <td>0.006329</td>\n",
       "      <td>3.077687</td>\n",
       "      <td>3.088062</td>\n",
       "    </tr>\n",
       "    <tr>\n",
       "      <th>3353</th>\n",
       "      <td>0.563500</td>\n",
       "      <td>0.8799</td>\n",
       "      <td>27000.0</td>\n",
       "      <td>73400</td>\n",
       "      <td>86200</td>\n",
       "      <td>91100</td>\n",
       "      <td>49327.00000</td>\n",
       "      <td>11.419713</td>\n",
       "      <td>0.002664</td>\n",
       "      <td>0.005414</td>\n",
       "      <td>2.847480</td>\n",
       "      <td>2.855527</td>\n",
       "    </tr>\n",
       "    <tr>\n",
       "      <th>2853</th>\n",
       "      <td>0.639600</td>\n",
       "      <td>0.7933</td>\n",
       "      <td>26940.5</td>\n",
       "      <td>63400</td>\n",
       "      <td>67500</td>\n",
       "      <td>79700</td>\n",
       "      <td>21493.00000</td>\n",
       "      <td>11.286025</td>\n",
       "      <td>0.001527</td>\n",
       "      <td>0.003077</td>\n",
       "      <td>2.836658</td>\n",
       "      <td>2.844604</td>\n",
       "    </tr>\n",
       "    <tr>\n",
       "      <th>2001</th>\n",
       "      <td>0.877500</td>\n",
       "      <td>0.5977</td>\n",
       "      <td>27000.0</td>\n",
       "      <td>46600</td>\n",
       "      <td>51700</td>\n",
       "      <td>54500</td>\n",
       "      <td>36843.00000</td>\n",
       "      <td>10.905956</td>\n",
       "      <td>0.003269</td>\n",
       "      <td>0.004841</td>\n",
       "      <td>2.429751</td>\n",
       "      <td>2.434482</td>\n",
       "    </tr>\n",
       "    <tr>\n",
       "      <th>1329</th>\n",
       "      <td>0.726500</td>\n",
       "      <td>0.8656</td>\n",
       "      <td>24500.0</td>\n",
       "      <td>61600</td>\n",
       "      <td>74500</td>\n",
       "      <td>81400</td>\n",
       "      <td>52406.00000</td>\n",
       "      <td>11.307131</td>\n",
       "      <td>0.002058</td>\n",
       "      <td>0.002971</td>\n",
       "      <td>2.400778</td>\n",
       "      <td>2.405318</td>\n",
       "    </tr>\n",
       "    <tr>\n",
       "      <th>1479</th>\n",
       "      <td>0.781387</td>\n",
       "      <td>0.7410</td>\n",
       "      <td>23750.0</td>\n",
       "      <td>49300</td>\n",
       "      <td>59500</td>\n",
       "      <td>67200</td>\n",
       "      <td>37269.33333</td>\n",
       "      <td>11.115429</td>\n",
       "      <td>0.001232</td>\n",
       "      <td>0.001664</td>\n",
       "      <td>2.323247</td>\n",
       "      <td>2.327302</td>\n",
       "    </tr>\n",
       "  </tbody>\n",
       "</table>\n",
       "</div>"
      ],
      "text/plain": [
       "                                Admission rate for all campuses rolled up to the 6-digit OPE ID  \\\n",
       "6-digit OPE ID for institution                                                                    \n",
       "2885                                                                     0.634000                 \n",
       "2044                                                                     0.653600                 \n",
       "37243                                                                    0.663500                 \n",
       "1134                                                                     0.748000                 \n",
       "2181                                                                     0.772600                 \n",
       "3353                                                                     0.563500                 \n",
       "2853                                                                     0.639600                 \n",
       "2001                                                                     0.877500                 \n",
       "1329                                                                     0.726500                 \n",
       "1479                                                                     0.781387                 \n",
       "\n",
       "                                First-time, full-time student retention rate at four-year institutions  \\\n",
       "6-digit OPE ID for institution                                                                           \n",
       "2885                                                                       0.8097                        \n",
       "2044                                                                       0.7537                        \n",
       "37243                                                                      0.7563                        \n",
       "1134                                                                       0.8214                        \n",
       "2181                                                                       0.8500                        \n",
       "3353                                                                       0.8799                        \n",
       "2853                                                                       0.7933                        \n",
       "2001                                                                       0.5977                        \n",
       "1329                                                                       0.8656                        \n",
       "1479                                                                       0.7410                        \n",
       "\n",
       "                                The median debt for students who have completed  \\\n",
       "6-digit OPE ID for institution                                                    \n",
       "2885                                                                    25000.0   \n",
       "2044                                                                    27000.0   \n",
       "37243                                                                   27000.0   \n",
       "1134                                                                    26000.0   \n",
       "2181                                                                    27000.0   \n",
       "3353                                                                    27000.0   \n",
       "2853                                                                    26940.5   \n",
       "2001                                                                    27000.0   \n",
       "1329                                                                    24500.0   \n",
       "1479                                                                    23750.0   \n",
       "\n",
       "                                Mean earnings of students working and not enrolled 6 years after entry  \\\n",
       "6-digit OPE ID for institution                                                                           \n",
       "2885                                                                        97400                        \n",
       "2044                                                                        80100                        \n",
       "37243                                                                       60400                        \n",
       "1134                                                                        78900                        \n",
       "2181                                                                        70900                        \n",
       "3353                                                                        73400                        \n",
       "2853                                                                        63400                        \n",
       "2001                                                                        46600                        \n",
       "1329                                                                        61600                        \n",
       "1479                                                                        49300                        \n",
       "\n",
       "                                Mean earnings of students working and not enrolled 8 years after entry  \\\n",
       "6-digit OPE ID for institution                                                                           \n",
       "2885                                                                       106800                        \n",
       "2044                                                                        92900                        \n",
       "37243                                                                       64800                        \n",
       "1134                                                                        79300                        \n",
       "2181                                                                        83200                        \n",
       "3353                                                                        86200                        \n",
       "2853                                                                        67500                        \n",
       "2001                                                                        51700                        \n",
       "1329                                                                        74500                        \n",
       "1479                                                                        59500                        \n",
       "\n",
       "                                Mean earnings of students working and not enrolled 10 years after entry  \\\n",
       "6-digit OPE ID for institution                                                                            \n",
       "2885                                                                       111500                         \n",
       "2044                                                                       100300                         \n",
       "37243                                                                       85700                         \n",
       "1134                                                                        90500                         \n",
       "2181                                                                        87900                         \n",
       "3353                                                                        91100                         \n",
       "2853                                                                        79700                         \n",
       "2001                                                                        54500                         \n",
       "1329                                                                        81400                         \n",
       "1479                                                                        67200                         \n",
       "\n",
       "                                Average cost of attendance (academic year institutions)  \\\n",
       "6-digit OPE ID for institution                                                            \n",
       "2885                                                                  40718.00000         \n",
       "2044                                                                  23673.00000         \n",
       "37243                                                                 37848.00000         \n",
       "1134                                                                  22223.00000         \n",
       "2181                                                                  22420.00000         \n",
       "3353                                                                  49327.00000         \n",
       "2853                                                                  21493.00000         \n",
       "2001                                                                  36843.00000         \n",
       "1329                                                                  52406.00000         \n",
       "1479                                                                  37269.33333         \n",
       "\n",
       "                                Nat Log Mean earnings of students working and not enrolled 10 years after entry  \\\n",
       "6-digit OPE ID for institution                                                                                    \n",
       "2885                                                                    11.621780                                 \n",
       "2044                                                                    11.515921                                 \n",
       "37243                                                                   11.358608                                 \n",
       "1134                                                                    11.413105                                 \n",
       "2181                                                                    11.383955                                 \n",
       "3353                                                                    11.419713                                 \n",
       "2853                                                                    11.286025                                 \n",
       "2001                                                                    10.905956                                 \n",
       "1329                                                                    11.307131                                 \n",
       "1479                                                                    11.115429                                 \n",
       "\n",
       "                                Leverage  Cooks Distance  \\\n",
       "6-digit OPE ID for institution                             \n",
       "2885                            0.001150        0.006113   \n",
       "2044                            0.001392        0.007087   \n",
       "37243                           0.001391        0.004467   \n",
       "1134                            0.001809        0.005332   \n",
       "2181                            0.002665        0.006329   \n",
       "3353                            0.002664        0.005414   \n",
       "2853                            0.001527        0.003077   \n",
       "2001                            0.003269        0.004841   \n",
       "1329                            0.002058        0.002971   \n",
       "1479                            0.001232        0.001664   \n",
       "\n",
       "                                Standardized Residuals  Studentized Residuals  \n",
       "6-digit OPE ID for institution                                                 \n",
       "2885                                          4.608068               4.645430  \n",
       "2044                                          4.509787               4.544714  \n",
       "37243                                         3.581860               3.598753  \n",
       "1134                                          3.430398               3.445115  \n",
       "2181                                          3.077687               3.088062  \n",
       "3353                                          2.847480               2.855527  \n",
       "2853                                          2.836658               2.844604  \n",
       "2001                                          2.429751               2.434482  \n",
       "1329                                          2.400778               2.405318  \n",
       "1479                                          2.323247               2.327302  "
      ]
     },
     "execution_count": 90,
     "metadata": {},
     "output_type": "execute_result"
    }
   ],
   "source": [
    "studentized_df = data.sort_values(\"Studentized Residuals\", ascending=False)\n",
    "studentized_df.head(10)"
   ]
  },
  {
   "cell_type": "code",
   "execution_count": 91,
   "metadata": {},
   "outputs": [
    {
     "data": {
      "text/plain": [
       "(1246, 12)"
      ]
     },
     "execution_count": 91,
     "metadata": {},
     "output_type": "execute_result"
    }
   ],
   "source": [
    "studentized_df.shape"
   ]
  },
  {
   "cell_type": "markdown",
   "metadata": {},
   "source": [
    "#### Remove Outliers from Studentized Residuals with values > 3"
   ]
  },
  {
   "cell_type": "code",
   "execution_count": 92,
   "metadata": {},
   "outputs": [],
   "source": [
    "data=data.drop([2885,2044,37243,1134,2181], axis=0)"
   ]
  },
  {
   "cell_type": "code",
   "execution_count": 93,
   "metadata": {},
   "outputs": [
    {
     "data": {
      "text/plain": [
       "(1241, 12)"
      ]
     },
     "execution_count": 93,
     "metadata": {},
     "output_type": "execute_result"
    }
   ],
   "source": [
    "data.shape"
   ]
  },
  {
   "cell_type": "code",
   "execution_count": 94,
   "metadata": {},
   "outputs": [
    {
     "data": {
      "text/html": [
       "<div>\n",
       "<style scoped>\n",
       "    .dataframe tbody tr th:only-of-type {\n",
       "        vertical-align: middle;\n",
       "    }\n",
       "\n",
       "    .dataframe tbody tr th {\n",
       "        vertical-align: top;\n",
       "    }\n",
       "\n",
       "    .dataframe thead th {\n",
       "        text-align: right;\n",
       "    }\n",
       "</style>\n",
       "<table border=\"1\" class=\"dataframe\">\n",
       "  <thead>\n",
       "    <tr style=\"text-align: right;\">\n",
       "      <th></th>\n",
       "      <th>Admission rate for all campuses rolled up to the 6-digit OPE ID</th>\n",
       "      <th>First-time, full-time student retention rate at four-year institutions</th>\n",
       "      <th>The median debt for students who have completed</th>\n",
       "      <th>Mean earnings of students working and not enrolled 6 years after entry</th>\n",
       "      <th>Mean earnings of students working and not enrolled 8 years after entry</th>\n",
       "      <th>Mean earnings of students working and not enrolled 10 years after entry</th>\n",
       "      <th>Average cost of attendance (academic year institutions)</th>\n",
       "      <th>Nat Log Mean earnings of students working and not enrolled 10 years after entry</th>\n",
       "      <th>Leverage</th>\n",
       "      <th>Cooks Distance</th>\n",
       "      <th>Standardized Residuals</th>\n",
       "      <th>Studentized Residuals</th>\n",
       "    </tr>\n",
       "    <tr>\n",
       "      <th>6-digit OPE ID for institution</th>\n",
       "      <th></th>\n",
       "      <th></th>\n",
       "      <th></th>\n",
       "      <th></th>\n",
       "      <th></th>\n",
       "      <th></th>\n",
       "      <th></th>\n",
       "      <th></th>\n",
       "      <th></th>\n",
       "      <th></th>\n",
       "      <th></th>\n",
       "      <th></th>\n",
       "    </tr>\n",
       "  </thead>\n",
       "  <tbody>\n",
       "    <tr>\n",
       "      <th>2424</th>\n",
       "      <td>0.2272</td>\n",
       "      <td>0.5296</td>\n",
       "      <td>27776.0</td>\n",
       "      <td>22100</td>\n",
       "      <td>24700</td>\n",
       "      <td>26600</td>\n",
       "      <td>17758.0</td>\n",
       "      <td>10.188666</td>\n",
       "      <td>0.012020</td>\n",
       "      <td>0.009901</td>\n",
       "      <td>-1.804267</td>\n",
       "      <td>-1.805881</td>\n",
       "    </tr>\n",
       "    <tr>\n",
       "      <th>3147</th>\n",
       "      <td>0.7182</td>\n",
       "      <td>0.3313</td>\n",
       "      <td>22500.0</td>\n",
       "      <td>28200</td>\n",
       "      <td>32100</td>\n",
       "      <td>34700</td>\n",
       "      <td>26400.0</td>\n",
       "      <td>10.454495</td>\n",
       "      <td>0.013184</td>\n",
       "      <td>0.009685</td>\n",
       "      <td>1.702830</td>\n",
       "      <td>1.704112</td>\n",
       "    </tr>\n",
       "    <tr>\n",
       "      <th>3011</th>\n",
       "      <td>0.2548</td>\n",
       "      <td>0.7105</td>\n",
       "      <td>27000.0</td>\n",
       "      <td>20900</td>\n",
       "      <td>28600</td>\n",
       "      <td>30400</td>\n",
       "      <td>32485.0</td>\n",
       "      <td>10.322198</td>\n",
       "      <td>0.006210</td>\n",
       "      <td>0.009575</td>\n",
       "      <td>-2.475725</td>\n",
       "      <td>-2.480767</td>\n",
       "    </tr>\n",
       "    <tr>\n",
       "      <th>3703</th>\n",
       "      <td>0.9087</td>\n",
       "      <td>0.4853</td>\n",
       "      <td>18750.0</td>\n",
       "      <td>38800</td>\n",
       "      <td>44300</td>\n",
       "      <td>45700</td>\n",
       "      <td>33668.0</td>\n",
       "      <td>10.729854</td>\n",
       "      <td>0.007864</td>\n",
       "      <td>0.009170</td>\n",
       "      <td>2.151190</td>\n",
       "      <td>2.154286</td>\n",
       "    </tr>\n",
       "    <tr>\n",
       "      <th>1170</th>\n",
       "      <td>0.1173</td>\n",
       "      <td>0.9622</td>\n",
       "      <td>12000.0</td>\n",
       "      <td>56400</td>\n",
       "      <td>78800</td>\n",
       "      <td>97800</td>\n",
       "      <td>60065.0</td>\n",
       "      <td>11.490680</td>\n",
       "      <td>0.010645</td>\n",
       "      <td>0.009001</td>\n",
       "      <td>1.829285</td>\n",
       "      <td>1.830986</td>\n",
       "    </tr>\n",
       "    <tr>\n",
       "      <th>1579</th>\n",
       "      <td>0.4103</td>\n",
       "      <td>0.6762</td>\n",
       "      <td>8748.5</td>\n",
       "      <td>55200</td>\n",
       "      <td>64700</td>\n",
       "      <td>63300</td>\n",
       "      <td>7715.0</td>\n",
       "      <td>11.055641</td>\n",
       "      <td>0.010930</td>\n",
       "      <td>0.008991</td>\n",
       "      <td>1.803981</td>\n",
       "      <td>1.805593</td>\n",
       "    </tr>\n",
       "    <tr>\n",
       "      <th>2942</th>\n",
       "      <td>0.7122</td>\n",
       "      <td>0.5296</td>\n",
       "      <td>39635.0</td>\n",
       "      <td>20600</td>\n",
       "      <td>25700</td>\n",
       "      <td>24200</td>\n",
       "      <td>25050.0</td>\n",
       "      <td>10.094108</td>\n",
       "      <td>0.013451</td>\n",
       "      <td>0.008934</td>\n",
       "      <td>-1.618941</td>\n",
       "      <td>-1.619981</td>\n",
       "    </tr>\n",
       "    <tr>\n",
       "      <th>2711</th>\n",
       "      <td>0.1556</td>\n",
       "      <td>0.9677</td>\n",
       "      <td>11750.0</td>\n",
       "      <td>68400</td>\n",
       "      <td>81700</td>\n",
       "      <td>98400</td>\n",
       "      <td>59572.0</td>\n",
       "      <td>11.496796</td>\n",
       "      <td>0.010200</td>\n",
       "      <td>0.008821</td>\n",
       "      <td>1.850362</td>\n",
       "      <td>1.852141</td>\n",
       "    </tr>\n",
       "    <tr>\n",
       "      <th>12580</th>\n",
       "      <td>0.9886</td>\n",
       "      <td>0.8125</td>\n",
       "      <td>23890.0</td>\n",
       "      <td>27000</td>\n",
       "      <td>31200</td>\n",
       "      <td>29700</td>\n",
       "      <td>28581.0</td>\n",
       "      <td>10.298902</td>\n",
       "      <td>0.004398</td>\n",
       "      <td>0.008755</td>\n",
       "      <td>-2.815434</td>\n",
       "      <td>-2.823187</td>\n",
       "    </tr>\n",
       "    <tr>\n",
       "      <th>1347</th>\n",
       "      <td>0.2228</td>\n",
       "      <td>0.9608</td>\n",
       "      <td>17703.0</td>\n",
       "      <td>34800</td>\n",
       "      <td>38800</td>\n",
       "      <td>46000</td>\n",
       "      <td>54200.0</td>\n",
       "      <td>10.736397</td>\n",
       "      <td>0.006294</td>\n",
       "      <td>0.008620</td>\n",
       "      <td>-2.333138</td>\n",
       "      <td>-2.337253</td>\n",
       "    </tr>\n",
       "  </tbody>\n",
       "</table>\n",
       "</div>"
      ],
      "text/plain": [
       "                                Admission rate for all campuses rolled up to the 6-digit OPE ID  \\\n",
       "6-digit OPE ID for institution                                                                    \n",
       "2424                                                                       0.2272                 \n",
       "3147                                                                       0.7182                 \n",
       "3011                                                                       0.2548                 \n",
       "3703                                                                       0.9087                 \n",
       "1170                                                                       0.1173                 \n",
       "1579                                                                       0.4103                 \n",
       "2942                                                                       0.7122                 \n",
       "2711                                                                       0.1556                 \n",
       "12580                                                                      0.9886                 \n",
       "1347                                                                       0.2228                 \n",
       "\n",
       "                                First-time, full-time student retention rate at four-year institutions  \\\n",
       "6-digit OPE ID for institution                                                                           \n",
       "2424                                                                       0.5296                        \n",
       "3147                                                                       0.3313                        \n",
       "3011                                                                       0.7105                        \n",
       "3703                                                                       0.4853                        \n",
       "1170                                                                       0.9622                        \n",
       "1579                                                                       0.6762                        \n",
       "2942                                                                       0.5296                        \n",
       "2711                                                                       0.9677                        \n",
       "12580                                                                      0.8125                        \n",
       "1347                                                                       0.9608                        \n",
       "\n",
       "                                The median debt for students who have completed  \\\n",
       "6-digit OPE ID for institution                                                    \n",
       "2424                                                                    27776.0   \n",
       "3147                                                                    22500.0   \n",
       "3011                                                                    27000.0   \n",
       "3703                                                                    18750.0   \n",
       "1170                                                                    12000.0   \n",
       "1579                                                                     8748.5   \n",
       "2942                                                                    39635.0   \n",
       "2711                                                                    11750.0   \n",
       "12580                                                                   23890.0   \n",
       "1347                                                                    17703.0   \n",
       "\n",
       "                                Mean earnings of students working and not enrolled 6 years after entry  \\\n",
       "6-digit OPE ID for institution                                                                           \n",
       "2424                                                                        22100                        \n",
       "3147                                                                        28200                        \n",
       "3011                                                                        20900                        \n",
       "3703                                                                        38800                        \n",
       "1170                                                                        56400                        \n",
       "1579                                                                        55200                        \n",
       "2942                                                                        20600                        \n",
       "2711                                                                        68400                        \n",
       "12580                                                                       27000                        \n",
       "1347                                                                        34800                        \n",
       "\n",
       "                                Mean earnings of students working and not enrolled 8 years after entry  \\\n",
       "6-digit OPE ID for institution                                                                           \n",
       "2424                                                                        24700                        \n",
       "3147                                                                        32100                        \n",
       "3011                                                                        28600                        \n",
       "3703                                                                        44300                        \n",
       "1170                                                                        78800                        \n",
       "1579                                                                        64700                        \n",
       "2942                                                                        25700                        \n",
       "2711                                                                        81700                        \n",
       "12580                                                                       31200                        \n",
       "1347                                                                        38800                        \n",
       "\n",
       "                                Mean earnings of students working and not enrolled 10 years after entry  \\\n",
       "6-digit OPE ID for institution                                                                            \n",
       "2424                                                                        26600                         \n",
       "3147                                                                        34700                         \n",
       "3011                                                                        30400                         \n",
       "3703                                                                        45700                         \n",
       "1170                                                                        97800                         \n",
       "1579                                                                        63300                         \n",
       "2942                                                                        24200                         \n",
       "2711                                                                        98400                         \n",
       "12580                                                                       29700                         \n",
       "1347                                                                        46000                         \n",
       "\n",
       "                                Average cost of attendance (academic year institutions)  \\\n",
       "6-digit OPE ID for institution                                                            \n",
       "2424                                                                      17758.0         \n",
       "3147                                                                      26400.0         \n",
       "3011                                                                      32485.0         \n",
       "3703                                                                      33668.0         \n",
       "1170                                                                      60065.0         \n",
       "1579                                                                       7715.0         \n",
       "2942                                                                      25050.0         \n",
       "2711                                                                      59572.0         \n",
       "12580                                                                     28581.0         \n",
       "1347                                                                      54200.0         \n",
       "\n",
       "                                Nat Log Mean earnings of students working and not enrolled 10 years after entry  \\\n",
       "6-digit OPE ID for institution                                                                                    \n",
       "2424                                                                    10.188666                                 \n",
       "3147                                                                    10.454495                                 \n",
       "3011                                                                    10.322198                                 \n",
       "3703                                                                    10.729854                                 \n",
       "1170                                                                    11.490680                                 \n",
       "1579                                                                    11.055641                                 \n",
       "2942                                                                    10.094108                                 \n",
       "2711                                                                    11.496796                                 \n",
       "12580                                                                   10.298902                                 \n",
       "1347                                                                    10.736397                                 \n",
       "\n",
       "                                Leverage  Cooks Distance  \\\n",
       "6-digit OPE ID for institution                             \n",
       "2424                            0.012020        0.009901   \n",
       "3147                            0.013184        0.009685   \n",
       "3011                            0.006210        0.009575   \n",
       "3703                            0.007864        0.009170   \n",
       "1170                            0.010645        0.009001   \n",
       "1579                            0.010930        0.008991   \n",
       "2942                            0.013451        0.008934   \n",
       "2711                            0.010200        0.008821   \n",
       "12580                           0.004398        0.008755   \n",
       "1347                            0.006294        0.008620   \n",
       "\n",
       "                                Standardized Residuals  Studentized Residuals  \n",
       "6-digit OPE ID for institution                                                 \n",
       "2424                                         -1.804267              -1.805881  \n",
       "3147                                          1.702830               1.704112  \n",
       "3011                                         -2.475725              -2.480767  \n",
       "3703                                          2.151190               2.154286  \n",
       "1170                                          1.829285               1.830986  \n",
       "1579                                          1.803981               1.805593  \n",
       "2942                                         -1.618941              -1.619981  \n",
       "2711                                          1.850362               1.852141  \n",
       "12580                                        -2.815434              -2.823187  \n",
       "1347                                         -2.333138              -2.337253  "
      ]
     },
     "execution_count": 94,
     "metadata": {},
     "output_type": "execute_result"
    }
   ],
   "source": [
    "cooks_df2 = data.sort_values(\"Cooks Distance\", ascending=False)\n",
    "cooks_df2.head(10)"
   ]
  },
  {
   "cell_type": "code",
   "execution_count": 95,
   "metadata": {},
   "outputs": [
    {
     "data": {
      "text/html": [
       "<div>\n",
       "<style scoped>\n",
       "    .dataframe tbody tr th:only-of-type {\n",
       "        vertical-align: middle;\n",
       "    }\n",
       "\n",
       "    .dataframe tbody tr th {\n",
       "        vertical-align: top;\n",
       "    }\n",
       "\n",
       "    .dataframe thead th {\n",
       "        text-align: right;\n",
       "    }\n",
       "</style>\n",
       "<table border=\"1\" class=\"dataframe\">\n",
       "  <thead>\n",
       "    <tr style=\"text-align: right;\">\n",
       "      <th></th>\n",
       "      <th>Admission rate for all campuses rolled up to the 6-digit OPE ID</th>\n",
       "      <th>First-time, full-time student retention rate at four-year institutions</th>\n",
       "      <th>The median debt for students who have completed</th>\n",
       "      <th>Mean earnings of students working and not enrolled 6 years after entry</th>\n",
       "      <th>Mean earnings of students working and not enrolled 8 years after entry</th>\n",
       "      <th>Mean earnings of students working and not enrolled 10 years after entry</th>\n",
       "      <th>Average cost of attendance (academic year institutions)</th>\n",
       "      <th>Nat Log Mean earnings of students working and not enrolled 10 years after entry</th>\n",
       "      <th>Leverage</th>\n",
       "      <th>Cooks Distance</th>\n",
       "      <th>Standardized Residuals</th>\n",
       "      <th>Studentized Residuals</th>\n",
       "    </tr>\n",
       "    <tr>\n",
       "      <th>6-digit OPE ID for institution</th>\n",
       "      <th></th>\n",
       "      <th></th>\n",
       "      <th></th>\n",
       "      <th></th>\n",
       "      <th></th>\n",
       "      <th></th>\n",
       "      <th></th>\n",
       "      <th></th>\n",
       "      <th></th>\n",
       "      <th></th>\n",
       "      <th></th>\n",
       "      <th></th>\n",
       "    </tr>\n",
       "  </thead>\n",
       "  <tbody>\n",
       "    <tr>\n",
       "      <th>3353</th>\n",
       "      <td>0.563500</td>\n",
       "      <td>0.8799</td>\n",
       "      <td>27000.0</td>\n",
       "      <td>73400</td>\n",
       "      <td>86200</td>\n",
       "      <td>91100</td>\n",
       "      <td>49327.00000</td>\n",
       "      <td>11.419713</td>\n",
       "      <td>0.002664</td>\n",
       "      <td>0.005414</td>\n",
       "      <td>2.847480</td>\n",
       "      <td>2.855527</td>\n",
       "    </tr>\n",
       "    <tr>\n",
       "      <th>2853</th>\n",
       "      <td>0.639600</td>\n",
       "      <td>0.7933</td>\n",
       "      <td>26940.5</td>\n",
       "      <td>63400</td>\n",
       "      <td>67500</td>\n",
       "      <td>79700</td>\n",
       "      <td>21493.00000</td>\n",
       "      <td>11.286025</td>\n",
       "      <td>0.001527</td>\n",
       "      <td>0.003077</td>\n",
       "      <td>2.836658</td>\n",
       "      <td>2.844604</td>\n",
       "    </tr>\n",
       "    <tr>\n",
       "      <th>2001</th>\n",
       "      <td>0.877500</td>\n",
       "      <td>0.5977</td>\n",
       "      <td>27000.0</td>\n",
       "      <td>46600</td>\n",
       "      <td>51700</td>\n",
       "      <td>54500</td>\n",
       "      <td>36843.00000</td>\n",
       "      <td>10.905956</td>\n",
       "      <td>0.003269</td>\n",
       "      <td>0.004841</td>\n",
       "      <td>2.429751</td>\n",
       "      <td>2.434482</td>\n",
       "    </tr>\n",
       "    <tr>\n",
       "      <th>1329</th>\n",
       "      <td>0.726500</td>\n",
       "      <td>0.8656</td>\n",
       "      <td>24500.0</td>\n",
       "      <td>61600</td>\n",
       "      <td>74500</td>\n",
       "      <td>81400</td>\n",
       "      <td>52406.00000</td>\n",
       "      <td>11.307131</td>\n",
       "      <td>0.002058</td>\n",
       "      <td>0.002971</td>\n",
       "      <td>2.400778</td>\n",
       "      <td>2.405318</td>\n",
       "    </tr>\n",
       "    <tr>\n",
       "      <th>1479</th>\n",
       "      <td>0.781387</td>\n",
       "      <td>0.7410</td>\n",
       "      <td>23750.0</td>\n",
       "      <td>49300</td>\n",
       "      <td>59500</td>\n",
       "      <td>67200</td>\n",
       "      <td>37269.33333</td>\n",
       "      <td>11.115429</td>\n",
       "      <td>0.001232</td>\n",
       "      <td>0.001664</td>\n",
       "      <td>2.323247</td>\n",
       "      <td>2.327302</td>\n",
       "    </tr>\n",
       "    <tr>\n",
       "      <th>1468</th>\n",
       "      <td>0.878500</td>\n",
       "      <td>0.6184</td>\n",
       "      <td>20471.0</td>\n",
       "      <td>43700</td>\n",
       "      <td>51200</td>\n",
       "      <td>56400</td>\n",
       "      <td>37090.00000</td>\n",
       "      <td>10.940224</td>\n",
       "      <td>0.003489</td>\n",
       "      <td>0.004669</td>\n",
       "      <td>2.309421</td>\n",
       "      <td>2.313393</td>\n",
       "    </tr>\n",
       "    <tr>\n",
       "      <th>1348</th>\n",
       "      <td>0.374300</td>\n",
       "      <td>0.9189</td>\n",
       "      <td>26000.0</td>\n",
       "      <td>72900</td>\n",
       "      <td>80400</td>\n",
       "      <td>90500</td>\n",
       "      <td>29091.00000</td>\n",
       "      <td>11.413105</td>\n",
       "      <td>0.004234</td>\n",
       "      <td>0.005593</td>\n",
       "      <td>2.293817</td>\n",
       "      <td>2.297697</td>\n",
       "    </tr>\n",
       "    <tr>\n",
       "      <th>2782</th>\n",
       "      <td>0.740700</td>\n",
       "      <td>0.7208</td>\n",
       "      <td>25000.0</td>\n",
       "      <td>48000</td>\n",
       "      <td>55400</td>\n",
       "      <td>64900</td>\n",
       "      <td>39014.00000</td>\n",
       "      <td>11.080603</td>\n",
       "      <td>0.001116</td>\n",
       "      <td>0.001445</td>\n",
       "      <td>2.274514</td>\n",
       "      <td>2.278282</td>\n",
       "    </tr>\n",
       "    <tr>\n",
       "      <th>3256</th>\n",
       "      <td>0.815000</td>\n",
       "      <td>0.8644</td>\n",
       "      <td>25556.0</td>\n",
       "      <td>54300</td>\n",
       "      <td>64300</td>\n",
       "      <td>77400</td>\n",
       "      <td>53831.00000</td>\n",
       "      <td>11.256742</td>\n",
       "      <td>0.002939</td>\n",
       "      <td>0.003652</td>\n",
       "      <td>2.226141</td>\n",
       "      <td>2.229636</td>\n",
       "    </tr>\n",
       "    <tr>\n",
       "      <th>4508</th>\n",
       "      <td>0.758700</td>\n",
       "      <td>0.7521</td>\n",
       "      <td>20500.0</td>\n",
       "      <td>46200</td>\n",
       "      <td>58400</td>\n",
       "      <td>68200</td>\n",
       "      <td>18822.00000</td>\n",
       "      <td>11.130200</td>\n",
       "      <td>0.001489</td>\n",
       "      <td>0.001841</td>\n",
       "      <td>2.221993</td>\n",
       "      <td>2.225464</td>\n",
       "    </tr>\n",
       "  </tbody>\n",
       "</table>\n",
       "</div>"
      ],
      "text/plain": [
       "                                Admission rate for all campuses rolled up to the 6-digit OPE ID  \\\n",
       "6-digit OPE ID for institution                                                                    \n",
       "3353                                                                     0.563500                 \n",
       "2853                                                                     0.639600                 \n",
       "2001                                                                     0.877500                 \n",
       "1329                                                                     0.726500                 \n",
       "1479                                                                     0.781387                 \n",
       "1468                                                                     0.878500                 \n",
       "1348                                                                     0.374300                 \n",
       "2782                                                                     0.740700                 \n",
       "3256                                                                     0.815000                 \n",
       "4508                                                                     0.758700                 \n",
       "\n",
       "                                First-time, full-time student retention rate at four-year institutions  \\\n",
       "6-digit OPE ID for institution                                                                           \n",
       "3353                                                                       0.8799                        \n",
       "2853                                                                       0.7933                        \n",
       "2001                                                                       0.5977                        \n",
       "1329                                                                       0.8656                        \n",
       "1479                                                                       0.7410                        \n",
       "1468                                                                       0.6184                        \n",
       "1348                                                                       0.9189                        \n",
       "2782                                                                       0.7208                        \n",
       "3256                                                                       0.8644                        \n",
       "4508                                                                       0.7521                        \n",
       "\n",
       "                                The median debt for students who have completed  \\\n",
       "6-digit OPE ID for institution                                                    \n",
       "3353                                                                    27000.0   \n",
       "2853                                                                    26940.5   \n",
       "2001                                                                    27000.0   \n",
       "1329                                                                    24500.0   \n",
       "1479                                                                    23750.0   \n",
       "1468                                                                    20471.0   \n",
       "1348                                                                    26000.0   \n",
       "2782                                                                    25000.0   \n",
       "3256                                                                    25556.0   \n",
       "4508                                                                    20500.0   \n",
       "\n",
       "                                Mean earnings of students working and not enrolled 6 years after entry  \\\n",
       "6-digit OPE ID for institution                                                                           \n",
       "3353                                                                        73400                        \n",
       "2853                                                                        63400                        \n",
       "2001                                                                        46600                        \n",
       "1329                                                                        61600                        \n",
       "1479                                                                        49300                        \n",
       "1468                                                                        43700                        \n",
       "1348                                                                        72900                        \n",
       "2782                                                                        48000                        \n",
       "3256                                                                        54300                        \n",
       "4508                                                                        46200                        \n",
       "\n",
       "                                Mean earnings of students working and not enrolled 8 years after entry  \\\n",
       "6-digit OPE ID for institution                                                                           \n",
       "3353                                                                        86200                        \n",
       "2853                                                                        67500                        \n",
       "2001                                                                        51700                        \n",
       "1329                                                                        74500                        \n",
       "1479                                                                        59500                        \n",
       "1468                                                                        51200                        \n",
       "1348                                                                        80400                        \n",
       "2782                                                                        55400                        \n",
       "3256                                                                        64300                        \n",
       "4508                                                                        58400                        \n",
       "\n",
       "                                Mean earnings of students working and not enrolled 10 years after entry  \\\n",
       "6-digit OPE ID for institution                                                                            \n",
       "3353                                                                        91100                         \n",
       "2853                                                                        79700                         \n",
       "2001                                                                        54500                         \n",
       "1329                                                                        81400                         \n",
       "1479                                                                        67200                         \n",
       "1468                                                                        56400                         \n",
       "1348                                                                        90500                         \n",
       "2782                                                                        64900                         \n",
       "3256                                                                        77400                         \n",
       "4508                                                                        68200                         \n",
       "\n",
       "                                Average cost of attendance (academic year institutions)  \\\n",
       "6-digit OPE ID for institution                                                            \n",
       "3353                                                                  49327.00000         \n",
       "2853                                                                  21493.00000         \n",
       "2001                                                                  36843.00000         \n",
       "1329                                                                  52406.00000         \n",
       "1479                                                                  37269.33333         \n",
       "1468                                                                  37090.00000         \n",
       "1348                                                                  29091.00000         \n",
       "2782                                                                  39014.00000         \n",
       "3256                                                                  53831.00000         \n",
       "4508                                                                  18822.00000         \n",
       "\n",
       "                                Nat Log Mean earnings of students working and not enrolled 10 years after entry  \\\n",
       "6-digit OPE ID for institution                                                                                    \n",
       "3353                                                                    11.419713                                 \n",
       "2853                                                                    11.286025                                 \n",
       "2001                                                                    10.905956                                 \n",
       "1329                                                                    11.307131                                 \n",
       "1479                                                                    11.115429                                 \n",
       "1468                                                                    10.940224                                 \n",
       "1348                                                                    11.413105                                 \n",
       "2782                                                                    11.080603                                 \n",
       "3256                                                                    11.256742                                 \n",
       "4508                                                                    11.130200                                 \n",
       "\n",
       "                                Leverage  Cooks Distance  \\\n",
       "6-digit OPE ID for institution                             \n",
       "3353                            0.002664        0.005414   \n",
       "2853                            0.001527        0.003077   \n",
       "2001                            0.003269        0.004841   \n",
       "1329                            0.002058        0.002971   \n",
       "1479                            0.001232        0.001664   \n",
       "1468                            0.003489        0.004669   \n",
       "1348                            0.004234        0.005593   \n",
       "2782                            0.001116        0.001445   \n",
       "3256                            0.002939        0.003652   \n",
       "4508                            0.001489        0.001841   \n",
       "\n",
       "                                Standardized Residuals  Studentized Residuals  \n",
       "6-digit OPE ID for institution                                                 \n",
       "3353                                          2.847480               2.855527  \n",
       "2853                                          2.836658               2.844604  \n",
       "2001                                          2.429751               2.434482  \n",
       "1329                                          2.400778               2.405318  \n",
       "1479                                          2.323247               2.327302  \n",
       "1468                                          2.309421               2.313393  \n",
       "1348                                          2.293817               2.297697  \n",
       "2782                                          2.274514               2.278282  \n",
       "3256                                          2.226141               2.229636  \n",
       "4508                                          2.221993               2.225464  "
      ]
     },
     "execution_count": 95,
     "metadata": {},
     "output_type": "execute_result"
    }
   ],
   "source": [
    "studentized_df2 = data.sort_values(\"Studentized Residuals\", ascending=False)\n",
    "studentized_df2.head(10)"
   ]
  },
  {
   "cell_type": "code",
   "execution_count": 96,
   "metadata": {},
   "outputs": [],
   "source": [
    "X = data[['Admission rate for all campuses rolled up to the 6-digit OPE ID',\\\n",
    "                     'First-time, full-time student retention rate at four-year institutions',\\\n",
    "                     'The median debt for students who have completed']]\n",
    "y = data['Nat Log Mean earnings of students working and not enrolled 10 years after entry']"
   ]
  },
  {
   "cell_type": "code",
   "execution_count": 97,
   "metadata": {},
   "outputs": [
    {
     "name": "stdout",
     "output_type": "stream",
     "text": [
      "(1241, 3) (1241,)\n"
     ]
    }
   ],
   "source": [
    "print(X.shape, y.shape)"
   ]
  },
  {
   "cell_type": "code",
   "execution_count": 98,
   "metadata": {
    "scrolled": true
   },
   "outputs": [
    {
     "data": {
      "text/plain": [
       "LinearRegression(copy_X=True, fit_intercept=True, n_jobs=None,\n",
       "         normalize=False)"
      ]
     },
     "execution_count": 98,
     "metadata": {},
     "output_type": "execute_result"
    }
   ],
   "source": [
    "# Fit Model\n",
    "model.fit(X, y)"
   ]
  },
  {
   "cell_type": "code",
   "execution_count": 99,
   "metadata": {},
   "outputs": [
    {
     "name": "stdout",
     "output_type": "stream",
     "text": [
      "[-1.23445746e-01  1.35595763e+00 -2.39608420e-06]\n",
      "9.863510837390347\n"
     ]
    }
   ],
   "source": [
    "print(model.coef_)\n",
    "print(model.intercept_)"
   ]
  },
  {
   "cell_type": "code",
   "execution_count": 100,
   "metadata": {},
   "outputs": [
    {
     "data": {
      "text/plain": [
       "<matplotlib.collections.PathCollection at 0x17b74744550>"
      ]
     },
     "execution_count": 100,
     "metadata": {},
     "output_type": "execute_result"
    },
    {
     "data": {
      "image/png": "[encoded data removed]",
      "text/plain": [
       "<Figure size 432x288 with 1 Axes>"
      ]
     },
     "metadata": {
      "needs_background": "light"
     },
     "output_type": "display_data"
    }
   ],
   "source": [
    "predictions = model.predict(X)\n",
    "plt.scatter(predictions,y)"
   ]
  },
  {
   "cell_type": "code",
   "execution_count": 101,
   "metadata": {},
   "outputs": [],
   "source": [
    "# predictions.sort()\n",
    "# predictions_df = pd.DataFrame(predictions,y)\n",
    "# predictions_df.head()"
   ]
  },
  {
   "cell_type": "code",
   "execution_count": 102,
   "metadata": {},
   "outputs": [],
   "source": [
    "# data.loc[data['Nat Log Mean earnings of students working and not enrolled 10 years after entry'] > 10.44]"
   ]
  },
  {
   "cell_type": "markdown",
   "metadata": {},
   "source": [
    "##### check model"
   ]
  },
  {
   "cell_type": "code",
   "execution_count": 103,
   "metadata": {
    "scrolled": true
   },
   "outputs": [
    {
     "name": "stdout",
     "output_type": "stream",
     "text": [
      "                                                           OLS Regression Results                                                          \n",
      "===========================================================================================================================================\n",
      "Dep. Variable:     Nat Log Mean earnings of students working and not enrolled 10 years after entry   R-squared:                       0.504\n",
      "Model:                                                                                         OLS   Adj. R-squared:                  0.503\n",
      "Method:                                                                              Least Squares   F-statistic:                     419.1\n",
      "Date:                                                                             Sat, 27 Jul 2019   Prob (F-statistic):          8.41e-188\n",
      "Time:                                                                                     08:27:15   Log-Likelihood:                 556.29\n",
      "No. Observations:                                                                             1241   AIC:                            -1105.\n",
      "Df Residuals:                                                                                 1237   BIC:                            -1084.\n",
      "Df Model:                                                                                        3                                         \n",
      "Covariance Type:                                                                         nonrobust                                         \n",
      "==========================================================================================================================================\n",
      "                                                                             coef    std err          t      P>|t|      [0.025      0.975]\n",
      "------------------------------------------------------------------------------------------------------------------------------------------\n",
      "const                                                                      9.8635      0.047    208.111      0.000       9.771       9.956\n",
      "Admission rate for all campuses rolled up to the 6-digit OPE ID           -0.1234      0.026     -4.820      0.000      -0.174      -0.073\n",
      "First-time, full-time student retention rate at four-year institutions     1.3560      0.042     32.049      0.000       1.273       1.439\n",
      "The median debt for students who have completed                        -2.396e-06   1.03e-06     -2.326      0.020   -4.42e-06   -3.75e-07\n",
      "==============================================================================\n",
      "Omnibus:                        3.219   Durbin-Watson:                   1.745\n",
      "Prob(Omnibus):                  0.200   Jarque-Bera (JB):                3.563\n",
      "Skew:                          -0.010   Prob(JB):                        0.168\n",
      "Kurtosis:                       3.262   Cond. No.                     3.30e+05\n",
      "==============================================================================\n",
      "\n",
      "Warnings:\n",
      "[1] Standard Errors assume that the covariance matrix of the errors is correctly specified.\n",
      "[2] The condition number is large, 3.3e+05. This might indicate that there are\n",
      "strong multicollinearity or other numerical problems.\n"
     ]
    },
    {
     "name": "stderr",
     "output_type": "stream",
     "text": [
      "C:\\Users\\Chart\\AppData\\Local\\Continuum\\anaconda3\\lib\\site-packages\\numpy\\core\\fromnumeric.py:2389: FutureWarning: Method .ptp is deprecated and will be removed in a future version. Use numpy.ptp instead.\n",
      "  return ptp(axis=axis, out=out, **kwargs)\n"
     ]
    }
   ],
   "source": [
    "X2 = sm.add_constant(X)\n",
    "est = sm.OLS(y, X2)\n",
    "est2 = est.fit()\n",
    "print(est2.summary())"
   ]
  },
  {
   "cell_type": "code",
   "execution_count": 104,
   "metadata": {},
   "outputs": [],
   "source": [
    "influence2 = est2.get_influence()"
   ]
  },
  {
   "cell_type": "code",
   "execution_count": 105,
   "metadata": {},
   "outputs": [
    {
     "data": {
      "text/plain": [
       "(array([0.00038648, 0.00100607, 0.0046061 , ..., 0.00071897, 0.00106376,\n",
       "        0.00018549]),\n",
       " array([0.9999997 , 0.99999798, 0.99995776, ..., 0.99999897, 0.99999774,\n",
       "        0.99999993]))"
      ]
     },
     "execution_count": 105,
     "metadata": {},
     "output_type": "execute_result"
    }
   ],
   "source": [
    "cooks_d2 = influence2.cooks_distance\n",
    "cooks_d2"
   ]
  },
  {
   "cell_type": "code",
   "execution_count": 106,
   "metadata": {},
   "outputs": [
    {
     "name": "stdout",
     "output_type": "stream",
     "text": [
      "1241 1241 1241 1241\n"
     ]
    }
   ],
   "source": [
    "print(len(X), len(X2), len(y), len(cooks_d2[0]))"
   ]
  },
  {
   "cell_type": "code",
   "execution_count": 107,
   "metadata": {},
   "outputs": [
    {
     "name": "stdout",
     "output_type": "stream",
     "text": [
      "1241 1241\n"
     ]
    }
   ],
   "source": [
    "print(len(predictions), len(model.predict(X)))"
   ]
  },
  {
   "cell_type": "code",
   "execution_count": 108,
   "metadata": {},
   "outputs": [
    {
     "data": {
      "image/png": "[encoded data removed]",
      "text/plain": [
       "<Figure size 432x288 with 1 Axes>"
      ]
     },
     "metadata": {
      "needs_background": "light"
     },
     "output_type": "display_data"
    }
   ],
   "source": [
    "plt.scatter(predictions, cooks_d2[0])\n",
    "plt.hlines(y=0, xmin=predictions.min(), xmax=predictions.max())\n",
    "plt.show()"
   ]
  },
  {
   "cell_type": "markdown",
   "metadata": {},
   "source": [
    "### Final Stats\n",
    "#### In Excel MSE is Residual Sum of Squares / (n - df) whereas in sklearn it's ResdidualSS / n\n",
    "#### R2 = RegressionSS / TotalSS\n",
    "#### where ResidualSS = sum{(y - y predicted)^2}, RegressionSS = sum{(y - average(y))^2}, TotalSS = ResidualSS + RegressionSS"
   ]
  },
  {
   "cell_type": "code",
   "execution_count": 109,
   "metadata": {},
   "outputs": [
    {
     "name": "stdout",
     "output_type": "stream",
     "text": [
      "Mean Squared Error (MSE): 0.023887598927459272\n",
      "R-squared (R2 ): 0.5040562563810138\n"
     ]
    }
   ],
   "source": [
    "from sklearn.metrics import mean_squared_error, r2_score\n",
    "predicted = model.predict(X)\n",
    "mse = mean_squared_error(y, predicted)\n",
    "r2 = r2_score(y, predicted)\n",
    "print(f\"Mean Squared Error (MSE): {mse}\")\n",
    "print(f\"R-squared (R2 ): {r2}\")\n",
    "# ** Alternate mechanisms to generate R2 **\n",
    "# score = model.score(X, y)\n",
    "# print(f\"R2 Score: {score}\")\n",
    "# model.score(X, y)"
   ]
  },
  {
   "cell_type": "markdown",
   "metadata": {},
   "source": [
    "#### Root Mean Squared Error can be considered the standard deviation of of the residual or unexplained variance:"
   ]
  },
  {
   "cell_type": "code",
   "execution_count": 110,
   "metadata": {},
   "outputs": [
    {
     "data": {
      "text/plain": [
       "0.1545561351983779"
      ]
     },
     "execution_count": 110,
     "metadata": {},
     "output_type": "execute_result"
    }
   ],
   "source": [
    "RSME = np.sqrt(mse)\n",
    "RSME"
   ]
  },
  {
   "cell_type": "markdown",
   "metadata": {},
   "source": [
    "### Check for normality again"
   ]
  },
  {
   "cell_type": "code",
   "execution_count": 111,
   "metadata": {},
   "outputs": [
    {
     "data": {
      "text/html": [
       "<div>\n",
       "<style scoped>\n",
       "    .dataframe tbody tr th:only-of-type {\n",
       "        vertical-align: middle;\n",
       "    }\n",
       "\n",
       "    .dataframe tbody tr th {\n",
       "        vertical-align: top;\n",
       "    }\n",
       "\n",
       "    .dataframe thead th {\n",
       "        text-align: right;\n",
       "    }\n",
       "</style>\n",
       "<table border=\"1\" class=\"dataframe\">\n",
       "  <thead>\n",
       "    <tr style=\"text-align: right;\">\n",
       "      <th></th>\n",
       "      <th>Admission rate for all campuses rolled up to the 6-digit OPE ID</th>\n",
       "      <th>First-time, full-time student retention rate at four-year institutions</th>\n",
       "      <th>The median debt for students who have completed</th>\n",
       "    </tr>\n",
       "    <tr>\n",
       "      <th>6-digit OPE ID for institution</th>\n",
       "      <th></th>\n",
       "      <th></th>\n",
       "      <th></th>\n",
       "    </tr>\n",
       "  </thead>\n",
       "  <tbody>\n",
       "    <tr>\n",
       "      <th>1002</th>\n",
       "      <td>0.8989</td>\n",
       "      <td>0.6314</td>\n",
       "      <td>29500.0</td>\n",
       "    </tr>\n",
       "    <tr>\n",
       "      <th>1004</th>\n",
       "      <td>0.8729</td>\n",
       "      <td>0.7365</td>\n",
       "      <td>22500.0</td>\n",
       "    </tr>\n",
       "  </tbody>\n",
       "</table>\n",
       "</div>"
      ],
      "text/plain": [
       "                                Admission rate for all campuses rolled up to the 6-digit OPE ID  \\\n",
       "6-digit OPE ID for institution                                                                    \n",
       "1002                                                                       0.8989                 \n",
       "1004                                                                       0.8729                 \n",
       "\n",
       "                                First-time, full-time student retention rate at four-year institutions  \\\n",
       "6-digit OPE ID for institution                                                                           \n",
       "1002                                                                       0.6314                        \n",
       "1004                                                                       0.7365                        \n",
       "\n",
       "                                The median debt for students who have completed  \n",
       "6-digit OPE ID for institution                                                   \n",
       "1002                                                                    29500.0  \n",
       "1004                                                                    22500.0  "
      ]
     },
     "execution_count": 111,
     "metadata": {},
     "output_type": "execute_result"
    }
   ],
   "source": [
    "X.head(2)"
   ]
  },
  {
   "cell_type": "code",
   "execution_count": 112,
   "metadata": {},
   "outputs": [
    {
     "data": {
      "text/plain": [
       "6-digit OPE ID for institution\n",
       "1002    10.442901\n",
       "1004    10.491274\n",
       "Name: Nat Log Mean earnings of students working and not enrolled 10 years after entry, dtype: float64"
      ]
     },
     "execution_count": 112,
     "metadata": {},
     "output_type": "execute_result"
    }
   ],
   "source": [
    "y.head(2)"
   ]
  },
  {
   "cell_type": "code",
   "execution_count": 113,
   "metadata": {},
   "outputs": [
    {
     "data": {
      "text/plain": [
       "Text(0.5, 1.0, 'Model2 Residuals Probability Plot')"
      ]
     },
     "execution_count": 113,
     "metadata": {},
     "output_type": "execute_result"
    },
    {
     "data": {
      "image/png": "[encoded data removed]",
      "text/plain": [
       "<Figure size 432x288 with 1 Axes>"
      ]
     },
     "metadata": {
      "needs_background": "light"
     },
     "output_type": "display_data"
    }
   ],
   "source": [
    "stats.probplot(est2.resid, plot= plt)\n",
    "plt.title(\"Model2 Residuals Probability Plot\")"
   ]
  },
  {
   "cell_type": "markdown",
   "metadata": {},
   "source": [
    "#### The Kolmogorov-Smirnov test is not significant"
   ]
  },
  {
   "cell_type": "code",
   "execution_count": 114,
   "metadata": {},
   "outputs": [
    {
     "data": {
      "text/plain": [
       "KstestResult(statistic=0.3553356333182224, pvalue=1.0405978979550108e-140)"
      ]
     },
     "execution_count": 114,
     "metadata": {},
     "output_type": "execute_result"
    }
   ],
   "source": [
    "stats.kstest(est2.resid, 'norm')"
   ]
  },
  {
   "cell_type": "markdown",
   "metadata": {},
   "source": [
    "#### the fit has improved considerably;"
   ]
  },
  {
   "cell_type": "code",
   "execution_count": 115,
   "metadata": {},
   "outputs": [
    {
     "data": {
      "text/plain": [
       "0.997999518234634"
      ]
     },
     "execution_count": 115,
     "metadata": {},
     "output_type": "execute_result"
    }
   ],
   "source": [
    "# fig, ax = plt.subplots(figsize=(6,2.5))\n",
    "_, (__, ___, r) = stats.probplot(est2.resid, plot=ax, fit=True)\n",
    "r**2"
   ]
  },
  {
   "cell_type": "markdown",
   "metadata": {},
   "source": [
    "### We can conclude that the Model's residuals largely follow a normal distribrution"
   ]
  },
  {
   "cell_type": "markdown",
   "metadata": {},
   "source": [
    "#### Train Test"
   ]
  },
  {
   "cell_type": "code",
   "execution_count": 116,
   "metadata": {
    "scrolled": true
   },
   "outputs": [],
   "source": [
    "# Use train_test_split to create training and testing data\n",
    "\n",
    "### BEGIN SOLUTION\n",
    "from sklearn.model_selection import train_test_split\n",
    "\n",
    "X_train, X_test, y_train, y_test = train_test_split(X, y, random_state=42)\n",
    "\n",
    "### END SOLUTION"
   ]
  },
  {
   "cell_type": "code",
   "execution_count": 117,
   "metadata": {
    "scrolled": true
   },
   "outputs": [
    {
     "name": "stdout",
     "output_type": "stream",
     "text": [
      "Training Score: 0.5150485881111923\n",
      "Testing Score: 0.4638553761441042\n"
     ]
    }
   ],
   "source": [
    "# Fit the model to the training data and calculate the scores for the training and testing data\n",
    "\n",
    "### BEGIN SOLUTION\n",
    "model.fit(X_train, y_train)\n",
    "training_score = model.score(X_train, y_train)\n",
    "testing_score = model.score(X_test, y_test)\n",
    "\n",
    "### END SOLUTION \n",
    "\n",
    "print(f\"Training Score: {training_score}\")\n",
    "print(f\"Testing Score: {testing_score}\")"
   ]
  },
  {
   "cell_type": "code",
   "execution_count": 118,
   "metadata": {
    "scrolled": true
   },
   "outputs": [
    {
     "data": {
      "text/plain": [
       "Text(0.5, 1.0, 'Residual Plot')"
      ]
     },
     "execution_count": 118,
     "metadata": {},
     "output_type": "execute_result"
    },
    {
     "data": {
      "image/png": "[encoded data removed]",
      "text/plain": [
       "<Figure size 432x288 with 1 Axes>"
      ]
     },
     "metadata": {
      "needs_background": "light"
     },
     "output_type": "display_data"
    }
   ],
   "source": [
    "# Plot the Residuals for the Training and Testing data\n",
    "\n",
    "### BEGIN SOLUTION\n",
    "plt.scatter(model.predict(X_train), model.predict(X_train) - y_train, c=\"blue\", label=\"Training Data\")\n",
    "plt.scatter(model.predict(X_test), model.predict(X_test) - y_test, c=\"orange\", label=\"Testing Data\")\n",
    "plt.legend()\n",
    "plt.hlines(y=0, xmin=y.min(), xmax=y.max())\n",
    "plt.title(\"Residual Plot\")\n",
    "### END SOLUTION"
   ]
  },
  {
   "cell_type": "code",
   "execution_count": 119,
   "metadata": {
    "scrolled": true
   },
   "outputs": [
    {
     "data": {
      "text/plain": [
       "0.4638553761441042"
      ]
     },
     "execution_count": 119,
     "metadata": {},
     "output_type": "execute_result"
    }
   ],
   "source": [
    "# R2 for test data\n",
    "Test_R2 = model.score(X_test, y_test)\n",
    "Test_R2"
   ]
  },
  {
   "cell_type": "code",
   "execution_count": 120,
   "metadata": {
    "scrolled": true
   },
   "outputs": [
    {
     "data": {
      "text/plain": [
       "0.023989552764775546"
      ]
     },
     "execution_count": 120,
     "metadata": {},
     "output_type": "execute_result"
    }
   ],
   "source": [
    "# MSE for test data\n",
    "Test_MSE = np.mean((model.predict(X_test) - y_test)**2)\n",
    "Test_MSE"
   ]
  },
  {
   "cell_type": "code",
   "execution_count": 121,
   "metadata": {
    "scrolled": true
   },
   "outputs": [
    {
     "data": {
      "text/plain": [
       "0.1548856118713922"
      ]
     },
     "execution_count": 121,
     "metadata": {},
     "output_type": "execute_result"
    }
   ],
   "source": [
    "# RSME\n",
    "Test_RSME = np.sqrt(Test_MSE)\n",
    "Test_RSME"
   ]
  },
  {
   "cell_type": "code",
   "execution_count": 122,
   "metadata": {
    "scrolled": true
   },
   "outputs": [
    {
     "data": {
      "text/plain": [
       "array([-1.53121688e-01,  1.33899732e+00, -2.77014165e-06])"
      ]
     },
     "execution_count": 122,
     "metadata": {},
     "output_type": "execute_result"
    }
   ],
   "source": [
    "Test_coeff = model.coef_\n",
    "Test_coeff"
   ]
  },
  {
   "cell_type": "code",
   "execution_count": 123,
   "metadata": {
    "scrolled": true
   },
   "outputs": [
    {
     "data": {
      "text/plain": [
       "9.901811812115735"
      ]
     },
     "execution_count": 123,
     "metadata": {},
     "output_type": "execute_result"
    }
   ],
   "source": [
    "Test_intercept = model.intercept_\n",
    "Test_intercept"
   ]
  },
  {
   "cell_type": "code",
   "execution_count": 124,
   "metadata": {
    "scrolled": true
   },
   "outputs": [
    {
     "data": {
      "text/plain": [
       "(930, 3)"
      ]
     },
     "execution_count": 124,
     "metadata": {},
     "output_type": "execute_result"
    }
   ],
   "source": [
    "X_train.shape"
   ]
  },
  {
   "cell_type": "code",
   "execution_count": 125,
   "metadata": {
    "scrolled": true
   },
   "outputs": [
    {
     "data": {
      "text/plain": [
       "(311, 3)"
      ]
     },
     "execution_count": 125,
     "metadata": {},
     "output_type": "execute_result"
    }
   ],
   "source": [
    "X_test.shape"
   ]
  },
  {
   "cell_type": "code",
   "execution_count": null,
   "metadata": {
    "scrolled": true
   },
   "outputs": [],
   "source": []
  },
  {
   "cell_type": "markdown",
   "metadata": {},
   "source": [
    "#### Add Ouput column to dataframe using exponential (y)"
   ]
  },
  {
   "cell_type": "code",
   "execution_count": 126,
   "metadata": {
    "scrolled": true
   },
   "outputs": [
    {
     "data": {
      "text/html": [
       "<div>\n",
       "<style scoped>\n",
       "    .dataframe tbody tr th:only-of-type {\n",
       "        vertical-align: middle;\n",
       "    }\n",
       "\n",
       "    .dataframe tbody tr th {\n",
       "        vertical-align: top;\n",
       "    }\n",
       "\n",
       "    .dataframe thead th {\n",
       "        text-align: right;\n",
       "    }\n",
       "</style>\n",
       "<table border=\"1\" class=\"dataframe\">\n",
       "  <thead>\n",
       "    <tr style=\"text-align: right;\">\n",
       "      <th></th>\n",
       "      <th>Admission rate for all campuses rolled up to the 6-digit OPE ID</th>\n",
       "      <th>First-time, full-time student retention rate at four-year institutions</th>\n",
       "      <th>The median debt for students who have completed</th>\n",
       "      <th>Mean earnings of students working and not enrolled 6 years after entry</th>\n",
       "      <th>Mean earnings of students working and not enrolled 8 years after entry</th>\n",
       "      <th>Mean earnings of students working and not enrolled 10 years after entry</th>\n",
       "      <th>Average cost of attendance (academic year institutions)</th>\n",
       "      <th>Nat Log Mean earnings of students working and not enrolled 10 years after entry</th>\n",
       "      <th>Leverage</th>\n",
       "      <th>Cooks Distance</th>\n",
       "      <th>Standardized Residuals</th>\n",
       "      <th>Studentized Residuals</th>\n",
       "      <th>Predicted LN</th>\n",
       "    </tr>\n",
       "    <tr>\n",
       "      <th>6-digit OPE ID for institution</th>\n",
       "      <th></th>\n",
       "      <th></th>\n",
       "      <th></th>\n",
       "      <th></th>\n",
       "      <th></th>\n",
       "      <th></th>\n",
       "      <th></th>\n",
       "      <th></th>\n",
       "      <th></th>\n",
       "      <th></th>\n",
       "      <th></th>\n",
       "      <th></th>\n",
       "      <th></th>\n",
       "    </tr>\n",
       "  </thead>\n",
       "  <tbody>\n",
       "    <tr>\n",
       "      <th>1002</th>\n",
       "      <td>0.8989</td>\n",
       "      <td>0.6314</td>\n",
       "      <td>29500.0</td>\n",
       "      <td>27200</td>\n",
       "      <td>29700</td>\n",
       "      <td>34300</td>\n",
       "      <td>18888.0</td>\n",
       "      <td>10.442901</td>\n",
       "      <td>0.003718</td>\n",
       "      <td>0.00020</td>\n",
       "      <td>-0.463115</td>\n",
       "      <td>-0.462971</td>\n",
       "      <td>10.538013</td>\n",
       "    </tr>\n",
       "    <tr>\n",
       "      <th>1004</th>\n",
       "      <td>0.8729</td>\n",
       "      <td>0.7365</td>\n",
       "      <td>22500.0</td>\n",
       "      <td>27000</td>\n",
       "      <td>31600</td>\n",
       "      <td>36000</td>\n",
       "      <td>20194.0</td>\n",
       "      <td>10.491274</td>\n",
       "      <td>0.002122</td>\n",
       "      <td>0.00079</td>\n",
       "      <td>-1.219296</td>\n",
       "      <td>-1.219531</td>\n",
       "      <td>10.700506</td>\n",
       "    </tr>\n",
       "  </tbody>\n",
       "</table>\n",
       "</div>"
      ],
      "text/plain": [
       "                                Admission rate for all campuses rolled up to the 6-digit OPE ID  \\\n",
       "6-digit OPE ID for institution                                                                    \n",
       "1002                                                                       0.8989                 \n",
       "1004                                                                       0.8729                 \n",
       "\n",
       "                                First-time, full-time student retention rate at four-year institutions  \\\n",
       "6-digit OPE ID for institution                                                                           \n",
       "1002                                                                       0.6314                        \n",
       "1004                                                                       0.7365                        \n",
       "\n",
       "                                The median debt for students who have completed  \\\n",
       "6-digit OPE ID for institution                                                    \n",
       "1002                                                                    29500.0   \n",
       "1004                                                                    22500.0   \n",
       "\n",
       "                                Mean earnings of students working and not enrolled 6 years after entry  \\\n",
       "6-digit OPE ID for institution                                                                           \n",
       "1002                                                                        27200                        \n",
       "1004                                                                        27000                        \n",
       "\n",
       "                                Mean earnings of students working and not enrolled 8 years after entry  \\\n",
       "6-digit OPE ID for institution                                                                           \n",
       "1002                                                                        29700                        \n",
       "1004                                                                        31600                        \n",
       "\n",
       "                                Mean earnings of students working and not enrolled 10 years after entry  \\\n",
       "6-digit OPE ID for institution                                                                            \n",
       "1002                                                                        34300                         \n",
       "1004                                                                        36000                         \n",
       "\n",
       "                                Average cost of attendance (academic year institutions)  \\\n",
       "6-digit OPE ID for institution                                                            \n",
       "1002                                                                      18888.0         \n",
       "1004                                                                      20194.0         \n",
       "\n",
       "                                Nat Log Mean earnings of students working and not enrolled 10 years after entry  \\\n",
       "6-digit OPE ID for institution                                                                                    \n",
       "1002                                                                    10.442901                                 \n",
       "1004                                                                    10.491274                                 \n",
       "\n",
       "                                Leverage  Cooks Distance  \\\n",
       "6-digit OPE ID for institution                             \n",
       "1002                            0.003718         0.00020   \n",
       "1004                            0.002122         0.00079   \n",
       "\n",
       "                                Standardized Residuals  Studentized Residuals  \\\n",
       "6-digit OPE ID for institution                                                  \n",
       "1002                                         -0.463115              -0.462971   \n",
       "1004                                         -1.219296              -1.219531   \n",
       "\n",
       "                                Predicted LN  \n",
       "6-digit OPE ID for institution                \n",
       "1002                               10.538013  \n",
       "1004                               10.700506  "
      ]
     },
     "execution_count": 126,
     "metadata": {},
     "output_type": "execute_result"
    }
   ],
   "source": [
    "data['Predicted LN'] = predictions\n",
    "data.head(2)"
   ]
  },
  {
   "cell_type": "code",
   "execution_count": 127,
   "metadata": {},
   "outputs": [
    {
     "data": {
      "text/html": [
       "<div>\n",
       "<style scoped>\n",
       "    .dataframe tbody tr th:only-of-type {\n",
       "        vertical-align: middle;\n",
       "    }\n",
       "\n",
       "    .dataframe tbody tr th {\n",
       "        vertical-align: top;\n",
       "    }\n",
       "\n",
       "    .dataframe thead th {\n",
       "        text-align: right;\n",
       "    }\n",
       "</style>\n",
       "<table border=\"1\" class=\"dataframe\">\n",
       "  <thead>\n",
       "    <tr style=\"text-align: right;\">\n",
       "      <th></th>\n",
       "      <th>Admission rate for all campuses rolled up to the 6-digit OPE ID</th>\n",
       "      <th>First-time, full-time student retention rate at four-year institutions</th>\n",
       "      <th>The median debt for students who have completed</th>\n",
       "      <th>Mean earnings of students working and not enrolled 6 years after entry</th>\n",
       "      <th>Mean earnings of students working and not enrolled 8 years after entry</th>\n",
       "      <th>Mean earnings of students working and not enrolled 10 years after entry</th>\n",
       "      <th>Average cost of attendance (academic year institutions)</th>\n",
       "      <th>Nat Log Mean earnings of students working and not enrolled 10 years after entry</th>\n",
       "      <th>Leverage</th>\n",
       "      <th>Cooks Distance</th>\n",
       "      <th>Standardized Residuals</th>\n",
       "      <th>Studentized Residuals</th>\n",
       "      <th>Predicted LN</th>\n",
       "      <th>Predicted 10 year earnings</th>\n",
       "    </tr>\n",
       "    <tr>\n",
       "      <th>6-digit OPE ID for institution</th>\n",
       "      <th></th>\n",
       "      <th></th>\n",
       "      <th></th>\n",
       "      <th></th>\n",
       "      <th></th>\n",
       "      <th></th>\n",
       "      <th></th>\n",
       "      <th></th>\n",
       "      <th></th>\n",
       "      <th></th>\n",
       "      <th></th>\n",
       "      <th></th>\n",
       "      <th></th>\n",
       "      <th></th>\n",
       "    </tr>\n",
       "  </thead>\n",
       "  <tbody>\n",
       "    <tr>\n",
       "      <th>1002</th>\n",
       "      <td>0.8989</td>\n",
       "      <td>0.6314</td>\n",
       "      <td>29500.0</td>\n",
       "      <td>27200</td>\n",
       "      <td>29700</td>\n",
       "      <td>34300</td>\n",
       "      <td>18888.0</td>\n",
       "      <td>10.442901</td>\n",
       "      <td>0.003718</td>\n",
       "      <td>0.00020</td>\n",
       "      <td>-0.463115</td>\n",
       "      <td>-0.462971</td>\n",
       "      <td>10.538013</td>\n",
       "      <td>37722.522894</td>\n",
       "    </tr>\n",
       "    <tr>\n",
       "      <th>1004</th>\n",
       "      <td>0.8729</td>\n",
       "      <td>0.7365</td>\n",
       "      <td>22500.0</td>\n",
       "      <td>27000</td>\n",
       "      <td>31600</td>\n",
       "      <td>36000</td>\n",
       "      <td>20194.0</td>\n",
       "      <td>10.491274</td>\n",
       "      <td>0.002122</td>\n",
       "      <td>0.00079</td>\n",
       "      <td>-1.219296</td>\n",
       "      <td>-1.219531</td>\n",
       "      <td>10.700506</td>\n",
       "      <td>44378.302427</td>\n",
       "    </tr>\n",
       "  </tbody>\n",
       "</table>\n",
       "</div>"
      ],
      "text/plain": [
       "                                Admission rate for all campuses rolled up to the 6-digit OPE ID  \\\n",
       "6-digit OPE ID for institution                                                                    \n",
       "1002                                                                       0.8989                 \n",
       "1004                                                                       0.8729                 \n",
       "\n",
       "                                First-time, full-time student retention rate at four-year institutions  \\\n",
       "6-digit OPE ID for institution                                                                           \n",
       "1002                                                                       0.6314                        \n",
       "1004                                                                       0.7365                        \n",
       "\n",
       "                                The median debt for students who have completed  \\\n",
       "6-digit OPE ID for institution                                                    \n",
       "1002                                                                    29500.0   \n",
       "1004                                                                    22500.0   \n",
       "\n",
       "                                Mean earnings of students working and not enrolled 6 years after entry  \\\n",
       "6-digit OPE ID for institution                                                                           \n",
       "1002                                                                        27200                        \n",
       "1004                                                                        27000                        \n",
       "\n",
       "                                Mean earnings of students working and not enrolled 8 years after entry  \\\n",
       "6-digit OPE ID for institution                                                                           \n",
       "1002                                                                        29700                        \n",
       "1004                                                                        31600                        \n",
       "\n",
       "                                Mean earnings of students working and not enrolled 10 years after entry  \\\n",
       "6-digit OPE ID for institution                                                                            \n",
       "1002                                                                        34300                         \n",
       "1004                                                                        36000                         \n",
       "\n",
       "                                Average cost of attendance (academic year institutions)  \\\n",
       "6-digit OPE ID for institution                                                            \n",
       "1002                                                                      18888.0         \n",
       "1004                                                                      20194.0         \n",
       "\n",
       "                                Nat Log Mean earnings of students working and not enrolled 10 years after entry  \\\n",
       "6-digit OPE ID for institution                                                                                    \n",
       "1002                                                                    10.442901                                 \n",
       "1004                                                                    10.491274                                 \n",
       "\n",
       "                                Leverage  Cooks Distance  \\\n",
       "6-digit OPE ID for institution                             \n",
       "1002                            0.003718         0.00020   \n",
       "1004                            0.002122         0.00079   \n",
       "\n",
       "                                Standardized Residuals  Studentized Residuals  \\\n",
       "6-digit OPE ID for institution                                                  \n",
       "1002                                         -0.463115              -0.462971   \n",
       "1004                                         -1.219296              -1.219531   \n",
       "\n",
       "                                Predicted LN  Predicted 10 year earnings  \n",
       "6-digit OPE ID for institution                                            \n",
       "1002                               10.538013                37722.522894  \n",
       "1004                               10.700506                44378.302427  "
      ]
     },
     "execution_count": 127,
     "metadata": {},
     "output_type": "execute_result"
    }
   ],
   "source": [
    "data['Predicted 10 year earnings'] = np.exp(data['Predicted LN'])\n",
    "data.head(2)"
   ]
  },
  {
   "cell_type": "markdown",
   "metadata": {},
   "source": [
    "#### Make descending plots of Actual vs Predicted"
   ]
  },
  {
   "cell_type": "code",
   "execution_count": 140,
   "metadata": {},
   "outputs": [],
   "source": [
    "# data.reset_index()"
   ]
  },
  {
   "cell_type": "code",
   "execution_count": null,
   "metadata": {},
   "outputs": [],
   "source": []
  },
  {
   "cell_type": "markdown",
   "metadata": {},
   "source": [
    "#### Repeat for Tuition Costs"
   ]
  },
  {
   "cell_type": "code",
   "execution_count": null,
   "metadata": {},
   "outputs": [],
   "source": []
  }
 ],
 "metadata": {
  "kernelspec": {
   "display_name": "Python 3",
   "language": "python",
   "name": "python3"
  },
  "language_info": {
   "codemirror_mode": {
    "name": "ipython",
    "version": 3
   },
   "file_extension": ".py",
   "mimetype": "text/x-python",
   "name": "python",
   "nbconvert_exporter": "python",
   "pygments_lexer": "ipython3",
   "version": "3.7.3"
  }
 },
 "nbformat": 4,
 "nbformat_minor": 2
}
