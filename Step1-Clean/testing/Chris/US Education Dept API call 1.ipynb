{
 "cells": [
  {
   "cell_type": "code",
   "execution_count": 1,
   "metadata": {},
   "outputs": [],
   "source": [
    "import matplotlib.pyplot as plt\n",
    "import pandas as pd\n",
    "import numpy as np\n",
    "import os\n",
    "import json\n",
    "import requests\n",
    "import time\n",
    "import datetime"
   ]
  },
  {
   "cell_type": "code",
   "execution_count": 99,
   "metadata": {},
   "outputs": [],
   "source": [
    "# &api_key=xxxxxxxxxxxxxxxxxxxxxxxx"
   ]
  },
  {
   "cell_type": "code",
   "execution_count": 3,
   "metadata": {},
   "outputs": [],
   "source": [
    "# url = \"https://api.data.gov/ed/collegescorecard/v1/schools.json?fields=2013.earnings.6_yrs_after_entry.\\\n",
    "# working_not_enrolled.mean_earnings&per_page=100&api_key=xxxxxxxxxxxxxxxxxxxxxxxxx\""
   ]
  },
  {
   "cell_type": "code",
   "execution_count": 4,
   "metadata": {},
   "outputs": [],
   "source": [
    "# url = \"https://api.data.gov/ed/collegescorecard/v1/schools.json?school.degrees_awarded.predominant=3\\\n",
    "# &fields=2013.earnings.6_yrs_after_entry.\\\n",
    "# working_not_enrolled.mean_earnings&per_page=100&api_key=xxxxxxxxxxxxxxxxxxxxxxxxxxxxxx\""
   ]
  },
  {
   "cell_type": "code",
   "execution_count": 6,
   "metadata": {},
   "outputs": [],
   "source": [
    "# Selecting page no\n",
    "# page=0\n",
    "# url = \"https://api.data.gov/ed/collegescorecard/v1/schools.json?school.institutional_characteristics.level=1&\\\n",
    "# school.degrees_awarded.predominant=3\\\n",
    "# &fields=school.name,2014.earnings.6_yrs_after_entry.\\\n",
    "# working_not_enrolled.mean_earnings&page&per_page=100&api_key=xxxxxxxxxxxxxxxxxxxxxxxxxxxxxxxxxxxxx\""
   ]
  },
  {
   "cell_type": "code",
   "execution_count": 100,
   "metadata": {},
   "outputs": [],
   "source": [
    "url = \"https://api.data.gov/ed/collegescorecard/v1/schools.json?school.institutional_characteristics.level=1&\\\n",
    "school.degrees_awarded.predominant=3\\\n",
    "&fields=school.name,2014.earnings.6_yrs_after_entry.\\\n",
    "working_not_enrolled.mean_earnings&api_key=xxxxxxxxxxxxxxxxxxxxxxxxxxxxxxxxxxxx\""
   ]
  },
  {
   "cell_type": "code",
   "execution_count": 101,
   "metadata": {},
   "outputs": [
    {
     "name": "stdout",
     "output_type": "stream",
     "text": [
      "<Response [200]>\n"
     ]
    }
   ],
   "source": [
    "print(requests.get(url))"
   ]
  },
  {
   "cell_type": "code",
   "execution_count": 8,
   "metadata": {},
   "outputs": [],
   "source": [
    "# print(requests.get(url).json())"
   ]
  },
  {
   "cell_type": "code",
   "execution_count": 102,
   "metadata": {},
   "outputs": [
    {
     "name": "stdout",
     "output_type": "stream",
     "text": [
      "{\n",
      "    \"metadata\": {\n",
      "        \"page\": 0,\n",
      "        \"per_page\": 20,\n",
      "        \"total\": 2095\n",
      "    },\n",
      "    \"results\": [\n",
      "        {\n",
      "            \"2014.earnings.6_yrs_after_entry.working_not_enrolled.mean_earnings\": null,\n",
      "            \"school.name\": \"Criswell College\"\n",
      "        },\n",
      "        {\n",
      "            \"2014.earnings.6_yrs_after_entry.working_not_enrolled.mean_earnings\": 69800,\n",
      "            \"school.name\": \"Chamberlain University-Georgia\"\n",
      "        },\n",
      "        {\n",
      "            \"2014.earnings.6_yrs_after_entry.working_not_enrolled.mean_earnings\": 32500,\n",
      "            \"school.name\": \"South University-Cleveland\"\n",
      "        },\n",
      "        {\n",
      "            \"2014.earnings.6_yrs_after_entry.working_not_enrolled.mean_earnings\": null,\n",
      "            \"school.name\": \"Colorado State University-Global Campus\"\n",
      "        },\n",
      "        {\n",
      "            \"2014.earnings.6_yrs_after_entry.working_not_enrolled.mean_earnings\": 43000,\n",
      "            \"school.name\": \"Warner Pacific University Professional and Graduate Studies\"\n",
      "        },\n",
      "        {\n",
      "            \"2014.earnings.6_yrs_after_entry.working_not_enrolled.mean_earnings\": null,\n",
      "            \"school.name\": \"Yeshiva Gedolah Zichron Leyma\"\n",
      "        },\n",
      "        {\n",
      "            \"2014.earnings.6_yrs_after_entry.working_not_enrolled.mean_earnings\": 34200,\n",
      "            \"school.name\": \"University of Phoenix-Arkansas\"\n",
      "        },\n",
      "        {\n",
      "            \"2014.earnings.6_yrs_after_entry.working_not_enrolled.mean_earnings\": 34200,\n",
      "            \"school.name\": \"University of Phoenix-Florida\"\n",
      "        },\n",
      "        {\n",
      "            \"2014.earnings.6_yrs_after_entry.working_not_enrolled.mean_earnings\": 34200,\n",
      "            \"school.name\": \"University of Phoenix-Michigan\"\n",
      "        },\n",
      "        {\n",
      "            \"2014.earnings.6_yrs_after_entry.working_not_enrolled.mean_earnings\": 34200,\n",
      "            \"school.name\": \"University of Phoenix-Oklahoma\"\n",
      "        },\n",
      "        {\n",
      "            \"2014.earnings.6_yrs_after_entry.working_not_enrolled.mean_earnings\": 71900,\n",
      "            \"school.name\": \"West Coast University-Miami\"\n",
      "        },\n",
      "        {\n",
      "            \"2014.earnings.6_yrs_after_entry.working_not_enrolled.mean_earnings\": 34200,\n",
      "            \"school.name\": \"University of Phoenix-Virginia\"\n",
      "        },\n",
      "        {\n",
      "            \"2014.earnings.6_yrs_after_entry.working_not_enrolled.mean_earnings\": null,\n",
      "            \"school.name\": \"Presbyterian Theological Seminary in America\"\n",
      "        },\n",
      "        {\n",
      "            \"2014.earnings.6_yrs_after_entry.working_not_enrolled.mean_earnings\": null,\n",
      "            \"school.name\": \"Mechon L'hoyroa\"\n",
      "        },\n",
      "        {\n",
      "            \"2014.earnings.6_yrs_after_entry.working_not_enrolled.mean_earnings\": null,\n",
      "            \"school.name\": \"Purdue University Northwest\"\n",
      "        },\n",
      "        {\n",
      "            \"2014.earnings.6_yrs_after_entry.working_not_enrolled.mean_earnings\": null,\n",
      "            \"school.name\": \"Catholic Distance University\"\n",
      "        },\n",
      "        {\n",
      "            \"2014.earnings.6_yrs_after_entry.working_not_enrolled.mean_earnings\": null,\n",
      "            \"school.name\": \"Antioch College\"\n",
      "        },\n",
      "        {\n",
      "            \"2014.earnings.6_yrs_after_entry.working_not_enrolled.mean_earnings\": null,\n",
      "            \"school.name\": \"California Jazz Conservatory\"\n",
      "        },\n",
      "        {\n",
      "            \"2014.earnings.6_yrs_after_entry.working_not_enrolled.mean_earnings\": null,\n",
      "            \"school.name\": \"Chamberlain University-Nevada\"\n",
      "        },\n",
      "        {\n",
      "            \"2014.earnings.6_yrs_after_entry.working_not_enrolled.mean_earnings\": null,\n",
      "            \"school.name\": \"Hussian College-Relativity Campus California\"\n",
      "        }\n",
      "    ]\n",
      "}\n"
     ]
    }
   ],
   "source": [
    "# Pretty Print the output of the JSON\n",
    "response = requests.get(url).json()\n",
    "print(json.dumps(response, indent=4, sort_keys=True))"
   ]
  },
  {
   "cell_type": "code",
   "execution_count": 103,
   "metadata": {},
   "outputs": [
    {
     "data": {
      "text/plain": [
       "dict_keys(['metadata', 'results'])"
      ]
     },
     "execution_count": 103,
     "metadata": {},
     "output_type": "execute_result"
    }
   ],
   "source": [
    "response.keys()"
   ]
  },
  {
   "cell_type": "code",
   "execution_count": 104,
   "metadata": {},
   "outputs": [
    {
     "name": "stdout",
     "output_type": "stream",
     "text": [
      "metadata\n",
      "<class 'dict'>\n",
      "\n",
      "\n",
      "\n",
      "results\n",
      "<class 'list'>\n",
      "\n",
      "\n",
      "\n"
     ]
    }
   ],
   "source": [
    "for key in response.keys():\n",
    "    print(key)\n",
    "    value = response[key]\n",
    "    print(type(value))\n",
    "    print('\\n\\n')"
   ]
  },
  {
   "cell_type": "code",
   "execution_count": 105,
   "metadata": {},
   "outputs": [
    {
     "data": {
      "text/plain": [
       "{'total': 2095, 'page': 0, 'per_page': 20}"
      ]
     },
     "execution_count": 105,
     "metadata": {},
     "output_type": "execute_result"
    }
   ],
   "source": [
    "response['metadata']"
   ]
  },
  {
   "cell_type": "code",
   "execution_count": 106,
   "metadata": {},
   "outputs": [
    {
     "data": {
      "text/plain": [
       "[{'school.name': 'Criswell College',\n",
       "  '2014.earnings.6_yrs_after_entry.working_not_enrolled.mean_earnings': None},\n",
       " {'school.name': 'Chamberlain University-Georgia',\n",
       "  '2014.earnings.6_yrs_after_entry.working_not_enrolled.mean_earnings': 69800},\n",
       " {'school.name': 'South University-Cleveland',\n",
       "  '2014.earnings.6_yrs_after_entry.working_not_enrolled.mean_earnings': 32500},\n",
       " {'school.name': 'Colorado State University-Global Campus',\n",
       "  '2014.earnings.6_yrs_after_entry.working_not_enrolled.mean_earnings': None},\n",
       " {'school.name': 'Warner Pacific University Professional and Graduate Studies',\n",
       "  '2014.earnings.6_yrs_after_entry.working_not_enrolled.mean_earnings': 43000},\n",
       " {'school.name': 'Yeshiva Gedolah Zichron Leyma',\n",
       "  '2014.earnings.6_yrs_after_entry.working_not_enrolled.mean_earnings': None},\n",
       " {'school.name': 'University of Phoenix-Arkansas',\n",
       "  '2014.earnings.6_yrs_after_entry.working_not_enrolled.mean_earnings': 34200},\n",
       " {'school.name': 'University of Phoenix-Florida',\n",
       "  '2014.earnings.6_yrs_after_entry.working_not_enrolled.mean_earnings': 34200},\n",
       " {'school.name': 'University of Phoenix-Michigan',\n",
       "  '2014.earnings.6_yrs_after_entry.working_not_enrolled.mean_earnings': 34200},\n",
       " {'school.name': 'University of Phoenix-Oklahoma',\n",
       "  '2014.earnings.6_yrs_after_entry.working_not_enrolled.mean_earnings': 34200},\n",
       " {'school.name': 'West Coast University-Miami',\n",
       "  '2014.earnings.6_yrs_after_entry.working_not_enrolled.mean_earnings': 71900},\n",
       " {'school.name': 'University of Phoenix-Virginia',\n",
       "  '2014.earnings.6_yrs_after_entry.working_not_enrolled.mean_earnings': 34200},\n",
       " {'school.name': 'Presbyterian Theological Seminary in America',\n",
       "  '2014.earnings.6_yrs_after_entry.working_not_enrolled.mean_earnings': None},\n",
       " {'school.name': \"Mechon L'hoyroa\",\n",
       "  '2014.earnings.6_yrs_after_entry.working_not_enrolled.mean_earnings': None},\n",
       " {'school.name': 'Purdue University Northwest',\n",
       "  '2014.earnings.6_yrs_after_entry.working_not_enrolled.mean_earnings': None},\n",
       " {'school.name': 'Catholic Distance University',\n",
       "  '2014.earnings.6_yrs_after_entry.working_not_enrolled.mean_earnings': None},\n",
       " {'school.name': 'Antioch College',\n",
       "  '2014.earnings.6_yrs_after_entry.working_not_enrolled.mean_earnings': None},\n",
       " {'school.name': 'California Jazz Conservatory',\n",
       "  '2014.earnings.6_yrs_after_entry.working_not_enrolled.mean_earnings': None},\n",
       " {'school.name': 'Chamberlain University-Nevada',\n",
       "  '2014.earnings.6_yrs_after_entry.working_not_enrolled.mean_earnings': None},\n",
       " {'school.name': 'Hussian College-Relativity Campus California',\n",
       "  '2014.earnings.6_yrs_after_entry.working_not_enrolled.mean_earnings': None}]"
      ]
     },
     "execution_count": 106,
     "metadata": {},
     "output_type": "execute_result"
    }
   ],
   "source": [
    "response['results']"
   ]
  },
  {
   "cell_type": "code",
   "execution_count": 107,
   "metadata": {},
   "outputs": [
    {
     "data": {
      "text/plain": [
       "'South University-Cleveland'"
      ]
     },
     "execution_count": 107,
     "metadata": {},
     "output_type": "execute_result"
    }
   ],
   "source": [
    "response['results'][2]['school.name']"
   ]
  },
  {
   "cell_type": "code",
   "execution_count": 108,
   "metadata": {},
   "outputs": [
    {
     "data": {
      "text/plain": [
       "32500"
      ]
     },
     "execution_count": 108,
     "metadata": {},
     "output_type": "execute_result"
    }
   ],
   "source": [
    "response['results'][2]['2014.earnings.6_yrs_after_entry.working_not_enrolled.mean_earnings']"
   ]
  },
  {
   "cell_type": "code",
   "execution_count": 109,
   "metadata": {},
   "outputs": [
    {
     "data": {
      "text/html": [
       "<div>\n",
       "<style scoped>\n",
       "    .dataframe tbody tr th:only-of-type {\n",
       "        vertical-align: middle;\n",
       "    }\n",
       "\n",
       "    .dataframe tbody tr th {\n",
       "        vertical-align: top;\n",
       "    }\n",
       "\n",
       "    .dataframe thead th {\n",
       "        text-align: right;\n",
       "    }\n",
       "</style>\n",
       "<table border=\"1\" class=\"dataframe\">\n",
       "  <thead>\n",
       "    <tr style=\"text-align: right;\">\n",
       "      <th></th>\n",
       "      <th>2014.earnings.6_yrs_after_entry.working_not_enrolled.mean_earnings</th>\n",
       "      <th>school.name</th>\n",
       "    </tr>\n",
       "  </thead>\n",
       "  <tbody>\n",
       "    <tr>\n",
       "      <th>0</th>\n",
       "      <td>NaN</td>\n",
       "      <td>Criswell College</td>\n",
       "    </tr>\n",
       "    <tr>\n",
       "      <th>1</th>\n",
       "      <td>69800.0</td>\n",
       "      <td>Chamberlain University-Georgia</td>\n",
       "    </tr>\n",
       "    <tr>\n",
       "      <th>2</th>\n",
       "      <td>32500.0</td>\n",
       "      <td>South University-Cleveland</td>\n",
       "    </tr>\n",
       "    <tr>\n",
       "      <th>3</th>\n",
       "      <td>NaN</td>\n",
       "      <td>Colorado State University-Global Campus</td>\n",
       "    </tr>\n",
       "    <tr>\n",
       "      <th>4</th>\n",
       "      <td>43000.0</td>\n",
       "      <td>Warner Pacific University Professional and Gra...</td>\n",
       "    </tr>\n",
       "  </tbody>\n",
       "</table>\n",
       "</div>"
      ],
      "text/plain": [
       "   2014.earnings.6_yrs_after_entry.working_not_enrolled.mean_earnings  \\\n",
       "0                                                NaN                    \n",
       "1                                            69800.0                    \n",
       "2                                            32500.0                    \n",
       "3                                                NaN                    \n",
       "4                                            43000.0                    \n",
       "\n",
       "                                         school.name  \n",
       "0                                   Criswell College  \n",
       "1                     Chamberlain University-Georgia  \n",
       "2                         South University-Cleveland  \n",
       "3            Colorado State University-Global Campus  \n",
       "4  Warner Pacific University Professional and Gra...  "
      ]
     },
     "execution_count": 109,
     "metadata": {},
     "output_type": "execute_result"
    }
   ],
   "source": [
    "df = pd.DataFrame.from_dict(response['results'])\n",
    "df.head()"
   ]
  },
  {
   "cell_type": "code",
   "execution_count": 113,
   "metadata": {},
   "outputs": [
    {
     "name": "stdout",
     "output_type": "stream",
     "text": [
      "Criswell College\n",
      "None\n",
      "Chamberlain University-Georgia\n",
      "69800\n",
      "South University-Cleveland\n",
      "32500\n",
      "Colorado State University-Global Campus\n",
      "None\n",
      "Warner Pacific University Professional and Graduate Studies\n",
      "43000\n",
      "Yeshiva Gedolah Zichron Leyma\n",
      "None\n",
      "University of Phoenix-Arkansas\n",
      "34200\n",
      "University of Phoenix-Florida\n",
      "34200\n",
      "University of Phoenix-Michigan\n",
      "34200\n",
      "University of Phoenix-Oklahoma\n",
      "34200\n",
      "West Coast University-Miami\n",
      "71900\n",
      "University of Phoenix-Virginia\n",
      "34200\n",
      "Presbyterian Theological Seminary in America\n",
      "None\n",
      "Mechon L'hoyroa\n",
      "None\n",
      "Purdue University Northwest\n",
      "None\n",
      "Catholic Distance University\n",
      "None\n",
      "Antioch College\n",
      "None\n",
      "California Jazz Conservatory\n",
      "None\n",
      "Chamberlain University-Nevada\n",
      "None\n",
      "Hussian College-Relativity Campus California\n",
      "None\n"
     ]
    }
   ],
   "source": [
    "def get_and_print_data(url):\n",
    "        r = requests.get(url)\n",
    "        info = r.json()\n",
    "        for i in info['results']:\n",
    "                print(i['school.name'])\n",
    "                print(i['2014.earnings.6_yrs_after_entry.working_not_enrolled.mean_earnings'])\n",
    "        if info.get('next'):\n",
    "                get_and_print_data(info['next'])\n",
    "\n",
    "get_and_print_data(url)"
   ]
  },
  {
   "cell_type": "markdown",
   "metadata": {},
   "source": [
    "## How to Iterate through data pages?"
   ]
  },
  {
   "cell_type": "code",
   "execution_count": 87,
   "metadata": {
    "scrolled": true
   },
   "outputs": [],
   "source": [
    "# z = round((response['metadata']['total'])/100)\n",
    "# z"
   ]
  },
  {
   "cell_type": "code",
   "execution_count": 86,
   "metadata": {},
   "outputs": [],
   "source": [
    "# pages = list(range(1, z+1))\n",
    "# pages"
   ]
  },
  {
   "cell_type": "code",
   "execution_count": 85,
   "metadata": {},
   "outputs": [],
   "source": [
    "# len(pages)"
   ]
  },
  {
   "cell_type": "code",
   "execution_count": 62,
   "metadata": {},
   "outputs": [],
   "source": [
    "# pages = [0]\n",
    "\n",
    "# count = 0\n",
    "\n",
    "# for page in pages:\n",
    "    \n",
    "#     page = page + 1\n",
    "#     pages.append(page)\n",
    "    \n",
    "#     if count >=z-2:\n",
    "#         break\n",
    "        \n",
    "#     count +=1"
   ]
  },
  {
   "cell_type": "code",
   "execution_count": 63,
   "metadata": {},
   "outputs": [],
   "source": [
    "# len(pages)"
   ]
  },
  {
   "cell_type": "code",
   "execution_count": 64,
   "metadata": {},
   "outputs": [],
   "source": [
    "# pages"
   ]
  },
  {
   "cell_type": "code",
   "execution_count": 84,
   "metadata": {},
   "outputs": [],
   "source": [
    "# school_data_2014 = []\n",
    "\n",
    "# count = 0\n",
    "\n",
    "\n",
    "# print(\"Beginning Data Retrieval\")\n",
    "# print(\"-------------------------------\")\n",
    "\n",
    "# for page in pages:\n",
    "#         response = requests.get(url).json()\n",
    "#         school_data_2014.append({'School Name' : response['results'][0]['school.name'],\n",
    "#                                  'Earnings 6 yrs after College' : response['results'][0]\\\n",
    "#                                  ['2014.earnings.6_yrs_after_entry.working_not_enrolled.mean_earnings']})\n",
    "                                                 \n",
    "    \n",
    "#         print(\"Processing Record\", count, \"page\" ' | ' , page)\n",
    "    \n",
    "#         count +=1\n",
    "    \n",
    "# print(\"-------------------------------\")\n",
    "# print(\"Data Retrieval Complete\")\n",
    "# print(\"-------------------------------\")"
   ]
  },
  {
   "cell_type": "code",
   "execution_count": 83,
   "metadata": {},
   "outputs": [],
   "source": [
    "# school_data_2014"
   ]
  },
  {
   "cell_type": "code",
   "execution_count": 82,
   "metadata": {},
   "outputs": [],
   "source": [
    "# school_data_2014_df = pd.DataFrame(school_data_2014)\n",
    "# school_data_2014_df.head()"
   ]
  },
  {
   "cell_type": "code",
   "execution_count": null,
   "metadata": {},
   "outputs": [],
   "source": []
  }
 ],
 "metadata": {
  "kernelspec": {
   "display_name": "Python 3",
   "language": "python",
   "name": "python3"
  },
  "language_info": {
   "codemirror_mode": {
    "name": "ipython",
    "version": 3
   },
   "file_extension": ".py",
   "mimetype": "text/x-python",
   "name": "python",
   "nbconvert_exporter": "python",
   "pygments_lexer": "ipython3",
   "version": "3.7.3"
  }
 },
 "nbformat": 4,
 "nbformat_minor": 2
}
